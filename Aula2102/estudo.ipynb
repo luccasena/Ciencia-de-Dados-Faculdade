{
 "cells": [
  {
   "cell_type": "markdown",
   "metadata": {},
   "source": [
    "## Convert PDF file in Excel\n"
   ]
  },
  {
   "cell_type": "markdown",
   "metadata": {},
   "source": [
    "### Reading PDF file with table and convert it to an Excel file:"
   ]
  },
  {
   "cell_type": "code",
   "execution_count": 25,
   "metadata": {},
   "outputs": [],
   "source": [
    "import tabula \n",
    "import PyPDF2"
   ]
  },
  {
   "cell_type": "code",
   "execution_count": 26,
   "metadata": {},
   "outputs": [],
   "source": [
    "list_table = tabula.read_pdf(\"data/arquivo2.pdf\", pages=\"all\")"
   ]
  },
  {
   "cell_type": "code",
   "execution_count": 27,
   "metadata": {},
   "outputs": [
    {
     "data": {
      "text/plain": [
       "3"
      ]
     },
     "execution_count": 27,
     "metadata": {},
     "output_type": "execute_result"
    }
   ],
   "source": [
    "len(list_table)"
   ]
  },
  {
   "cell_type": "code",
   "execution_count": 28,
   "metadata": {},
   "outputs": [
    {
     "data": {
      "application/vnd.microsoft.datawrangler.viewer.v0+json": {
       "columns": [
        {
         "name": "index",
         "rawType": "int64",
         "type": "integer"
        },
        {
         "name": "Descrição",
         "rawType": "object",
         "type": "string"
        },
        {
         "name": "Var. em relação ao tri. anterior",
         "rawType": "float64",
         "type": "float"
        },
        {
         "name": "Var. em relação ao mesmo tri. do ano anterior",
         "rawType": "float64",
         "type": "float"
        },
        {
         "name": "Var. em 4 trimestre (*)",
         "rawType": "float64",
         "type": "float"
        },
        {
         "name": "Milhares de pessoas",
         "rawType": "int64",
         "type": "integer"
        }
       ],
       "conversionMethod": "pd.DataFrame",
       "ref": "9caf7007-751c-49c4-8f70-a5d4fc084c62",
       "rows": [
        [
         "0",
         "População Economicamente Ativa",
         "0.6",
         "5.4",
         "5.1",
         "107476"
        ],
        [
         "1",
         "População Ocupada",
         "1.6",
         "9.4",
         "6.4",
         "95428"
        ],
        [
         "2",
         "Empregado no setor privado com carteira",
         "2.0",
         "9.3",
         "4.2",
         "34556"
        ],
        [
         "3",
         "Empregado no setor privado sem carteira",
         "3.6",
         "19.8",
         "14.0",
         "12383"
        ],
        [
         "4",
         "Trabalhador doméstico",
         "2.0",
         "19.9",
         "10.6",
         "5621"
        ],
        [
         "5",
         "Empregado no Setor Público",
         "1.9",
         "-1.9",
         "-2.3",
         "11362"
        ],
        [
         "6",
         "Empregador",
         "3.9",
         "5.4",
         "-2.5",
         "4008"
        ],
        [
         "7",
         "Conta-própria",
         "-0.2",
         "10.3",
         "11.8",
         "25576"
        ]
       ],
       "shape": {
        "columns": 5,
        "rows": 8
       }
      },
      "text/html": [
       "<div>\n",
       "<style scoped>\n",
       "    .dataframe tbody tr th:only-of-type {\n",
       "        vertical-align: middle;\n",
       "    }\n",
       "\n",
       "    .dataframe tbody tr th {\n",
       "        vertical-align: top;\n",
       "    }\n",
       "\n",
       "    .dataframe thead th {\n",
       "        text-align: right;\n",
       "    }\n",
       "</style>\n",
       "<table border=\"1\" class=\"dataframe\">\n",
       "  <thead>\n",
       "    <tr style=\"text-align: right;\">\n",
       "      <th></th>\n",
       "      <th>Descrição</th>\n",
       "      <th>Var. em relação ao tri. anterior</th>\n",
       "      <th>Var. em relação ao mesmo tri. do ano anterior</th>\n",
       "      <th>Var. em 4 trimestre (*)</th>\n",
       "      <th>Milhares de pessoas</th>\n",
       "    </tr>\n",
       "  </thead>\n",
       "  <tbody>\n",
       "    <tr>\n",
       "      <th>0</th>\n",
       "      <td>População Economicamente Ativa</td>\n",
       "      <td>0.6</td>\n",
       "      <td>5.4</td>\n",
       "      <td>5.1</td>\n",
       "      <td>107476</td>\n",
       "    </tr>\n",
       "    <tr>\n",
       "      <th>1</th>\n",
       "      <td>População Ocupada</td>\n",
       "      <td>1.6</td>\n",
       "      <td>9.4</td>\n",
       "      <td>6.4</td>\n",
       "      <td>95428</td>\n",
       "    </tr>\n",
       "    <tr>\n",
       "      <th>2</th>\n",
       "      <td>Empregado no setor privado com carteira</td>\n",
       "      <td>2.0</td>\n",
       "      <td>9.3</td>\n",
       "      <td>4.2</td>\n",
       "      <td>34556</td>\n",
       "    </tr>\n",
       "    <tr>\n",
       "      <th>3</th>\n",
       "      <td>Empregado no setor privado sem carteira</td>\n",
       "      <td>3.6</td>\n",
       "      <td>19.8</td>\n",
       "      <td>14.0</td>\n",
       "      <td>12383</td>\n",
       "    </tr>\n",
       "    <tr>\n",
       "      <th>4</th>\n",
       "      <td>Trabalhador doméstico</td>\n",
       "      <td>2.0</td>\n",
       "      <td>19.9</td>\n",
       "      <td>10.6</td>\n",
       "      <td>5621</td>\n",
       "    </tr>\n",
       "    <tr>\n",
       "      <th>5</th>\n",
       "      <td>Empregado no Setor Público</td>\n",
       "      <td>1.9</td>\n",
       "      <td>-1.9</td>\n",
       "      <td>-2.3</td>\n",
       "      <td>11362</td>\n",
       "    </tr>\n",
       "    <tr>\n",
       "      <th>6</th>\n",
       "      <td>Empregador</td>\n",
       "      <td>3.9</td>\n",
       "      <td>5.4</td>\n",
       "      <td>-2.5</td>\n",
       "      <td>4008</td>\n",
       "    </tr>\n",
       "    <tr>\n",
       "      <th>7</th>\n",
       "      <td>Conta-própria</td>\n",
       "      <td>-0.2</td>\n",
       "      <td>10.3</td>\n",
       "      <td>11.8</td>\n",
       "      <td>25576</td>\n",
       "    </tr>\n",
       "  </tbody>\n",
       "</table>\n",
       "</div>"
      ],
      "text/plain": [
       "                                 Descrição  Var. em relação ao tri. anterior  \\\n",
       "0           População Economicamente Ativa                               0.6   \n",
       "1                        População Ocupada                               1.6   \n",
       "2  Empregado no setor privado com carteira                               2.0   \n",
       "3  Empregado no setor privado sem carteira                               3.6   \n",
       "4                    Trabalhador doméstico                               2.0   \n",
       "5               Empregado no Setor Público                               1.9   \n",
       "6                               Empregador                               3.9   \n",
       "7                            Conta-própria                              -0.2   \n",
       "\n",
       "   Var. em relação ao mesmo tri. do ano anterior  Var. em 4 trimestre (*)  \\\n",
       "0                                            5.4                      5.1   \n",
       "1                                            9.4                      6.4   \n",
       "2                                            9.3                      4.2   \n",
       "3                                           19.8                     14.0   \n",
       "4                                           19.9                     10.6   \n",
       "5                                           -1.9                     -2.3   \n",
       "6                                            5.4                     -2.5   \n",
       "7                                           10.3                     11.8   \n",
       "\n",
       "   Milhares de pessoas  \n",
       "0               107476  \n",
       "1                95428  \n",
       "2                34556  \n",
       "3                12383  \n",
       "4                 5621  \n",
       "5                11362  \n",
       "6                 4008  \n",
       "7                25576  "
      ]
     },
     "metadata": {},
     "output_type": "display_data"
    },
    {
     "data": {
      "application/vnd.microsoft.datawrangler.viewer.v0+json": {
       "columns": [
        {
         "name": "index",
         "rawType": "int64",
         "type": "integer"
        },
        {
         "name": "Descrição",
         "rawType": "object",
         "type": "string"
        },
        {
         "name": "Var. em relação ao tri. anterior",
         "rawType": "float64",
         "type": "float"
        },
        {
         "name": "Var. em relação ao mesmo tri. do ano anterior",
         "rawType": "float64",
         "type": "float"
        },
        {
         "name": "Var. em 4 trimestre (*)",
         "rawType": "float64",
         "type": "float"
        },
        {
         "name": "Valor R$",
         "rawType": "int64",
         "type": "integer"
        }
       ],
       "conversionMethod": "pd.DataFrame",
       "ref": "49ef6cee-8b22-4c9c-be38-b823224c03c0",
       "rows": [
        [
         "0",
         "Rendimento habitual de todos os trabalhos",
         "-1.1",
         "-9.7",
         "-7.7",
         "2489"
        ],
        [
         "1",
         "Rendimento habitual do trabalho principal",
         "-0.9",
         "-9.5",
         "-7.8",
         "2420"
        ],
        [
         "2",
         "Empregado no setor privado com carteira",
         "-0.8",
         "-7.1",
         "-5.6",
         "2392"
        ],
        [
         "3",
         "Empregado no setor privado sem carteira",
         "1.4",
         "-9.1",
         "-7.8",
         "1594"
        ],
        [
         "4",
         "Trabalhador doméstico",
         "1.1",
         "-3.1",
         "-5.7",
         "966"
        ],
        [
         "5",
         "Empregado no Setor Público",
         "-1.9",
         "-11.6",
         "-5.7",
         "3915"
        ],
        [
         "6",
         "Empregador",
         "-5.0",
         "-11.6",
         "-11.4",
         "6013"
        ],
        [
         "7",
         "Conta-própria",
         "0.1",
         "-2.7",
         "-3.0",
         "1947"
        ]
       ],
       "shape": {
        "columns": 5,
        "rows": 8
       }
      },
      "text/html": [
       "<div>\n",
       "<style scoped>\n",
       "    .dataframe tbody tr th:only-of-type {\n",
       "        vertical-align: middle;\n",
       "    }\n",
       "\n",
       "    .dataframe tbody tr th {\n",
       "        vertical-align: top;\n",
       "    }\n",
       "\n",
       "    .dataframe thead th {\n",
       "        text-align: right;\n",
       "    }\n",
       "</style>\n",
       "<table border=\"1\" class=\"dataframe\">\n",
       "  <thead>\n",
       "    <tr style=\"text-align: right;\">\n",
       "      <th></th>\n",
       "      <th>Descrição</th>\n",
       "      <th>Var. em relação ao tri. anterior</th>\n",
       "      <th>Var. em relação ao mesmo tri. do ano anterior</th>\n",
       "      <th>Var. em 4 trimestre (*)</th>\n",
       "      <th>Valor R$</th>\n",
       "    </tr>\n",
       "  </thead>\n",
       "  <tbody>\n",
       "    <tr>\n",
       "      <th>0</th>\n",
       "      <td>Rendimento habitual de todos os trabalhos</td>\n",
       "      <td>-1.1</td>\n",
       "      <td>-9.7</td>\n",
       "      <td>-7.7</td>\n",
       "      <td>2489</td>\n",
       "    </tr>\n",
       "    <tr>\n",
       "      <th>1</th>\n",
       "      <td>Rendimento habitual do trabalho principal</td>\n",
       "      <td>-0.9</td>\n",
       "      <td>-9.5</td>\n",
       "      <td>-7.8</td>\n",
       "      <td>2420</td>\n",
       "    </tr>\n",
       "    <tr>\n",
       "      <th>2</th>\n",
       "      <td>Empregado no setor privado com carteira</td>\n",
       "      <td>-0.8</td>\n",
       "      <td>-7.1</td>\n",
       "      <td>-5.6</td>\n",
       "      <td>2392</td>\n",
       "    </tr>\n",
       "    <tr>\n",
       "      <th>3</th>\n",
       "      <td>Empregado no setor privado sem carteira</td>\n",
       "      <td>1.4</td>\n",
       "      <td>-9.1</td>\n",
       "      <td>-7.8</td>\n",
       "      <td>1594</td>\n",
       "    </tr>\n",
       "    <tr>\n",
       "      <th>4</th>\n",
       "      <td>Trabalhador doméstico</td>\n",
       "      <td>1.1</td>\n",
       "      <td>-3.1</td>\n",
       "      <td>-5.7</td>\n",
       "      <td>966</td>\n",
       "    </tr>\n",
       "    <tr>\n",
       "      <th>5</th>\n",
       "      <td>Empregado no Setor Público</td>\n",
       "      <td>-1.9</td>\n",
       "      <td>-11.6</td>\n",
       "      <td>-5.7</td>\n",
       "      <td>3915</td>\n",
       "    </tr>\n",
       "    <tr>\n",
       "      <th>6</th>\n",
       "      <td>Empregador</td>\n",
       "      <td>-5.0</td>\n",
       "      <td>-11.6</td>\n",
       "      <td>-11.4</td>\n",
       "      <td>6013</td>\n",
       "    </tr>\n",
       "    <tr>\n",
       "      <th>7</th>\n",
       "      <td>Conta-própria</td>\n",
       "      <td>0.1</td>\n",
       "      <td>-2.7</td>\n",
       "      <td>-3.0</td>\n",
       "      <td>1947</td>\n",
       "    </tr>\n",
       "  </tbody>\n",
       "</table>\n",
       "</div>"
      ],
      "text/plain": [
       "                                   Descrição  \\\n",
       "0  Rendimento habitual de todos os trabalhos   \n",
       "1  Rendimento habitual do trabalho principal   \n",
       "2    Empregado no setor privado com carteira   \n",
       "3    Empregado no setor privado sem carteira   \n",
       "4                      Trabalhador doméstico   \n",
       "5                 Empregado no Setor Público   \n",
       "6                                 Empregador   \n",
       "7                              Conta-própria   \n",
       "\n",
       "   Var. em relação ao tri. anterior  \\\n",
       "0                              -1.1   \n",
       "1                              -0.9   \n",
       "2                              -0.8   \n",
       "3                               1.4   \n",
       "4                               1.1   \n",
       "5                              -1.9   \n",
       "6                              -5.0   \n",
       "7                               0.1   \n",
       "\n",
       "   Var. em relação ao mesmo tri. do ano anterior  Var. em 4 trimestre (*)  \\\n",
       "0                                           -9.7                     -7.7   \n",
       "1                                           -9.5                     -7.8   \n",
       "2                                           -7.1                     -5.6   \n",
       "3                                           -9.1                     -7.8   \n",
       "4                                           -3.1                     -5.7   \n",
       "5                                          -11.6                     -5.7   \n",
       "6                                          -11.6                    -11.4   \n",
       "7                                           -2.7                     -3.0   \n",
       "\n",
       "   Valor R$  \n",
       "0      2489  \n",
       "1      2420  \n",
       "2      2392  \n",
       "3      1594  \n",
       "4       966  \n",
       "5      3915  \n",
       "6      6013  \n",
       "7      1947  "
      ]
     },
     "metadata": {},
     "output_type": "display_data"
    },
    {
     "data": {
      "application/vnd.microsoft.datawrangler.viewer.v0+json": {
       "columns": [
        {
         "name": "index",
         "rawType": "int64",
         "type": "integer"
        },
        {
         "name": "Descrição (Milhões)",
         "rawType": "object",
         "type": "string"
        },
        {
         "name": "1SEM",
         "rawType": "object",
         "type": "string"
        },
        {
         "name": "2SEM",
         "rawType": "object",
         "type": "string"
        },
        {
         "name": "VARIACAO_PERCENTUAL",
         "rawType": "object",
         "type": "string"
        }
       ],
       "conversionMethod": "pd.DataFrame",
       "ref": "a0afaf73-221f-49c9-b722-5d7097c9eeec",
       "rows": [
        [
         "0",
         "Descrição",
         "1 semestre",
         "2 semestr",
         "1SEM 2SEM"
        ],
        [
         "1",
         "Receita de vendas liquida",
         "2.5",
         "5.0",
         "75% 100%"
        ],
        [
         "2",
         "Custos e despesas",
         "1.5",
         "3.2",
         "52% 89%"
        ],
        [
         "3",
         "Despesas não previstas",
         "1.2",
         "1.4",
         "12% 24%"
        ]
       ],
       "shape": {
        "columns": 4,
        "rows": 4
       }
      },
      "text/html": [
       "<div>\n",
       "<style scoped>\n",
       "    .dataframe tbody tr th:only-of-type {\n",
       "        vertical-align: middle;\n",
       "    }\n",
       "\n",
       "    .dataframe tbody tr th {\n",
       "        vertical-align: top;\n",
       "    }\n",
       "\n",
       "    .dataframe thead th {\n",
       "        text-align: right;\n",
       "    }\n",
       "</style>\n",
       "<table border=\"1\" class=\"dataframe\">\n",
       "  <thead>\n",
       "    <tr style=\"text-align: right;\">\n",
       "      <th></th>\n",
       "      <th>Descrição (Milhões)</th>\n",
       "      <th>1SEM</th>\n",
       "      <th>2SEM</th>\n",
       "      <th>VARIACAO_PERCENTUAL</th>\n",
       "    </tr>\n",
       "  </thead>\n",
       "  <tbody>\n",
       "    <tr>\n",
       "      <th>0</th>\n",
       "      <td>Descrição</td>\n",
       "      <td>1 semestre</td>\n",
       "      <td>2 semestr</td>\n",
       "      <td>1SEM 2SEM</td>\n",
       "    </tr>\n",
       "    <tr>\n",
       "      <th>1</th>\n",
       "      <td>Receita de vendas liquida</td>\n",
       "      <td>2.5</td>\n",
       "      <td>5.0</td>\n",
       "      <td>75% 100%</td>\n",
       "    </tr>\n",
       "    <tr>\n",
       "      <th>2</th>\n",
       "      <td>Custos e despesas</td>\n",
       "      <td>1.5</td>\n",
       "      <td>3.2</td>\n",
       "      <td>52% 89%</td>\n",
       "    </tr>\n",
       "    <tr>\n",
       "      <th>3</th>\n",
       "      <td>Despesas não previstas</td>\n",
       "      <td>1.2</td>\n",
       "      <td>1.4</td>\n",
       "      <td>12% 24%</td>\n",
       "    </tr>\n",
       "  </tbody>\n",
       "</table>\n",
       "</div>"
      ],
      "text/plain": [
       "         Descrição (Milhões)        1SEM       2SEM VARIACAO_PERCENTUAL\n",
       "0                  Descrição  1 semestre  2 semestr           1SEM 2SEM\n",
       "1  Receita de vendas liquida         2.5        5.0            75% 100%\n",
       "2          Custos e despesas         1.5        3.2             52% 89%\n",
       "3     Despesas não previstas         1.2        1.4             12% 24%"
      ]
     },
     "metadata": {},
     "output_type": "display_data"
    }
   ],
   "source": [
    "for table in list_table:\n",
    "    display(table)"
   ]
  },
  {
   "cell_type": "code",
   "execution_count": 29,
   "metadata": {},
   "outputs": [
    {
     "data": {
      "application/vnd.microsoft.datawrangler.viewer.v0+json": {
       "columns": [
        {
         "name": "index",
         "rawType": "int64",
         "type": "integer"
        },
        {
         "name": "Descrição",
         "rawType": "object",
         "type": "string"
        },
        {
         "name": "Var. em relação ao tri. anterior",
         "rawType": "float64",
         "type": "float"
        },
        {
         "name": "Var. em relação ao mesmo tri. do ano anterior",
         "rawType": "float64",
         "type": "float"
        },
        {
         "name": "Var. em 4 trimestre (*)",
         "rawType": "float64",
         "type": "float"
        },
        {
         "name": "Milhares de pessoas",
         "rawType": "int64",
         "type": "integer"
        }
       ],
       "conversionMethod": "pd.DataFrame",
       "ref": "e1e5958d-77c9-45b0-977e-993bd01f8551",
       "rows": [
        [
         "0",
         "População Economicamente Ativa",
         "0.6",
         "5.4",
         "5.1",
         "107476"
        ],
        [
         "1",
         "População Ocupada",
         "1.6",
         "9.4",
         "6.4",
         "95428"
        ],
        [
         "2",
         "Empregado no setor privado com carteira",
         "2.0",
         "9.3",
         "4.2",
         "34556"
        ],
        [
         "3",
         "Empregado no setor privado sem carteira",
         "3.6",
         "19.8",
         "14.0",
         "12383"
        ],
        [
         "4",
         "Trabalhador doméstico",
         "2.0",
         "19.9",
         "10.6",
         "5621"
        ],
        [
         "5",
         "Empregado no Setor Público",
         "1.9",
         "-1.9",
         "-2.3",
         "11362"
        ],
        [
         "6",
         "Empregador",
         "3.9",
         "5.4",
         "-2.5",
         "4008"
        ],
        [
         "7",
         "Conta-própria",
         "-0.2",
         "10.3",
         "11.8",
         "25576"
        ]
       ],
       "shape": {
        "columns": 5,
        "rows": 8
       }
      },
      "text/html": [
       "<div>\n",
       "<style scoped>\n",
       "    .dataframe tbody tr th:only-of-type {\n",
       "        vertical-align: middle;\n",
       "    }\n",
       "\n",
       "    .dataframe tbody tr th {\n",
       "        vertical-align: top;\n",
       "    }\n",
       "\n",
       "    .dataframe thead th {\n",
       "        text-align: right;\n",
       "    }\n",
       "</style>\n",
       "<table border=\"1\" class=\"dataframe\">\n",
       "  <thead>\n",
       "    <tr style=\"text-align: right;\">\n",
       "      <th></th>\n",
       "      <th>Descrição</th>\n",
       "      <th>Var. em relação ao tri. anterior</th>\n",
       "      <th>Var. em relação ao mesmo tri. do ano anterior</th>\n",
       "      <th>Var. em 4 trimestre (*)</th>\n",
       "      <th>Milhares de pessoas</th>\n",
       "    </tr>\n",
       "  </thead>\n",
       "  <tbody>\n",
       "    <tr>\n",
       "      <th>0</th>\n",
       "      <td>População Economicamente Ativa</td>\n",
       "      <td>0.6</td>\n",
       "      <td>5.4</td>\n",
       "      <td>5.1</td>\n",
       "      <td>107476</td>\n",
       "    </tr>\n",
       "    <tr>\n",
       "      <th>1</th>\n",
       "      <td>População Ocupada</td>\n",
       "      <td>1.6</td>\n",
       "      <td>9.4</td>\n",
       "      <td>6.4</td>\n",
       "      <td>95428</td>\n",
       "    </tr>\n",
       "    <tr>\n",
       "      <th>2</th>\n",
       "      <td>Empregado no setor privado com carteira</td>\n",
       "      <td>2.0</td>\n",
       "      <td>9.3</td>\n",
       "      <td>4.2</td>\n",
       "      <td>34556</td>\n",
       "    </tr>\n",
       "    <tr>\n",
       "      <th>3</th>\n",
       "      <td>Empregado no setor privado sem carteira</td>\n",
       "      <td>3.6</td>\n",
       "      <td>19.8</td>\n",
       "      <td>14.0</td>\n",
       "      <td>12383</td>\n",
       "    </tr>\n",
       "    <tr>\n",
       "      <th>4</th>\n",
       "      <td>Trabalhador doméstico</td>\n",
       "      <td>2.0</td>\n",
       "      <td>19.9</td>\n",
       "      <td>10.6</td>\n",
       "      <td>5621</td>\n",
       "    </tr>\n",
       "    <tr>\n",
       "      <th>5</th>\n",
       "      <td>Empregado no Setor Público</td>\n",
       "      <td>1.9</td>\n",
       "      <td>-1.9</td>\n",
       "      <td>-2.3</td>\n",
       "      <td>11362</td>\n",
       "    </tr>\n",
       "    <tr>\n",
       "      <th>6</th>\n",
       "      <td>Empregador</td>\n",
       "      <td>3.9</td>\n",
       "      <td>5.4</td>\n",
       "      <td>-2.5</td>\n",
       "      <td>4008</td>\n",
       "    </tr>\n",
       "    <tr>\n",
       "      <th>7</th>\n",
       "      <td>Conta-própria</td>\n",
       "      <td>-0.2</td>\n",
       "      <td>10.3</td>\n",
       "      <td>11.8</td>\n",
       "      <td>25576</td>\n",
       "    </tr>\n",
       "  </tbody>\n",
       "</table>\n",
       "</div>"
      ],
      "text/plain": [
       "                                 Descrição  Var. em relação ao tri. anterior  \\\n",
       "0           População Economicamente Ativa                               0.6   \n",
       "1                        População Ocupada                               1.6   \n",
       "2  Empregado no setor privado com carteira                               2.0   \n",
       "3  Empregado no setor privado sem carteira                               3.6   \n",
       "4                    Trabalhador doméstico                               2.0   \n",
       "5               Empregado no Setor Público                               1.9   \n",
       "6                               Empregador                               3.9   \n",
       "7                            Conta-própria                              -0.2   \n",
       "\n",
       "   Var. em relação ao mesmo tri. do ano anterior  Var. em 4 trimestre (*)  \\\n",
       "0                                            5.4                      5.1   \n",
       "1                                            9.4                      6.4   \n",
       "2                                            9.3                      4.2   \n",
       "3                                           19.8                     14.0   \n",
       "4                                           19.9                     10.6   \n",
       "5                                           -1.9                     -2.3   \n",
       "6                                            5.4                     -2.5   \n",
       "7                                           10.3                     11.8   \n",
       "\n",
       "   Milhares de pessoas  \n",
       "0               107476  \n",
       "1                95428  \n",
       "2                34556  \n",
       "3                12383  \n",
       "4                 5621  \n",
       "5                11362  \n",
       "6                 4008  \n",
       "7                25576  "
      ]
     },
     "execution_count": 29,
     "metadata": {},
     "output_type": "execute_result"
    }
   ],
   "source": [
    "table1 = list_table[0]\n",
    "table1"
   ]
  },
  {
   "cell_type": "code",
   "execution_count": 30,
   "metadata": {},
   "outputs": [
    {
     "data": {
      "application/vnd.microsoft.datawrangler.viewer.v0+json": {
       "columns": [
        {
         "name": "index",
         "rawType": "int64",
         "type": "integer"
        },
        {
         "name": "Descrição",
         "rawType": "object",
         "type": "string"
        },
        {
         "name": "Var. em relação ao tri. anterior",
         "rawType": "float64",
         "type": "float"
        },
        {
         "name": "Var. em relação ao mesmo tri. do ano anterior",
         "rawType": "float64",
         "type": "float"
        },
        {
         "name": "Var. em 4 trimestre (*)",
         "rawType": "float64",
         "type": "float"
        },
        {
         "name": "Valor R$",
         "rawType": "int64",
         "type": "integer"
        }
       ],
       "conversionMethod": "pd.DataFrame",
       "ref": "118db70d-1baa-41fc-b226-03c9cb2bee94",
       "rows": [
        [
         "0",
         "Rendimento habitual de todos os trabalhos",
         "-1.1",
         "-9.7",
         "-7.7",
         "2489"
        ],
        [
         "1",
         "Rendimento habitual do trabalho principal",
         "-0.9",
         "-9.5",
         "-7.8",
         "2420"
        ],
        [
         "2",
         "Empregado no setor privado com carteira",
         "-0.8",
         "-7.1",
         "-5.6",
         "2392"
        ],
        [
         "3",
         "Empregado no setor privado sem carteira",
         "1.4",
         "-9.1",
         "-7.8",
         "1594"
        ],
        [
         "4",
         "Trabalhador doméstico",
         "1.1",
         "-3.1",
         "-5.7",
         "966"
        ],
        [
         "5",
         "Empregado no Setor Público",
         "-1.9",
         "-11.6",
         "-5.7",
         "3915"
        ],
        [
         "6",
         "Empregador",
         "-5.0",
         "-11.6",
         "-11.4",
         "6013"
        ],
        [
         "7",
         "Conta-própria",
         "0.1",
         "-2.7",
         "-3.0",
         "1947"
        ]
       ],
       "shape": {
        "columns": 5,
        "rows": 8
       }
      },
      "text/html": [
       "<div>\n",
       "<style scoped>\n",
       "    .dataframe tbody tr th:only-of-type {\n",
       "        vertical-align: middle;\n",
       "    }\n",
       "\n",
       "    .dataframe tbody tr th {\n",
       "        vertical-align: top;\n",
       "    }\n",
       "\n",
       "    .dataframe thead th {\n",
       "        text-align: right;\n",
       "    }\n",
       "</style>\n",
       "<table border=\"1\" class=\"dataframe\">\n",
       "  <thead>\n",
       "    <tr style=\"text-align: right;\">\n",
       "      <th></th>\n",
       "      <th>Descrição</th>\n",
       "      <th>Var. em relação ao tri. anterior</th>\n",
       "      <th>Var. em relação ao mesmo tri. do ano anterior</th>\n",
       "      <th>Var. em 4 trimestre (*)</th>\n",
       "      <th>Valor R$</th>\n",
       "    </tr>\n",
       "  </thead>\n",
       "  <tbody>\n",
       "    <tr>\n",
       "      <th>0</th>\n",
       "      <td>Rendimento habitual de todos os trabalhos</td>\n",
       "      <td>-1.1</td>\n",
       "      <td>-9.7</td>\n",
       "      <td>-7.7</td>\n",
       "      <td>2489</td>\n",
       "    </tr>\n",
       "    <tr>\n",
       "      <th>1</th>\n",
       "      <td>Rendimento habitual do trabalho principal</td>\n",
       "      <td>-0.9</td>\n",
       "      <td>-9.5</td>\n",
       "      <td>-7.8</td>\n",
       "      <td>2420</td>\n",
       "    </tr>\n",
       "    <tr>\n",
       "      <th>2</th>\n",
       "      <td>Empregado no setor privado com carteira</td>\n",
       "      <td>-0.8</td>\n",
       "      <td>-7.1</td>\n",
       "      <td>-5.6</td>\n",
       "      <td>2392</td>\n",
       "    </tr>\n",
       "    <tr>\n",
       "      <th>3</th>\n",
       "      <td>Empregado no setor privado sem carteira</td>\n",
       "      <td>1.4</td>\n",
       "      <td>-9.1</td>\n",
       "      <td>-7.8</td>\n",
       "      <td>1594</td>\n",
       "    </tr>\n",
       "    <tr>\n",
       "      <th>4</th>\n",
       "      <td>Trabalhador doméstico</td>\n",
       "      <td>1.1</td>\n",
       "      <td>-3.1</td>\n",
       "      <td>-5.7</td>\n",
       "      <td>966</td>\n",
       "    </tr>\n",
       "    <tr>\n",
       "      <th>5</th>\n",
       "      <td>Empregado no Setor Público</td>\n",
       "      <td>-1.9</td>\n",
       "      <td>-11.6</td>\n",
       "      <td>-5.7</td>\n",
       "      <td>3915</td>\n",
       "    </tr>\n",
       "    <tr>\n",
       "      <th>6</th>\n",
       "      <td>Empregador</td>\n",
       "      <td>-5.0</td>\n",
       "      <td>-11.6</td>\n",
       "      <td>-11.4</td>\n",
       "      <td>6013</td>\n",
       "    </tr>\n",
       "    <tr>\n",
       "      <th>7</th>\n",
       "      <td>Conta-própria</td>\n",
       "      <td>0.1</td>\n",
       "      <td>-2.7</td>\n",
       "      <td>-3.0</td>\n",
       "      <td>1947</td>\n",
       "    </tr>\n",
       "  </tbody>\n",
       "</table>\n",
       "</div>"
      ],
      "text/plain": [
       "                                   Descrição  \\\n",
       "0  Rendimento habitual de todos os trabalhos   \n",
       "1  Rendimento habitual do trabalho principal   \n",
       "2    Empregado no setor privado com carteira   \n",
       "3    Empregado no setor privado sem carteira   \n",
       "4                      Trabalhador doméstico   \n",
       "5                 Empregado no Setor Público   \n",
       "6                                 Empregador   \n",
       "7                              Conta-própria   \n",
       "\n",
       "   Var. em relação ao tri. anterior  \\\n",
       "0                              -1.1   \n",
       "1                              -0.9   \n",
       "2                              -0.8   \n",
       "3                               1.4   \n",
       "4                               1.1   \n",
       "5                              -1.9   \n",
       "6                              -5.0   \n",
       "7                               0.1   \n",
       "\n",
       "   Var. em relação ao mesmo tri. do ano anterior  Var. em 4 trimestre (*)  \\\n",
       "0                                           -9.7                     -7.7   \n",
       "1                                           -9.5                     -7.8   \n",
       "2                                           -7.1                     -5.6   \n",
       "3                                           -9.1                     -7.8   \n",
       "4                                           -3.1                     -5.7   \n",
       "5                                          -11.6                     -5.7   \n",
       "6                                          -11.6                    -11.4   \n",
       "7                                           -2.7                     -3.0   \n",
       "\n",
       "   Valor R$  \n",
       "0      2489  \n",
       "1      2420  \n",
       "2      2392  \n",
       "3      1594  \n",
       "4       966  \n",
       "5      3915  \n",
       "6      6013  \n",
       "7      1947  "
      ]
     },
     "execution_count": 30,
     "metadata": {},
     "output_type": "execute_result"
    }
   ],
   "source": [
    "table2 = list_table[1]\n",
    "table2"
   ]
  },
  {
   "cell_type": "code",
   "execution_count": 31,
   "metadata": {},
   "outputs": [
    {
     "data": {
      "application/vnd.microsoft.datawrangler.viewer.v0+json": {
       "columns": [
        {
         "name": "index",
         "rawType": "int64",
         "type": "integer"
        },
        {
         "name": "Descrição (Milhões)",
         "rawType": "object",
         "type": "string"
        },
        {
         "name": "1SEM",
         "rawType": "object",
         "type": "string"
        },
        {
         "name": "2SEM",
         "rawType": "object",
         "type": "string"
        },
        {
         "name": "VARIACAO_PERCENTUAL",
         "rawType": "object",
         "type": "string"
        }
       ],
       "conversionMethod": "pd.DataFrame",
       "ref": "85c4f00a-cea9-43ba-932e-a01a0d1dc4e5",
       "rows": [
        [
         "0",
         "Descrição",
         "1 semestre",
         "2 semestr",
         "1SEM 2SEM"
        ],
        [
         "1",
         "Receita de vendas liquida",
         "2.5",
         "5.0",
         "75% 100%"
        ],
        [
         "2",
         "Custos e despesas",
         "1.5",
         "3.2",
         "52% 89%"
        ],
        [
         "3",
         "Despesas não previstas",
         "1.2",
         "1.4",
         "12% 24%"
        ]
       ],
       "shape": {
        "columns": 4,
        "rows": 4
       }
      },
      "text/html": [
       "<div>\n",
       "<style scoped>\n",
       "    .dataframe tbody tr th:only-of-type {\n",
       "        vertical-align: middle;\n",
       "    }\n",
       "\n",
       "    .dataframe tbody tr th {\n",
       "        vertical-align: top;\n",
       "    }\n",
       "\n",
       "    .dataframe thead th {\n",
       "        text-align: right;\n",
       "    }\n",
       "</style>\n",
       "<table border=\"1\" class=\"dataframe\">\n",
       "  <thead>\n",
       "    <tr style=\"text-align: right;\">\n",
       "      <th></th>\n",
       "      <th>Descrição (Milhões)</th>\n",
       "      <th>1SEM</th>\n",
       "      <th>2SEM</th>\n",
       "      <th>VARIACAO_PERCENTUAL</th>\n",
       "    </tr>\n",
       "  </thead>\n",
       "  <tbody>\n",
       "    <tr>\n",
       "      <th>0</th>\n",
       "      <td>Descrição</td>\n",
       "      <td>1 semestre</td>\n",
       "      <td>2 semestr</td>\n",
       "      <td>1SEM 2SEM</td>\n",
       "    </tr>\n",
       "    <tr>\n",
       "      <th>1</th>\n",
       "      <td>Receita de vendas liquida</td>\n",
       "      <td>2.5</td>\n",
       "      <td>5.0</td>\n",
       "      <td>75% 100%</td>\n",
       "    </tr>\n",
       "    <tr>\n",
       "      <th>2</th>\n",
       "      <td>Custos e despesas</td>\n",
       "      <td>1.5</td>\n",
       "      <td>3.2</td>\n",
       "      <td>52% 89%</td>\n",
       "    </tr>\n",
       "    <tr>\n",
       "      <th>3</th>\n",
       "      <td>Despesas não previstas</td>\n",
       "      <td>1.2</td>\n",
       "      <td>1.4</td>\n",
       "      <td>12% 24%</td>\n",
       "    </tr>\n",
       "  </tbody>\n",
       "</table>\n",
       "</div>"
      ],
      "text/plain": [
       "         Descrição (Milhões)        1SEM       2SEM VARIACAO_PERCENTUAL\n",
       "0                  Descrição  1 semestre  2 semestr           1SEM 2SEM\n",
       "1  Receita de vendas liquida         2.5        5.0            75% 100%\n",
       "2          Custos e despesas         1.5        3.2             52% 89%\n",
       "3     Despesas não previstas         1.2        1.4             12% 24%"
      ]
     },
     "execution_count": 31,
     "metadata": {},
     "output_type": "execute_result"
    }
   ],
   "source": [
    "table3 = list_table[2]\n",
    "table3"
   ]
  },
  {
   "cell_type": "code",
   "execution_count": 32,
   "metadata": {},
   "outputs": [
    {
     "data": {
      "application/vnd.microsoft.datawrangler.viewer.v0+json": {
       "columns": [
        {
         "name": "index",
         "rawType": "int64",
         "type": "integer"
        },
        {
         "name": "Descrição (Milhões)",
         "rawType": "object",
         "type": "string"
        },
        {
         "name": "1SEM",
         "rawType": "object",
         "type": "string"
        },
        {
         "name": "2SEM",
         "rawType": "object",
         "type": "string"
        },
        {
         "name": "VARIACAO_PERCENTUAL",
         "rawType": "object",
         "type": "string"
        },
        {
         "name": "0",
         "rawType": "object",
         "type": "string"
        },
        {
         "name": "1",
         "rawType": "object",
         "type": "string"
        }
       ],
       "conversionMethod": "pd.DataFrame",
       "ref": "473289c3-2a38-48cf-9c60-bd976551fe16",
       "rows": [
        [
         "0",
         "Descrição",
         "1 semestre",
         "2 semestr",
         "1SEM 2SEM",
         "1SEM",
         "2SEM"
        ],
        [
         "1",
         "Receita de vendas liquida",
         "2.5",
         "5.0",
         "75% 100%",
         "75%",
         "100%"
        ],
        [
         "2",
         "Custos e despesas",
         "1.5",
         "3.2",
         "52% 89%",
         "52%",
         "89%"
        ],
        [
         "3",
         "Despesas não previstas",
         "1.2",
         "1.4",
         "12% 24%",
         "12%",
         "24%"
        ]
       ],
       "shape": {
        "columns": 6,
        "rows": 4
       }
      },
      "text/html": [
       "<div>\n",
       "<style scoped>\n",
       "    .dataframe tbody tr th:only-of-type {\n",
       "        vertical-align: middle;\n",
       "    }\n",
       "\n",
       "    .dataframe tbody tr th {\n",
       "        vertical-align: top;\n",
       "    }\n",
       "\n",
       "    .dataframe thead th {\n",
       "        text-align: right;\n",
       "    }\n",
       "</style>\n",
       "<table border=\"1\" class=\"dataframe\">\n",
       "  <thead>\n",
       "    <tr style=\"text-align: right;\">\n",
       "      <th></th>\n",
       "      <th>Descrição (Milhões)</th>\n",
       "      <th>1SEM</th>\n",
       "      <th>2SEM</th>\n",
       "      <th>VARIACAO_PERCENTUAL</th>\n",
       "      <th>0</th>\n",
       "      <th>1</th>\n",
       "    </tr>\n",
       "  </thead>\n",
       "  <tbody>\n",
       "    <tr>\n",
       "      <th>0</th>\n",
       "      <td>Descrição</td>\n",
       "      <td>1 semestre</td>\n",
       "      <td>2 semestr</td>\n",
       "      <td>1SEM 2SEM</td>\n",
       "      <td>1SEM</td>\n",
       "      <td>2SEM</td>\n",
       "    </tr>\n",
       "    <tr>\n",
       "      <th>1</th>\n",
       "      <td>Receita de vendas liquida</td>\n",
       "      <td>2.5</td>\n",
       "      <td>5.0</td>\n",
       "      <td>75% 100%</td>\n",
       "      <td>75%</td>\n",
       "      <td>100%</td>\n",
       "    </tr>\n",
       "    <tr>\n",
       "      <th>2</th>\n",
       "      <td>Custos e despesas</td>\n",
       "      <td>1.5</td>\n",
       "      <td>3.2</td>\n",
       "      <td>52% 89%</td>\n",
       "      <td>52%</td>\n",
       "      <td>89%</td>\n",
       "    </tr>\n",
       "    <tr>\n",
       "      <th>3</th>\n",
       "      <td>Despesas não previstas</td>\n",
       "      <td>1.2</td>\n",
       "      <td>1.4</td>\n",
       "      <td>12% 24%</td>\n",
       "      <td>12%</td>\n",
       "      <td>24%</td>\n",
       "    </tr>\n",
       "  </tbody>\n",
       "</table>\n",
       "</div>"
      ],
      "text/plain": [
       "         Descrição (Milhões)        1SEM       2SEM VARIACAO_PERCENTUAL     0  \\\n",
       "0                  Descrição  1 semestre  2 semestr           1SEM 2SEM  1SEM   \n",
       "1  Receita de vendas liquida         2.5        5.0            75% 100%   75%   \n",
       "2          Custos e despesas         1.5        3.2             52% 89%   52%   \n",
       "3     Despesas não previstas         1.2        1.4             12% 24%   12%   \n",
       "\n",
       "      1  \n",
       "0  2SEM  \n",
       "1  100%  \n",
       "2   89%  \n",
       "3   24%  "
      ]
     },
     "execution_count": 32,
     "metadata": {},
     "output_type": "execute_result"
    }
   ],
   "source": [
    "table3[[0, 1]] = table3['VARIACAO_PERCENTUAL'].str.split(\" \", expand=True)\n",
    "table3"
   ]
  },
  {
   "cell_type": "code",
   "execution_count": 33,
   "metadata": {},
   "outputs": [
    {
     "data": {
      "application/vnd.microsoft.datawrangler.viewer.v0+json": {
       "columns": [
        {
         "name": "index",
         "rawType": "int64",
         "type": "integer"
        },
        {
         "name": "Descrição (Milhões)",
         "rawType": "object",
         "type": "string"
        },
        {
         "name": "1SEM",
         "rawType": "object",
         "type": "string"
        },
        {
         "name": "2SEM",
         "rawType": "object",
         "type": "string"
        },
        {
         "name": "0",
         "rawType": "object",
         "type": "string"
        },
        {
         "name": "1",
         "rawType": "object",
         "type": "string"
        }
       ],
       "conversionMethod": "pd.DataFrame",
       "ref": "12a3f4ec-6b3f-4842-8141-6311365f64b3",
       "rows": [
        [
         "0",
         "Descrição",
         "1 semestre",
         "2 semestr",
         "1SEM",
         "2SEM"
        ],
        [
         "1",
         "Receita de vendas liquida",
         "2.5",
         "5.0",
         "75%",
         "100%"
        ],
        [
         "2",
         "Custos e despesas",
         "1.5",
         "3.2",
         "52%",
         "89%"
        ],
        [
         "3",
         "Despesas não previstas",
         "1.2",
         "1.4",
         "12%",
         "24%"
        ]
       ],
       "shape": {
        "columns": 5,
        "rows": 4
       }
      },
      "text/html": [
       "<div>\n",
       "<style scoped>\n",
       "    .dataframe tbody tr th:only-of-type {\n",
       "        vertical-align: middle;\n",
       "    }\n",
       "\n",
       "    .dataframe tbody tr th {\n",
       "        vertical-align: top;\n",
       "    }\n",
       "\n",
       "    .dataframe thead th {\n",
       "        text-align: right;\n",
       "    }\n",
       "</style>\n",
       "<table border=\"1\" class=\"dataframe\">\n",
       "  <thead>\n",
       "    <tr style=\"text-align: right;\">\n",
       "      <th></th>\n",
       "      <th>Descrição (Milhões)</th>\n",
       "      <th>1SEM</th>\n",
       "      <th>2SEM</th>\n",
       "      <th>0</th>\n",
       "      <th>1</th>\n",
       "    </tr>\n",
       "  </thead>\n",
       "  <tbody>\n",
       "    <tr>\n",
       "      <th>0</th>\n",
       "      <td>Descrição</td>\n",
       "      <td>1 semestre</td>\n",
       "      <td>2 semestr</td>\n",
       "      <td>1SEM</td>\n",
       "      <td>2SEM</td>\n",
       "    </tr>\n",
       "    <tr>\n",
       "      <th>1</th>\n",
       "      <td>Receita de vendas liquida</td>\n",
       "      <td>2.5</td>\n",
       "      <td>5.0</td>\n",
       "      <td>75%</td>\n",
       "      <td>100%</td>\n",
       "    </tr>\n",
       "    <tr>\n",
       "      <th>2</th>\n",
       "      <td>Custos e despesas</td>\n",
       "      <td>1.5</td>\n",
       "      <td>3.2</td>\n",
       "      <td>52%</td>\n",
       "      <td>89%</td>\n",
       "    </tr>\n",
       "    <tr>\n",
       "      <th>3</th>\n",
       "      <td>Despesas não previstas</td>\n",
       "      <td>1.2</td>\n",
       "      <td>1.4</td>\n",
       "      <td>12%</td>\n",
       "      <td>24%</td>\n",
       "    </tr>\n",
       "  </tbody>\n",
       "</table>\n",
       "</div>"
      ],
      "text/plain": [
       "         Descrição (Milhões)        1SEM       2SEM     0     1\n",
       "0                  Descrição  1 semestre  2 semestr  1SEM  2SEM\n",
       "1  Receita de vendas liquida         2.5        5.0   75%  100%\n",
       "2          Custos e despesas         1.5        3.2   52%   89%\n",
       "3     Despesas não previstas         1.2        1.4   12%   24%"
      ]
     },
     "execution_count": 33,
     "metadata": {},
     "output_type": "execute_result"
    }
   ],
   "source": [
    "table3 = table3.drop(columns=['VARIACAO_PERCENTUAL'])\n",
    "table3"
   ]
  },
  {
   "cell_type": "code",
   "execution_count": 34,
   "metadata": {},
   "outputs": [
    {
     "data": {
      "application/vnd.microsoft.datawrangler.viewer.v0+json": {
       "columns": [
        {
         "name": "index",
         "rawType": "int64",
         "type": "integer"
        },
        {
         "name": "Descrição (Milhões)",
         "rawType": "object",
         "type": "string"
        },
        {
         "name": "1SEM",
         "rawType": "object",
         "type": "string"
        },
        {
         "name": "2SEM",
         "rawType": "object",
         "type": "string"
        },
        {
         "name": "0",
         "rawType": "object",
         "type": "string"
        },
        {
         "name": "1",
         "rawType": "object",
         "type": "string"
        }
       ],
       "conversionMethod": "pd.DataFrame",
       "ref": "11ec3863-1848-47ba-8f49-fe86d3e67a5d",
       "rows": [
        [
         "1",
         "Receita de vendas liquida",
         "2.5",
         "5.0",
         "75%",
         "100%"
        ],
        [
         "2",
         "Custos e despesas",
         "1.5",
         "3.2",
         "52%",
         "89%"
        ],
        [
         "3",
         "Despesas não previstas",
         "1.2",
         "1.4",
         "12%",
         "24%"
        ]
       ],
       "shape": {
        "columns": 5,
        "rows": 3
       }
      },
      "text/html": [
       "<div>\n",
       "<style scoped>\n",
       "    .dataframe tbody tr th:only-of-type {\n",
       "        vertical-align: middle;\n",
       "    }\n",
       "\n",
       "    .dataframe tbody tr th {\n",
       "        vertical-align: top;\n",
       "    }\n",
       "\n",
       "    .dataframe thead th {\n",
       "        text-align: right;\n",
       "    }\n",
       "</style>\n",
       "<table border=\"1\" class=\"dataframe\">\n",
       "  <thead>\n",
       "    <tr style=\"text-align: right;\">\n",
       "      <th></th>\n",
       "      <th>Descrição (Milhões)</th>\n",
       "      <th>1SEM</th>\n",
       "      <th>2SEM</th>\n",
       "      <th>0</th>\n",
       "      <th>1</th>\n",
       "    </tr>\n",
       "  </thead>\n",
       "  <tbody>\n",
       "    <tr>\n",
       "      <th>1</th>\n",
       "      <td>Receita de vendas liquida</td>\n",
       "      <td>2.5</td>\n",
       "      <td>5.0</td>\n",
       "      <td>75%</td>\n",
       "      <td>100%</td>\n",
       "    </tr>\n",
       "    <tr>\n",
       "      <th>2</th>\n",
       "      <td>Custos e despesas</td>\n",
       "      <td>1.5</td>\n",
       "      <td>3.2</td>\n",
       "      <td>52%</td>\n",
       "      <td>89%</td>\n",
       "    </tr>\n",
       "    <tr>\n",
       "      <th>3</th>\n",
       "      <td>Despesas não previstas</td>\n",
       "      <td>1.2</td>\n",
       "      <td>1.4</td>\n",
       "      <td>12%</td>\n",
       "      <td>24%</td>\n",
       "    </tr>\n",
       "  </tbody>\n",
       "</table>\n",
       "</div>"
      ],
      "text/plain": [
       "         Descrição (Milhões) 1SEM 2SEM    0     1\n",
       "1  Receita de vendas liquida  2.5  5.0  75%  100%\n",
       "2          Custos e despesas  1.5  3.2  52%   89%\n",
       "3     Despesas não previstas  1.2  1.4  12%   24%"
      ]
     },
     "execution_count": 34,
     "metadata": {},
     "output_type": "execute_result"
    }
   ],
   "source": [
    "table3 = table3.drop(index=0)\n",
    "table3"
   ]
  },
  {
   "cell_type": "code",
   "execution_count": 35,
   "metadata": {},
   "outputs": [
    {
     "data": {
      "application/vnd.microsoft.datawrangler.viewer.v0+json": {
       "columns": [
        {
         "name": "index",
         "rawType": "int64",
         "type": "integer"
        },
        {
         "name": "DESCRICAO",
         "rawType": "object",
         "type": "string"
        },
        {
         "name": "1º SEMESTRE",
         "rawType": "object",
         "type": "string"
        },
        {
         "name": "2º SEMESTRE",
         "rawType": "object",
         "type": "string"
        },
        {
         "name": "VAR_PERC_1_SEM",
         "rawType": "object",
         "type": "string"
        },
        {
         "name": "VAR_PERC_2_SEM",
         "rawType": "object",
         "type": "string"
        }
       ],
       "conversionMethod": "pd.DataFrame",
       "ref": "df714a80-de88-4121-9f42-201ce17bf972",
       "rows": [
        [
         "1",
         "Receita de vendas liquida",
         "2.5",
         "5.0",
         "75%",
         "100%"
        ],
        [
         "2",
         "Custos e despesas",
         "1.5",
         "3.2",
         "52%",
         "89%"
        ],
        [
         "3",
         "Despesas não previstas",
         "1.2",
         "1.4",
         "12%",
         "24%"
        ]
       ],
       "shape": {
        "columns": 5,
        "rows": 3
       }
      },
      "text/html": [
       "<div>\n",
       "<style scoped>\n",
       "    .dataframe tbody tr th:only-of-type {\n",
       "        vertical-align: middle;\n",
       "    }\n",
       "\n",
       "    .dataframe tbody tr th {\n",
       "        vertical-align: top;\n",
       "    }\n",
       "\n",
       "    .dataframe thead th {\n",
       "        text-align: right;\n",
       "    }\n",
       "</style>\n",
       "<table border=\"1\" class=\"dataframe\">\n",
       "  <thead>\n",
       "    <tr style=\"text-align: right;\">\n",
       "      <th></th>\n",
       "      <th>DESCRICAO</th>\n",
       "      <th>1º SEMESTRE</th>\n",
       "      <th>2º SEMESTRE</th>\n",
       "      <th>VAR_PERC_1_SEM</th>\n",
       "      <th>VAR_PERC_2_SEM</th>\n",
       "    </tr>\n",
       "  </thead>\n",
       "  <tbody>\n",
       "    <tr>\n",
       "      <th>1</th>\n",
       "      <td>Receita de vendas liquida</td>\n",
       "      <td>2.5</td>\n",
       "      <td>5.0</td>\n",
       "      <td>75%</td>\n",
       "      <td>100%</td>\n",
       "    </tr>\n",
       "    <tr>\n",
       "      <th>2</th>\n",
       "      <td>Custos e despesas</td>\n",
       "      <td>1.5</td>\n",
       "      <td>3.2</td>\n",
       "      <td>52%</td>\n",
       "      <td>89%</td>\n",
       "    </tr>\n",
       "    <tr>\n",
       "      <th>3</th>\n",
       "      <td>Despesas não previstas</td>\n",
       "      <td>1.2</td>\n",
       "      <td>1.4</td>\n",
       "      <td>12%</td>\n",
       "      <td>24%</td>\n",
       "    </tr>\n",
       "  </tbody>\n",
       "</table>\n",
       "</div>"
      ],
      "text/plain": [
       "                   DESCRICAO 1º SEMESTRE 2º SEMESTRE VAR_PERC_1_SEM  \\\n",
       "1  Receita de vendas liquida         2.5         5.0            75%   \n",
       "2          Custos e despesas         1.5         3.2            52%   \n",
       "3     Despesas não previstas         1.2         1.4            12%   \n",
       "\n",
       "  VAR_PERC_2_SEM  \n",
       "1           100%  \n",
       "2            89%  \n",
       "3            24%  "
      ]
     },
     "execution_count": 35,
     "metadata": {},
     "output_type": "execute_result"
    }
   ],
   "source": [
    "table3.columns = ['DESCRICAO','1º SEMESTRE', '2º SEMESTRE', 'VAR_PERC_1_SEM','VAR_PERC_2_SEM']\n",
    "table3"
   ]
  },
  {
   "cell_type": "code",
   "execution_count": 36,
   "metadata": {},
   "outputs": [],
   "source": [
    "table3.to_excel('Tabela_receita_2025.xlsx')"
   ]
  },
  {
   "cell_type": "markdown",
   "metadata": {},
   "source": [
    "### Reading PDF file with text and convert it to an Excel file"
   ]
  },
  {
   "cell_type": "code",
   "execution_count": 41,
   "metadata": {},
   "outputs": [],
   "source": [
    "directory = open(\"data/arquivo1.pdf\", \"rb\")"
   ]
  },
  {
   "cell_type": "code",
   "execution_count": null,
   "metadata": {},
   "outputs": [],
   "source": [
    "pdf_file = PyPDF2.PdfReader(directory)"
   ]
  },
  {
   "cell_type": "code",
   "execution_count": 46,
   "metadata": {},
   "outputs": [
    {
     "data": {
      "text/plain": [
       "'O que é ciência de dados?  \\nA ciência de dados é o estudo dos dados para extrair insights significativos para os \\nnegócios. Ela é uma abordagem multidisciplinar que combina princípios e práticas das \\náreas de matemática, estatística, inteligência artificial e engenharia da computação p ara \\nanalisar grandes quantidades de dados. Essa análise ajuda os cientistas de dados a fazer \\ne responder perguntas como o que aconteceu, por que aconteceu, o que acontecerá e o \\nque pode ser feito com os resultados.  \\nPor que a ciência de dados é importante?  \\nA ciência de dados é importante porque combina ferramentas, métodos e tecnologia para \\ngerar significado com base em dados. As organizações modernas são inundadas com \\ndados; há uma proliferação de dispositivos que podem coletar e armazenar informações \\nautomaticamente. Sistemas online e portais de pagamento capturam mais dados nas \\náreas de comércio eletrônico, medicina, finanças e todos os outros aspectos da vida \\nhumana. Temos dados de texto, áudio, vídeo e imagem disponíveis em grandes \\nquantidades.   \\nInfelizmente, dados brutos não têm valor a menos que possam ser acionados. Os \\ncientistas de dados podem converter dados brutos em recomendações significativas. Eles \\npodem descobrir e solucionar problemas que as empresas nem sabiam que existiam. As \\norganizações podem usar essas recomendações para deixar os clientes mais satisfeitos, \\notimizar a cadeia de suprimentos ou lançar novos produtos.  \\nHistória da ciência de dados  \\nEmbora o termo ciência de dados não seja novo, os significados e conotações mudaram \\nao longo d o tempo. A palavra apareceu pela primeira vez na década de 1960 como um \\nnome alternativo para estatísticas. No final da década de 1990, profissionais de ciência da \\ncomputação formalizaram o termo. Uma definição proposta para ciência de dados o viu \\ncomo um campo separado com três aspectos: design de dados, coleta e análise. Ainda \\nlevou mais uma década para que o termo fosse usado fora da academia.   \\nFuturo da ciência de dados  \\nA inteligência artificial e as inovações de machine learning tornaram o processamen to de \\ndados mais rápido e eficiente. A demanda do setor criou um ecossistema de cursos, \\ndiplomas e cargos na área da ciência de dados. Devido ao conjunto de habilidades \\nmultifuncionais e à experiência necessária, a ciência de dados mostra um forte \\ncrescime nto projetado nas próximas décadas.  \\n '"
      ]
     },
     "execution_count": 46,
     "metadata": {},
     "output_type": "execute_result"
    }
   ],
   "source": [
    "page = pdf_file.pages[0]\n",
    "content_page = page.extract_text()\n",
    "content_page"
   ]
  },
  {
   "cell_type": "code",
   "execution_count": 47,
   "metadata": {},
   "outputs": [
    {
     "data": {
      "text/plain": [
       "str"
      ]
     },
     "execution_count": 47,
     "metadata": {},
     "output_type": "execute_result"
    }
   ],
   "source": [
    "type(content_page)"
   ]
  },
  {
   "cell_type": "code",
   "execution_count": 48,
   "metadata": {},
   "outputs": [
    {
     "name": "stdout",
     "output_type": "stream",
     "text": [
      "O que é ciência de dados?  \n",
      "A ciência de dados é o estudo dos dados para extrair insights significativos para os \n",
      "negócios. Ela é uma abordagem multidisciplinar que combina princípios e práticas das \n",
      "áreas de matemática, estatística, inteligência artificial e engenharia da computação p ara \n",
      "analisar grandes quantidades de dados. Essa análise ajuda os cientistas de dados a fazer \n",
      "e responder perguntas como o que aconteceu, por que aconteceu, o que acontecerá e o \n",
      "que pode ser feito com os resultados.  \n",
      "Por que a ciência de dados é importante?  \n",
      "A ciência de dados é importante porque combina ferramentas, métodos e tecnologia para \n",
      "gerar significado com base em dados. As organizações modernas são inundadas com \n",
      "dados; há uma proliferação de dispositivos que podem coletar e armazenar informações \n",
      "automaticamente. Sistemas online e portais de pagamento capturam mais dados nas \n",
      "áreas de comércio eletrônico, medicina, finanças e todos os outros aspectos da vida \n",
      "humana. Temos dados de texto, áudio, vídeo e imagem disponíveis em grandes \n",
      "quantidades.   \n",
      "Infelizmente, dados brutos não têm valor a menos que possam ser acionados. Os \n",
      "cientistas de dados podem converter dados brutos em recomendações significativas. Eles \n",
      "podem descobrir e solucionar problemas que as empresas nem sabiam que existiam. As \n",
      "organizações podem usar essas recomendações para deixar os clientes mais satisfeitos, \n",
      "otimizar a cadeia de suprimentos ou lançar novos produtos.  \n",
      "História da ciência de dados  \n",
      "Embora o termo ciência de dados não seja novo, os significados e conotações mudaram \n",
      "ao longo d o tempo. A palavra apareceu pela primeira vez na década de 1960 como um \n",
      "nome alternativo para estatísticas. No final da década de 1990, profissionais de ciência da \n",
      "computação formalizaram o termo. Uma definição proposta para ciência de dados o viu \n",
      "como um campo separado com três aspectos: design de dados, coleta e análise. Ainda \n",
      "levou mais uma década para que o termo fosse usado fora da academia.   \n",
      "Futuro da ciência de dados  \n",
      "A inteligência artificial e as inovações de machine learning tornaram o processamen to de \n",
      "dados mais rápido e eficiente. A demanda do setor criou um ecossistema de cursos, \n",
      "diplomas e cargos na área da ciência de dados. Devido ao conjunto de habilidades \n",
      "multifuncionais e à experiência necessária, a ciência de dados mostra um forte \n",
      "crescime nto projetado nas próximas décadas.  \n",
      " \n"
     ]
    }
   ],
   "source": [
    "print(content_page)"
   ]
  }
 ],
 "metadata": {
  "kernelspec": {
   "display_name": "venv",
   "language": "python",
   "name": "python3"
  },
  "language_info": {
   "codemirror_mode": {
    "name": "ipython",
    "version": 3
   },
   "file_extension": ".py",
   "mimetype": "text/x-python",
   "name": "python",
   "nbconvert_exporter": "python",
   "pygments_lexer": "ipython3",
   "version": "3.12.7"
  }
 },
 "nbformat": 4,
 "nbformat_minor": 2
}
