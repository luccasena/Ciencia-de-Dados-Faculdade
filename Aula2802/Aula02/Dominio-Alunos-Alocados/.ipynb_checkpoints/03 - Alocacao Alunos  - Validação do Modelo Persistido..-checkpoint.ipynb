{
 "cells": [
  {
   "cell_type": "code",
   "execution_count": 1,
   "metadata": {},
   "outputs": [],
   "source": [
    "# Gerando modelo de Machine Learning (classificação)\n",
    "# Conjunto de dados de previsão de posicionamento\n",
    "# Preveja se o aluno será colocado ou não usando o Catboost\n",
    "# Ricardo Roberto de Lima"
   ]
  },
  {
   "cell_type": "code",
   "execution_count": 2,
   "metadata": {},
   "outputs": [],
   "source": [
    "#Conjunto de importacoes\n",
    "from sklearn.naive_bayes import MultinomialNB\n",
    "from sklearn.naive_bayes import GaussianNB\n",
    "import joblib"
   ]
  },
  {
   "cell_type": "code",
   "execution_count": 4,
   "metadata": {},
   "outputs": [],
   "source": [
    "modelo_NB = GaussianNB()\n",
    "#Carrega o modelo persistido no arquivo modelo_crioterapia_MNB.pkl\n",
    "modelo_NB = joblib.load('modelo_AlunoAlocado_MNB.pkl')"
   ]
  },
  {
   "cell_type": "code",
   "execution_count": 8,
   "metadata": {},
   "outputs": [],
   "source": [
    "# Dados de teste retirados da Tabela 3 \n",
    "\n",
    "Internships = 1\n",
    "Projects = 3\n",
    "WorkshopsCertifications = 3\n",
    "AptitudeTestScore = 85\n",
    "SSC_Marks = 81\n",
    "HSC_Marks = 65\n"
   ]
  },
  {
   "cell_type": "code",
   "execution_count": 10,
   "metadata": {},
   "outputs": [
    {
     "name": "stdout",
     "output_type": "stream",
     "text": [
      "Resultado da Análise: [0]\n"
     ]
    }
   ],
   "source": [
    "res = modelo_NB.predict([[int(Internships), int(Projects), int(WorkshopsCertifications), int(AptitudeTestScore), int(SSC_Marks), int(HSC_Marks)]])\n",
    "print(\"Resultado da Análise: \" + str(res))"
   ]
  },
  {
   "cell_type": "code",
   "execution_count": null,
   "metadata": {},
   "outputs": [],
   "source": []
  }
 ],
 "metadata": {
  "kernelspec": {
   "display_name": "Python 3 (ipykernel)",
   "language": "python",
   "name": "python3"
  },
  "language_info": {
   "codemirror_mode": {
    "name": "ipython",
    "version": 3
   },
   "file_extension": ".py",
   "mimetype": "text/x-python",
   "name": "python",
   "nbconvert_exporter": "python",
   "pygments_lexer": "ipython3",
   "version": "3.11.7"
  }
 },
 "nbformat": 4,
 "nbformat_minor": 4
}
