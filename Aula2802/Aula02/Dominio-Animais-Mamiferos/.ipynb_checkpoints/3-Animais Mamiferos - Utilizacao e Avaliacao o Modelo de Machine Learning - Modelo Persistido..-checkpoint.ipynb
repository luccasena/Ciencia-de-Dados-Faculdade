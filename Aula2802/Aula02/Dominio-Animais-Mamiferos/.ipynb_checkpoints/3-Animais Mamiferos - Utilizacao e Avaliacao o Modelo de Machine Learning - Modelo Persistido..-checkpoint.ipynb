{
 "cells": [
  {
   "cell_type": "code",
   "execution_count": 13,
   "metadata": {},
   "outputs": [],
   "source": [
    "# Utilizando o Modelo Persistido de Machine Learning - Mamíferos"
   ]
  },
  {
   "cell_type": "code",
   "execution_count": 1,
   "metadata": {},
   "outputs": [],
   "source": [
    "# Autor: Ricardo Roberto de Lima"
   ]
  },
  {
   "cell_type": "code",
   "execution_count": 6,
   "metadata": {},
   "outputs": [],
   "source": [
    "#Conjunto de importacoes\n",
    "from sklearn.naive_bayes import MultinomialNB\n",
    "from sklearn.naive_bayes import GaussianNB\n",
    "import joblib"
   ]
  },
  {
   "cell_type": "code",
   "execution_count": 8,
   "metadata": {},
   "outputs": [],
   "source": [
    "modelo_NB = GaussianNB()\n",
    "#Carrega o modelo persistido no arquivo modelo_mamifero_MNB.pkl\n",
    "modelo_NB = joblib.load('modelo_mamifero_MNB.pkl')"
   ]
  },
  {
   "cell_type": "code",
   "execution_count": 10,
   "metadata": {},
   "outputs": [],
   "source": [
    "#Dados de teste retirados da Tabela 3 - ID = 1. Animal: Cabra\n",
    "sangue = 1\n",
    "bota_ovo = 1\n",
    "voa = 0\n",
    "mora_agua = 1"
   ]
  },
  {
   "cell_type": "code",
   "execution_count": 10,
   "metadata": {},
   "outputs": [
    {
     "name": "stdout",
     "output_type": "stream",
     "text": [
      "Classificacao: [0]\n"
     ]
    }
   ],
   "source": [
    "res = modelo_NB.predict([[int(sangue), int(bota_ovo), int(voa), int(mora_agua)]])\n",
    "print(\"Classificacao: \" + str(res))"
   ]
  },
  {
   "cell_type": "code",
   "execution_count": null,
   "metadata": {
    "collapsed": true,
    "jupyter": {
     "outputs_hidden": true
    }
   },
   "outputs": [],
   "source": []
  }
 ],
 "metadata": {
  "kernelspec": {
   "display_name": "Python 3 (ipykernel)",
   "language": "python",
   "name": "python3"
  },
  "language_info": {
   "codemirror_mode": {
    "name": "ipython",
    "version": 3
   },
   "file_extension": ".py",
   "mimetype": "text/x-python",
   "name": "python",
   "nbconvert_exporter": "python",
   "pygments_lexer": "ipython3",
   "version": "3.11.7"
  }
 },
 "nbformat": 4,
 "nbformat_minor": 4
}
