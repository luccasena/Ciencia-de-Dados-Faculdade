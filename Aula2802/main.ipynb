{
 "cells": [
  {
   "metadata": {},
   "cell_type": "markdown",
   "source": [
    "## Prevendo Alocação de Alunos com Naive Bayes\n",
    "### Ciência de Dados - 2025.01 - 3º período\n",
    "### Aluno: Lucca de Sena Barbosa"
   ],
   "id": "49fdcb761545e77a"
  },
  {
   "metadata": {},
   "cell_type": "markdown",
   "source": "- Importando as bibliotecas para a criação do modelo",
   "id": "d565aeb973595556"
  },
  {
   "metadata": {
    "ExecuteTime": {
     "end_time": "2025-03-04T20:51:38.879434Z",
     "start_time": "2025-03-04T20:51:38.875924Z"
    }
   },
   "cell_type": "code",
   "source": [
    "import pandas as pd\n",
    "\n",
    "import matplotlib.pyplot as plt\n",
    "import seaborn as sn\n",
    "\n",
    "from sklearn.naive_bayes import GaussianNB\n",
    "from sklearn.model_selection import train_test_split\n",
    "from sklearn.preprocessing import LabelEncoder, StandardScaler\n",
    "from sklearn.metrics import confusion_matrix, roc_auc_score, accuracy_score, roc_curve, classification_report\n",
    "\n"
   ],
   "id": "aefa0b6602d616b8",
   "outputs": [],
   "execution_count": 49
  },
  {
   "metadata": {},
   "cell_type": "markdown",
   "source": "- Importando uma base de dados com o auxílio da biblioteca pandas.",
   "id": "166ebfb13f4f20c5"
  },
  {
   "metadata": {
    "ExecuteTime": {
     "end_time": "2025-03-04T20:51:40.052233Z",
     "start_time": "2025-03-04T20:51:40.039259Z"
    }
   },
   "cell_type": "code",
   "source": [
    "df = pd.read_csv(\"Aula02/Dominio-Alunos-Alocados/data/placementdata.csv\")\n",
    "df"
   ],
   "id": "dc4c690596605b01",
   "outputs": [
    {
     "data": {
      "text/plain": [
       "      StudentID  CGPA  Internships  Projects  Workshops/Certifications  \\\n",
       "0             1   7.5            1         1                         1   \n",
       "1             2   8.9            0         3                         2   \n",
       "2             3   7.3            1         2                         2   \n",
       "3             4   7.5            1         1                         2   \n",
       "4             5   8.3            1         2                         2   \n",
       "...         ...   ...          ...       ...                       ...   \n",
       "9995       9996   7.5            1         1                         2   \n",
       "9996       9997   7.4            0         1                         0   \n",
       "9997       9998   8.4            1         3                         0   \n",
       "9998       9999   8.9            0         3                         2   \n",
       "9999      10000   8.4            0         1                         1   \n",
       "\n",
       "      AptitudeTestScore  SoftSkillsRating ExtracurricularActivities  \\\n",
       "0                    65               4.4                        No   \n",
       "1                    90               4.0                       Yes   \n",
       "2                    82               4.8                       Yes   \n",
       "3                    85               4.4                       Yes   \n",
       "4                    86               4.5                       Yes   \n",
       "...                 ...               ...                       ...   \n",
       "9995                 72               3.9                       Yes   \n",
       "9996                 90               4.8                        No   \n",
       "9997                 70               4.8                       Yes   \n",
       "9998                 87               4.8                       Yes   \n",
       "9999                 66               3.8                        No   \n",
       "\n",
       "     PlacementTraining  SSC_Marks  HSC_Marks  PlacementStatus  \n",
       "0                   No         61         79                1  \n",
       "1                  Yes         78         82                0  \n",
       "2                   No         79         80                1  \n",
       "3                  Yes         81         80                0  \n",
       "4                  Yes         74         88                0  \n",
       "...                ...        ...        ...              ...  \n",
       "9995                No         85         66                1  \n",
       "9996                No         84         67                0  \n",
       "9997               Yes         79         81                0  \n",
       "9998               Yes         71         85                0  \n",
       "9999                No         62         66                1  \n",
       "\n",
       "[10000 rows x 12 columns]"
      ],
      "text/html": [
       "<div>\n",
       "<style scoped>\n",
       "    .dataframe tbody tr th:only-of-type {\n",
       "        vertical-align: middle;\n",
       "    }\n",
       "\n",
       "    .dataframe tbody tr th {\n",
       "        vertical-align: top;\n",
       "    }\n",
       "\n",
       "    .dataframe thead th {\n",
       "        text-align: right;\n",
       "    }\n",
       "</style>\n",
       "<table border=\"1\" class=\"dataframe\">\n",
       "  <thead>\n",
       "    <tr style=\"text-align: right;\">\n",
       "      <th></th>\n",
       "      <th>StudentID</th>\n",
       "      <th>CGPA</th>\n",
       "      <th>Internships</th>\n",
       "      <th>Projects</th>\n",
       "      <th>Workshops/Certifications</th>\n",
       "      <th>AptitudeTestScore</th>\n",
       "      <th>SoftSkillsRating</th>\n",
       "      <th>ExtracurricularActivities</th>\n",
       "      <th>PlacementTraining</th>\n",
       "      <th>SSC_Marks</th>\n",
       "      <th>HSC_Marks</th>\n",
       "      <th>PlacementStatus</th>\n",
       "    </tr>\n",
       "  </thead>\n",
       "  <tbody>\n",
       "    <tr>\n",
       "      <th>0</th>\n",
       "      <td>1</td>\n",
       "      <td>7.5</td>\n",
       "      <td>1</td>\n",
       "      <td>1</td>\n",
       "      <td>1</td>\n",
       "      <td>65</td>\n",
       "      <td>4.4</td>\n",
       "      <td>No</td>\n",
       "      <td>No</td>\n",
       "      <td>61</td>\n",
       "      <td>79</td>\n",
       "      <td>1</td>\n",
       "    </tr>\n",
       "    <tr>\n",
       "      <th>1</th>\n",
       "      <td>2</td>\n",
       "      <td>8.9</td>\n",
       "      <td>0</td>\n",
       "      <td>3</td>\n",
       "      <td>2</td>\n",
       "      <td>90</td>\n",
       "      <td>4.0</td>\n",
       "      <td>Yes</td>\n",
       "      <td>Yes</td>\n",
       "      <td>78</td>\n",
       "      <td>82</td>\n",
       "      <td>0</td>\n",
       "    </tr>\n",
       "    <tr>\n",
       "      <th>2</th>\n",
       "      <td>3</td>\n",
       "      <td>7.3</td>\n",
       "      <td>1</td>\n",
       "      <td>2</td>\n",
       "      <td>2</td>\n",
       "      <td>82</td>\n",
       "      <td>4.8</td>\n",
       "      <td>Yes</td>\n",
       "      <td>No</td>\n",
       "      <td>79</td>\n",
       "      <td>80</td>\n",
       "      <td>1</td>\n",
       "    </tr>\n",
       "    <tr>\n",
       "      <th>3</th>\n",
       "      <td>4</td>\n",
       "      <td>7.5</td>\n",
       "      <td>1</td>\n",
       "      <td>1</td>\n",
       "      <td>2</td>\n",
       "      <td>85</td>\n",
       "      <td>4.4</td>\n",
       "      <td>Yes</td>\n",
       "      <td>Yes</td>\n",
       "      <td>81</td>\n",
       "      <td>80</td>\n",
       "      <td>0</td>\n",
       "    </tr>\n",
       "    <tr>\n",
       "      <th>4</th>\n",
       "      <td>5</td>\n",
       "      <td>8.3</td>\n",
       "      <td>1</td>\n",
       "      <td>2</td>\n",
       "      <td>2</td>\n",
       "      <td>86</td>\n",
       "      <td>4.5</td>\n",
       "      <td>Yes</td>\n",
       "      <td>Yes</td>\n",
       "      <td>74</td>\n",
       "      <td>88</td>\n",
       "      <td>0</td>\n",
       "    </tr>\n",
       "    <tr>\n",
       "      <th>...</th>\n",
       "      <td>...</td>\n",
       "      <td>...</td>\n",
       "      <td>...</td>\n",
       "      <td>...</td>\n",
       "      <td>...</td>\n",
       "      <td>...</td>\n",
       "      <td>...</td>\n",
       "      <td>...</td>\n",
       "      <td>...</td>\n",
       "      <td>...</td>\n",
       "      <td>...</td>\n",
       "      <td>...</td>\n",
       "    </tr>\n",
       "    <tr>\n",
       "      <th>9995</th>\n",
       "      <td>9996</td>\n",
       "      <td>7.5</td>\n",
       "      <td>1</td>\n",
       "      <td>1</td>\n",
       "      <td>2</td>\n",
       "      <td>72</td>\n",
       "      <td>3.9</td>\n",
       "      <td>Yes</td>\n",
       "      <td>No</td>\n",
       "      <td>85</td>\n",
       "      <td>66</td>\n",
       "      <td>1</td>\n",
       "    </tr>\n",
       "    <tr>\n",
       "      <th>9996</th>\n",
       "      <td>9997</td>\n",
       "      <td>7.4</td>\n",
       "      <td>0</td>\n",
       "      <td>1</td>\n",
       "      <td>0</td>\n",
       "      <td>90</td>\n",
       "      <td>4.8</td>\n",
       "      <td>No</td>\n",
       "      <td>No</td>\n",
       "      <td>84</td>\n",
       "      <td>67</td>\n",
       "      <td>0</td>\n",
       "    </tr>\n",
       "    <tr>\n",
       "      <th>9997</th>\n",
       "      <td>9998</td>\n",
       "      <td>8.4</td>\n",
       "      <td>1</td>\n",
       "      <td>3</td>\n",
       "      <td>0</td>\n",
       "      <td>70</td>\n",
       "      <td>4.8</td>\n",
       "      <td>Yes</td>\n",
       "      <td>Yes</td>\n",
       "      <td>79</td>\n",
       "      <td>81</td>\n",
       "      <td>0</td>\n",
       "    </tr>\n",
       "    <tr>\n",
       "      <th>9998</th>\n",
       "      <td>9999</td>\n",
       "      <td>8.9</td>\n",
       "      <td>0</td>\n",
       "      <td>3</td>\n",
       "      <td>2</td>\n",
       "      <td>87</td>\n",
       "      <td>4.8</td>\n",
       "      <td>Yes</td>\n",
       "      <td>Yes</td>\n",
       "      <td>71</td>\n",
       "      <td>85</td>\n",
       "      <td>0</td>\n",
       "    </tr>\n",
       "    <tr>\n",
       "      <th>9999</th>\n",
       "      <td>10000</td>\n",
       "      <td>8.4</td>\n",
       "      <td>0</td>\n",
       "      <td>1</td>\n",
       "      <td>1</td>\n",
       "      <td>66</td>\n",
       "      <td>3.8</td>\n",
       "      <td>No</td>\n",
       "      <td>No</td>\n",
       "      <td>62</td>\n",
       "      <td>66</td>\n",
       "      <td>1</td>\n",
       "    </tr>\n",
       "  </tbody>\n",
       "</table>\n",
       "<p>10000 rows × 12 columns</p>\n",
       "</div>"
      ]
     },
     "execution_count": 51,
     "metadata": {},
     "output_type": "execute_result"
    }
   ],
   "execution_count": 51
  },
  {
   "metadata": {},
   "cell_type": "markdown",
   "source": [
    "- Dividindo a base de dados entre atributos previsores(x) e classe(y).\n",
    "\n",
    "Obs: Não foi incluído a primeira coluna, pois se trata do ID do estudante e não traz informações relevantes para o algoritmo."
   ],
   "id": "b0c546b9f39900e8"
  },
  {
   "metadata": {
    "ExecuteTime": {
     "end_time": "2025-03-04T20:51:41.842180Z",
     "start_time": "2025-03-04T20:51:41.837021Z"
    }
   },
   "cell_type": "code",
   "source": [
    "x_features = df.iloc[:, 1:11].values\n",
    "y_class = df.iloc[:, 11].values\n",
    "\n",
    "x_features, y_class"
   ],
   "id": "749a213d769f94ee",
   "outputs": [
    {
     "data": {
      "text/plain": [
       "(array([[7.5, 1, 1, ..., 'No', 61, 79],\n",
       "        [8.9, 0, 3, ..., 'Yes', 78, 82],\n",
       "        [7.3, 1, 2, ..., 'No', 79, 80],\n",
       "        ...,\n",
       "        [8.4, 1, 3, ..., 'Yes', 79, 81],\n",
       "        [8.9, 0, 3, ..., 'Yes', 71, 85],\n",
       "        [8.4, 0, 1, ..., 'No', 62, 66]], shape=(10000, 10), dtype=object),\n",
       " array([1, 0, 1, ..., 0, 0, 1], shape=(10000,)))"
      ]
     },
     "execution_count": 52,
     "metadata": {},
     "output_type": "execute_result"
    }
   ],
   "execution_count": 52
  },
  {
   "metadata": {},
   "cell_type": "markdown",
   "source": "- Foram codificados os atributos previsores pelo método LabelEncoder e logo após padronizados com o método StandardScale.",
   "id": "6d21afc380f16672"
  },
  {
   "metadata": {
    "ExecuteTime": {
     "end_time": "2025-03-04T20:51:43.452451Z",
     "start_time": "2025-03-04T20:51:43.439430Z"
    }
   },
   "cell_type": "code",
   "source": [
    "codificador = LabelEncoder()\n",
    "\n",
    "for i in range(x_features.shape[1]):\n",
    "    x_features[:, i] = codificador.fit_transform(x_features[:, i])\n",
    "\n",
    "x_features, y_class"
   ],
   "id": "35f300022a1ee729",
   "outputs": [
    {
     "data": {
      "text/plain": [
       "(array([[10, 1, 1, ..., 0, 6, 22],\n",
       "        [24, 0, 3, ..., 1, 23, 25],\n",
       "        [8, 1, 2, ..., 0, 24, 23],\n",
       "        ...,\n",
       "        [19, 1, 3, ..., 1, 24, 24],\n",
       "        [24, 0, 3, ..., 1, 16, 28],\n",
       "        [19, 0, 1, ..., 0, 7, 9]], shape=(10000, 10), dtype=object),\n",
       " array([1, 0, 1, ..., 0, 0, 1], shape=(10000,)))"
      ]
     },
     "execution_count": 53,
     "metadata": {},
     "output_type": "execute_result"
    }
   ],
   "execution_count": 53
  },
  {
   "metadata": {
    "ExecuteTime": {
     "end_time": "2025-03-04T20:51:46.883297Z",
     "start_time": "2025-03-04T20:51:46.874388Z"
    }
   },
   "cell_type": "code",
   "source": [
    "padronizador = StandardScaler()\n",
    "\n",
    "x_features = padronizador.fit_transform(x_features)\n",
    "\n",
    "x_features"
   ],
   "id": "2b4d5cfcf590c0ed",
   "outputs": [
    {
     "data": {
      "text/plain": [
       "array([[-0.30934266, -0.07388859, -1.18282217, ..., -1.65183558,\n",
       "        -0.78230576,  0.50436813],\n",
       "       [ 1.87781819, -1.57568915,  1.12152649, ...,  0.60538713,\n",
       "         0.84761775,  0.84072567],\n",
       "       [-0.62179421, -0.07388859, -0.03064784, ..., -1.65183558,\n",
       "         0.94349561,  0.61648731],\n",
       "       ...,\n",
       "       [ 1.09668932, -0.07388859,  1.12152649, ...,  0.60538713,\n",
       "         0.94349561,  0.72860649],\n",
       "       [ 1.87781819, -1.57568915,  1.12152649, ...,  0.60538713,\n",
       "         0.17647278,  1.17708321],\n",
       "       [ 1.09668932, -1.57568915, -1.18282217, ..., -1.65183558,\n",
       "        -0.68642791, -0.95318121]], shape=(10000, 10))"
      ]
     },
     "execution_count": 54,
     "metadata": {},
     "output_type": "execute_result"
    }
   ],
   "execution_count": 54
  },
  {
   "metadata": {},
   "cell_type": "markdown",
   "source": [
    "- Os dados foram divididos entre treino e teste para avaliar o desempenho do algoritmo\n",
    "    - Para teste, foram 20% dos dados.\n",
    "    - Para treino, foram 80% dos dados."
   ],
   "id": "e9db1ee60015dcc0"
  },
  {
   "metadata": {
    "ExecuteTime": {
     "end_time": "2025-03-04T20:52:18.214960Z",
     "start_time": "2025-03-04T20:52:18.209509Z"
    }
   },
   "cell_type": "code",
   "outputs": [
    {
     "data": {
      "text/plain": [
       "((8000, 10), (2000, 10), (8000,), (2000,))"
      ]
     },
     "execution_count": 65,
     "metadata": {},
     "output_type": "execute_result"
    }
   ],
   "execution_count": 65,
   "source": [
    "x_train, x_test, y_train, y_test = train_test_split(x_features, y_class, test_size=0.2)\n",
    "\n",
    "x_train.shape, x_test.shape, y_train.shape, y_test.shape"
   ],
   "id": "f2d0a4f430bc4f4f"
  },
  {
   "metadata": {
    "ExecuteTime": {
     "end_time": "2025-03-04T20:52:19.374466Z",
     "start_time": "2025-03-04T20:52:19.369225Z"
    }
   },
   "cell_type": "code",
   "source": [
    "model = GaussianNB()\n",
    "model.fit(x_train, y_train)\n",
    "y_pred = model.predict(x_test)"
   ],
   "id": "2c7cfaace076b828",
   "outputs": [],
   "execution_count": 66
  },
  {
   "metadata": {},
   "cell_type": "markdown",
   "source": "- Criação de uma função que traz métricas para avaliação do algoritmo",
   "id": "c54fe3ae3558d26a"
  },
  {
   "metadata": {
    "ExecuteTime": {
     "end_time": "2025-03-04T20:52:00.148022Z",
     "start_time": "2025-03-04T20:52:00.143085Z"
    }
   },
   "cell_type": "code",
   "source": [
    "def performancemetrics(y_true, predict, class_name):\n",
    "\n",
    "    # Imprime Matriz de Confusão:\n",
    "    confusion_matrix_df = pd.DataFrame(\n",
    "        confusion_matrix(y_true, predict),\n",
    "        index=class_name,\n",
    "        columns=class_name\n",
    "    )\n",
    "\n",
    "    plt.figure(figsize=(5,3))\n",
    "    sn.set_theme(font_scale=0.9)\n",
    "    sn.heatmap(confusion_matrix_df, annot=True, fmt=\"d\", cmap=\"Blues\", cbar=False)\n",
    "\n",
    "\n",
    "    # Imprime a Acurácia:\n",
    "    print(f\"A acurácia geral do modelo em relação a todos os dados foi de aproximadamente {accuracy_score(y_true, predict) * 100:.2f}%.\")\n",
    "    for i, label in enumerate(class_name):\n",
    "        print(f\"O modelo identificou corretamente {confusion_matrix_df.values[i][i]} registros com o rótulo '{label}'.\")\n",
    "\n",
    "\n",
    "    # Imprime Gráfico da Curva ROC\n",
    "    fpr, tpr, thresholds = roc_curve(y_true, predict)\n",
    "    auc = roc_auc_score(y_true, predict)\n",
    "    plt.figure(figsize=(5,3))\n",
    "\n",
    "    plt.plot(fpr, tpr, label=f'AUC = {auc:.2f}', color='blue')\n",
    "    plt.plot([0, 1], [0, 1], linestyle='--', color='gray')\n",
    "\n",
    "    plt.xlabel('Taxa de Falsos Positivos (FPR)', fontsize=12)\n",
    "    plt.ylabel('Taxa de Verdadeiros Positivos (TPR)', fontsize=12)\n",
    "    plt.title('Curva ROC', fontsize=14)\n",
    "    plt.legend(loc='lower right')\n",
    "    plt.grid()\n",
    "    plt.show()"
   ],
   "id": "8f21998cc7cade95",
   "outputs": [],
   "execution_count": 58
  },
  {
   "metadata": {
    "ExecuteTime": {
     "end_time": "2025-03-04T20:52:21.367386Z",
     "start_time": "2025-03-04T20:52:21.282257Z"
    }
   },
   "cell_type": "code",
   "source": "performancemetrics(y_test, y_pred, [0, 1])",
   "id": "ff8ad5efe9b5d5ee",
   "outputs": [
    {
     "name": "stdout",
     "output_type": "stream",
     "text": [
      "A acurácia geral do modelo em relação a todos os dados foi de aproximadamente 80.30%.\n",
      "O modelo identificou corretamente 665 registros com o rótulo '0'.\n",
      "O modelo identificou corretamente 941 registros com o rótulo '1'.\n"
     ]
    },
    {
     "data": {
      "text/plain": [
       "<Figure size 500x300 with 1 Axes>"
      ],
      "image/png": "[encoded data removed]"
     },
     "metadata": {},
     "output_type": "display_data"
    },
    {
     "data": {
      "text/plain": [
       "<Figure size 500x300 with 1 Axes>"
      ],
      "image/png": "[encoded data removed]"
     },
     "metadata": {},
     "output_type": "display_data"
    }
   ],
   "execution_count": 67
  },
  {
   "metadata": {
    "ExecuteTime": {
     "end_time": "2025-03-04T20:52:26.527618Z",
     "start_time": "2025-03-04T20:52:26.520978Z"
    }
   },
   "cell_type": "code",
   "source": "print(classification_report(y_test, y_pred))",
   "id": "fd52b8f82acf4229",
   "outputs": [
    {
     "name": "stdout",
     "output_type": "stream",
     "text": [
      "              precision    recall  f1-score   support\n",
      "\n",
      "           0       0.75      0.79      0.77       840\n",
      "           1       0.84      0.81      0.83      1160\n",
      "\n",
      "    accuracy                           0.80      2000\n",
      "   macro avg       0.80      0.80      0.80      2000\n",
      "weighted avg       0.81      0.80      0.80      2000\n",
      "\n"
     ]
    }
   ],
   "execution_count": 68
  }
 ],
 "metadata": {
  "kernelspec": {
   "name": "python3",
   "language": "python",
   "display_name": "Python 3 (ipykernel)"
  }
 },
 "nbformat": 5,
 "nbformat_minor": 9
}
