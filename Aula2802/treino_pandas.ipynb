{
 "cells": [
  {
   "cell_type": "code",
   "id": "initial_id",
   "metadata": {
    "collapsed": true,
    "ExecuteTime": {
     "end_time": "2025-03-07T13:42:51.958264Z",
     "start_time": "2025-03-07T13:42:51.955939Z"
    }
   },
   "source": [
    "import numpy as np\n",
    "import pandas as pd"
   ],
   "outputs": [],
   "execution_count": 1
  },
  {
   "metadata": {
    "ExecuteTime": {
     "end_time": "2025-03-07T14:28:08.470270Z",
     "start_time": "2025-03-07T14:28:08.436913Z"
    }
   },
   "cell_type": "code",
   "source": [
    "df = pd.read_csv(\"salarios.csv\")\n",
    "df"
   ],
   "id": "a2d08121e4fd21b8",
   "outputs": [
    {
     "data": {
      "text/plain": [
       "                      Name            Position Title        Department  \\\n",
       "0          AARON,  ELVIA J          WATER RATE TAKER       WATER MGMNT   \n",
       "1        AARON,  JEFFERY M            POLICE OFFICER            POLICE   \n",
       "2           AARON,  KARINA            POLICE OFFICER            POLICE   \n",
       "3      AARON,  KIMBERLEI R  CHIEF CONTRACT EXPEDITER  GENERAL SERVICES   \n",
       "4      ABAD JR,  VICENTE M         CIVIL ENGINEER IV       WATER MGMNT   \n",
       "...                    ...                       ...               ...   \n",
       "32177   ZYGOWICZ,  PETER J            POLICE OFFICER            POLICE   \n",
       "32178    ZYMANTAS,  MARK E            POLICE OFFICER            POLICE   \n",
       "32179  ZYRKOWSKI,  CARLO E            POLICE OFFICER            POLICE   \n",
       "32180  ZYSKOWSKI,  DARIUSZ   CHIEF DATA BASE ANALYST              DoIT   \n",
       "32181                  NaN                       NaN               NaN   \n",
       "\n",
       "      Employee Annual Salary  \n",
       "0                  $88968.00  \n",
       "1                  $80778.00  \n",
       "2                  $80778.00  \n",
       "3                  $84780.00  \n",
       "4                 $104736.00  \n",
       "...                      ...  \n",
       "32177              $86520.00  \n",
       "32178              $83616.00  \n",
       "32179              $86520.00  \n",
       "32180             $110352.00  \n",
       "32181                    NaN  \n",
       "\n",
       "[32182 rows x 4 columns]"
      ],
      "text/html": [
       "<div>\n",
       "<style scoped>\n",
       "    .dataframe tbody tr th:only-of-type {\n",
       "        vertical-align: middle;\n",
       "    }\n",
       "\n",
       "    .dataframe tbody tr th {\n",
       "        vertical-align: top;\n",
       "    }\n",
       "\n",
       "    .dataframe thead th {\n",
       "        text-align: right;\n",
       "    }\n",
       "</style>\n",
       "<table border=\"1\" class=\"dataframe\">\n",
       "  <thead>\n",
       "    <tr style=\"text-align: right;\">\n",
       "      <th></th>\n",
       "      <th>Name</th>\n",
       "      <th>Position Title</th>\n",
       "      <th>Department</th>\n",
       "      <th>Employee Annual Salary</th>\n",
       "    </tr>\n",
       "  </thead>\n",
       "  <tbody>\n",
       "    <tr>\n",
       "      <th>0</th>\n",
       "      <td>AARON,  ELVIA J</td>\n",
       "      <td>WATER RATE TAKER</td>\n",
       "      <td>WATER MGMNT</td>\n",
       "      <td>$88968.00</td>\n",
       "    </tr>\n",
       "    <tr>\n",
       "      <th>1</th>\n",
       "      <td>AARON,  JEFFERY M</td>\n",
       "      <td>POLICE OFFICER</td>\n",
       "      <td>POLICE</td>\n",
       "      <td>$80778.00</td>\n",
       "    </tr>\n",
       "    <tr>\n",
       "      <th>2</th>\n",
       "      <td>AARON,  KARINA</td>\n",
       "      <td>POLICE OFFICER</td>\n",
       "      <td>POLICE</td>\n",
       "      <td>$80778.00</td>\n",
       "    </tr>\n",
       "    <tr>\n",
       "      <th>3</th>\n",
       "      <td>AARON,  KIMBERLEI R</td>\n",
       "      <td>CHIEF CONTRACT EXPEDITER</td>\n",
       "      <td>GENERAL SERVICES</td>\n",
       "      <td>$84780.00</td>\n",
       "    </tr>\n",
       "    <tr>\n",
       "      <th>4</th>\n",
       "      <td>ABAD JR,  VICENTE M</td>\n",
       "      <td>CIVIL ENGINEER IV</td>\n",
       "      <td>WATER MGMNT</td>\n",
       "      <td>$104736.00</td>\n",
       "    </tr>\n",
       "    <tr>\n",
       "      <th>...</th>\n",
       "      <td>...</td>\n",
       "      <td>...</td>\n",
       "      <td>...</td>\n",
       "      <td>...</td>\n",
       "    </tr>\n",
       "    <tr>\n",
       "      <th>32177</th>\n",
       "      <td>ZYGOWICZ,  PETER J</td>\n",
       "      <td>POLICE OFFICER</td>\n",
       "      <td>POLICE</td>\n",
       "      <td>$86520.00</td>\n",
       "    </tr>\n",
       "    <tr>\n",
       "      <th>32178</th>\n",
       "      <td>ZYMANTAS,  MARK E</td>\n",
       "      <td>POLICE OFFICER</td>\n",
       "      <td>POLICE</td>\n",
       "      <td>$83616.00</td>\n",
       "    </tr>\n",
       "    <tr>\n",
       "      <th>32179</th>\n",
       "      <td>ZYRKOWSKI,  CARLO E</td>\n",
       "      <td>POLICE OFFICER</td>\n",
       "      <td>POLICE</td>\n",
       "      <td>$86520.00</td>\n",
       "    </tr>\n",
       "    <tr>\n",
       "      <th>32180</th>\n",
       "      <td>ZYSKOWSKI,  DARIUSZ</td>\n",
       "      <td>CHIEF DATA BASE ANALYST</td>\n",
       "      <td>DoIT</td>\n",
       "      <td>$110352.00</td>\n",
       "    </tr>\n",
       "    <tr>\n",
       "      <th>32181</th>\n",
       "      <td>NaN</td>\n",
       "      <td>NaN</td>\n",
       "      <td>NaN</td>\n",
       "      <td>NaN</td>\n",
       "    </tr>\n",
       "  </tbody>\n",
       "</table>\n",
       "<p>32182 rows × 4 columns</p>\n",
       "</div>"
      ]
     },
     "execution_count": 5,
     "metadata": {},
     "output_type": "execute_result"
    }
   ],
   "execution_count": 5
  },
  {
   "metadata": {
    "ExecuteTime": {
     "end_time": "2025-03-07T14:28:30.039438Z",
     "start_time": "2025-03-07T14:28:30.029419Z"
    }
   },
   "cell_type": "code",
   "source": "df['Department'].value_counts()",
   "id": "edc36c1cea2ebef",
   "outputs": [
    {
     "data": {
      "text/plain": [
       "Department\n",
       "POLICE                   13570\n",
       "FIRE                      4875\n",
       "STREETS & SAN             2090\n",
       "WATER MGMNT               1848\n",
       "AVIATION                  1344\n",
       "TRANSPORTN                1200\n",
       "OEMC                      1135\n",
       "PUBLIC LIBRARY             951\n",
       "GENERAL SERVICES           924\n",
       "FAMILY & SUPPORT           679\n",
       "FINANCE                    560\n",
       "HEALTH                     555\n",
       "LAW                        425\n",
       "CITY COUNCIL               397\n",
       "BUILDINGS                  257\n",
       "COMMUNITY DEVELOPMENT      212\n",
       "BUSINESS AFFAIRS           173\n",
       "BOARD OF ELECTION          111\n",
       "DoIT                       106\n",
       "MAYOR'S OFFICE              93\n",
       "IPRA                        83\n",
       "CITY CLERK                  82\n",
       "PROCUREMENT                 81\n",
       "CULTURAL AFFAIRS            79\n",
       "HUMAN RESOURCES             68\n",
       "ANIMAL CONTRL               67\n",
       "INSPECTOR GEN               54\n",
       "BUDGET & MGMT               43\n",
       "ADMIN HEARNG                39\n",
       "DISABILITIES                27\n",
       "TREASURER                   24\n",
       "HUMAN RELATIONS             17\n",
       "BOARD OF ETHICS              9\n",
       "POLICE BOARD                 2\n",
       "LICENSE APPL COMM            1\n",
       "Name: count, dtype: int64"
      ]
     },
     "execution_count": 6,
     "metadata": {},
     "output_type": "execute_result"
    }
   ],
   "execution_count": 6
  }
 ],
 "metadata": {
  "kernelspec": {
   "display_name": "Python 3",
   "language": "python",
   "name": "python3"
  },
  "language_info": {
   "codemirror_mode": {
    "name": "ipython",
    "version": 2
   },
   "file_extension": ".py",
   "mimetype": "text/x-python",
   "name": "python",
   "nbconvert_exporter": "python",
   "pygments_lexer": "ipython2",
   "version": "2.7.6"
  }
 },
 "nbformat": 4,
 "nbformat_minor": 5
}
