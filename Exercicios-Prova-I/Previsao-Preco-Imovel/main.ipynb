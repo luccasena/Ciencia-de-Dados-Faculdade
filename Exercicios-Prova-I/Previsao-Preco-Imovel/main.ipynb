{
 "cells": [
  {
   "cell_type": "markdown",
   "id": "b464f3a4",
   "metadata": {},
   "source": [
    "## Problema de Regressão - Imóveis parte I\n",
    "\n",
    "- Você é encarregado de construir um modelo preditivo para prever o preço de imóveis com base em diversas variáveis, como área construída, número de quartos, idade do imóvel, e localização (representada por coordenadas geográficas). Os dados já estão pré-processados e disponíveis em um arquivo CSV.\n",
    "\n",
    "### Você deve seguir os seguintes passos para resolver a questão:\n",
    "\n",
    "1. Carregamento dos dados: \n",
    "- Use o arquivo imoveis.csv, que contém as colunas: area_construida, n_quartos, idade_imovel, latitude, longitude, e preco.\n",
    "\n",
    "\n",
    "2. Algoritmos de Regressão:\n",
    "- Utilize dois algoritmos de regressão: Regressão Linear e Regressão de Floresta Aleatória (Random Forest), ambos disponíveis no scikit-learn. Realize uma regressão múltipla utilizando ambos os algoritmos ao mesmo tempo, comparando os resultados.\n",
    "\n",
    "\n",
    "3. Validação e Métricas:\n",
    "- Divida os dados em conjuntos de treino (80%) e teste (20%).\n",
    "- Avalie os dois modelos utilizando as seguintes métricas:\n",
    "- Erro Médio Absoluto (MAE)\n",
    "- Erro Quadrático Médio (MSE)\n",
    "- R² Score\n",
    "- Erro Relativo Absoluto (RAE)\n",
    "\n",
    "\n",
    "4. Comparação e Interpretação:\n",
    "- Compare os resultados das métricas de cada modelo. Indique qual modelo obteve melhor desempenho em cada métrica e explique o motivo. Para inovar no resultado final, combine as previsões dos dois modelos, criando um ensemble de predições, onde o resultado final é a média ponderada das previsões dos dois modelos (dê peso maior ao modelo que apresentou melhor desempenho).\n",
    "\n",
    "5. Perguntas:\n",
    "    - Qual dos dois algoritmos apresentou melhor desempenho geral?\n",
    "    - O ensemble proposto, baseado na média ponderada, foi capaz de melhorar as métricas de predição? Se sim, em qual métrica ele se destacou?\n",
    "\n",
    "\n",
    "Código:\n",
    "Implemente o código Python para realizar as tarefas mencionadas, mostrando os passos detalhados de cada métrica e a geração dos resultados do ensemble.\n",
    "\n",
    "Desenvolvedor: Lucca de Sena Barbosa\n",
    "\n",
    "Curso: Ciências da Computação - 3º período"
   ]
  },
  {
   "cell_type": "code",
   "execution_count": 91,
   "id": "f770bea5",
   "metadata": {},
   "outputs": [],
   "source": [
    "import pandas as pd\n",
    "import seaborn as sn\n",
    "import matplotlib.pyplot as plt\n",
    "import plotly.express as px\n",
    "import plotly.graph_objects as go\n",
    "import numpy as np\n",
    "from geopy.distance import geodesic"
   ]
  },
  {
   "cell_type": "markdown",
   "id": "ad06120f",
   "metadata": {},
   "source": [
    "1. Carregamento dos dados: \n",
    "- Esses dados foram coletados de maneira artificial pela IA deepseak a fins acadêmicos. Portanto, os modelos não podem ser utilizados no contexto real."
   ]
  },
  {
   "cell_type": "code",
   "execution_count": null,
   "id": "ead034d4",
   "metadata": {},
   "outputs": [],
   "source": [
    "np.random.seed(42)\n",
    "n = 5000\n",
    "centro = (-23.5505, -46.6333)  # Centro de SP\n",
    "\n",
    "# Gerar dados sintéticos\n",
    "data = {\n",
    "    'area_construida': np.clip(np.random.lognormal(4.2, 0.3, n), 30, 500),\n",
    "    'num_quartos': np.random.choice([1,2,3,4], p=[0.2,0.5,0.2,0.1], size=n),\n",
    "    'num_banheiros': np.random.choice([1,2,3], p=[0.4,0.5,0.1], size=n),\n",
    "    'idade_imovel': np.random.randint(0, 50, n),\n",
    "    'latitude': np.random.uniform(-23.58, -23.53, n),\n",
    "    'longitude': np.random.uniform(-46.68, -46.61, n)\n",
    "}\n",
    "\n",
    "df = pd.DataFrame(data)\n",
    "\n",
    "# Engenharia de features geográficas\n",
    "df['distancia_centro'] = df.apply(lambda x: geodesic(centro, (x['latitude'], x['longitude'])).km, axis=1)\n",
    "\n",
    "# Gerar preço com relações não-lineares\n",
    "df['preco'] = (\n",
    "    df['area_construida'] * 3500 * (1 - df['idade_imovel']/100) +\n",
    "    df['num_quartos'] * 80000 +\n",
    "    df['num_banheiros'] * 50000 +\n",
    "    np.exp(-df['distancia_centro']/10) * 1000000 +\n",
    "    np.random.normal(0, 50000, n)\n",
    ").astype(int)\n",
    "\n",
    "# Salvar dataset\n",
    "df.to_csv('imoveis.csv', index=False)"
   ]
  },
  {
   "cell_type": "code",
   "execution_count": 92,
   "id": "0383cf1e",
   "metadata": {},
   "outputs": [
    {
     "data": {
      "application/vnd.microsoft.datawrangler.viewer.v0+json": {
       "columns": [
        {
         "name": "index",
         "rawType": "int64",
         "type": "integer"
        },
        {
         "name": "area_construida",
         "rawType": "float64",
         "type": "float"
        },
        {
         "name": "num_quartos",
         "rawType": "int64",
         "type": "integer"
        },
        {
         "name": "num_banheiros",
         "rawType": "int64",
         "type": "integer"
        },
        {
         "name": "idade_imovel",
         "rawType": "int64",
         "type": "integer"
        },
        {
         "name": "latitude",
         "rawType": "float64",
         "type": "float"
        },
        {
         "name": "longitude",
         "rawType": "float64",
         "type": "float"
        },
        {
         "name": "distancia_centro",
         "rawType": "float64",
         "type": "float"
        },
        {
         "name": "preco",
         "rawType": "int64",
         "type": "integer"
        }
       ],
       "conversionMethod": "pd.DataFrame",
       "ref": "2d1b27f9-d653-4420-8b01-ceb969f25f17",
       "rows": [
        [
         "0",
         "77.40212584400844",
         "1",
         "1",
         "47",
         "-23.549277552884195",
         "-46.65665749000786",
         "2.388699034428695",
         "1132546"
        ],
        [
         "1",
         "63.97681228405736",
         "1",
         "1",
         "1",
         "-23.570598738111464",
         "-46.62726618454766",
         "2.309640166944471",
         "1131616"
        ],
        [
         "2",
         "80.98845077081985",
         "2",
         "2",
         "15",
         "-23.532817496409443",
         "-46.66101339380507",
         "3.441348149936328",
         "1047834"
        ],
        [
         "3",
         "105.3100606090714",
         "2",
         "2",
         "15",
         "-23.55952145490976",
         "-46.63591092723278",
         "1.0340922529985206",
         "1431188"
        ],
        [
         "4",
         "62.16262827507078",
         "2",
         "1",
         "21",
         "-23.57872602832118",
         "-46.67827928703403",
         "5.555068070751408",
         "960997"
        ],
        [
         "5",
         "62.16293444742238",
         "2",
         "1",
         "42",
         "-23.56901140413676",
         "-46.63599920424191",
         "2.068611156941754",
         "1143976"
        ],
        [
         "6",
         "107.10009287700116",
         "2",
         "1",
         "0",
         "-23.54539662578644",
         "-46.61338742006865",
         "2.1102555379446466",
         "1383124"
        ],
        [
         "7",
         "83.95075851034063",
         "3",
         "2",
         "14",
         "-23.569919005059468",
         "-46.663539987010566",
         "3.762596803779954",
         "1253607"
        ],
        [
         "8",
         "57.92549896236876",
         "2",
         "1",
         "23",
         "-23.577304377056198",
         "-46.6255274359299",
         "3.0728607665263707",
         "1105848"
        ],
        [
         "9",
         "78.47405127027633",
         "1",
         "3",
         "3",
         "-23.549114688930267",
         "-46.65946035150591",
         "2.675442860402647",
         "1364432"
        ],
        [
         "10",
         "58.030845732698594",
         "2",
         "3",
         "17",
         "-23.55408226047029",
         "-46.630450517589",
         "0.491982428733884",
         "1414257"
        ],
        [
         "11",
         "57.990608436624754",
         "4",
         "1",
         "16",
         "-23.54193670819508",
         "-46.63100193410885",
         "0.976995054724528",
         "1555583"
        ],
        [
         "12",
         "71.70702220191576",
         "2",
         "1",
         "6",
         "-23.541368430572792",
         "-46.667068358081664",
         "3.593199320210441",
         "1167651"
        ],
        [
         "13",
         "37.562864895437855",
         "3",
         "2",
         "49",
         "-23.53200323731061",
         "-46.63820104627053",
         "2.108787889074456",
         "1183405"
        ],
        [
         "14",
         "39.74661380778189",
         "1",
         "1",
         "44",
         "-23.57714912279907",
         "-46.61985817328208",
         "3.254876513176072",
         "973424"
        ],
        [
         "15",
         "56.33487209781351",
         "2",
         "1",
         "9",
         "-23.578050529009086",
         "-46.653222685139234",
         "3.667038925143384",
         "960710"
        ],
        [
         "16",
         "49.21264801320496",
         "1",
         "1",
         "0",
         "-23.530640147598618",
         "-46.63028061340557",
         "2.2210140239101985",
         "1102314"
        ],
        [
         "17",
         "73.27900921806122",
         "2",
         "2",
         "1",
         "-23.54775760611515",
         "-46.632789897533584",
         "0.3081582075177816",
         "1509492"
        ],
        [
         "18",
         "50.78458061677272",
         "4",
         "2",
         "48",
         "-23.544231473016623",
         "-46.66197401987396",
         "3.008933587102186",
         "1279138"
        ],
        [
         "19",
         "43.65461000266814",
         "4",
         "1",
         "21",
         "-23.57517589901324",
         "-46.615694950815",
         "3.270964680214597",
         "1243572"
        ],
        [
         "20",
         "103.51273314318956",
         "2",
         "1",
         "31",
         "-23.576509365457586",
         "-46.64055415411186",
         "2.974266921122503",
         "1238947"
        ],
        [
         "21",
         "62.31904702801548",
         "2",
         "3",
         "28",
         "-23.57198732030321",
         "-46.65512951402361",
         "3.2603959323359044",
         "1203683"
        ],
        [
         "22",
         "68.05107059204222",
         "4",
         "2",
         "34",
         "-23.558640219860127",
         "-46.668494913700826",
         "3.704732011388539",
         "1303750"
        ],
        [
         "23",
         "43.49193611031894",
         "2",
         "2",
         "16",
         "-23.57449119086335",
         "-46.64685791533061",
         "2.9959874709155336",
         "1100992"
        ],
        [
         "24",
         "56.638285717618416",
         "1",
         "2",
         "11",
         "-23.55768331297796",
         "-46.62889205934688",
         "0.9140386140009408",
         "1327895"
        ],
        [
         "25",
         "68.94277253467264",
         "2",
         "2",
         "23",
         "-23.551923204844933",
         "-46.63634518111603",
         "0.3485894654943363",
         "1388539"
        ],
        [
         "26",
         "47.214541452898224",
         "2",
         "2",
         "29",
         "-23.579983351605744",
         "-46.629106320831305",
         "3.2932876160684765",
         "1154582"
        ],
        [
         "27",
         "74.64245188698949",
         "2",
         "1",
         "43",
         "-23.5742877184604",
         "-46.62457674733897",
         "2.780992000503408",
         "1115128"
        ],
        [
         "28",
         "55.690434128786826",
         "2",
         "1",
         "29",
         "-23.561240240411607",
         "-46.649129666345736",
         "2.0067234187419403",
         "1177478"
        ],
        [
         "29",
         "61.09877855505002",
         "2",
         "2",
         "19",
         "-23.57733351036516",
         "-46.6435883671183",
         "3.1520192521232127",
         "1206963"
        ],
        [
         "30",
         "55.67259506942099",
         "2",
         "2",
         "41",
         "-23.57332355133439",
         "-46.610950452189336",
         "3.405269651611715",
         "1161685"
        ],
        [
         "31",
         "116.2430729717961",
         "1",
         "3",
         "6",
         "-23.5684101804772",
         "-46.61223640229254",
         "2.9256158565594683",
         "1360817"
        ],
        [
         "32",
         "66.41685287112728",
         "2",
         "1",
         "41",
         "-23.558519929291617",
         "-46.65096280126688",
         "2.0102296665917563",
         "1175851"
        ],
        [
         "33",
         "48.55449237308851",
         "3",
         "3",
         "49",
         "-23.544258140103164",
         "-46.63203743330555",
         "0.7032140391056952",
         "1279618"
        ],
        [
         "34",
         "85.3502581321201",
         "2",
         "3",
         "37",
         "-23.573365569408708",
         "-46.66126868751705",
         "3.816604392537308",
         "1137458"
        ],
        [
         "35",
         "46.23545393649166",
         "2",
         "1",
         "6",
         "-23.543102071404533",
         "-46.669311171805504",
         "3.767098857756699",
         "972678"
        ],
        [
         "36",
         "70.99852331902437",
         "4",
         "2",
         "48",
         "-23.53724696351414",
         "-46.62621191441634",
         "1.6365302750819766",
         "1377985"
        ],
        [
         "37",
         "37.04372467253207",
         "4",
         "2",
         "29",
         "-23.547426061655734",
         "-46.649467402140736",
         "1.685484904831147",
         "1323550"
        ],
        [
         "38",
         "44.7702647292667",
         "2",
         "3",
         "11",
         "-23.577813715228608",
         "-46.6676063037445",
         "4.627915094920158",
         "1039415"
        ],
        [
         "39",
         "70.74333808596239",
         "1",
         "2",
         "48",
         "-23.557967315653627",
         "-46.62688064535356",
         "1.055236288319878",
         "1156931"
        ],
        [
         "40",
         "83.22435006002416",
         "3",
         "2",
         "30",
         "-23.546996699918324",
         "-46.615938074814416",
         "1.814676074576193",
         "1404213"
        ],
        [
         "41",
         "70.20436470311354",
         "3",
         "2",
         "17",
         "-23.53107434326964",
         "-46.614670854967954",
         "2.871766036351058",
         "1204809"
        ],
        [
         "42",
         "64.41235839759554",
         "4",
         "1",
         "45",
         "-23.53240958059654",
         "-46.63825664040762",
         "2.066480756160531",
         "1252748"
        ],
        [
         "43",
         "60.92654092312896",
         "3",
         "1",
         "42",
         "-23.560214842278004",
         "-46.64642512097176",
         "1.7185404412830374",
         "1257440"
        ],
        [
         "44",
         "42.795947044836346",
         "2",
         "2",
         "1",
         "-23.549203446388745",
         "-46.67006933896867",
         "3.756989259845296",
         "1143581"
        ],
        [
         "45",
         "53.734042407225054",
         "2",
         "2",
         "32",
         "-23.535459242631923",
         "-46.62450471370207",
         "1.8924531729155984",
         "1168961"
        ],
        [
         "46",
         "58.07924486010508",
         "1",
         "2",
         "10",
         "-23.53844768763119",
         "-46.613827379352976",
         "2.3947875830030694",
         "1202506"
        ],
        [
         "47",
         "91.57301826525618",
         "2",
         "2",
         "33",
         "-23.55602890829436",
         "-46.617737771046784",
         "1.7028116625720522",
         "1181574"
        ],
        [
         "48",
         "73.92754462597715",
         "2",
         "1",
         "15",
         "-23.566937933455417",
         "-46.62737515818936",
         "1.9183958857445729",
         "1255480"
        ],
        [
         "49",
         "39.29463334293581",
         "2",
         "2",
         "34",
         "-23.573145002660056",
         "-46.67968017961864",
         "5.358282206218434",
         "951259"
        ]
       ],
       "shape": {
        "columns": 8,
        "rows": 5000
       }
      },
      "text/html": [
       "<div>\n",
       "<style scoped>\n",
       "    .dataframe tbody tr th:only-of-type {\n",
       "        vertical-align: middle;\n",
       "    }\n",
       "\n",
       "    .dataframe tbody tr th {\n",
       "        vertical-align: top;\n",
       "    }\n",
       "\n",
       "    .dataframe thead th {\n",
       "        text-align: right;\n",
       "    }\n",
       "</style>\n",
       "<table border=\"1\" class=\"dataframe\">\n",
       "  <thead>\n",
       "    <tr style=\"text-align: right;\">\n",
       "      <th></th>\n",
       "      <th>area_construida</th>\n",
       "      <th>num_quartos</th>\n",
       "      <th>num_banheiros</th>\n",
       "      <th>idade_imovel</th>\n",
       "      <th>latitude</th>\n",
       "      <th>longitude</th>\n",
       "      <th>distancia_centro</th>\n",
       "      <th>preco</th>\n",
       "    </tr>\n",
       "  </thead>\n",
       "  <tbody>\n",
       "    <tr>\n",
       "      <th>0</th>\n",
       "      <td>77.402126</td>\n",
       "      <td>1</td>\n",
       "      <td>1</td>\n",
       "      <td>47</td>\n",
       "      <td>-23.549278</td>\n",
       "      <td>-46.656657</td>\n",
       "      <td>2.388699</td>\n",
       "      <td>1132546</td>\n",
       "    </tr>\n",
       "    <tr>\n",
       "      <th>1</th>\n",
       "      <td>63.976812</td>\n",
       "      <td>1</td>\n",
       "      <td>1</td>\n",
       "      <td>1</td>\n",
       "      <td>-23.570599</td>\n",
       "      <td>-46.627266</td>\n",
       "      <td>2.309640</td>\n",
       "      <td>1131616</td>\n",
       "    </tr>\n",
       "    <tr>\n",
       "      <th>2</th>\n",
       "      <td>80.988451</td>\n",
       "      <td>2</td>\n",
       "      <td>2</td>\n",
       "      <td>15</td>\n",
       "      <td>-23.532817</td>\n",
       "      <td>-46.661013</td>\n",
       "      <td>3.441348</td>\n",
       "      <td>1047834</td>\n",
       "    </tr>\n",
       "    <tr>\n",
       "      <th>3</th>\n",
       "      <td>105.310061</td>\n",
       "      <td>2</td>\n",
       "      <td>2</td>\n",
       "      <td>15</td>\n",
       "      <td>-23.559521</td>\n",
       "      <td>-46.635911</td>\n",
       "      <td>1.034092</td>\n",
       "      <td>1431188</td>\n",
       "    </tr>\n",
       "    <tr>\n",
       "      <th>4</th>\n",
       "      <td>62.162628</td>\n",
       "      <td>2</td>\n",
       "      <td>1</td>\n",
       "      <td>21</td>\n",
       "      <td>-23.578726</td>\n",
       "      <td>-46.678279</td>\n",
       "      <td>5.555068</td>\n",
       "      <td>960997</td>\n",
       "    </tr>\n",
       "    <tr>\n",
       "      <th>...</th>\n",
       "      <td>...</td>\n",
       "      <td>...</td>\n",
       "      <td>...</td>\n",
       "      <td>...</td>\n",
       "      <td>...</td>\n",
       "      <td>...</td>\n",
       "      <td>...</td>\n",
       "      <td>...</td>\n",
       "    </tr>\n",
       "    <tr>\n",
       "      <th>4995</th>\n",
       "      <td>65.713901</td>\n",
       "      <td>1</td>\n",
       "      <td>2</td>\n",
       "      <td>6</td>\n",
       "      <td>-23.531026</td>\n",
       "      <td>-46.642340</td>\n",
       "      <td>2.346011</td>\n",
       "      <td>1102602</td>\n",
       "    </tr>\n",
       "    <tr>\n",
       "      <th>4996</th>\n",
       "      <td>82.551569</td>\n",
       "      <td>3</td>\n",
       "      <td>2</td>\n",
       "      <td>24</td>\n",
       "      <td>-23.562271</td>\n",
       "      <td>-46.619909</td>\n",
       "      <td>1.889119</td>\n",
       "      <td>1395420</td>\n",
       "    </tr>\n",
       "    <tr>\n",
       "      <th>4997</th>\n",
       "      <td>169.673001</td>\n",
       "      <td>3</td>\n",
       "      <td>3</td>\n",
       "      <td>15</td>\n",
       "      <td>-23.530573</td>\n",
       "      <td>-46.667647</td>\n",
       "      <td>4.143791</td>\n",
       "      <td>1510439</td>\n",
       "    </tr>\n",
       "    <tr>\n",
       "      <th>4998</th>\n",
       "      <td>84.979568</td>\n",
       "      <td>1</td>\n",
       "      <td>2</td>\n",
       "      <td>21</td>\n",
       "      <td>-23.532158</td>\n",
       "      <td>-46.661383</td>\n",
       "      <td>3.514146</td>\n",
       "      <td>1098012</td>\n",
       "    </tr>\n",
       "    <tr>\n",
       "      <th>4999</th>\n",
       "      <td>51.706336</td>\n",
       "      <td>2</td>\n",
       "      <td>3</td>\n",
       "      <td>35</td>\n",
       "      <td>-23.548008</td>\n",
       "      <td>-46.614125</td>\n",
       "      <td>1.977210</td>\n",
       "      <td>1243361</td>\n",
       "    </tr>\n",
       "  </tbody>\n",
       "</table>\n",
       "<p>5000 rows × 8 columns</p>\n",
       "</div>"
      ],
      "text/plain": [
       "      area_construida  num_quartos  num_banheiros  idade_imovel   latitude  \\\n",
       "0           77.402126            1              1            47 -23.549278   \n",
       "1           63.976812            1              1             1 -23.570599   \n",
       "2           80.988451            2              2            15 -23.532817   \n",
       "3          105.310061            2              2            15 -23.559521   \n",
       "4           62.162628            2              1            21 -23.578726   \n",
       "...               ...          ...            ...           ...        ...   \n",
       "4995        65.713901            1              2             6 -23.531026   \n",
       "4996        82.551569            3              2            24 -23.562271   \n",
       "4997       169.673001            3              3            15 -23.530573   \n",
       "4998        84.979568            1              2            21 -23.532158   \n",
       "4999        51.706336            2              3            35 -23.548008   \n",
       "\n",
       "      longitude  distancia_centro    preco  \n",
       "0    -46.656657          2.388699  1132546  \n",
       "1    -46.627266          2.309640  1131616  \n",
       "2    -46.661013          3.441348  1047834  \n",
       "3    -46.635911          1.034092  1431188  \n",
       "4    -46.678279          5.555068   960997  \n",
       "...         ...               ...      ...  \n",
       "4995 -46.642340          2.346011  1102602  \n",
       "4996 -46.619909          1.889119  1395420  \n",
       "4997 -46.667647          4.143791  1510439  \n",
       "4998 -46.661383          3.514146  1098012  \n",
       "4999 -46.614125          1.977210  1243361  \n",
       "\n",
       "[5000 rows x 8 columns]"
      ]
     },
     "execution_count": 92,
     "metadata": {},
     "output_type": "execute_result"
    }
   ],
   "source": [
    "db = pd.read_csv(\"imoveis.csv\")\n",
    "db"
   ]
  },
  {
   "cell_type": "code",
   "execution_count": 93,
   "id": "151b38ae",
   "metadata": {},
   "outputs": [
    {
     "name": "stdout",
     "output_type": "stream",
     "text": [
      "<class 'pandas.core.frame.DataFrame'>\n",
      "RangeIndex: 5000 entries, 0 to 4999\n",
      "Data columns (total 8 columns):\n",
      " #   Column            Non-Null Count  Dtype  \n",
      "---  ------            --------------  -----  \n",
      " 0   area_construida   5000 non-null   float64\n",
      " 1   num_quartos       5000 non-null   int64  \n",
      " 2   num_banheiros     5000 non-null   int64  \n",
      " 3   idade_imovel      5000 non-null   int64  \n",
      " 4   latitude          5000 non-null   float64\n",
      " 5   longitude         5000 non-null   float64\n",
      " 6   distancia_centro  5000 non-null   float64\n",
      " 7   preco             5000 non-null   int64  \n",
      "dtypes: float64(4), int64(4)\n",
      "memory usage: 312.6 KB\n"
     ]
    }
   ],
   "source": [
    "db.info()"
   ]
  },
  {
   "cell_type": "code",
   "execution_count": 94,
   "id": "7d01ed9a",
   "metadata": {},
   "outputs": [
    {
     "data": {
      "text/plain": [
       "<Axes: >"
      ]
     },
     "execution_count": 94,
     "metadata": {},
     "output_type": "execute_result"
    },
    {
     "data": {
      "image/png": "[encoded data removed]",
      "text/plain": [
       "<Figure size 640x480 with 2 Axes>"
      ]
     },
     "metadata": {},
     "output_type": "display_data"
    }
   ],
   "source": [
    "plt.Figure(figsize=(10, 7))\n",
    "sn.heatmap(db.corr(), annot=True, fmt='.2f')"
   ]
  },
  {
   "cell_type": "code",
   "execution_count": 146,
   "id": "1222ad52",
   "metadata": {},
   "outputs": [
    {
     "data": {
      "text/plain": [
       "(array([[ 77.40212584,   1.        ,   1.        , ..., -23.54927755,\n",
       "         -46.65665749,   2.38869903],\n",
       "        [ 63.97681228,   1.        ,   1.        , ..., -23.57059874,\n",
       "         -46.62726618,   2.30964017],\n",
       "        [ 80.98845077,   2.        ,   2.        , ..., -23.5328175 ,\n",
       "         -46.66101339,   3.44134815],\n",
       "        ...,\n",
       "        [169.67300085,   3.        ,   3.        , ..., -23.5305727 ,\n",
       "         -46.66764706,   4.14379097],\n",
       "        [ 84.97956848,   1.        ,   2.        , ..., -23.53215832,\n",
       "         -46.66138303,   3.51414622],\n",
       "        [ 51.70633566,   2.        ,   3.        , ..., -23.5480084 ,\n",
       "         -46.61412467,   1.9772102 ]], shape=(5000, 7)),\n",
       " array([1132546, 1131616, 1047834, ..., 1510439, 1098012, 1243361],\n",
       "       shape=(5000,)))"
      ]
     },
     "execution_count": 146,
     "metadata": {},
     "output_type": "execute_result"
    }
   ],
   "source": [
    "x_values = db.iloc[:, 0:7].values\n",
    "y_values = db.iloc[:, 7].values\n",
    "\n",
    "x_values, y_values"
   ]
  },
  {
   "cell_type": "markdown",
   "id": "f4685555",
   "metadata": {},
   "source": [
    "### 2. Algoritmos de Regressão:\n",
    "- Para este problema de Regressão, iremos utilizar os seguintes modelos:\n",
    "1. Linear Regression;\n",
    "2. Random Forest Regressor;"
   ]
  },
  {
   "cell_type": "markdown",
   "id": "cd26de4c",
   "metadata": {},
   "source": [
    "### 3. Validação e Métricas:\n",
    "- Divida os dados em conjuntos de treino (80%) e teste (20%).\n",
    "\n"
   ]
  },
  {
   "cell_type": "code",
   "execution_count": 149,
   "id": "c3e117de",
   "metadata": {},
   "outputs": [
    {
     "data": {
      "text/plain": [
       "((4000, 7), (1000, 7), (4000,), (1000,))"
      ]
     },
     "execution_count": 149,
     "metadata": {},
     "output_type": "execute_result"
    }
   ],
   "source": [
    "from sklearn.model_selection import train_test_split\n",
    "\n",
    "x_train, x_test, y_train, y_test = train_test_split(x_values, y_values, test_size=0.2)\n",
    "\n",
    "x_train.shape, x_test.shape, y_train.shape, y_test.shape"
   ]
  },
  {
   "cell_type": "code",
   "execution_count": 119,
   "id": "e89ccdfc",
   "metadata": {},
   "outputs": [],
   "source": [
    "from sklearn.linear_model import LinearRegression\n",
    "from sklearn.ensemble import RandomForestRegressor\n",
    "from sklearn.metrics import r2_score, mean_squared_error, mean_absolute_error"
   ]
  },
  {
   "cell_type": "code",
   "execution_count": 151,
   "id": "39afb0a7",
   "metadata": {},
   "outputs": [
    {
     "data": {
      "text/plain": [
       "0.8759422787067392"
      ]
     },
     "execution_count": 151,
     "metadata": {},
     "output_type": "execute_result"
    }
   ],
   "source": [
    "model_linear = LinearRegression()\n",
    "model_linear.fit(x_train, y_train)\n",
    "model_linear.score(x_train, y_train)"
   ]
  },
  {
   "cell_type": "code",
   "execution_count": 152,
   "id": "46536e85",
   "metadata": {},
   "outputs": [
    {
     "data": {
      "text/plain": [
       "array([1181212.03749556, 1172379.9299848 , 1126589.1073658 ,\n",
       "       1283926.87694124, 1361908.66732198,  988977.86383152,\n",
       "       1512113.76496598, 1452864.49246119, 1225089.74958449,\n",
       "       1111369.20504095, 1186380.16712669, 1342338.36201182,\n",
       "       1223364.16800459,  964026.08038757, 1262010.02777228,\n",
       "       1131492.02669252, 1201161.25045399, 1146265.98163793,\n",
       "       1029682.42465604, 1384390.71655321, 1139012.30500957,\n",
       "       1329595.19388888, 1158164.81892714, 1338450.92185493,\n",
       "       1225395.17767552, 1368273.35329093, 1171550.9769984 ,\n",
       "       1206652.04843999, 1457904.57683068, 1226192.2970465 ,\n",
       "       1253216.18797515, 1230762.68838437, 1172341.38796118,\n",
       "       1214177.90605862, 1458809.49322728,  946110.83900068,\n",
       "        862105.24223368, 1254174.98458733, 1201818.47020832,\n",
       "       1060302.08072798, 1456252.81009644, 1220852.7401731 ,\n",
       "       1202140.03154947, 1264899.96828981, 1110271.73580534,\n",
       "       1262945.61576701, 1026764.5739103 ,  979236.56977398,\n",
       "       1253461.6944196 , 1479452.55969144, 1182110.02379297,\n",
       "       1062278.08271083, 1114242.1262962 , 1175210.48687022,\n",
       "       1333325.47534909, 1303733.23851607, 1098355.65328981,\n",
       "       1391489.0933124 , 1464083.41713071, 1157163.40043871,\n",
       "       1190176.77724882, 1211974.76841244, 1324148.41895741,\n",
       "       1238751.45952681, 1186640.83334331, 1085458.96259735,\n",
       "       1002730.84747199, 1051036.17472929, 1279286.59757672,\n",
       "       1223480.83848011, 1299222.47720968, 1378147.84383142,\n",
       "       1172545.79349808, 1012118.02388582, 1028513.1797785 ,\n",
       "       1111852.30043458, 1363215.66750287, 1094558.06435495,\n",
       "       1319927.93500802, 1137110.06832649, 1266305.77699659,\n",
       "       1054849.78284466, 1272140.18656368, 1153640.50314745,\n",
       "       1282264.48764118, 1336140.76308942, 1008338.65703635,\n",
       "       1239938.21872787, 1089037.58609062, 1391747.44952208,\n",
       "        964276.65691643, 1247942.72494858, 1260717.45501324,\n",
       "       1413322.76345323, 1091603.609092  , 1091901.73099847,\n",
       "       1197147.86841523, 1430468.91656972, 1187915.61670507,\n",
       "       1290806.89045113, 1388259.66039119, 1150301.12501859,\n",
       "       1224139.65343628, 1388060.32756323, 1402096.89373459,\n",
       "       1300717.57197104, 1289803.4243143 , 1320807.69865793,\n",
       "       1363508.90430349, 1334582.55818183, 1057293.5095011 ,\n",
       "       1235947.28978733, 1119708.95860257, 1208210.18564864,\n",
       "       1324617.55522983, 1246561.29994384, 1368501.37968078,\n",
       "       1154545.17930734, 1118754.88142521, 1019441.14130153,\n",
       "       1159487.45302885, 1188101.1573443 , 1239219.46227114,\n",
       "        960881.34180222, 1338066.43744442, 1290649.38370964,\n",
       "       1120136.69345178, 1093558.36796734, 1491520.25689622,\n",
       "       1269762.49930331, 1336569.86570979, 1236373.04715633,\n",
       "       1075614.45339894, 1306001.13466045, 1173854.66499205,\n",
       "       1099193.82155142, 1013313.24811212, 1097308.00299615,\n",
       "       1132714.98306291,  957071.212958  , 1054487.34345851,\n",
       "       1146840.66335779, 1155313.82236064, 1178287.69501263,\n",
       "       1396481.52101333, 1143519.61787537, 1227102.3850246 ,\n",
       "        881624.38031664, 1123539.83018052, 1180926.46328129,\n",
       "       1374495.40859073, 1273021.16895328,  976159.99871865,\n",
       "       1516987.02118992, 1121556.08421095, 1098133.05832722,\n",
       "       1155027.2607976 , 1380864.95713934,  964170.56791828,\n",
       "       1086362.57685697, 1200079.52236873, 1154058.97085297,\n",
       "       1219582.76372069, 1184235.03207694, 1462889.53568397,\n",
       "       1226907.95307573, 1223222.37414037, 1118268.19014576,\n",
       "       1440890.7174756 , 1173968.80585644, 1129409.32533663,\n",
       "       1329229.29951428, 1170094.60362572, 1466416.55948446,\n",
       "       1271334.26524892, 1374159.08935816, 1328586.09444502,\n",
       "       1237509.94267373, 1096326.31880913, 1317171.07462354,\n",
       "       1262824.28287706, 1046723.55478801, 1289846.65761071,\n",
       "       1273085.32639367, 1176182.29332838, 1252396.18676924,\n",
       "       1103628.3504913 , 1007956.36613374, 1035450.66413535,\n",
       "       1125291.4821124 , 1031821.91698473, 1029594.22787607,\n",
       "       1148980.45258578, 1195767.5807373 ,  980968.21714634,\n",
       "       1011605.99017914, 1129848.6056113 , 1256614.84149525,\n",
       "       1250494.88376212, 1006827.45286916, 1262936.57388929,\n",
       "        863457.18582207, 1301094.72382115, 1200464.44891145,\n",
       "       1336176.35536381, 1213871.02028439, 1260061.85113182,\n",
       "       1100704.46966995, 1089961.69467392, 1188308.57801563,\n",
       "       1254199.5854953 , 1124690.0020267 , 1214372.05743914,\n",
       "       1127130.32621108, 1369060.90206275, 1177520.62199935,\n",
       "       1032405.08690281, 1238125.01736077, 1048112.6563046 ,\n",
       "       1262601.94493977, 1195242.62820279, 1113401.93808041,\n",
       "       1260384.85292099, 1412031.82477762, 1456854.3674154 ,\n",
       "       1282181.14542562, 1157958.01851896, 1146784.76576548,\n",
       "       1014196.18352662, 1139837.35765642, 1223536.37580307,\n",
       "       1214960.60484703,  971977.81758451,  975157.3382577 ,\n",
       "       1280542.20113452, 1034996.32465013, 1297182.63863702,\n",
       "       1285391.75604176, 1076919.31866052, 1257320.28523136,\n",
       "       1163217.16325042, 1051204.78630263, 1401264.37147575,\n",
       "       1244165.34526274, 1158147.36994029, 1184061.83824218,\n",
       "        972689.38246195, 1105437.27397377, 1092731.83261244,\n",
       "       1284677.8353178 , 1413522.2035431 , 1181077.18662772,\n",
       "       1308164.04205398,  965774.86351745, 1113698.0770524 ,\n",
       "       1339033.40246763, 1389010.84258749, 1419762.60505731,\n",
       "       1195010.91170315, 1300218.01763539, 1361488.60527096,\n",
       "       1460620.61055046, 1449663.93013343, 1258761.84138462,\n",
       "       1460940.44333838, 1228630.24648648,  911570.66982922,\n",
       "       1173475.29515338, 1123990.35779081, 1370344.57541602,\n",
       "       1179748.20855543, 1402598.59440512, 1353772.9772263 ,\n",
       "       1427013.75334833, 1095212.86988879, 1443706.80947449,\n",
       "       1112031.04452036,  948620.44142101, 1173713.23626922,\n",
       "       1127800.60350748, 1091230.60534204, 1235876.38521983,\n",
       "       1210988.37266445, 1253686.54094615, 1215080.29529681,\n",
       "       1180508.7079196 , 1091150.81097823, 1477722.25700317,\n",
       "       1169251.01947001, 1412195.86574464, 1020995.81979622,\n",
       "       1453165.50582737, 1124107.17265779, 1315238.33478369,\n",
       "       1048573.36020295, 1336785.11244804, 1079489.25918971,\n",
       "        972303.50505322, 1101453.63294746, 1222124.15282995,\n",
       "       1072751.97377466, 1277793.67715865, 1288981.79298761,\n",
       "       1253128.48244975, 1283165.35530436, 1330660.63829776,\n",
       "       1109971.74996238, 1241771.97339461, 1261800.30168395,\n",
       "       1355313.64332379, 1198457.08504252, 1160291.20197054,\n",
       "       1109270.96702845,  994302.7281614 , 1593036.95670141,\n",
       "       1109317.45729151, 1206749.85758712,  935698.32619993,\n",
       "       1155358.09193392, 1209623.18595524, 1352007.87561892,\n",
       "       1335808.26945554, 1185188.29227105, 1258108.28559963,\n",
       "       1198676.01184842, 1395727.08812699, 1346497.26788978,\n",
       "       1371756.69406011, 1308223.95253178, 1420012.43318646,\n",
       "       1194222.76903079, 1139716.58961019,  988523.74253155,\n",
       "       1228315.42543421, 1321782.98429195, 1285581.30819358,\n",
       "       1188335.45216934, 1372202.49895355, 1224053.61023533,\n",
       "       1053520.7013309 , 1103075.42769549, 1407810.11497106,\n",
       "       1335358.07587914,  985750.91889558, 1460536.32334231,\n",
       "       1583429.46584195, 1075003.37308841, 1083548.91013195,\n",
       "       1135535.11409736, 1118455.30761344, 1231607.20536224,\n",
       "       1291764.17159786, 1266729.30876264, 1466804.13792167,\n",
       "       1328655.51293535, 1400153.03752802,  920706.96484587,\n",
       "       1190909.96817857,  987250.8670888 , 1246902.53837075,\n",
       "       1601926.97290227, 1123631.314117  , 1549633.05113545,\n",
       "       1122176.0329861 , 1263479.34018674, 1217481.6461811 ,\n",
       "       1351397.10988655, 1253522.91118267, 1198209.12895687,\n",
       "       1056743.35600293, 1333859.73005595, 1034188.50907667,\n",
       "       1042986.49040494, 1232430.42418126, 1117388.24338015,\n",
       "       1223087.67321023, 1276448.00196941, 1273085.66237982,\n",
       "       1075505.94117804, 1353443.94086916, 1284506.6655879 ,\n",
       "       1252056.7250069 , 1143681.36865349, 1100705.29742555,\n",
       "        969849.41947916, 1326209.09246008, 1276389.38276488,\n",
       "       1177266.9600745 , 1404372.08879852, 1047887.17231917,\n",
       "       1204887.76046059, 1087623.33861487, 1123023.42372289,\n",
       "       1288197.55994087, 1438884.02870808, 1121929.89463257,\n",
       "       1216763.80611009, 1084643.8811199 , 1058772.26101084,\n",
       "       1267112.47117158, 1436041.58926832, 1341973.3508685 ,\n",
       "       1225789.793027  , 1005682.75423066, 1374892.42095708,\n",
       "        937404.23284879, 1120499.98087367, 1113527.3640504 ,\n",
       "       1356059.24228674, 1144284.70771849, 1089850.61051296,\n",
       "       1323134.77708597, 1266184.85682506, 1346452.79060787,\n",
       "       1289741.71451243, 1400352.177477  , 1081494.07853558,\n",
       "       1166193.69200595, 1260435.5026861 , 1374600.07870192,\n",
       "       1015686.55575844, 1143211.9741747 , 1263708.26531436,\n",
       "       1286690.09925092, 1338850.24015259,  955640.99470393,\n",
       "        992320.78794875, 1206327.2315796 , 1220596.1724383 ,\n",
       "       1105650.78679205, 1194818.06252716,  945823.77972479,\n",
       "       1208834.44020543, 1244630.96229293, 1513764.12563817,\n",
       "       1120566.38370725, 1158966.36175369, 1543719.39270578,\n",
       "       1148942.28782589, 1102332.57978264, 1346407.15326456,\n",
       "       1206681.21946914, 1167621.61234523, 1402836.42977874,\n",
       "       1211868.59935178, 1175495.55351733, 1119049.09037127,\n",
       "       1297537.03743818, 1150579.76709324, 1149649.28606224,\n",
       "       1205742.07868621, 1062981.17392268, 1377633.05363653,\n",
       "       1345668.04956272, 1258348.6522222 , 1237948.72100368,\n",
       "       1095696.66734516, 1398645.497228  , 1287574.39551633,\n",
       "       1193035.21013736, 1348519.65803438, 1224001.31357178,\n",
       "       1164038.4433984 , 1211956.64366777, 1005960.8397468 ,\n",
       "       1291825.18302191, 1186879.26033844,  897869.14928937,\n",
       "       1310218.65467956, 1124149.97211883, 1175152.52162191,\n",
       "       1448149.40066367, 1346478.78412637, 1077859.63344816,\n",
       "       1367837.72437515, 1342479.8608057 , 1131264.88503274,\n",
       "       1381889.17593685, 1132071.7501893 , 1014061.75367969,\n",
       "        968205.60996734, 1043101.25627863, 1102714.25983265,\n",
       "       1301926.88400307, 1121444.73843116, 1238054.33468971,\n",
       "       1074075.4720275 , 1573635.49056306, 1070762.61172406,\n",
       "        910972.87714161, 1055996.01315743,  859343.49993956,\n",
       "       1054418.1705236 ,  854941.94092453, 1062432.27805642,\n",
       "       1125482.92917776, 1009072.06934861, 1259972.65799845,\n",
       "       1380710.5882823 , 1211325.53775739, 1308828.85035232,\n",
       "       1079710.31179649, 1525062.58243426, 1170650.68716128,\n",
       "       1473581.28704547, 1307317.97800123, 1306489.56566064,\n",
       "       1051249.64770838, 1164962.2896183 , 1221829.28108543,\n",
       "       1088051.03078258, 1224562.87507293, 1159637.8686688 ,\n",
       "       1173576.98327519, 1256747.65205104, 1084948.54684458,\n",
       "       1289109.85950967, 1199620.85492399, 1108219.16385689,\n",
       "       1193059.43077717, 1167592.16132261, 1366026.69290498,\n",
       "       1235347.35495495, 1290257.90858745, 1491499.47638938,\n",
       "       1319665.71270829, 1238122.61618862, 1251752.87346068,\n",
       "       1185043.88910531, 1389114.30810229, 1247135.77698078,\n",
       "       1338218.47252648, 1373146.28531643, 1502404.08651841,\n",
       "       1285815.65777103, 1101300.77872428, 1121457.11624693,\n",
       "       1273301.06645003, 1176044.53524049, 1361888.92292942,\n",
       "       1313587.3166889 , 1382473.97176514, 1215490.53149685,\n",
       "       1166257.58139434, 1295280.80881031, 1419103.52072365,\n",
       "       1150946.39597961, 1455584.66733267, 1280191.20175395,\n",
       "        961562.26895272, 1534747.69458015, 1103694.07321042,\n",
       "       1154611.87696257, 1071088.76694844, 1420919.00056301,\n",
       "       1096978.49406113, 1241360.07098098, 1103995.02715876,\n",
       "       1134757.20386222, 1379554.57415406, 1201460.33592944,\n",
       "        953919.2280486 ,  981626.50101742,  932266.41871128,\n",
       "       1086081.22502696, 1100902.1731625 , 1410965.49791566,\n",
       "        997379.37413535, 1333082.20651087, 1189204.66844111,\n",
       "       1080346.49907671, 1206074.57487734, 1289539.83451616,\n",
       "       1172479.27041703, 1269993.10591023, 1137452.32525024,\n",
       "       1145445.45976865, 1155724.95441787, 1230863.73144291,\n",
       "       1026243.72687576, 1333881.8949115 , 1089744.325127  ,\n",
       "       1232610.77226426, 1187827.02049615, 1081575.96496115,\n",
       "       1259413.68731816, 1245146.59752416, 1457804.59372567,\n",
       "       1371643.21451968, 1264124.07129129, 1152424.66916021,\n",
       "       1089473.38029248, 1335138.69706744, 1122728.51378825,\n",
       "       1236614.31082201, 1212463.30392118, 1322911.9226064 ,\n",
       "       1386157.44347293, 1199518.05904613, 1210998.22133031,\n",
       "       1050716.41581291, 1356859.66721733, 1305145.66485788,\n",
       "       1357362.53629891, 1208889.91654467, 1090948.61240827,\n",
       "       1542742.01286188, 1028689.38198641, 1369334.31800211,\n",
       "       1279572.63664377, 1029902.7372403 , 1408047.58040583,\n",
       "       1216526.84578646, 1208724.14887782, 1188543.13508519,\n",
       "       1400522.2488533 , 1356736.22828982, 1307032.28814807,\n",
       "       1213707.71772775, 1505473.37735716, 1305751.40922039,\n",
       "       1058892.63259488, 1499244.58492983, 1342419.46026592,\n",
       "       1229860.04429484, 1283841.47536559, 1130378.35561448,\n",
       "       1140384.26632307, 1175107.92238679, 1134910.79305387,\n",
       "       1377851.94787378,  941829.06403369, 1069376.06437024,\n",
       "       1383179.77576285, 1297391.74477551, 1115365.0502832 ,\n",
       "       1172421.84558436, 1161378.11253652, 1340041.99290631,\n",
       "       1250231.21497062, 1317244.77277237, 1358086.95604524,\n",
       "       1485401.10480257, 1162742.74178137, 1231589.29496812,\n",
       "       1258263.49775933, 1327839.39332456, 1139951.3001391 ,\n",
       "       1034010.31687712, 1145324.58162839, 1117899.76205873,\n",
       "       1181437.73534308, 1230644.06223755, 1286850.89032932,\n",
       "       1037617.19953962, 1396732.12737872, 1161765.16739352,\n",
       "       1215011.09559363, 1190298.02638268, 1398499.41391718,\n",
       "       1448676.21936965, 1147968.51077707, 1182401.63654741,\n",
       "       1121196.11390741, 1341849.84024639, 1285435.11570155,\n",
       "       1256730.15803871,  886274.96790417, 1221208.79181244,\n",
       "       1369273.97333703, 1509257.61889696, 1456391.23668862,\n",
       "       1182890.41491977, 1177901.14828112, 1191020.88361289,\n",
       "       1276979.52625033, 1048483.12202336, 1264616.63563309,\n",
       "       1025334.18916878, 1037216.12133163, 1489665.26132909,\n",
       "       1420201.05337751, 1380023.69539149, 1371329.86633501,\n",
       "       1102916.83311059,  995498.95948861, 1326778.36509768,\n",
       "       1103657.68029697, 1098262.28247283, 1255411.72313646,\n",
       "       1339196.6965934 , 1580759.0481032 , 1086577.70314102,\n",
       "       1283665.60418401, 1403121.81355043, 1203944.6139305 ,\n",
       "        966022.42487281, 1348680.07945108, 1156153.87433921,\n",
       "       1124414.34877525, 1242008.78927966, 1382058.02983921,\n",
       "       1411468.93505138,  943912.76975618,  966007.53656171,\n",
       "       1347258.7669646 , 1347147.70780163, 1172448.245875  ,\n",
       "       1354940.78087453, 1221103.15431499, 1150005.65403985,\n",
       "       1311176.14277603, 1178734.89999837, 1231407.22310161,\n",
       "       1037902.4991032 , 1376731.32053481, 1112680.01281432,\n",
       "        996001.16314287, 1177641.79467504, 1107280.3595477 ,\n",
       "       1208019.74291294, 1224190.74454728, 1221102.74930636,\n",
       "       1254803.29159482, 1247819.92338543, 1168940.67199397,\n",
       "       1365463.55010823, 1305695.46970484, 1118659.9222182 ,\n",
       "       1272856.73213409, 1265188.31784392, 1296972.02325127,\n",
       "       1172870.5952829 , 1078551.13733018, 1125497.59903465,\n",
       "       1200896.03267913, 1253853.74721389, 1352025.87370751,\n",
       "       1274173.88708304, 1302478.57050488, 1371845.8254458 ,\n",
       "       1212065.22748043, 1229929.99236656, 1350941.4029343 ,\n",
       "       1224040.15773955, 1227256.96755808, 1118207.43032154,\n",
       "       1053161.78834888, 1230206.9416965 , 1296980.56870639,\n",
       "       1145562.24911092, 1082217.99560838, 1067815.3424419 ,\n",
       "       1097416.60621957,  930666.05949107, 1169663.14673631,\n",
       "       1523178.90431256, 1407250.48929504, 1055664.95341319,\n",
       "       1199339.49817928, 1465434.11608227, 1143832.77672959,\n",
       "       1224344.65035955, 1269938.4686927 , 1244087.01433563,\n",
       "       1127392.87330335, 1077246.16553707, 1185935.3361367 ,\n",
       "       1361563.51332868, 1130763.91220203, 1017232.54927126,\n",
       "       1362338.61508816, 1626664.47704499, 1190820.97685411,\n",
       "       1235776.63993981, 1462133.49492642, 1181342.56418452,\n",
       "       1249347.30127052, 1296022.52670324, 1037450.19475982,\n",
       "        877905.88037523, 1170257.31895471, 1304818.46215313,\n",
       "       1023506.25477451, 1090408.41195746, 1130113.78914674,\n",
       "       1127230.60457895, 1099112.13375556, 1115991.44869904,\n",
       "       1278625.27570443, 1031554.86285606, 1473727.24684455,\n",
       "       1265995.51606614, 1313409.14989547, 1267975.37144905,\n",
       "       1200067.05792463, 1277066.9257134 , 1024249.80527554,\n",
       "       1055405.85806897, 1142232.95635037, 1214221.80990519,\n",
       "       1131248.63893971, 1564753.72593747, 1183280.9061782 ,\n",
       "       1508421.69874301, 1118253.88497195, 1377675.87498458,\n",
       "       1170723.70423765, 1011374.30403074,  961684.66593777,\n",
       "       1393300.425838  , 1325949.24743039, 1193204.39380716,\n",
       "       1602124.52617   , 1160282.69525128, 1392440.08190244,\n",
       "       1271756.56084588, 1247919.49208819, 1508481.79159374,\n",
       "       1275034.3902664 , 1315443.06750717, 1148780.17382164,\n",
       "       1216582.99226966, 1209617.8986418 , 1230397.96758698,\n",
       "       1248138.35451948, 1058488.07352973, 1273657.6550901 ,\n",
       "       1411565.69177383,  949263.1653462 , 1156196.70900246,\n",
       "       1220363.26885375, 1145132.62164427, 1064384.1457063 ,\n",
       "       1019166.20108467, 1299528.41255154, 1283947.17888871,\n",
       "       1313307.37343197, 1138063.07248202, 1287790.60972033,\n",
       "       1078559.31585582, 1291230.13638307, 1379706.45724866,\n",
       "       1141569.2608015 , 1265849.1713579 , 1223725.66981077,\n",
       "       1255923.24425884, 1163892.71623754, 1161834.8430928 ,\n",
       "       1475109.52761467, 1297541.69074067, 1275162.53978148,\n",
       "       1353339.90413936, 1127840.51301053, 1039117.31300595,\n",
       "       1295465.0407598 , 1259429.70647133, 1145720.8471353 ,\n",
       "        910171.55857012, 1119226.97201354, 1371179.93319051,\n",
       "       1231452.6254035 , 1274557.93751931, 1289119.82964158,\n",
       "       1108794.17177185, 1318227.71169827, 1142900.22592172,\n",
       "        847571.5949349 , 1215025.3926413 , 1171763.24439805,\n",
       "       1079847.39199916, 1176176.25368513, 1461042.21696597,\n",
       "       1215003.27276707, 1366479.33321731, 1140137.43279549,\n",
       "       1161451.28848553, 1272533.82912059, 1483779.44040718,\n",
       "       1316476.85186778, 1298099.10805121, 1361427.18444586,\n",
       "       1412580.40899532, 1184690.13205742, 1214827.94495477,\n",
       "       1094250.34434232, 1383308.32167865, 1245426.12856452,\n",
       "       1453005.29148356, 1150907.42782993, 1043907.52341466,\n",
       "       1067509.10773553, 1040869.27997726, 1366247.31384494,\n",
       "       1353757.84780508, 1075394.83737925, 1144823.29936111,\n",
       "       1252793.94858031, 1455055.65358666, 1184845.92871488,\n",
       "       1208795.55920337, 1386500.61269639, 1174504.17037534,\n",
       "       1217042.30171258, 1223275.59766491, 1180061.35298352,\n",
       "       1274140.56105965, 1161291.28059539, 1066762.44396728,\n",
       "       1167399.61138862, 1195661.14645974, 1028299.59530415,\n",
       "       1131061.9856581 , 1335456.39579079, 1147360.84606536,\n",
       "       1311696.28536579, 1149047.47525379,  990972.64036483,\n",
       "       1017970.75149603, 1131670.00748009, 1147019.50008165,\n",
       "       1168236.06791682, 1141262.12057338, 1268397.15793793,\n",
       "       1129461.3366081 , 1509689.85074611, 1356838.03239574,\n",
       "       1414389.13796998, 1129933.57892449, 1168256.64023533,\n",
       "       1079977.09547975, 1035057.54556336, 1083397.45695411,\n",
       "       1122837.99971888, 1106848.35167711, 1122703.00181036,\n",
       "       1079727.53665916, 1060173.80752779, 1053692.73200493,\n",
       "       1021185.47740053, 1449533.60446745, 1213790.65670069,\n",
       "       1184173.00592322, 1022270.11356324, 1314054.30502175,\n",
       "       1333539.96702738, 1178799.80646162, 1118740.28549   ,\n",
       "       1325588.82033974, 1337271.39114498, 1611003.15188772,\n",
       "       1302788.24476901, 1334861.47069615, 1345722.59310925,\n",
       "       1181445.38589799, 1205936.2757788 , 1255951.58160031,\n",
       "       1516692.81335328, 1159560.3668254 , 1184760.89686031,\n",
       "       1192532.1466598 , 1369619.02568068, 1092995.22653045,\n",
       "       1172953.84782326, 1165196.5788465 ,  949191.13681941,\n",
       "       1023029.71094038, 1429219.14849845, 1377912.70331391,\n",
       "       1089994.4865064 , 1102708.7280119 , 1333469.83852833,\n",
       "       1270995.02230083, 1242766.18558346, 1393003.99400125,\n",
       "       1300688.80691996,  902932.87533251, 1390693.18032988,\n",
       "       1122108.87881859, 1111618.58761458,  994558.12983375,\n",
       "       1371847.78826607, 1493589.54288708, 1031539.66908038,\n",
       "       1327878.92644229, 1442387.32349469, 1336089.8439007 ,\n",
       "       1347543.09349968, 1145263.08687926, 1172064.27953233,\n",
       "       1011089.75479454, 1215482.48162142, 1105396.01619283,\n",
       "       1116092.8377056 , 1318155.44121532, 1172498.9106647 ,\n",
       "       1179687.55885887, 1115928.07474641, 1475679.41106328,\n",
       "       1461482.83287416])"
      ]
     },
     "execution_count": 152,
     "metadata": {},
     "output_type": "execute_result"
    }
   ],
   "source": [
    "predict_linear = model_linear.predict(x_test)\n",
    "predict_linear"
   ]
  },
  {
   "cell_type": "code",
   "execution_count": 153,
   "id": "8f776b68",
   "metadata": {},
   "outputs": [
    {
     "data": {
      "text/plain": [
       "0.9776186411338109"
      ]
     },
     "execution_count": 153,
     "metadata": {},
     "output_type": "execute_result"
    }
   ],
   "source": [
    "model_random = RandomForestRegressor()\n",
    "model_random.fit(x_train, y_train)\n",
    "model_random.score(x_train, y_train)"
   ]
  },
  {
   "cell_type": "code",
   "execution_count": 154,
   "id": "8f08ea50",
   "metadata": {},
   "outputs": [
    {
     "data": {
      "text/plain": [
       "array([1168320.35, 1180319.61, 1109519.5 , 1259768.59, 1359445.99,\n",
       "       1033902.79, 1455710.76, 1331905.41, 1245387.15, 1109098.35,\n",
       "       1218587.5 , 1370394.86, 1244902.17, 1010788.56, 1267073.52,\n",
       "       1128969.17, 1202459.14, 1173616.82, 1048398.06, 1394662.13,\n",
       "       1107378.06, 1294150.91, 1158602.83, 1353818.3 , 1231269.93,\n",
       "       1380743.89, 1187482.18, 1224658.44, 1477629.81, 1188187.63,\n",
       "       1275401.91, 1250157.99, 1151969.38, 1209941.55, 1443786.41,\n",
       "        967179.19,  913144.68, 1206440.32, 1237612.26, 1071353.92,\n",
       "       1413437.64, 1223194.94, 1220280.67, 1242273.24, 1096711.08,\n",
       "       1269770.99, 1055768.99, 1011990.01, 1237360.24, 1460921.38,\n",
       "       1183122.45, 1079412.9 , 1064117.27, 1168826.31, 1334568.65,\n",
       "       1323990.31, 1089751.51, 1411011.01, 1485622.61, 1134802.95,\n",
       "       1178058.46, 1230354.98, 1283450.96, 1290227.41, 1212738.49,\n",
       "       1061035.69, 1043060.49, 1086111.98, 1267636.59, 1176983.82,\n",
       "       1291169.56, 1331588.46, 1158191.83, 1072232.74, 1033239.87,\n",
       "       1100012.79, 1338163.97, 1115472.27, 1338545.3 , 1142813.74,\n",
       "       1330129.22, 1077723.54, 1285261.94, 1198935.3 , 1309288.23,\n",
       "       1323750.01, 1038771.61, 1209020.75, 1074938.28, 1404807.67,\n",
       "        956537.78, 1260487.63, 1231993.4 , 1378251.  , 1104526.21,\n",
       "       1108322.07, 1174292.17, 1433882.13, 1179739.26, 1281831.56,\n",
       "       1362051.04, 1177308.06, 1230352.45, 1369188.34, 1351537.9 ,\n",
       "       1297869.97, 1308276.76, 1342430.99, 1353095.14, 1321988.25,\n",
       "       1034249.88, 1236930.81, 1120948.86, 1170405.86, 1297235.01,\n",
       "       1194097.94, 1367318.9 , 1131790.25, 1174542.34, 1018853.02,\n",
       "       1152838.9 , 1172819.35, 1230913.67,  964629.62, 1360471.75,\n",
       "       1285612.18, 1107745.9 , 1145520.1 , 1429265.24, 1311970.86,\n",
       "       1333917.4 , 1254160.59, 1081491.54, 1282939.55, 1171340.39,\n",
       "       1129458.69, 1012477.68, 1084470.63, 1118107.44,  998515.62,\n",
       "       1016526.68, 1138297.27, 1162907.05, 1165593.81, 1407492.96,\n",
       "       1156348.18, 1238391.33,  892308.5 , 1207506.97, 1243814.72,\n",
       "       1393545.06, 1259535.22, 1004625.68, 1476041.99, 1142829.68,\n",
       "       1082813.11, 1163428.55, 1465402.55,  997404.81, 1070649.1 ,\n",
       "       1192947.94, 1178800.23, 1203302.37, 1191541.62, 1458977.75,\n",
       "       1166016.32, 1229235.57, 1182768.52, 1478251.19, 1177405.16,\n",
       "       1117160.2 , 1278381.86, 1144936.82, 1456051.9 , 1248053.93,\n",
       "       1354677.48, 1266851.77, 1247088.25, 1134650.94, 1304701.75,\n",
       "       1256344.22, 1072416.61, 1293793.31, 1294520.34, 1228360.52,\n",
       "       1231773.82, 1128697.49, 1035779.12, 1028191.08, 1087701.27,\n",
       "       1066169.13, 1036022.85, 1217665.88, 1158881.96, 1015817.22,\n",
       "       1013939.75, 1198291.9 , 1284227.7 , 1264370.36, 1028579.35,\n",
       "       1261037.45,  942183.13, 1285807.98, 1248254.16, 1317318.07,\n",
       "       1196849.19, 1237896.56, 1165263.43, 1047926.43, 1238892.47,\n",
       "       1267664.59, 1114863.87, 1212422.69, 1109810.2 , 1356950.41,\n",
       "       1179674.89, 1044846.38, 1249652.89, 1015844.19, 1266671.14,\n",
       "       1235251.43, 1104022.08, 1231656.64, 1415672.31, 1418379.19,\n",
       "       1334225.29, 1210447.71, 1188917.78, 1064933.54, 1150595.68,\n",
       "       1194340.32, 1267705.21, 1000871.53, 1012399.31, 1271331.07,\n",
       "       1072736.25, 1329838.95, 1323552.7 , 1123965.51, 1352113.72,\n",
       "       1164675.23, 1048329.28, 1359563.59, 1262511.71, 1146148.27,\n",
       "       1227955.72, 1000407.18, 1123414.91, 1067498.38, 1258536.21,\n",
       "       1395266.18, 1172710.58, 1305099.23,  974246.08, 1169936.46,\n",
       "       1348005.12, 1300486.4 , 1436704.45, 1210485.77, 1283025.2 ,\n",
       "       1357528.14, 1449693.33, 1477691.21, 1252693.78, 1454608.51,\n",
       "       1197059.13,  947254.58, 1136092.5 , 1127633.22, 1435602.47,\n",
       "       1215513.52, 1394281.02, 1308846.29, 1480206.41, 1082904.88,\n",
       "       1430199.83, 1120602.02,  949274.96, 1181008.17, 1093739.06,\n",
       "       1107654.64, 1225084.05, 1196129.93, 1214711.28, 1213083.81,\n",
       "       1175172.22, 1061279.5 , 1440732.76, 1169810.84, 1332304.24,\n",
       "       1031112.57, 1519364.19, 1119871.49, 1261884.6 , 1089957.55,\n",
       "       1284547.41, 1109037.69,  967810.58, 1094772.97, 1241401.88,\n",
       "       1092845.61, 1287659.42, 1292034.86, 1246555.02, 1233695.4 ,\n",
       "       1298165.39, 1103095.74, 1246090.52, 1277224.78, 1321612.03,\n",
       "       1192376.56, 1148685.19, 1116216.99,  997691.82, 1565330.26,\n",
       "       1136280.1 , 1213922.98,  966324.54, 1148949.47, 1231497.21,\n",
       "       1386020.53, 1318362.57, 1184259.46, 1198183.72, 1197018.7 ,\n",
       "       1385170.76, 1358787.46, 1415596.29, 1305580.14, 1367032.76,\n",
       "       1163861.78, 1169938.71, 1021679.07, 1242526.07, 1355015.63,\n",
       "       1284951.54, 1148478.82, 1315805.72, 1250555.09, 1056091.24,\n",
       "       1093173.93, 1393231.17, 1330782.71, 1012804.13, 1484553.01,\n",
       "       1555699.28, 1087790.52, 1075693.07, 1148894.32, 1134961.68,\n",
       "       1203802.14, 1278824.25, 1327363.9 , 1496160.86, 1314025.27,\n",
       "       1410936.89,  929916.75, 1203471.19, 1001117.44, 1242571.36,\n",
       "       1553592.63, 1145551.05, 1592953.84, 1119323.73, 1209763.58,\n",
       "       1201604.14, 1347491.02, 1241634.28, 1222695.16, 1077074.93,\n",
       "       1347237.78, 1043261.86, 1041514.54, 1226327.71, 1152955.96,\n",
       "       1265198.22, 1278923.22, 1269370.45, 1097978.1 , 1362001.49,\n",
       "       1298538.25, 1218016.97, 1121049.5 , 1138043.01,  963479.18,\n",
       "       1309286.72, 1272769.75, 1175721.1 , 1463179.44, 1012503.32,\n",
       "       1207694.7 , 1100935.27, 1147824.5 , 1271723.98, 1405498.4 ,\n",
       "       1101556.48, 1231866.75, 1090082.04, 1023730.48, 1220547.92,\n",
       "       1407195.26, 1310140.98, 1236045.98, 1065696.78, 1352413.22,\n",
       "        991746.8 , 1099507.53, 1117473.17, 1305513.1 , 1149418.92,\n",
       "       1066519.27, 1336130.77, 1232273.74, 1335318.38, 1303910.79,\n",
       "       1337242.03, 1115152.13, 1172049.44, 1263882.47, 1291289.53,\n",
       "       1041200.03, 1157311.77, 1243017.57, 1295617.33, 1338100.66,\n",
       "        969443.9 , 1018670.92, 1184797.32, 1206223.24, 1121477.51,\n",
       "       1201401.21,  959882.22, 1201117.28, 1232647.11, 1503303.42,\n",
       "       1105546.18, 1182311.5 , 1530505.38, 1128962.89, 1109267.18,\n",
       "       1350528.92, 1221346.43, 1205708.53, 1370466.77, 1233024.28,\n",
       "       1169307.5 , 1134985.92, 1319944.79, 1106362.39, 1155343.51,\n",
       "       1238979.52, 1079406.07, 1447089.57, 1325234.19, 1251156.95,\n",
       "       1226501.8 , 1157810.95, 1410007.37, 1273284.58, 1178385.65,\n",
       "       1363071.13, 1243086.02, 1150043.06, 1207042.93,  990885.6 ,\n",
       "       1297369.02, 1174333.82,  963106.23, 1308167.13, 1169905.17,\n",
       "       1182158.63, 1428481.39, 1311914.17, 1067623.31, 1420593.82,\n",
       "       1321656.26, 1193988.8 , 1376879.5 , 1158869.7 , 1031192.99,\n",
       "        991013.5 , 1041345.52, 1073278.86, 1264622.13, 1132683.28,\n",
       "       1245994.36, 1095688.  , 1520448.11, 1089269.65,  945773.96,\n",
       "       1097012.07,  937257.08, 1027556.58,  877695.44, 1043867.23,\n",
       "       1127309.15, 1028538.59, 1214461.33, 1399834.  , 1243972.64,\n",
       "       1276605.58, 1121870.28, 1535059.95, 1134541.99, 1528147.95,\n",
       "       1316599.2 , 1314420.72, 1039283.5 , 1167018.7 , 1213559.09,\n",
       "       1107266.64, 1261173.77, 1150945.42, 1181089.46, 1270201.84,\n",
       "       1111756.79, 1273654.87, 1143768.76, 1078862.49, 1193869.95,\n",
       "       1138154.13, 1355324.67, 1216391.19, 1274716.34, 1556692.34,\n",
       "       1280797.96, 1257141.99, 1246009.65, 1178562.95, 1369702.18,\n",
       "       1249053.9 , 1350616.59, 1391083.63, 1543400.32, 1261996.55,\n",
       "       1113698.74, 1178011.73, 1254556.23, 1179506.04, 1376249.35,\n",
       "       1287615.08, 1387117.94, 1228895.31, 1204883.67, 1327206.62,\n",
       "       1368539.  , 1168912.25, 1456450.88, 1314702.21,  981368.94,\n",
       "       1549725.07, 1093192.  , 1166947.47, 1088599.84, 1421974.64,\n",
       "       1140054.39, 1217830.27, 1095456.83, 1115672.71, 1338349.92,\n",
       "       1176569.57,  994830.93,  982184.58,  965331.01, 1094095.34,\n",
       "       1092413.15, 1404462.76, 1048266.96, 1292493.47, 1179704.6 ,\n",
       "       1087760.13, 1173154.32, 1285832.85, 1153273.38, 1308350.53,\n",
       "       1163104.14, 1215589.31, 1164809.67, 1225681.43, 1118071.05,\n",
       "       1292238.46, 1108741.59, 1283247.07, 1193324.81, 1072848.83,\n",
       "       1299762.35, 1201485.23, 1462034.61, 1347221.47, 1340707.26,\n",
       "       1147158.81, 1112187.26, 1330062.18, 1153865.47, 1213885.31,\n",
       "       1208027.8 , 1292227.83, 1470888.9 , 1186980.08, 1224051.27,\n",
       "       1078205.54, 1330027.55, 1293575.74, 1384786.95, 1180074.17,\n",
       "       1121003.13, 1492069.95, 1044493.72, 1388986.7 , 1310328.99,\n",
       "       1057547.42, 1387667.22, 1177311.29, 1179578.92, 1181964.3 ,\n",
       "       1329388.77, 1315171.28, 1324152.11, 1207967.42, 1450178.58,\n",
       "       1299252.89, 1040637.16, 1456749.6 , 1344773.86, 1194022.4 ,\n",
       "       1243169.31, 1151349.51, 1111228.23, 1196997.11, 1159604.81,\n",
       "       1344750.61,  990873.43, 1091210.2 , 1393978.16, 1312796.93,\n",
       "       1112202.44, 1226089.33, 1166672.53, 1292817.14, 1275714.18,\n",
       "       1303663.85, 1350274.12, 1460461.4 , 1164897.08, 1218882.57,\n",
       "       1269050.23, 1356725.29, 1144840.39, 1034765.2 , 1181177.25,\n",
       "       1126814.43, 1165207.83, 1208763.11, 1288334.26, 1093846.28,\n",
       "       1404234.04, 1168533.5 , 1197875.83, 1132766.08, 1415370.42,\n",
       "       1402691.87, 1163889.19, 1148672.84, 1134110.8 , 1302407.95,\n",
       "       1286157.47, 1229761.23,  947228.75, 1228745.26, 1394592.78,\n",
       "       1482898.58, 1467154.81, 1179904.55, 1193172.33, 1188778.18,\n",
       "       1238620.52, 1110289.07, 1253622.55, 1107387.74, 1078629.17,\n",
       "       1503212.2 , 1376351.42, 1356774.7 , 1387471.02, 1107894.73,\n",
       "       1013702.  , 1307430.54, 1139814.77, 1088102.05, 1264405.43,\n",
       "       1325659.65, 1558165.92, 1088566.56, 1311593.69, 1366573.92,\n",
       "       1221005.17,  979704.23, 1369757.43, 1136018.68, 1113523.94,\n",
       "       1240661.6 , 1362846.8 , 1417032.57,  999265.26,  962912.46,\n",
       "       1314169.3 , 1329378.58, 1173428.71, 1395280.07, 1210162.49,\n",
       "       1159575.96, 1220866.77, 1153102.96, 1247281.08, 1074920.74,\n",
       "       1326731.58, 1106141.14, 1051995.47, 1166880.97, 1097780.76,\n",
       "       1210453.34, 1201216.52, 1178034.63, 1215515.85, 1210501.07,\n",
       "       1193491.93, 1382427.62, 1278643.21, 1092391.48, 1261274.92,\n",
       "       1267926.92, 1304942.35, 1168119.48, 1061982.07, 1130455.86,\n",
       "       1145132.95, 1235862.  , 1374630.01, 1252466.16, 1273213.72,\n",
       "       1336756.83, 1230160.95, 1207249.45, 1338989.26, 1225980.32,\n",
       "       1223053.86, 1151553.34, 1062582.75, 1230655.35, 1292141.07,\n",
       "       1142123.97, 1130644.42, 1096276.34, 1081516.23,  964565.7 ,\n",
       "       1192630.66, 1472852.45, 1369737.22, 1040751.44, 1221463.8 ,\n",
       "       1485287.7 , 1145081.39, 1224715.71, 1222598.83, 1221954.25,\n",
       "       1125812.94, 1087720.48, 1190649.33, 1353782.11, 1149357.54,\n",
       "       1019853.68, 1236682.28, 1524595.25, 1207366.67, 1243030.55,\n",
       "       1459160.93, 1191976.48, 1298068.24, 1298179.84, 1100148.11,\n",
       "        912367.45, 1185471.46, 1308767.73, 1006064.44, 1076679.81,\n",
       "       1172297.33, 1152643.62, 1098839.97, 1084712.08, 1286361.65,\n",
       "       1042232.87, 1453132.75, 1263287.97, 1312746.73, 1246902.8 ,\n",
       "       1235496.  , 1235161.74, 1098766.81, 1090817.06, 1127386.56,\n",
       "       1239968.65, 1126944.7 , 1570721.09, 1170984.56, 1431902.73,\n",
       "       1092953.14, 1388424.89, 1172315.2 , 1075710.1 ,  996127.67,\n",
       "       1400782.14, 1297012.96, 1210466.97, 1570123.3 , 1163535.19,\n",
       "       1359386.41, 1262706.23, 1259419.73, 1511473.31, 1287021.52,\n",
       "       1346070.26, 1148487.57, 1199490.43, 1188201.26, 1207328.35,\n",
       "       1258200.82, 1070813.02, 1285107.42, 1401624.44,  948233.31,\n",
       "       1185507.37, 1216007.5 , 1129428.04, 1077869.61, 1026984.69,\n",
       "       1301766.51, 1269283.21, 1282130.25, 1157537.12, 1319800.13,\n",
       "       1000301.07, 1264278.12, 1390566.34, 1129251.8 , 1265747.55,\n",
       "       1236145.74, 1218339.  , 1127795.12, 1223293.44, 1429517.6 ,\n",
       "       1312037.64, 1247284.39, 1362351.52, 1143719.15, 1028415.12,\n",
       "       1302041.48, 1289086.49, 1143882.89,  951166.97, 1118330.82,\n",
       "       1405127.7 , 1235922.37, 1287952.86, 1310498.  , 1132205.22,\n",
       "       1301116.22, 1164518.81,  881937.35, 1221625.12, 1189102.21,\n",
       "       1081960.59, 1184983.82, 1473678.3 , 1260629.76, 1337766.9 ,\n",
       "       1124769.41, 1192462.38, 1285461.84, 1518153.9 , 1330935.03,\n",
       "       1287035.45, 1383714.42, 1363596.56, 1202761.36, 1184493.  ,\n",
       "       1107481.14, 1355482.52, 1182754.51, 1485409.18, 1150903.74,\n",
       "       1074949.55, 1078293.44, 1068664.05, 1369694.3 , 1302931.4 ,\n",
       "       1086236.62, 1128226.09, 1252775.09, 1468414.32, 1179412.51,\n",
       "       1207131.56, 1408044.38, 1167241.01, 1188716.99, 1199577.63,\n",
       "       1201562.47, 1271760.79, 1213939.32, 1081685.49, 1136087.78,\n",
       "       1198102.41, 1102603.13, 1157199.81, 1345838.71, 1136480.81,\n",
       "       1312756.89, 1147596.76, 1049727.61, 1059052.07, 1129156.99,\n",
       "       1145858.81, 1143550.08, 1141008.83, 1259420.91, 1149923.27,\n",
       "       1510565.56, 1376330.31, 1398550.73, 1123784.25, 1188762.84,\n",
       "       1075420.31, 1050318.36, 1069019.6 , 1192770.98, 1100151.73,\n",
       "       1090933.7 , 1113262.13, 1039017.4 , 1085939.93, 1024686.78,\n",
       "       1437655.15, 1216404.87, 1184343.87, 1114429.01, 1277041.2 ,\n",
       "       1310147.87, 1188274.95, 1157887.56, 1371607.91, 1317743.81,\n",
       "       1592132.05, 1249657.85, 1344503.71, 1316320.61, 1187015.89,\n",
       "       1220316.36, 1264528.66, 1485463.64, 1179031.56, 1171536.66,\n",
       "       1175658.32, 1365925.32, 1089941.37, 1179738.88, 1194337.59,\n",
       "        961999.06, 1050680.19, 1417051.33, 1415926.84, 1089293.8 ,\n",
       "       1145381.9 , 1313107.11, 1241515.2 , 1262729.01, 1376639.8 ,\n",
       "       1296686.6 ,  938579.79, 1377115.48, 1092461.97, 1078788.95,\n",
       "        997161.65, 1351747.46, 1534990.96, 1017166.12, 1315493.27,\n",
       "       1380348.82, 1287786.32, 1381720.67, 1127741.11, 1170219.32,\n",
       "       1015680.38, 1155966.89, 1078512.53, 1093972.17, 1332368.26,\n",
       "       1182237.42, 1162614.97, 1156543.58, 1440110.44, 1451546.85])"
      ]
     },
     "execution_count": 154,
     "metadata": {},
     "output_type": "execute_result"
    }
   ],
   "source": [
    "predict_random = model_random.predict(x_test)\n",
    "predict_random"
   ]
  },
  {
   "cell_type": "markdown",
   "id": "6d8255fc",
   "metadata": {},
   "source": [
    "- Avalie os dois modelos utilizando as seguintes métricas:\n",
    "- Erro Médio Absoluto (MAE)\n",
    "- Erro Quadrático Médio (MSE)\n",
    "- R² Score\n",
    "- Erro Relativo Absoluto (RAE)"
   ]
  },
  {
   "cell_type": "code",
   "execution_count": 156,
   "id": "c1cad183",
   "metadata": {},
   "outputs": [
    {
     "name": "stdout",
     "output_type": "stream",
     "text": [
      "Métricas do Modelo de Regressão Linear: \n",
      "- Mean Squared Erro (MSE): 2828279195.7831464\n",
      "- Mean Absolute Erro (MAE): 42289.4771160675\n",
      "- R² Score: 0.8561015266406732\n"
     ]
    }
   ],
   "source": [
    "print(\"Métricas do Modelo de Regressão Linear: \")\n",
    "print(f\"- Mean Squared Erro (MSE): {mean_squared_error(predict_linear, y_test)}\")\n",
    "print(f\"- Mean Absolute Erro (MAE): {mean_absolute_error(predict_linear, y_test)}\")\n",
    "print(f\"- R² Score: {r2_score(predict_linear , y_test)}\")\n",
    " "
   ]
  },
  {
   "cell_type": "code",
   "execution_count": 157,
   "id": "441fbed3",
   "metadata": {},
   "outputs": [
    {
     "data": {
      "application/vnd.plotly.v1+json": {
       "config": {
        "plotlyServerURL": "https://plot.ly"
       },
       "data": [
        {
         "hovertemplate": "x=%{x}<br>y=%{y}<extra></extra>",
         "legendgroup": "",
         "marker": {
          "color": "#636efa",
          "symbol": "circle"
         },
         "mode": "markers",
         "name": "",
         "orientation": "v",
         "showlegend": false,
         "type": "scatter",
         "x": {
          "bdata": "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",
          "dtype": "i4"
         },
         "xaxis": "x",
         "y": {
          "bdata": "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",
          "dtype": "f8"
         },
         "yaxis": "y"
        }
       ],
       "layout": {
        "legend": {
         "tracegroupgap": 0
        },
        "margin": {
         "t": 60
        },
        "template": {
         "data": {
          "bar": [
           {
            "error_x": {
             "color": "#2a3f5f"
            },
            "error_y": {
             "color": "#2a3f5f"
            },
            "marker": {
             "line": {
              "color": "#E5ECF6",
              "width": 0.5
             },
             "pattern": {
              "fillmode": "overlay",
              "size": 10,
              "solidity": 0.2
             }
            },
            "type": "bar"
           }
          ],
          "barpolar": [
           {
            "marker": {
             "line": {
              "color": "#E5ECF6",
              "width": 0.5
             },
             "pattern": {
              "fillmode": "overlay",
              "size": 10,
              "solidity": 0.2
             }
            },
            "type": "barpolar"
           }
          ],
          "carpet": [
           {
            "aaxis": {
             "endlinecolor": "#2a3f5f",
             "gridcolor": "white",
             "linecolor": "white",
             "minorgridcolor": "white",
             "startlinecolor": "#2a3f5f"
            },
            "baxis": {
             "endlinecolor": "#2a3f5f",
             "gridcolor": "white",
             "linecolor": "white",
             "minorgridcolor": "white",
             "startlinecolor": "#2a3f5f"
            },
            "type": "carpet"
           }
          ],
          "choropleth": [
           {
            "colorbar": {
             "outlinewidth": 0,
             "ticks": ""
            },
            "type": "choropleth"
           }
          ],
          "contour": [
           {
            "colorbar": {
             "outlinewidth": 0,
             "ticks": ""
            },
            "colorscale": [
             [
              0,
              "#0d0887"
             ],
             [
              0.1111111111111111,
              "#46039f"
             ],
             [
              0.2222222222222222,
              "#7201a8"
             ],
             [
              0.3333333333333333,
              "#9c179e"
             ],
             [
              0.4444444444444444,
              "#bd3786"
             ],
             [
              0.5555555555555556,
              "#d8576b"
             ],
             [
              0.6666666666666666,
              "#ed7953"
             ],
             [
              0.7777777777777778,
              "#fb9f3a"
             ],
             [
              0.8888888888888888,
              "#fdca26"
             ],
             [
              1,
              "#f0f921"
             ]
            ],
            "type": "contour"
           }
          ],
          "contourcarpet": [
           {
            "colorbar": {
             "outlinewidth": 0,
             "ticks": ""
            },
            "type": "contourcarpet"
           }
          ],
          "heatmap": [
           {
            "colorbar": {
             "outlinewidth": 0,
             "ticks": ""
            },
            "colorscale": [
             [
              0,
              "#0d0887"
             ],
             [
              0.1111111111111111,
              "#46039f"
             ],
             [
              0.2222222222222222,
              "#7201a8"
             ],
             [
              0.3333333333333333,
              "#9c179e"
             ],
             [
              0.4444444444444444,
              "#bd3786"
             ],
             [
              0.5555555555555556,
              "#d8576b"
             ],
             [
              0.6666666666666666,
              "#ed7953"
             ],
             [
              0.7777777777777778,
              "#fb9f3a"
             ],
             [
              0.8888888888888888,
              "#fdca26"
             ],
             [
              1,
              "#f0f921"
             ]
            ],
            "type": "heatmap"
           }
          ],
          "histogram": [
           {
            "marker": {
             "pattern": {
              "fillmode": "overlay",
              "size": 10,
              "solidity": 0.2
             }
            },
            "type": "histogram"
           }
          ],
          "histogram2d": [
           {
            "colorbar": {
             "outlinewidth": 0,
             "ticks": ""
            },
            "colorscale": [
             [
              0,
              "#0d0887"
             ],
             [
              0.1111111111111111,
              "#46039f"
             ],
             [
              0.2222222222222222,
              "#7201a8"
             ],
             [
              0.3333333333333333,
              "#9c179e"
             ],
             [
              0.4444444444444444,
              "#bd3786"
             ],
             [
              0.5555555555555556,
              "#d8576b"
             ],
             [
              0.6666666666666666,
              "#ed7953"
             ],
             [
              0.7777777777777778,
              "#fb9f3a"
             ],
             [
              0.8888888888888888,
              "#fdca26"
             ],
             [
              1,
              "#f0f921"
             ]
            ],
            "type": "histogram2d"
           }
          ],
          "histogram2dcontour": [
           {
            "colorbar": {
             "outlinewidth": 0,
             "ticks": ""
            },
            "colorscale": [
             [
              0,
              "#0d0887"
             ],
             [
              0.1111111111111111,
              "#46039f"
             ],
             [
              0.2222222222222222,
              "#7201a8"
             ],
             [
              0.3333333333333333,
              "#9c179e"
             ],
             [
              0.4444444444444444,
              "#bd3786"
             ],
             [
              0.5555555555555556,
              "#d8576b"
             ],
             [
              0.6666666666666666,
              "#ed7953"
             ],
             [
              0.7777777777777778,
              "#fb9f3a"
             ],
             [
              0.8888888888888888,
              "#fdca26"
             ],
             [
              1,
              "#f0f921"
             ]
            ],
            "type": "histogram2dcontour"
           }
          ],
          "mesh3d": [
           {
            "colorbar": {
             "outlinewidth": 0,
             "ticks": ""
            },
            "type": "mesh3d"
           }
          ],
          "parcoords": [
           {
            "line": {
             "colorbar": {
              "outlinewidth": 0,
              "ticks": ""
             }
            },
            "type": "parcoords"
           }
          ],
          "pie": [
           {
            "automargin": true,
            "type": "pie"
           }
          ],
          "scatter": [
           {
            "fillpattern": {
             "fillmode": "overlay",
             "size": 10,
             "solidity": 0.2
            },
            "type": "scatter"
           }
          ],
          "scatter3d": [
           {
            "line": {
             "colorbar": {
              "outlinewidth": 0,
              "ticks": ""
             }
            },
            "marker": {
             "colorbar": {
              "outlinewidth": 0,
              "ticks": ""
             }
            },
            "type": "scatter3d"
           }
          ],
          "scattercarpet": [
           {
            "marker": {
             "colorbar": {
              "outlinewidth": 0,
              "ticks": ""
             }
            },
            "type": "scattercarpet"
           }
          ],
          "scattergeo": [
           {
            "marker": {
             "colorbar": {
              "outlinewidth": 0,
              "ticks": ""
             }
            },
            "type": "scattergeo"
           }
          ],
          "scattergl": [
           {
            "marker": {
             "colorbar": {
              "outlinewidth": 0,
              "ticks": ""
             }
            },
            "type": "scattergl"
           }
          ],
          "scattermap": [
           {
            "marker": {
             "colorbar": {
              "outlinewidth": 0,
              "ticks": ""
             }
            },
            "type": "scattermap"
           }
          ],
          "scattermapbox": [
           {
            "marker": {
             "colorbar": {
              "outlinewidth": 0,
              "ticks": ""
             }
            },
            "type": "scattermapbox"
           }
          ],
          "scatterpolar": [
           {
            "marker": {
             "colorbar": {
              "outlinewidth": 0,
              "ticks": ""
             }
            },
            "type": "scatterpolar"
           }
          ],
          "scatterpolargl": [
           {
            "marker": {
             "colorbar": {
              "outlinewidth": 0,
              "ticks": ""
             }
            },
            "type": "scatterpolargl"
           }
          ],
          "scatterternary": [
           {
            "marker": {
             "colorbar": {
              "outlinewidth": 0,
              "ticks": ""
             }
            },
            "type": "scatterternary"
           }
          ],
          "surface": [
           {
            "colorbar": {
             "outlinewidth": 0,
             "ticks": ""
            },
            "colorscale": [
             [
              0,
              "#0d0887"
             ],
             [
              0.1111111111111111,
              "#46039f"
             ],
             [
              0.2222222222222222,
              "#7201a8"
             ],
             [
              0.3333333333333333,
              "#9c179e"
             ],
             [
              0.4444444444444444,
              "#bd3786"
             ],
             [
              0.5555555555555556,
              "#d8576b"
             ],
             [
              0.6666666666666666,
              "#ed7953"
             ],
             [
              0.7777777777777778,
              "#fb9f3a"
             ],
             [
              0.8888888888888888,
              "#fdca26"
             ],
             [
              1,
              "#f0f921"
             ]
            ],
            "type": "surface"
           }
          ],
          "table": [
           {
            "cells": {
             "fill": {
              "color": "#EBF0F8"
             },
             "line": {
              "color": "white"
             }
            },
            "header": {
             "fill": {
              "color": "#C8D4E3"
             },
             "line": {
              "color": "white"
             }
            },
            "type": "table"
           }
          ]
         },
         "layout": {
          "annotationdefaults": {
           "arrowcolor": "#2a3f5f",
           "arrowhead": 0,
           "arrowwidth": 1
          },
          "autotypenumbers": "strict",
          "coloraxis": {
           "colorbar": {
            "outlinewidth": 0,
            "ticks": ""
           }
          },
          "colorscale": {
           "diverging": [
            [
             0,
             "#8e0152"
            ],
            [
             0.1,
             "#c51b7d"
            ],
            [
             0.2,
             "#de77ae"
            ],
            [
             0.3,
             "#f1b6da"
            ],
            [
             0.4,
             "#fde0ef"
            ],
            [
             0.5,
             "#f7f7f7"
            ],
            [
             0.6,
             "#e6f5d0"
            ],
            [
             0.7,
             "#b8e186"
            ],
            [
             0.8,
             "#7fbc41"
            ],
            [
             0.9,
             "#4d9221"
            ],
            [
             1,
             "#276419"
            ]
           ],
           "sequential": [
            [
             0,
             "#0d0887"
            ],
            [
             0.1111111111111111,
             "#46039f"
            ],
            [
             0.2222222222222222,
             "#7201a8"
            ],
            [
             0.3333333333333333,
             "#9c179e"
            ],
            [
             0.4444444444444444,
             "#bd3786"
            ],
            [
             0.5555555555555556,
             "#d8576b"
            ],
            [
             0.6666666666666666,
             "#ed7953"
            ],
            [
             0.7777777777777778,
             "#fb9f3a"
            ],
            [
             0.8888888888888888,
             "#fdca26"
            ],
            [
             1,
             "#f0f921"
            ]
           ],
           "sequentialminus": [
            [
             0,
             "#0d0887"
            ],
            [
             0.1111111111111111,
             "#46039f"
            ],
            [
             0.2222222222222222,
             "#7201a8"
            ],
            [
             0.3333333333333333,
             "#9c179e"
            ],
            [
             0.4444444444444444,
             "#bd3786"
            ],
            [
             0.5555555555555556,
             "#d8576b"
            ],
            [
             0.6666666666666666,
             "#ed7953"
            ],
            [
             0.7777777777777778,
             "#fb9f3a"
            ],
            [
             0.8888888888888888,
             "#fdca26"
            ],
            [
             1,
             "#f0f921"
            ]
           ]
          },
          "colorway": [
           "#636efa",
           "#EF553B",
           "#00cc96",
           "#ab63fa",
           "#FFA15A",
           "#19d3f3",
           "#FF6692",
           "#B6E880",
           "#FF97FF",
           "#FECB52"
          ],
          "font": {
           "color": "#2a3f5f"
          },
          "geo": {
           "bgcolor": "white",
           "lakecolor": "white",
           "landcolor": "#E5ECF6",
           "showlakes": true,
           "showland": true,
           "subunitcolor": "white"
          },
          "hoverlabel": {
           "align": "left"
          },
          "hovermode": "closest",
          "mapbox": {
           "style": "light"
          },
          "paper_bgcolor": "white",
          "plot_bgcolor": "#E5ECF6",
          "polar": {
           "angularaxis": {
            "gridcolor": "white",
            "linecolor": "white",
            "ticks": ""
           },
           "bgcolor": "#E5ECF6",
           "radialaxis": {
            "gridcolor": "white",
            "linecolor": "white",
            "ticks": ""
           }
          },
          "scene": {
           "xaxis": {
            "backgroundcolor": "#E5ECF6",
            "gridcolor": "white",
            "gridwidth": 2,
            "linecolor": "white",
            "showbackground": true,
            "ticks": "",
            "zerolinecolor": "white"
           },
           "yaxis": {
            "backgroundcolor": "#E5ECF6",
            "gridcolor": "white",
            "gridwidth": 2,
            "linecolor": "white",
            "showbackground": true,
            "ticks": "",
            "zerolinecolor": "white"
           },
           "zaxis": {
            "backgroundcolor": "#E5ECF6",
            "gridcolor": "white",
            "gridwidth": 2,
            "linecolor": "white",
            "showbackground": true,
            "ticks": "",
            "zerolinecolor": "white"
           }
          },
          "shapedefaults": {
           "line": {
            "color": "#2a3f5f"
           }
          },
          "ternary": {
           "aaxis": {
            "gridcolor": "white",
            "linecolor": "white",
            "ticks": ""
           },
           "baxis": {
            "gridcolor": "white",
            "linecolor": "white",
            "ticks": ""
           },
           "bgcolor": "#E5ECF6",
           "caxis": {
            "gridcolor": "white",
            "linecolor": "white",
            "ticks": ""
           }
          },
          "title": {
           "x": 0.05
          },
          "xaxis": {
           "automargin": true,
           "gridcolor": "white",
           "linecolor": "white",
           "ticks": "",
           "title": {
            "standoff": 15
           },
           "zerolinecolor": "white",
           "zerolinewidth": 2
          },
          "yaxis": {
           "automargin": true,
           "gridcolor": "white",
           "linecolor": "white",
           "ticks": "",
           "title": {
            "standoff": 15
           },
           "zerolinecolor": "white",
           "zerolinewidth": 2
          }
         }
        },
        "xaxis": {
         "anchor": "y",
         "domain": [
          0,
          1
         ],
         "title": {
          "text": "x"
         }
        },
        "yaxis": {
         "anchor": "x",
         "domain": [
          0,
          1
         ],
         "title": {
          "text": "y"
         }
        }
       }
      }
     },
     "metadata": {},
     "output_type": "display_data"
    }
   ],
   "source": [
    "graph1 = px.scatter(x=y_test, y=predict_linear)\n",
    "graph1"
   ]
  },
  {
   "cell_type": "code",
   "execution_count": 158,
   "id": "834c4b3e",
   "metadata": {},
   "outputs": [
    {
     "name": "stdout",
     "output_type": "stream",
     "text": [
      "Métricas do Modelo de Regressão de Floresta Aleatória: \n",
      "- Mean Squared Erro (MSE): 3397921006.4967723\n",
      "- Mean Absolute Erro (MAE): 46683.53712\n",
      "- R² Score: 0.8066688553370851\n"
     ]
    }
   ],
   "source": [
    "print(\"Métricas do Modelo de Regressão de Floresta Aleatória: \")\n",
    "print(f\"- Mean Squared Erro (MSE): {mean_squared_error(predict_random, y_test)}\")\n",
    "print(f\"- Mean Absolute Erro (MAE): {mean_absolute_error(predict_random, y_test)}\")\n",
    "print(f\"- R² Score: {r2_score(predict_random , y_test)}\")"
   ]
  },
  {
   "cell_type": "code",
   "execution_count": 159,
   "id": "a97ceab9",
   "metadata": {},
   "outputs": [
    {
     "data": {
      "application/vnd.plotly.v1+json": {
       "config": {
        "plotlyServerURL": "https://plot.ly"
       },
       "data": [
        {
         "hovertemplate": "x=%{x}<br>y=%{y}<extra></extra>",
         "legendgroup": "",
         "marker": {
          "color": "#636efa",
          "symbol": "circle"
         },
         "mode": "markers",
         "name": "",
         "orientation": "v",
         "showlegend": false,
         "type": "scatter",
         "x": {
          "bdata": "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",
          "dtype": "i4"
         },
         "xaxis": "x",
         "y": {
          "bdata": "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",
          "dtype": "f8"
         },
         "yaxis": "y"
        }
       ],
       "layout": {
        "legend": {
         "tracegroupgap": 0
        },
        "margin": {
         "t": 60
        },
        "template": {
         "data": {
          "bar": [
           {
            "error_x": {
             "color": "#2a3f5f"
            },
            "error_y": {
             "color": "#2a3f5f"
            },
            "marker": {
             "line": {
              "color": "#E5ECF6",
              "width": 0.5
             },
             "pattern": {
              "fillmode": "overlay",
              "size": 10,
              "solidity": 0.2
             }
            },
            "type": "bar"
           }
          ],
          "barpolar": [
           {
            "marker": {
             "line": {
              "color": "#E5ECF6",
              "width": 0.5
             },
             "pattern": {
              "fillmode": "overlay",
              "size": 10,
              "solidity": 0.2
             }
            },
            "type": "barpolar"
           }
          ],
          "carpet": [
           {
            "aaxis": {
             "endlinecolor": "#2a3f5f",
             "gridcolor": "white",
             "linecolor": "white",
             "minorgridcolor": "white",
             "startlinecolor": "#2a3f5f"
            },
            "baxis": {
             "endlinecolor": "#2a3f5f",
             "gridcolor": "white",
             "linecolor": "white",
             "minorgridcolor": "white",
             "startlinecolor": "#2a3f5f"
            },
            "type": "carpet"
           }
          ],
          "choropleth": [
           {
            "colorbar": {
             "outlinewidth": 0,
             "ticks": ""
            },
            "type": "choropleth"
           }
          ],
          "contour": [
           {
            "colorbar": {
             "outlinewidth": 0,
             "ticks": ""
            },
            "colorscale": [
             [
              0,
              "#0d0887"
             ],
             [
              0.1111111111111111,
              "#46039f"
             ],
             [
              0.2222222222222222,
              "#7201a8"
             ],
             [
              0.3333333333333333,
              "#9c179e"
             ],
             [
              0.4444444444444444,
              "#bd3786"
             ],
             [
              0.5555555555555556,
              "#d8576b"
             ],
             [
              0.6666666666666666,
              "#ed7953"
             ],
             [
              0.7777777777777778,
              "#fb9f3a"
             ],
             [
              0.8888888888888888,
              "#fdca26"
             ],
             [
              1,
              "#f0f921"
             ]
            ],
            "type": "contour"
           }
          ],
          "contourcarpet": [
           {
            "colorbar": {
             "outlinewidth": 0,
             "ticks": ""
            },
            "type": "contourcarpet"
           }
          ],
          "heatmap": [
           {
            "colorbar": {
             "outlinewidth": 0,
             "ticks": ""
            },
            "colorscale": [
             [
              0,
              "#0d0887"
             ],
             [
              0.1111111111111111,
              "#46039f"
             ],
             [
              0.2222222222222222,
              "#7201a8"
             ],
             [
              0.3333333333333333,
              "#9c179e"
             ],
             [
              0.4444444444444444,
              "#bd3786"
             ],
             [
              0.5555555555555556,
              "#d8576b"
             ],
             [
              0.6666666666666666,
              "#ed7953"
             ],
             [
              0.7777777777777778,
              "#fb9f3a"
             ],
             [
              0.8888888888888888,
              "#fdca26"
             ],
             [
              1,
              "#f0f921"
             ]
            ],
            "type": "heatmap"
           }
          ],
          "histogram": [
           {
            "marker": {
             "pattern": {
              "fillmode": "overlay",
              "size": 10,
              "solidity": 0.2
             }
            },
            "type": "histogram"
           }
          ],
          "histogram2d": [
           {
            "colorbar": {
             "outlinewidth": 0,
             "ticks": ""
            },
            "colorscale": [
             [
              0,
              "#0d0887"
             ],
             [
              0.1111111111111111,
              "#46039f"
             ],
             [
              0.2222222222222222,
              "#7201a8"
             ],
             [
              0.3333333333333333,
              "#9c179e"
             ],
             [
              0.4444444444444444,
              "#bd3786"
             ],
             [
              0.5555555555555556,
              "#d8576b"
             ],
             [
              0.6666666666666666,
              "#ed7953"
             ],
             [
              0.7777777777777778,
              "#fb9f3a"
             ],
             [
              0.8888888888888888,
              "#fdca26"
             ],
             [
              1,
              "#f0f921"
             ]
            ],
            "type": "histogram2d"
           }
          ],
          "histogram2dcontour": [
           {
            "colorbar": {
             "outlinewidth": 0,
             "ticks": ""
            },
            "colorscale": [
             [
              0,
              "#0d0887"
             ],
             [
              0.1111111111111111,
              "#46039f"
             ],
             [
              0.2222222222222222,
              "#7201a8"
             ],
             [
              0.3333333333333333,
              "#9c179e"
             ],
             [
              0.4444444444444444,
              "#bd3786"
             ],
             [
              0.5555555555555556,
              "#d8576b"
             ],
             [
              0.6666666666666666,
              "#ed7953"
             ],
             [
              0.7777777777777778,
              "#fb9f3a"
             ],
             [
              0.8888888888888888,
              "#fdca26"
             ],
             [
              1,
              "#f0f921"
             ]
            ],
            "type": "histogram2dcontour"
           }
          ],
          "mesh3d": [
           {
            "colorbar": {
             "outlinewidth": 0,
             "ticks": ""
            },
            "type": "mesh3d"
           }
          ],
          "parcoords": [
           {
            "line": {
             "colorbar": {
              "outlinewidth": 0,
              "ticks": ""
             }
            },
            "type": "parcoords"
           }
          ],
          "pie": [
           {
            "automargin": true,
            "type": "pie"
           }
          ],
          "scatter": [
           {
            "fillpattern": {
             "fillmode": "overlay",
             "size": 10,
             "solidity": 0.2
            },
            "type": "scatter"
           }
          ],
          "scatter3d": [
           {
            "line": {
             "colorbar": {
              "outlinewidth": 0,
              "ticks": ""
             }
            },
            "marker": {
             "colorbar": {
              "outlinewidth": 0,
              "ticks": ""
             }
            },
            "type": "scatter3d"
           }
          ],
          "scattercarpet": [
           {
            "marker": {
             "colorbar": {
              "outlinewidth": 0,
              "ticks": ""
             }
            },
            "type": "scattercarpet"
           }
          ],
          "scattergeo": [
           {
            "marker": {
             "colorbar": {
              "outlinewidth": 0,
              "ticks": ""
             }
            },
            "type": "scattergeo"
           }
          ],
          "scattergl": [
           {
            "marker": {
             "colorbar": {
              "outlinewidth": 0,
              "ticks": ""
             }
            },
            "type": "scattergl"
           }
          ],
          "scattermap": [
           {
            "marker": {
             "colorbar": {
              "outlinewidth": 0,
              "ticks": ""
             }
            },
            "type": "scattermap"
           }
          ],
          "scattermapbox": [
           {
            "marker": {
             "colorbar": {
              "outlinewidth": 0,
              "ticks": ""
             }
            },
            "type": "scattermapbox"
           }
          ],
          "scatterpolar": [
           {
            "marker": {
             "colorbar": {
              "outlinewidth": 0,
              "ticks": ""
             }
            },
            "type": "scatterpolar"
           }
          ],
          "scatterpolargl": [
           {
            "marker": {
             "colorbar": {
              "outlinewidth": 0,
              "ticks": ""
             }
            },
            "type": "scatterpolargl"
           }
          ],
          "scatterternary": [
           {
            "marker": {
             "colorbar": {
              "outlinewidth": 0,
              "ticks": ""
             }
            },
            "type": "scatterternary"
           }
          ],
          "surface": [
           {
            "colorbar": {
             "outlinewidth": 0,
             "ticks": ""
            },
            "colorscale": [
             [
              0,
              "#0d0887"
             ],
             [
              0.1111111111111111,
              "#46039f"
             ],
             [
              0.2222222222222222,
              "#7201a8"
             ],
             [
              0.3333333333333333,
              "#9c179e"
             ],
             [
              0.4444444444444444,
              "#bd3786"
             ],
             [
              0.5555555555555556,
              "#d8576b"
             ],
             [
              0.6666666666666666,
              "#ed7953"
             ],
             [
              0.7777777777777778,
              "#fb9f3a"
             ],
             [
              0.8888888888888888,
              "#fdca26"
             ],
             [
              1,
              "#f0f921"
             ]
            ],
            "type": "surface"
           }
          ],
          "table": [
           {
            "cells": {
             "fill": {
              "color": "#EBF0F8"
             },
             "line": {
              "color": "white"
             }
            },
            "header": {
             "fill": {
              "color": "#C8D4E3"
             },
             "line": {
              "color": "white"
             }
            },
            "type": "table"
           }
          ]
         },
         "layout": {
          "annotationdefaults": {
           "arrowcolor": "#2a3f5f",
           "arrowhead": 0,
           "arrowwidth": 1
          },
          "autotypenumbers": "strict",
          "coloraxis": {
           "colorbar": {
            "outlinewidth": 0,
            "ticks": ""
           }
          },
          "colorscale": {
           "diverging": [
            [
             0,
             "#8e0152"
            ],
            [
             0.1,
             "#c51b7d"
            ],
            [
             0.2,
             "#de77ae"
            ],
            [
             0.3,
             "#f1b6da"
            ],
            [
             0.4,
             "#fde0ef"
            ],
            [
             0.5,
             "#f7f7f7"
            ],
            [
             0.6,
             "#e6f5d0"
            ],
            [
             0.7,
             "#b8e186"
            ],
            [
             0.8,
             "#7fbc41"
            ],
            [
             0.9,
             "#4d9221"
            ],
            [
             1,
             "#276419"
            ]
           ],
           "sequential": [
            [
             0,
             "#0d0887"
            ],
            [
             0.1111111111111111,
             "#46039f"
            ],
            [
             0.2222222222222222,
             "#7201a8"
            ],
            [
             0.3333333333333333,
             "#9c179e"
            ],
            [
             0.4444444444444444,
             "#bd3786"
            ],
            [
             0.5555555555555556,
             "#d8576b"
            ],
            [
             0.6666666666666666,
             "#ed7953"
            ],
            [
             0.7777777777777778,
             "#fb9f3a"
            ],
            [
             0.8888888888888888,
             "#fdca26"
            ],
            [
             1,
             "#f0f921"
            ]
           ],
           "sequentialminus": [
            [
             0,
             "#0d0887"
            ],
            [
             0.1111111111111111,
             "#46039f"
            ],
            [
             0.2222222222222222,
             "#7201a8"
            ],
            [
             0.3333333333333333,
             "#9c179e"
            ],
            [
             0.4444444444444444,
             "#bd3786"
            ],
            [
             0.5555555555555556,
             "#d8576b"
            ],
            [
             0.6666666666666666,
             "#ed7953"
            ],
            [
             0.7777777777777778,
             "#fb9f3a"
            ],
            [
             0.8888888888888888,
             "#fdca26"
            ],
            [
             1,
             "#f0f921"
            ]
           ]
          },
          "colorway": [
           "#636efa",
           "#EF553B",
           "#00cc96",
           "#ab63fa",
           "#FFA15A",
           "#19d3f3",
           "#FF6692",
           "#B6E880",
           "#FF97FF",
           "#FECB52"
          ],
          "font": {
           "color": "#2a3f5f"
          },
          "geo": {
           "bgcolor": "white",
           "lakecolor": "white",
           "landcolor": "#E5ECF6",
           "showlakes": true,
           "showland": true,
           "subunitcolor": "white"
          },
          "hoverlabel": {
           "align": "left"
          },
          "hovermode": "closest",
          "mapbox": {
           "style": "light"
          },
          "paper_bgcolor": "white",
          "plot_bgcolor": "#E5ECF6",
          "polar": {
           "angularaxis": {
            "gridcolor": "white",
            "linecolor": "white",
            "ticks": ""
           },
           "bgcolor": "#E5ECF6",
           "radialaxis": {
            "gridcolor": "white",
            "linecolor": "white",
            "ticks": ""
           }
          },
          "scene": {
           "xaxis": {
            "backgroundcolor": "#E5ECF6",
            "gridcolor": "white",
            "gridwidth": 2,
            "linecolor": "white",
            "showbackground": true,
            "ticks": "",
            "zerolinecolor": "white"
           },
           "yaxis": {
            "backgroundcolor": "#E5ECF6",
            "gridcolor": "white",
            "gridwidth": 2,
            "linecolor": "white",
            "showbackground": true,
            "ticks": "",
            "zerolinecolor": "white"
           },
           "zaxis": {
            "backgroundcolor": "#E5ECF6",
            "gridcolor": "white",
            "gridwidth": 2,
            "linecolor": "white",
            "showbackground": true,
            "ticks": "",
            "zerolinecolor": "white"
           }
          },
          "shapedefaults": {
           "line": {
            "color": "#2a3f5f"
           }
          },
          "ternary": {
           "aaxis": {
            "gridcolor": "white",
            "linecolor": "white",
            "ticks": ""
           },
           "baxis": {
            "gridcolor": "white",
            "linecolor": "white",
            "ticks": ""
           },
           "bgcolor": "#E5ECF6",
           "caxis": {
            "gridcolor": "white",
            "linecolor": "white",
            "ticks": ""
           }
          },
          "title": {
           "x": 0.05
          },
          "xaxis": {
           "automargin": true,
           "gridcolor": "white",
           "linecolor": "white",
           "ticks": "",
           "title": {
            "standoff": 15
           },
           "zerolinecolor": "white",
           "zerolinewidth": 2
          },
          "yaxis": {
           "automargin": true,
           "gridcolor": "white",
           "linecolor": "white",
           "ticks": "",
           "title": {
            "standoff": 15
           },
           "zerolinecolor": "white",
           "zerolinewidth": 2
          }
         }
        },
        "xaxis": {
         "anchor": "y",
         "domain": [
          0,
          1
         ],
         "title": {
          "text": "x"
         }
        },
        "yaxis": {
         "anchor": "x",
         "domain": [
          0,
          1
         ],
         "title": {
          "text": "y"
         }
        }
       }
      }
     },
     "metadata": {},
     "output_type": "display_data"
    }
   ],
   "source": [
    "graph1 = px.scatter(x=y_test, y=predict_random)\n",
    "graph1"
   ]
  },
  {
   "cell_type": "code",
   "execution_count": 184,
   "id": "e4ee19dd",
   "metadata": {},
   "outputs": [
    {
     "data": {
      "text/plain": [
       "array([1179922.86874601, 1173173.89798632, 1124882.14662922,\n",
       "       1281511.04824712, 1361662.39958979,  993470.35644837,\n",
       "       1506473.46446938, 1440768.58421507, 1227119.48962604,\n",
       "       1111142.11953686, 1189600.90041402, 1345144.01181064,\n",
       "       1225517.96820413,  968702.32834882, 1262516.37699505,\n",
       "       1131239.74102327, 1201291.03940859, 1149001.06547414,\n",
       "       1031553.98819044, 1385417.85789789, 1135848.88050861,\n",
       "       1326050.76549999, 1158208.62003443, 1339987.65966944,\n",
       "       1225982.65290797, 1369520.40696183, 1173144.09729856,\n",
       "       1208452.68759599, 1459877.10014761, 1222391.83034185,\n",
       "       1255434.76017763, 1232702.21854594, 1170304.18716506,\n",
       "       1213754.27045276, 1457307.18490455,  948217.67410061,\n",
       "        867209.18601032, 1249401.5181286 , 1205397.84918749,\n",
       "       1061407.26465518, 1451971.2930868 , 1221086.96015579,\n",
       "       1203954.09539452, 1262637.29546083, 1108915.67022481,\n",
       "       1263628.15319031, 1029665.01551927,  982511.91379659,\n",
       "       1251851.54897764, 1477599.4417223 , 1182211.26641367,\n",
       "       1063991.56443975, 1109229.64066658, 1174572.0691832 ,\n",
       "       1333449.79281418, 1305758.94566446, 1097495.23896083,\n",
       "       1393441.28498116, 1466237.33641764, 1154927.35539484,\n",
       "       1188964.94552394, 1213812.7895712 , 1320078.67306167,\n",
       "       1243899.05457413, 1189250.59900898, 1083016.63533762,\n",
       "       1006763.81172479, 1054543.75525636, 1278121.59681905,\n",
       "       1218831.1366321 , 1298417.18548871, 1373491.90544828,\n",
       "       1171110.39714827, 1018129.49549724, 1028985.84880065,\n",
       "       1110668.34939113, 1360710.49775259, 1096649.48491945,\n",
       "       1321789.67150721, 1137680.43549384, 1272688.12129693,\n",
       "       1057137.15856019, 1273452.36190731, 1158169.98283271,\n",
       "       1284966.86187707, 1334901.68778048, 1011381.95233271,\n",
       "       1236846.47185508, 1087627.65548155, 1393053.47156987,\n",
       "        963502.76922479, 1249197.21545373, 1257845.04951192,\n",
       "       1409815.58710791, 1092895.8691828 , 1093543.76489862,\n",
       "       1194862.29857371, 1430810.23791275, 1187097.98103456,\n",
       "       1289909.35740602, 1385638.79835207, 1153001.81851673,\n",
       "       1224760.93309265, 1386173.12880691, 1397040.99436113,\n",
       "       1300432.81177393, 1291650.75788287, 1322970.02779213,\n",
       "       1362467.52787314, 1333323.12736365, 1054989.14655099,\n",
       "       1236045.64180859, 1119832.94874231, 1204429.75308377,\n",
       "       1321879.30070684, 1241314.96394945, 1368383.1317127 ,\n",
       "       1152269.68637661, 1124333.62728269, 1019382.32917137,\n",
       "       1158822.59772596, 1186572.97660987, 1238388.88304403,\n",
       "        961256.169622  , 1340306.96869998, 1290145.66333868,\n",
       "       1118897.61410661, 1098754.5411706 , 1485294.7552066 ,\n",
       "       1273983.33537298, 1336304.61913881, 1238151.80144069,\n",
       "       1076202.16205905, 1303694.9761944 , 1173603.23749284,\n",
       "       1102220.30839628, 1013229.6913009 , 1096024.26569653,\n",
       "       1131254.22875662,  961215.6536622 , 1050691.27711266,\n",
       "       1145986.32402201, 1156073.14512457, 1177018.30651137,\n",
       "       1397582.664912  , 1144802.47408783, 1228231.27952214,\n",
       "        882692.79228497, 1131936.54416247, 1187215.28895316,\n",
       "       1376400.37373166, 1271672.57405796,  979006.56684678,\n",
       "       1512892.51807093, 1123683.44378985, 1096601.0634945 ,\n",
       "       1155867.38971784, 1389318.71642541,  967493.99212645,\n",
       "       1084791.22917127, 1199366.36413185, 1156533.09676767,\n",
       "       1217954.72434862, 1184965.69086925, 1462498.35711557,\n",
       "       1220818.78976816, 1223823.69372633, 1124718.22313118,\n",
       "       1444626.76472804, 1174312.4412708 , 1128184.41280296,\n",
       "       1324144.55556285, 1167578.82526315, 1465380.09353601,\n",
       "       1269006.23172402, 1372210.92842234, 1322412.66200051,\n",
       "       1238467.77340636, 1100158.78092822, 1315924.14216119,\n",
       "       1262176.27658936, 1049292.86030921, 1290241.32284964,\n",
       "       1275228.8277543 , 1181400.11599554, 1250333.95009232,\n",
       "       1106135.26444217, 1010738.64152036, 1034724.70572182,\n",
       "       1121532.46090116, 1035256.63828626, 1030237.09008846,\n",
       "       1155848.9953272 , 1192079.01866357,  984453.11743171,\n",
       "       1011839.36616122, 1136692.93505017, 1259376.12734572,\n",
       "       1251882.43138591, 1009002.64258224, 1262746.66150036,\n",
       "        871329.78023986, 1299566.04943903, 1205243.4200203 ,\n",
       "       1334290.52682743, 1212168.83725595, 1257845.32201864,\n",
       "       1107160.36570296, 1085758.16820652, 1193366.96721406,\n",
       "       1255546.08594577, 1123707.38882403, 1214177.12069522,\n",
       "       1125398.31358997, 1367849.85285648, 1177736.04879942,\n",
       "       1033649.21621253, 1239277.8046247 , 1044885.80967414,\n",
       "       1263008.8644458 , 1199243.50838251, 1112463.95227237,\n",
       "       1257512.03162889, 1412395.87329985, 1453006.84967386,\n",
       "       1287385.55988305, 1163206.98766707, 1150998.06718893,\n",
       "       1019269.91917396, 1140913.18989078, 1220616.77022276,\n",
       "       1220235.06536233,  974867.18882606,  978881.53543193,\n",
       "       1279621.08802107, 1038770.31718512, 1300448.26977332,\n",
       "       1289207.85043759, 1081623.93779447, 1266799.62870822,\n",
       "       1163362.96992538, 1050917.23567237, 1397094.29332818,\n",
       "       1245999.98173646, 1156947.45994626, 1188451.22641796,\n",
       "        975461.16221575, 1107235.03757639, 1090208.4873512 ,\n",
       "       1282063.67278602, 1411696.60118879, 1180240.52596495,\n",
       "       1307857.56084858,  966621.9851657 , 1119321.91534716,\n",
       "       1339930.57422087, 1380158.39832874, 1421456.78955158,\n",
       "       1196558.39753284, 1298498.73587185, 1361092.55874386,\n",
       "       1459527.88249542, 1452466.65812009, 1258155.03524616,\n",
       "       1460307.25000454, 1225473.13483783,  915139.06084629,\n",
       "       1169737.01563804, 1124354.64401173, 1376870.36487441,\n",
       "       1183324.73969988, 1401766.83696461, 1349280.30850367,\n",
       "       1432333.0190135 , 1093982.07089991, 1442356.11152704,\n",
       "       1112888.14206832,  948685.89327891, 1174442.7296423 ,\n",
       "       1124394.44915673, 1092873.00880783, 1234797.15169785,\n",
       "       1209502.52839801, 1249789.01485153, 1214880.64676713,\n",
       "       1179975.05912764, 1088163.67988041, 1474023.30730285,\n",
       "       1169307.00152301, 1404206.70317018, 1022007.4948166 ,\n",
       "       1459785.37424464, 1123683.60439201, 1309902.96130532,\n",
       "       1052711.77918266, 1331561.34220324, 1082444.10227074,\n",
       "        971854.2125479 , 1100785.56665271, 1224051.92554696,\n",
       "       1074761.33739719, 1278780.25144278, 1289287.09968885,\n",
       "       1252471.13620477, 1278218.35977393, 1327411.11346798,\n",
       "       1109284.14896614, 1242203.82805515, 1263342.74951555,\n",
       "       1351943.48199141, 1197849.03253827, 1159130.60077348,\n",
       "       1109965.56932561,  994641.63734526, 1590266.28703127,\n",
       "       1112013.72156236, 1207467.16982841,  938760.94757994,\n",
       "       1154717.22974053, 1211810.58835972, 1355409.14105703,\n",
       "       1334063.69950999, 1185095.40904394, 1252115.82903967,\n",
       "       1198510.28066358, 1394671.4553143 , 1347726.2871008 ,\n",
       "       1376140.6536541 , 1307959.5712786 , 1414714.46586781,\n",
       "       1191186.67012771, 1142738.80164917,  991839.2752784 ,\n",
       "       1229736.48989079, 1325106.24886276, 1285518.33137422,\n",
       "       1184349.7889524 , 1366562.8210582 , 1226703.7582118 ,\n",
       "       1053777.75519781, 1102085.27792594, 1406352.22047395,\n",
       "       1334900.53929122,  988456.24000602, 1462937.99200808,\n",
       "       1580656.44725775, 1076282.08777957, 1082763.32611875,\n",
       "       1136871.03468762, 1120105.9448521 , 1228826.69882601,\n",
       "       1290470.17943807, 1272792.76788637, 1469739.81012951,\n",
       "       1327192.48864181, 1401231.42277522,  921627.94336128,\n",
       "       1192166.09036072,  988637.52437992, 1246469.42053368,\n",
       "       1597093.53861204, 1125823.2877053 , 1553965.13002191,\n",
       "       1121890.80268749, 1258107.76416807, 1215893.89556299,\n",
       "       1351006.50089789, 1252334.0480644 , 1200657.73206118,\n",
       "       1058776.51340263, 1335197.53505035, 1035095.844169  ,\n",
       "       1042839.29536445, 1231820.15276314, 1120945.01504214,\n",
       "       1227298.72788921, 1276695.52377247, 1272714.14114184,\n",
       "       1077753.15706024, 1354299.69578224, 1285909.82402911,\n",
       "       1248652.74950621, 1141418.18178815, 1104439.06868299,\n",
       "        969212.39553125, 1324516.85521407, 1276027.41948839,\n",
       "       1177112.37406705, 1410252.82391867, 1044348.78708725,\n",
       "       1205168.45441453, 1088954.53175338, 1125503.5313506 ,\n",
       "       1286550.20194679, 1435545.46583727, 1119892.55316932,\n",
       "       1218274.10049908, 1085187.69700791, 1055268.08290976,\n",
       "       1262456.01605443, 1433156.95634149, 1338790.11378165,\n",
       "       1226815.4117243 , 1011684.1568076 , 1372644.50086138,\n",
       "        942838.48956391, 1118400.73578631, 1113921.94464536,\n",
       "       1351004.62805807, 1144798.12894664, 1087517.47646167,\n",
       "       1324434.37637737, 1262793.74514256, 1345339.34954709,\n",
       "       1291158.62206119, 1394041.1627293 , 1084859.88368202,\n",
       "       1166779.26680536, 1260780.19941749, 1366269.02383173,\n",
       "       1018237.90318259, 1144621.95375723, 1261639.19578293,\n",
       "       1287582.82232583, 1338775.28213733,  957021.28523354,\n",
       "        994955.80115388, 1204174.24042164, 1219158.87919447,\n",
       "       1107233.45911284, 1195476.37727445,  947229.62375231,\n",
       "       1208062.72418489, 1243432.57706364, 1512718.05507435,\n",
       "       1119064.36333652, 1161300.87557832, 1542397.9914352 ,\n",
       "       1146944.34804331, 1103026.03980438, 1346819.32993811,\n",
       "       1208147.74052222, 1171430.3041107 , 1399599.46380086,\n",
       "       1213984.1674166 , 1174876.7481656 , 1120642.77333415,\n",
       "       1299777.81269436, 1146158.02938392, 1150218.70845602,\n",
       "       1209065.82281759, 1064623.66353041, 1384578.70527287,\n",
       "       1343624.66360645, 1257629.48199998, 1236804.02890331,\n",
       "       1101908.09561064, 1399781.6845052 , 1286145.4139647 ,\n",
       "       1191570.25412363, 1349974.80523094, 1225909.7842146 ,\n",
       "       1162638.90505856, 1211465.27230099, 1004453.31577212,\n",
       "       1292379.56671972, 1185624.7163046 ,  904392.85736043,\n",
       "       1310013.5022116 , 1128725.49190695, 1175853.13245972,\n",
       "       1446182.5995973 , 1343022.32271374, 1076836.00110335,\n",
       "       1373113.33393764, 1340397.50072513, 1137537.27652947,\n",
       "       1381388.20834317, 1134751.54517037, 1015774.87731172,\n",
       "        970486.39897061, 1042925.68265077, 1099770.71984939,\n",
       "       1298196.40860277, 1122568.59258804, 1238848.33722074,\n",
       "       1076236.72482475, 1568316.75250675, 1072613.31555166,\n",
       "        914452.98542745, 1060097.61884168,  867134.85794561,\n",
       "       1051732.01147124,  857217.29083208, 1060575.77325078,\n",
       "       1125665.55125998, 1011018.72141375, 1255421.52519861,\n",
       "       1382622.92945407, 1214590.24798165, 1305606.52331708,\n",
       "       1083926.30861684, 1526062.31919084, 1167039.81744515,\n",
       "       1479037.95334092, 1308246.10020111, 1307282.68109457,\n",
       "       1050053.03293754, 1165167.93065647, 1221002.26197689,\n",
       "       1089972.59170432, 1228223.96456564, 1158768.62380192,\n",
       "       1174328.23094767, 1258093.07084594, 1087629.37116012,\n",
       "       1287564.3605587 , 1194035.64543159, 1105283.4964712 ,\n",
       "       1193140.48269945, 1164648.35819035, 1364956.49061448,\n",
       "       1233451.73845945, 1288703.75172871, 1498018.76275044,\n",
       "       1315778.93743746, 1240024.55356975, 1251178.55111461,\n",
       "       1184395.79519478, 1387173.09529206, 1247327.5892827 ,\n",
       "       1339458.28427383, 1374940.01978479, 1506503.70986657,\n",
       "       1283433.74699393, 1102540.57485185, 1127112.57762224,\n",
       "       1271426.58280502, 1176390.68571644, 1363324.96563648,\n",
       "       1310990.09302001, 1382938.36858863, 1216831.00934716,\n",
       "       1170120.19025491, 1298473.38992928, 1414047.06865129,\n",
       "       1152742.98138165, 1455671.2885994 , 1283642.30257855,\n",
       "        963542.93605745, 1536245.43212213, 1102643.86588938,\n",
       "       1155845.43626631, 1072839.8742536 , 1421024.56450671,\n",
       "       1101286.08365502, 1239007.09088289, 1103141.20744288,\n",
       "       1132848.754476  , 1375434.10873866, 1198971.2593365 ,\n",
       "        958010.39824374,  981682.30891568,  935572.87784015,\n",
       "       1086882.63652426, 1100053.27084625, 1410315.22412409,\n",
       "       1002468.13272182, 1329023.33285979, 1188254.661597  ,\n",
       "       1081087.86216904, 1202782.5493896 , 1289169.13606454,\n",
       "       1170558.68137533, 1273828.84831921, 1140017.50672521,\n",
       "       1152459.84479178, 1156633.42597608, 1230345.50129862,\n",
       "       1035426.45918819, 1329717.55142035, 1091644.0516143 ,\n",
       "       1237674.40203783, 1188376.79944653, 1080703.25146503,\n",
       "       1263448.55358634, 1240780.46077174, 1458227.5953531 ,\n",
       "       1369201.04006772, 1271782.39016216, 1151898.08324419,\n",
       "       1091744.76826323, 1334631.0453607 , 1125842.20940942,\n",
       "       1234341.41073981, 1212019.75352906, 1319843.51334576,\n",
       "       1394630.58912564, 1198264.26114152, 1212303.52619728,\n",
       "       1053465.32823162, 1354176.45549559, 1303988.67237209,\n",
       "       1360104.97766902, 1206008.3418902 , 1093954.06416745,\n",
       "       1537674.80657569, 1030269.81578777, 1371299.5562019 ,\n",
       "       1282648.27197939, 1032667.20551627, 1406009.54436525,\n",
       "       1212605.29020782, 1205809.62599004, 1187885.25157667,\n",
       "       1393408.90096797, 1352579.73346083, 1308744.27033326,\n",
       "       1213133.68795498, 1499943.89762144, 1305101.55729836,\n",
       "       1057067.08533539, 1494995.08643685, 1342654.90023933,\n",
       "       1226276.27986536, 1279774.25882903, 1132475.47105304,\n",
       "       1137468.66269077, 1177296.84114811, 1137380.19474848,\n",
       "       1374541.8140864 ,  946733.50063032, 1071559.47793322,\n",
       "       1384259.61418656, 1298932.26329796, 1115048.78925488,\n",
       "       1177788.59402592, 1161907.55428287, 1335319.50761568,\n",
       "       1252779.51147356, 1315886.68049514, 1357305.67244071,\n",
       "       1482907.13432232, 1162958.17560324, 1230318.62247131,\n",
       "       1259342.1709834 , 1330727.98299211, 1140440.20912519,\n",
       "       1034085.8051894 , 1148909.84846555, 1118791.22885286,\n",
       "       1179814.74480877, 1228455.96701379, 1286999.22729639,\n",
       "       1043240.10758566, 1397482.31864085, 1162442.00065416,\n",
       "       1213297.56903427, 1184544.83174441, 1400186.51452546,\n",
       "       1444077.78443268, 1149560.57869936, 1179028.75689267,\n",
       "       1122487.58251667, 1337905.65122175, 1285507.3511314 ,\n",
       "       1254033.26523484,  892370.34611375, 1221962.43863119,\n",
       "       1371805.85400333, 1506621.71500727, 1457467.59401976,\n",
       "       1182591.82842779, 1179428.26645301, 1190796.6132516 ,\n",
       "       1273143.6256253 , 1054663.71682102, 1263517.22706978,\n",
       "       1033539.54425191, 1041357.42619847, 1491019.95519619,\n",
       "       1415816.09003976, 1377698.79585234, 1372943.98170151,\n",
       "       1103414.62279953,  997319.26353975, 1324843.58258791,\n",
       "       1107273.38926727, 1097246.25922554, 1256311.09382281,\n",
       "       1337842.99193406, 1578499.73529288, 1086776.58882692,\n",
       "       1286458.41276561, 1399467.02419538, 1205650.66953745,\n",
       "        967390.60538553, 1350787.81450597, 1154140.35490529,\n",
       "       1123325.30789773, 1241874.07035169, 1380136.90685529,\n",
       "       1412025.29854624,  949448.01878057,  965698.02890554,\n",
       "       1343949.82026814, 1345370.79502146, 1172546.2922875 ,\n",
       "       1358974.70978708, 1220009.08788349, 1150962.68463587,\n",
       "       1302145.20549843, 1176171.70599853, 1232994.60879145,\n",
       "       1041604.32319288, 1371731.34648133, 1112026.12553289,\n",
       "       1001600.59382858, 1176565.71220754, 1106330.39959293,\n",
       "       1208263.10262165, 1221893.32209255, 1216795.93737572,\n",
       "       1250874.54743533, 1244088.03804689, 1171395.79779458,\n",
       "       1367159.95709741, 1302990.24373436, 1116033.07799638,\n",
       "       1271698.55092068, 1265462.17805953, 1297769.05592614,\n",
       "       1172395.48375461, 1076894.23059716, 1125993.42513119,\n",
       "       1195319.72441122, 1252054.5724925 , 1354286.28733676,\n",
       "       1272003.11437474, 1299552.08545439, 1368336.92590122,\n",
       "       1213874.79973239, 1227661.93812991, 1349746.18864087,\n",
       "       1224234.1739656 , 1226836.65680227, 1121542.02128939,\n",
       "       1054103.88451399, 1230251.78252685, 1296496.61883575,\n",
       "       1145218.42119983, 1087060.63804754, 1070661.44219771,\n",
       "       1095826.56859761,  934056.02354197, 1171959.89806268,\n",
       "       1518146.25888131, 1403499.16236554, 1054173.60207187,\n",
       "       1201551.92836135, 1467419.47447404, 1143957.63805663,\n",
       "       1224381.7563236 , 1265204.50482343, 1241873.73790207,\n",
       "       1127234.87997302, 1078293.59698336, 1186406.73552303,\n",
       "       1360785.37299581, 1132623.27498182, 1017494.66234414,\n",
       "       1349772.98157935, 1616457.55434049, 1192475.5461687 ,\n",
       "       1236502.03094582, 1461836.23843378, 1182405.95576607,\n",
       "       1254219.39514347, 1296238.25803292, 1043719.98628384,\n",
       "        881352.03733771, 1171778.73305924, 1305213.38893782,\n",
       "       1021762.07329706, 1089035.55176172, 1134332.14323206,\n",
       "       1129771.90612106, 1099084.91738   , 1112863.51182914,\n",
       "       1279398.91313399, 1032622.66357045, 1471667.79716009,\n",
       "       1265724.76145952, 1313342.90790592, 1265868.11430415,\n",
       "       1203609.95213217, 1272876.40714206, 1031701.50574798,\n",
       "       1058946.97826208, 1140748.31671533, 1216796.49391467,\n",
       "       1130818.24504574, 1565350.46234372, 1182051.27156038,\n",
       "       1500769.80186871, 1115723.81047476, 1378750.77648612,\n",
       "       1170882.85381388, 1017807.88362767,  965128.96634399,\n",
       "       1394048.5972542 , 1323055.61868735, 1194930.65142644,\n",
       "       1598924.403553  , 1160607.94472615, 1389134.7147122 ,\n",
       "       1270851.5277613 , 1249069.51587937, 1508780.94343437,\n",
       "       1276233.10323976, 1318505.78675645, 1148750.91343947,\n",
       "       1214873.73604269, 1207476.23477762, 1228091.00582829,\n",
       "       1249144.60106753, 1059720.56817676, 1274802.63158109,\n",
       "       1410571.56659645,  949160.17981158, 1159127.77510221,\n",
       "       1219927.69196837, 1143562.16347985, 1065732.69213567,\n",
       "       1019948.0499762 , 1299752.22229639, 1282480.78199984,\n",
       "       1310189.66108877, 1140010.47723382, 1290991.5617483 ,\n",
       "       1070733.49127024, 1288534.93474477, 1380792.44552379,\n",
       "       1140337.51472135, 1265839.00922211, 1224967.67682969,\n",
       "       1252164.81983296, 1160282.95661379, 1167980.70278352,\n",
       "       1470550.3348532 , 1298991.2856666 , 1272374.72480333,\n",
       "       1354241.06572543, 1129428.37670947, 1038047.09370536,\n",
       "       1296122.68468382, 1262395.3848242 , 1145537.05142177,\n",
       "        914271.09971311, 1119137.35681218, 1374574.70987146,\n",
       "       1231899.59986315, 1275897.42976738, 1291257.64667742,\n",
       "       1111135.27659466, 1316516.56252844, 1145062.08432955,\n",
       "        851008.17044141, 1215685.36537717, 1173497.14095824,\n",
       "       1080058.71179924, 1177057.01031662, 1462305.82526937,\n",
       "       1219565.92149036, 1363608.08989558, 1138600.63051594,\n",
       "       1164552.39763698, 1273826.63020853, 1487216.88636646,\n",
       "       1317922.669681  , 1296992.74224609, 1363655.90800128,\n",
       "       1407682.02409579, 1186497.25485168, 1211794.45045929,\n",
       "       1095573.42390809, 1380525.74151079, 1239158.96670806,\n",
       "       1456245.6803352 , 1150907.05904694, 1047011.7260732 ,\n",
       "       1068587.54096197, 1043648.75697953, 1366592.01246044,\n",
       "       1348675.20302457, 1076479.01564133, 1143163.578425  ,\n",
       "       1252792.06272228, 1456391.52022799, 1184302.58684339,\n",
       "       1208629.15928303, 1388654.98942675, 1173777.8543378 ,\n",
       "       1214209.77054132, 1220905.80089841, 1182211.46468517,\n",
       "       1273902.58395368, 1166556.08453585, 1068254.74857055,\n",
       "       1164268.42824976, 1195905.27281377, 1035729.94877374,\n",
       "       1133675.76809229, 1336494.62721171, 1146272.84245882,\n",
       "       1311802.34582921, 1148902.40372841,  996848.13732834,\n",
       "       1022078.88334643, 1131418.70573208, 1146903.43107349,\n",
       "       1165767.46912514, 1141236.79151604, 1267499.53314414,\n",
       "       1131507.52994729, 1509777.4216715 , 1358787.26015616,\n",
       "       1412805.29717298, 1129318.64603204, 1170307.26021179,\n",
       "       1079521.41693177, 1036583.62700702, 1081959.6712587 ,\n",
       "       1129831.29774699, 1106178.6895094 , 1119526.07162933,\n",
       "       1083080.99599324, 1058058.16677501, 1056917.45180444,\n",
       "       1021535.60766048, 1448345.75902071, 1214052.07803062,\n",
       "       1184190.09233089, 1031486.00320692, 1310352.99451958,\n",
       "       1331200.75732465, 1179747.32081546, 1122655.012941  ,\n",
       "       1330190.72930576, 1335318.63303048, 1609116.04169895,\n",
       "       1297475.2052921 , 1335825.69462654, 1342782.39479833,\n",
       "       1182002.43630819, 1207374.28420092, 1256809.28944028,\n",
       "       1513569.89601795, 1161507.48614286, 1183438.47317428,\n",
       "       1190844.76399382, 1369249.65511261, 1092689.84087741,\n",
       "       1173632.35104093, 1168110.67996185,  950471.92913747,\n",
       "       1025794.75884634, 1428002.3666486 , 1381714.11698252,\n",
       "       1089924.41785576, 1106976.04521071, 1331433.56567549,\n",
       "       1268047.04007075, 1244762.46802512, 1391367.57460112,\n",
       "       1300288.58622796,  906497.56679926, 1389335.41029689,\n",
       "       1119144.18793673, 1108335.62385312,  994818.48185037,\n",
       "       1369837.75543946, 1497729.68459837, 1030102.31417234,\n",
       "       1326640.36079806, 1436183.47314522, 1331259.49151063,\n",
       "       1350960.85114971, 1143510.88919134, 1171879.7835791 ,\n",
       "       1011548.81731509, 1209530.92245928, 1102707.66757355,\n",
       "       1113880.77093504, 1319576.72309379, 1173472.76159823,\n",
       "       1177980.29997299, 1119989.62527177, 1472122.51395695,\n",
       "       1460489.23458675])"
      ]
     },
     "execution_count": 184,
     "metadata": {},
     "output_type": "execute_result"
    }
   ],
   "source": [
    "wA = 0.90\n",
    "wB = 1 - wA\n",
    "ensemble_predict = (wA * predict_linear) + (wB * predict_random)\n",
    "ensemble_predict"
   ]
  },
  {
   "cell_type": "code",
   "execution_count": 185,
   "id": "8d57296b",
   "metadata": {},
   "outputs": [
    {
     "name": "stdout",
     "output_type": "stream",
     "text": [
      "Métricas do Modelo Ensemble: \n",
      "- Mean Squared Erro (MSE): 2806487714.701809\n",
      "- Mean Absolute Erro (MAE): 42182.91894625987\n",
      "- R² Score: 0.8550988980159592\n"
     ]
    }
   ],
   "source": [
    "print(\"Métricas do Modelo Ensemble: \")\n",
    "print(f\"- Mean Squared Erro (MSE): {mean_squared_error(ensemble_predict, y_test)}\")\n",
    "print(f\"- Mean Absolute Erro (MAE): {mean_absolute_error(ensemble_predict, y_test)}\")\n",
    "print(f\"- R² Score: {r2_score(ensemble_predict , y_test)}\")"
   ]
  },
  {
   "cell_type": "markdown",
   "id": "97920957",
   "metadata": {
    "vscode": {
     "languageId": "html"
    }
   },
   "source": [
    "<table style='justify-content:center'>\n",
    "    <tr>\n",
    "        <th>Model</th>\n",
    "        <th>MSE</th>\n",
    "        <th>MAE</th>\n",
    "        <th>R²</th>\n",
    "    </tr>\n",
    "    <tr>\n",
    "        <td>Random Forest</td>\n",
    "        <td>3311317142</td>\n",
    "        <td>45449</td>\n",
    "        <td>0.80</td>\n",
    "    </tr>\n",
    "    <tr>\n",
    "        <td>Regressão Linear</td>\n",
    "        <td>2653397233</td>\n",
    "        <td>41434</td>\n",
    "        <td>0.85</td>\n",
    "    </tr>\n",
    "    <tr>\n",
    "        <td>Ensemble</td>\n",
    "        <td>2806487714</td>\n",
    "        <td>42182</td>\n",
    "        <td>0.85</td>\n",
    "    </tr>\n",
    "</table>"
   ]
  },
  {
   "cell_type": "markdown",
   "id": "e74c425d",
   "metadata": {
    "vscode": {
     "languageId": "html"
    }
   },
   "source": [
    "- Qual dos dois algoritmos apresentou melhor desempenho geral?\n",
    "Resposta: Regressão Linear apresentou um bom desempenho, tendo em vista que obteve um menor MSE e MAE em relação ao Random Forest. Já, o R² maior\n",
    "- O ensemble proposto, baseado na média ponderada, foi capaz de melhorar as métricas de predição? Se sim, em qual métrica ele se destacou?\n",
    "Resposta: Nesta primeira análise, o método ensemble não aprensentou resultados melhores do que o Linear Regression, porém em comparação com o Random Forest, pode-se dizer que ele apresenta superioridade."
   ]
  }
 ],
 "metadata": {
  "kernelspec": {
   "display_name": "venv",
   "language": "python",
   "name": "python3"
  },
  "language_info": {
   "codemirror_mode": {
    "name": "ipython",
    "version": 3
   },
   "file_extension": ".py",
   "mimetype": "text/x-python",
   "name": "python",
   "nbconvert_exporter": "python",
   "pygments_lexer": "ipython3",
   "version": "3.12.7"
  }
 },
 "nbformat": 4,
 "nbformat_minor": 5
}
