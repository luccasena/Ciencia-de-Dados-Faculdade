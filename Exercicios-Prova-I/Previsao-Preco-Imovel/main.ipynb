{
 "cells": [
  {
   "cell_type": "markdown",
   "id": "b464f3a4",
   "metadata": {},
   "source": [
    "## Problema de Regressão - Imóveis parte I\n",
    "\n",
    "- Você é encarregado de construir um modelo preditivo para prever o preço de imóveis com base em diversas variáveis, como área construída, número de quartos, idade do imóvel, e localização (representada por coordenadas geográficas). Os dados já estão pré-processados e disponíveis em um arquivo CSV.\n",
    "\n",
    "### Você deve seguir os seguintes passos para resolver a questão:\n",
    "\n",
    "1. Carregamento dos dados: \n",
    "- Use o arquivo imoveis.csv, que contém as colunas: area_construida, n_quartos, idade_imovel, latitude, longitude, e preco.\n",
    "\n",
    "\n",
    "2. Algoritmos de Regressão:\n",
    "- Utilize dois algoritmos de regressão: Regressão Linear e Regressão de Floresta Aleatória (Random Forest), ambos disponíveis no scikit-learn. Realize uma regressão múltipla utilizando ambos os algoritmos ao mesmo tempo, comparando os resultados.\n",
    "\n",
    "\n",
    "3. Validação e Métricas:\n",
    "- Divida os dados em conjuntos de treino (80%) e teste (20%).\n",
    "- Avalie os dois modelos utilizando as seguintes métricas:\n",
    "- Erro Médio Absoluto (MAE)\n",
    "- Erro Quadrático Médio (MSE)\n",
    "- R² Score\n",
    "- Erro Relativo Absoluto (RAE)\n",
    "\n",
    "\n",
    "4. Comparação e Interpretação:\n",
    "- Compare os resultados das métricas de cada modelo. Indique qual modelo obteve melhor desempenho em cada métrica e explique o motivo. Para inovar no resultado final, combine as previsões dos dois modelos, criando um ensemble de predições, onde o resultado final é a média ponderada das previsões dos dois modelos (dê peso maior ao modelo que apresentou melhor desempenho).\n",
    "\n",
    "5. Perguntas:\n",
    "    - Qual dos dois algoritmos apresentou melhor desempenho geral?\n",
    "    - O ensemble proposto, baseado na média ponderada, foi capaz de melhorar as métricas de predição? Se sim, em qual métrica ele se destacou?\n",
    "\n",
    "\n",
    "Código:\n",
    "Implemente o código Python para realizar as tarefas mencionadas, mostrando os passos detalhados de cada métrica e a geração dos resultados do ensemble.\n",
    "\n",
    "Desenvolvedor: Lucca de Sena Barbosa\n",
    "\n",
    "Curso: Ciências da Computação - 3º período"
   ]
  },
  {
   "cell_type": "code",
   "execution_count": 91,
   "id": "f770bea5",
   "metadata": {},
   "outputs": [],
   "source": [
    "import pandas as pd\n",
    "import seaborn as sn\n",
    "import matplotlib.pyplot as plt\n",
    "import plotly.express as px\n",
    "import plotly.graph_objects as go\n",
    "import numpy as np\n",
    "from geopy.distance import geodesic"
   ]
  },
  {
   "cell_type": "markdown",
   "id": "ad06120f",
   "metadata": {},
   "source": [
    "1. Carregamento dos dados: \n",
    "- Esses dados foram coletados de maneira artificial pela IA deepseak a fins acadêmicos. Portanto, os modelos não podem ser utilizados no contexto real."
   ]
  },
  {
   "cell_type": "code",
   "execution_count": null,
   "id": "ead034d4",
   "metadata": {},
   "outputs": [],
   "source": [
    "np.random.seed(42)\n",
    "n = 5000\n",
    "centro = (-23.5505, -46.6333)  # Centro de SP\n",
    "\n",
    "# Gerar dados sintéticos\n",
    "data = {\n",
    "    'area_construida': np.clip(np.random.lognormal(4.2, 0.3, n), 30, 500),\n",
    "    'num_quartos': np.random.choice([1,2,3,4], p=[0.2,0.5,0.2,0.1], size=n),\n",
    "    'num_banheiros': np.random.choice([1,2,3], p=[0.4,0.5,0.1], size=n),\n",
    "    'idade_imovel': np.random.randint(0, 50, n),\n",
    "    'latitude': np.random.uniform(-23.58, -23.53, n),\n",
    "    'longitude': np.random.uniform(-46.68, -46.61, n)\n",
    "}\n",
    "\n",
    "df = pd.DataFrame(data)\n",
    "\n",
    "# Engenharia de features geográficas\n",
    "df['distancia_centro'] = df.apply(lambda x: geodesic(centro, (x['latitude'], x['longitude'])).km, axis=1)\n",
    "\n",
    "# Gerar preço com relações não-lineares\n",
    "df['preco'] = (\n",
    "    df['area_construida'] * 3500 * (1 - df['idade_imovel']/100) +\n",
    "    df['num_quartos'] * 80000 +\n",
    "    df['num_banheiros'] * 50000 +\n",
    "    np.exp(-df['distancia_centro']/10) * 1000000 +\n",
    "    np.random.normal(0, 50000, n)\n",
    ").astype(int)\n",
    "\n",
    "# Salvar dataset\n",
    "df.to_csv('imoveis.csv', index=False)"
   ]
  },
  {
   "cell_type": "code",
   "execution_count": 92,
   "id": "0383cf1e",
   "metadata": {},
   "outputs": [
    {
     "data": {
      "application/vnd.microsoft.datawrangler.viewer.v0+json": {
       "columns": [
        {
         "name": "index",
         "rawType": "int64",
         "type": "integer"
        },
        {
         "name": "area_construida",
         "rawType": "float64",
         "type": "float"
        },
        {
         "name": "num_quartos",
         "rawType": "int64",
         "type": "integer"
        },
        {
         "name": "num_banheiros",
         "rawType": "int64",
         "type": "integer"
        },
        {
         "name": "idade_imovel",
         "rawType": "int64",
         "type": "integer"
        },
        {
         "name": "latitude",
         "rawType": "float64",
         "type": "float"
        },
        {
         "name": "longitude",
         "rawType": "float64",
         "type": "float"
        },
        {
         "name": "distancia_centro",
         "rawType": "float64",
         "type": "float"
        },
        {
         "name": "preco",
         "rawType": "int64",
         "type": "integer"
        }
       ],
       "conversionMethod": "pd.DataFrame",
       "ref": "2d1b27f9-d653-4420-8b01-ceb969f25f17",
       "rows": [
        [
         "0",
         "77.40212584400844",
         "1",
         "1",
         "47",
         "-23.549277552884195",
         "-46.65665749000786",
         "2.388699034428695",
         "1132546"
        ],
        [
         "1",
         "63.97681228405736",
         "1",
         "1",
         "1",
         "-23.570598738111464",
         "-46.62726618454766",
         "2.309640166944471",
         "1131616"
        ],
        [
         "2",
         "80.98845077081985",
         "2",
         "2",
         "15",
         "-23.532817496409443",
         "-46.66101339380507",
         "3.441348149936328",
         "1047834"
        ],
        [
         "3",
         "105.3100606090714",
         "2",
         "2",
         "15",
         "-23.55952145490976",
         "-46.63591092723278",
         "1.0340922529985206",
         "1431188"
        ],
        [
         "4",
         "62.16262827507078",
         "2",
         "1",
         "21",
         "-23.57872602832118",
         "-46.67827928703403",
         "5.555068070751408",
         "960997"
        ],
        [
         "5",
         "62.16293444742238",
         "2",
         "1",
         "42",
         "-23.56901140413676",
         "-46.63599920424191",
         "2.068611156941754",
         "1143976"
        ],
        [
         "6",
         "107.10009287700116",
         "2",
         "1",
         "0",
         "-23.54539662578644",
         "-46.61338742006865",
         "2.1102555379446466",
         "1383124"
        ],
        [
         "7",
         "83.95075851034063",
         "3",
         "2",
         "14",
         "-23.569919005059468",
         "-46.663539987010566",
         "3.762596803779954",
         "1253607"
        ],
        [
         "8",
         "57.92549896236876",
         "2",
         "1",
         "23",
         "-23.577304377056198",
         "-46.6255274359299",
         "3.0728607665263707",
         "1105848"
        ],
        [
         "9",
         "78.47405127027633",
         "1",
         "3",
         "3",
         "-23.549114688930267",
         "-46.65946035150591",
         "2.675442860402647",
         "1364432"
        ],
        [
         "10",
         "58.030845732698594",
         "2",
         "3",
         "17",
         "-23.55408226047029",
         "-46.630450517589",
         "0.491982428733884",
         "1414257"
        ],
        [
         "11",
         "57.990608436624754",
         "4",
         "1",
         "16",
         "-23.54193670819508",
         "-46.63100193410885",
         "0.976995054724528",
         "1555583"
        ],
        [
         "12",
         "71.70702220191576",
         "2",
         "1",
         "6",
         "-23.541368430572792",
         "-46.667068358081664",
         "3.593199320210441",
         "1167651"
        ],
        [
         "13",
         "37.562864895437855",
         "3",
         "2",
         "49",
         "-23.53200323731061",
         "-46.63820104627053",
         "2.108787889074456",
         "1183405"
        ],
        [
         "14",
         "39.74661380778189",
         "1",
         "1",
         "44",
         "-23.57714912279907",
         "-46.61985817328208",
         "3.254876513176072",
         "973424"
        ],
        [
         "15",
         "56.33487209781351",
         "2",
         "1",
         "9",
         "-23.578050529009086",
         "-46.653222685139234",
         "3.667038925143384",
         "960710"
        ],
        [
         "16",
         "49.21264801320496",
         "1",
         "1",
         "0",
         "-23.530640147598618",
         "-46.63028061340557",
         "2.2210140239101985",
         "1102314"
        ],
        [
         "17",
         "73.27900921806122",
         "2",
         "2",
         "1",
         "-23.54775760611515",
         "-46.632789897533584",
         "0.3081582075177816",
         "1509492"
        ],
        [
         "18",
         "50.78458061677272",
         "4",
         "2",
         "48",
         "-23.544231473016623",
         "-46.66197401987396",
         "3.008933587102186",
         "1279138"
        ],
        [
         "19",
         "43.65461000266814",
         "4",
         "1",
         "21",
         "-23.57517589901324",
         "-46.615694950815",
         "3.270964680214597",
         "1243572"
        ],
        [
         "20",
         "103.51273314318956",
         "2",
         "1",
         "31",
         "-23.576509365457586",
         "-46.64055415411186",
         "2.974266921122503",
         "1238947"
        ],
        [
         "21",
         "62.31904702801548",
         "2",
         "3",
         "28",
         "-23.57198732030321",
         "-46.65512951402361",
         "3.2603959323359044",
         "1203683"
        ],
        [
         "22",
         "68.05107059204222",
         "4",
         "2",
         "34",
         "-23.558640219860127",
         "-46.668494913700826",
         "3.704732011388539",
         "1303750"
        ],
        [
         "23",
         "43.49193611031894",
         "2",
         "2",
         "16",
         "-23.57449119086335",
         "-46.64685791533061",
         "2.9959874709155336",
         "1100992"
        ],
        [
         "24",
         "56.638285717618416",
         "1",
         "2",
         "11",
         "-23.55768331297796",
         "-46.62889205934688",
         "0.9140386140009408",
         "1327895"
        ],
        [
         "25",
         "68.94277253467264",
         "2",
         "2",
         "23",
         "-23.551923204844933",
         "-46.63634518111603",
         "0.3485894654943363",
         "1388539"
        ],
        [
         "26",
         "47.214541452898224",
         "2",
         "2",
         "29",
         "-23.579983351605744",
         "-46.629106320831305",
         "3.2932876160684765",
         "1154582"
        ],
        [
         "27",
         "74.64245188698949",
         "2",
         "1",
         "43",
         "-23.5742877184604",
         "-46.62457674733897",
         "2.780992000503408",
         "1115128"
        ],
        [
         "28",
         "55.690434128786826",
         "2",
         "1",
         "29",
         "-23.561240240411607",
         "-46.649129666345736",
         "2.0067234187419403",
         "1177478"
        ],
        [
         "29",
         "61.09877855505002",
         "2",
         "2",
         "19",
         "-23.57733351036516",
         "-46.6435883671183",
         "3.1520192521232127",
         "1206963"
        ],
        [
         "30",
         "55.67259506942099",
         "2",
         "2",
         "41",
         "-23.57332355133439",
         "-46.610950452189336",
         "3.405269651611715",
         "1161685"
        ],
        [
         "31",
         "116.2430729717961",
         "1",
         "3",
         "6",
         "-23.5684101804772",
         "-46.61223640229254",
         "2.9256158565594683",
         "1360817"
        ],
        [
         "32",
         "66.41685287112728",
         "2",
         "1",
         "41",
         "-23.558519929291617",
         "-46.65096280126688",
         "2.0102296665917563",
         "1175851"
        ],
        [
         "33",
         "48.55449237308851",
         "3",
         "3",
         "49",
         "-23.544258140103164",
         "-46.63203743330555",
         "0.7032140391056952",
         "1279618"
        ],
        [
         "34",
         "85.3502581321201",
         "2",
         "3",
         "37",
         "-23.573365569408708",
         "-46.66126868751705",
         "3.816604392537308",
         "1137458"
        ],
        [
         "35",
         "46.23545393649166",
         "2",
         "1",
         "6",
         "-23.543102071404533",
         "-46.669311171805504",
         "3.767098857756699",
         "972678"
        ],
        [
         "36",
         "70.99852331902437",
         "4",
         "2",
         "48",
         "-23.53724696351414",
         "-46.62621191441634",
         "1.6365302750819766",
         "1377985"
        ],
        [
         "37",
         "37.04372467253207",
         "4",
         "2",
         "29",
         "-23.547426061655734",
         "-46.649467402140736",
         "1.685484904831147",
         "1323550"
        ],
        [
         "38",
         "44.7702647292667",
         "2",
         "3",
         "11",
         "-23.577813715228608",
         "-46.6676063037445",
         "4.627915094920158",
         "1039415"
        ],
        [
         "39",
         "70.74333808596239",
         "1",
         "2",
         "48",
         "-23.557967315653627",
         "-46.62688064535356",
         "1.055236288319878",
         "1156931"
        ],
        [
         "40",
         "83.22435006002416",
         "3",
         "2",
         "30",
         "-23.546996699918324",
         "-46.615938074814416",
         "1.814676074576193",
         "1404213"
        ],
        [
         "41",
         "70.20436470311354",
         "3",
         "2",
         "17",
         "-23.53107434326964",
         "-46.614670854967954",
         "2.871766036351058",
         "1204809"
        ],
        [
         "42",
         "64.41235839759554",
         "4",
         "1",
         "45",
         "-23.53240958059654",
         "-46.63825664040762",
         "2.066480756160531",
         "1252748"
        ],
        [
         "43",
         "60.92654092312896",
         "3",
         "1",
         "42",
         "-23.560214842278004",
         "-46.64642512097176",
         "1.7185404412830374",
         "1257440"
        ],
        [
         "44",
         "42.795947044836346",
         "2",
         "2",
         "1",
         "-23.549203446388745",
         "-46.67006933896867",
         "3.756989259845296",
         "1143581"
        ],
        [
         "45",
         "53.734042407225054",
         "2",
         "2",
         "32",
         "-23.535459242631923",
         "-46.62450471370207",
         "1.8924531729155984",
         "1168961"
        ],
        [
         "46",
         "58.07924486010508",
         "1",
         "2",
         "10",
         "-23.53844768763119",
         "-46.613827379352976",
         "2.3947875830030694",
         "1202506"
        ],
        [
         "47",
         "91.57301826525618",
         "2",
         "2",
         "33",
         "-23.55602890829436",
         "-46.617737771046784",
         "1.7028116625720522",
         "1181574"
        ],
        [
         "48",
         "73.92754462597715",
         "2",
         "1",
         "15",
         "-23.566937933455417",
         "-46.62737515818936",
         "1.9183958857445729",
         "1255480"
        ],
        [
         "49",
         "39.29463334293581",
         "2",
         "2",
         "34",
         "-23.573145002660056",
         "-46.67968017961864",
         "5.358282206218434",
         "951259"
        ]
       ],
       "shape": {
        "columns": 8,
        "rows": 5000
       }
      },
      "text/html": [
       "<div>\n",
       "<style scoped>\n",
       "    .dataframe tbody tr th:only-of-type {\n",
       "        vertical-align: middle;\n",
       "    }\n",
       "\n",
       "    .dataframe tbody tr th {\n",
       "        vertical-align: top;\n",
       "    }\n",
       "\n",
       "    .dataframe thead th {\n",
       "        text-align: right;\n",
       "    }\n",
       "</style>\n",
       "<table border=\"1\" class=\"dataframe\">\n",
       "  <thead>\n",
       "    <tr style=\"text-align: right;\">\n",
       "      <th></th>\n",
       "      <th>area_construida</th>\n",
       "      <th>num_quartos</th>\n",
       "      <th>num_banheiros</th>\n",
       "      <th>idade_imovel</th>\n",
       "      <th>latitude</th>\n",
       "      <th>longitude</th>\n",
       "      <th>distancia_centro</th>\n",
       "      <th>preco</th>\n",
       "    </tr>\n",
       "  </thead>\n",
       "  <tbody>\n",
       "    <tr>\n",
       "      <th>0</th>\n",
       "      <td>77.402126</td>\n",
       "      <td>1</td>\n",
       "      <td>1</td>\n",
       "      <td>47</td>\n",
       "      <td>-23.549278</td>\n",
       "      <td>-46.656657</td>\n",
       "      <td>2.388699</td>\n",
       "      <td>1132546</td>\n",
       "    </tr>\n",
       "    <tr>\n",
       "      <th>1</th>\n",
       "      <td>63.976812</td>\n",
       "      <td>1</td>\n",
       "      <td>1</td>\n",
       "      <td>1</td>\n",
       "      <td>-23.570599</td>\n",
       "      <td>-46.627266</td>\n",
       "      <td>2.309640</td>\n",
       "      <td>1131616</td>\n",
       "    </tr>\n",
       "    <tr>\n",
       "      <th>2</th>\n",
       "      <td>80.988451</td>\n",
       "      <td>2</td>\n",
       "      <td>2</td>\n",
       "      <td>15</td>\n",
       "      <td>-23.532817</td>\n",
       "      <td>-46.661013</td>\n",
       "      <td>3.441348</td>\n",
       "      <td>1047834</td>\n",
       "    </tr>\n",
       "    <tr>\n",
       "      <th>3</th>\n",
       "      <td>105.310061</td>\n",
       "      <td>2</td>\n",
       "      <td>2</td>\n",
       "      <td>15</td>\n",
       "      <td>-23.559521</td>\n",
       "      <td>-46.635911</td>\n",
       "      <td>1.034092</td>\n",
       "      <td>1431188</td>\n",
       "    </tr>\n",
       "    <tr>\n",
       "      <th>4</th>\n",
       "      <td>62.162628</td>\n",
       "      <td>2</td>\n",
       "      <td>1</td>\n",
       "      <td>21</td>\n",
       "      <td>-23.578726</td>\n",
       "      <td>-46.678279</td>\n",
       "      <td>5.555068</td>\n",
       "      <td>960997</td>\n",
       "    </tr>\n",
       "    <tr>\n",
       "      <th>...</th>\n",
       "      <td>...</td>\n",
       "      <td>...</td>\n",
       "      <td>...</td>\n",
       "      <td>...</td>\n",
       "      <td>...</td>\n",
       "      <td>...</td>\n",
       "      <td>...</td>\n",
       "      <td>...</td>\n",
       "    </tr>\n",
       "    <tr>\n",
       "      <th>4995</th>\n",
       "      <td>65.713901</td>\n",
       "      <td>1</td>\n",
       "      <td>2</td>\n",
       "      <td>6</td>\n",
       "      <td>-23.531026</td>\n",
       "      <td>-46.642340</td>\n",
       "      <td>2.346011</td>\n",
       "      <td>1102602</td>\n",
       "    </tr>\n",
       "    <tr>\n",
       "      <th>4996</th>\n",
       "      <td>82.551569</td>\n",
       "      <td>3</td>\n",
       "      <td>2</td>\n",
       "      <td>24</td>\n",
       "      <td>-23.562271</td>\n",
       "      <td>-46.619909</td>\n",
       "      <td>1.889119</td>\n",
       "      <td>1395420</td>\n",
       "    </tr>\n",
       "    <tr>\n",
       "      <th>4997</th>\n",
       "      <td>169.673001</td>\n",
       "      <td>3</td>\n",
       "      <td>3</td>\n",
       "      <td>15</td>\n",
       "      <td>-23.530573</td>\n",
       "      <td>-46.667647</td>\n",
       "      <td>4.143791</td>\n",
       "      <td>1510439</td>\n",
       "    </tr>\n",
       "    <tr>\n",
       "      <th>4998</th>\n",
       "      <td>84.979568</td>\n",
       "      <td>1</td>\n",
       "      <td>2</td>\n",
       "      <td>21</td>\n",
       "      <td>-23.532158</td>\n",
       "      <td>-46.661383</td>\n",
       "      <td>3.514146</td>\n",
       "      <td>1098012</td>\n",
       "    </tr>\n",
       "    <tr>\n",
       "      <th>4999</th>\n",
       "      <td>51.706336</td>\n",
       "      <td>2</td>\n",
       "      <td>3</td>\n",
       "      <td>35</td>\n",
       "      <td>-23.548008</td>\n",
       "      <td>-46.614125</td>\n",
       "      <td>1.977210</td>\n",
       "      <td>1243361</td>\n",
       "    </tr>\n",
       "  </tbody>\n",
       "</table>\n",
       "<p>5000 rows × 8 columns</p>\n",
       "</div>"
      ],
      "text/plain": [
       "      area_construida  num_quartos  num_banheiros  idade_imovel   latitude  \\\n",
       "0           77.402126            1              1            47 -23.549278   \n",
       "1           63.976812            1              1             1 -23.570599   \n",
       "2           80.988451            2              2            15 -23.532817   \n",
       "3          105.310061            2              2            15 -23.559521   \n",
       "4           62.162628            2              1            21 -23.578726   \n",
       "...               ...          ...            ...           ...        ...   \n",
       "4995        65.713901            1              2             6 -23.531026   \n",
       "4996        82.551569            3              2            24 -23.562271   \n",
       "4997       169.673001            3              3            15 -23.530573   \n",
       "4998        84.979568            1              2            21 -23.532158   \n",
       "4999        51.706336            2              3            35 -23.548008   \n",
       "\n",
       "      longitude  distancia_centro    preco  \n",
       "0    -46.656657          2.388699  1132546  \n",
       "1    -46.627266          2.309640  1131616  \n",
       "2    -46.661013          3.441348  1047834  \n",
       "3    -46.635911          1.034092  1431188  \n",
       "4    -46.678279          5.555068   960997  \n",
       "...         ...               ...      ...  \n",
       "4995 -46.642340          2.346011  1102602  \n",
       "4996 -46.619909          1.889119  1395420  \n",
       "4997 -46.667647          4.143791  1510439  \n",
       "4998 -46.661383          3.514146  1098012  \n",
       "4999 -46.614125          1.977210  1243361  \n",
       "\n",
       "[5000 rows x 8 columns]"
      ]
     },
     "execution_count": 92,
     "metadata": {},
     "output_type": "execute_result"
    }
   ],
   "source": [
    "db = pd.read_csv(\"imoveis.csv\")\n",
    "db"
   ]
  },
  {
   "cell_type": "code",
   "execution_count": 93,
   "id": "151b38ae",
   "metadata": {},
   "outputs": [
    {
     "name": "stdout",
     "output_type": "stream",
     "text": [
      "<class 'pandas.core.frame.DataFrame'>\n",
      "RangeIndex: 5000 entries, 0 to 4999\n",
      "Data columns (total 8 columns):\n",
      " #   Column            Non-Null Count  Dtype  \n",
      "---  ------            --------------  -----  \n",
      " 0   area_construida   5000 non-null   float64\n",
      " 1   num_quartos       5000 non-null   int64  \n",
      " 2   num_banheiros     5000 non-null   int64  \n",
      " 3   idade_imovel      5000 non-null   int64  \n",
      " 4   latitude          5000 non-null   float64\n",
      " 5   longitude         5000 non-null   float64\n",
      " 6   distancia_centro  5000 non-null   float64\n",
      " 7   preco             5000 non-null   int64  \n",
      "dtypes: float64(4), int64(4)\n",
      "memory usage: 312.6 KB\n"
     ]
    }
   ],
   "source": [
    "db.info()"
   ]
  },
  {
   "cell_type": "code",
   "execution_count": 94,
   "id": "7d01ed9a",
   "metadata": {},
   "outputs": [
    {
     "data": {
      "text/plain": [
       "<Axes: >"
      ]
     },
     "execution_count": 94,
     "metadata": {},
     "output_type": "execute_result"
    },
    {
     "data": {
      "image/png": "[encoded data removed]",
      "text/plain": [
       "<Figure size 640x480 with 2 Axes>"
      ]
     },
     "metadata": {},
     "output_type": "display_data"
    }
   ],
   "source": [
    "plt.Figure(figsize=(10, 7))\n",
    "sn.heatmap(db.corr(), annot=True, fmt='.2f')"
   ]
  },
  {
   "cell_type": "code",
   "execution_count": 146,
   "id": "1222ad52",
   "metadata": {},
   "outputs": [
    {
     "data": {
      "text/plain": [
       "(array([[ 77.40212584,   1.        ,   1.        , ..., -23.54927755,\n",
       "         -46.65665749,   2.38869903],\n",
       "        [ 63.97681228,   1.        ,   1.        , ..., -23.57059874,\n",
       "         -46.62726618,   2.30964017],\n",
       "        [ 80.98845077,   2.        ,   2.        , ..., -23.5328175 ,\n",
       "         -46.66101339,   3.44134815],\n",
       "        ...,\n",
       "        [169.67300085,   3.        ,   3.        , ..., -23.5305727 ,\n",
       "         -46.66764706,   4.14379097],\n",
       "        [ 84.97956848,   1.        ,   2.        , ..., -23.53215832,\n",
       "         -46.66138303,   3.51414622],\n",
       "        [ 51.70633566,   2.        ,   3.        , ..., -23.5480084 ,\n",
       "         -46.61412467,   1.9772102 ]], shape=(5000, 7)),\n",
       " array([1132546, 1131616, 1047834, ..., 1510439, 1098012, 1243361],\n",
       "       shape=(5000,)))"
      ]
     },
     "execution_count": 146,
     "metadata": {},
     "output_type": "execute_result"
    }
   ],
   "source": [
    "x_values = db.iloc[:, 0:7].values\n",
    "y_values = db.iloc[:, 7].values\n",
    "\n",
    "x_values, y_values"
   ]
  },
  {
   "cell_type": "markdown",
   "id": "f4685555",
   "metadata": {},
   "source": [
    "### 2. Algoritmos de Regressão:\n",
    "- Para este problema de Regressão, iremos utilizar os seguintes modelos:\n",
    "1. Linear Regression;\n",
    "2. Random Forest Regressor;"
   ]
  },
  {
   "cell_type": "markdown",
   "id": "cd26de4c",
   "metadata": {},
   "source": [
    "### 3. Validação e Métricas:\n",
    "- Divida os dados em conjuntos de treino (80%) e teste (20%).\n",
    "\n"
   ]
  },
  {
   "cell_type": "code",
   "execution_count": 149,
   "id": "c3e117de",
   "metadata": {},
   "outputs": [
    {
     "data": {
      "text/plain": [
       "((4000, 7), (1000, 7), (4000,), (1000,))"
      ]
     },
     "execution_count": 149,
     "metadata": {},
     "output_type": "execute_result"
    }
   ],
   "source": [
    "from sklearn.model_selection import train_test_split\n",
    "\n",
    "x_train, x_test, y_train, y_test = train_test_split(x_values, y_values, test_size=0.2)\n",
    "\n",
    "x_train.shape, x_test.shape, y_train.shape, y_test.shape"
   ]
  },
  {
   "cell_type": "code",
   "execution_count": 119,
   "id": "e89ccdfc",
   "metadata": {},
   "outputs": [],
   "source": [
    "from sklearn.linear_model import LinearRegression\n",
    "from sklearn.ensemble import RandomForestRegressor\n",
    "from sklearn.metrics import r2_score, mean_squared_error, mean_absolute_error"
   ]
  },
  {
   "cell_type": "code",
   "execution_count": 151,
   "id": "39afb0a7",
   "metadata": {},
   "outputs": [
    {
     "data": {
      "text/plain": [
       "0.8759422787067392"
      ]
     },
     "execution_count": 151,
     "metadata": {},
     "output_type": "execute_result"
    }
   ],
   "source": [
    "model_linear = LinearRegression()\n",
    "model_linear.fit(x_train, y_train)\n",
    "model_linear.score(x_train, y_train)"
   ]
  },
  {
   "cell_type": "code",
   "execution_count": null,
   "id": "46536e85",
   "metadata": {},
   "outputs": [],
   "source": [
    "predict_linear = model_linear.predict(x_test)\n",
    "predict_linear"
   ]
  },
  {
   "cell_type": "code",
   "execution_count": 153,
   "id": "8f776b68",
   "metadata": {},
   "outputs": [
    {
     "data": {
      "text/plain": [
       "0.9776186411338109"
      ]
     },
     "execution_count": 153,
     "metadata": {},
     "output_type": "execute_result"
    }
   ],
   "source": [
    "model_random = RandomForestRegressor()\n",
    "model_random.fit(x_train, y_train)\n",
    "model_random.score(x_train, y_train)"
   ]
  },
  {
   "cell_type": "code",
   "execution_count": null,
   "id": "8f08ea50",
   "metadata": {},
   "outputs": [],
   "source": [
    "predict_random = model_random.predict(x_test)\n",
    "predict_random"
   ]
  },
  {
   "cell_type": "markdown",
   "id": "6d8255fc",
   "metadata": {},
   "source": [
    "- Avalie os dois modelos utilizando as seguintes métricas:\n",
    "- Erro Médio Absoluto (MAE)\n",
    "- Erro Quadrático Médio (MSE)\n",
    "- R² Score\n",
    "- Erro Relativo Absoluto (RAE)"
   ]
  },
  {
   "cell_type": "code",
   "execution_count": 156,
   "id": "c1cad183",
   "metadata": {},
   "outputs": [
    {
     "name": "stdout",
     "output_type": "stream",
     "text": [
      "Métricas do Modelo de Regressão Linear: \n",
      "- Mean Squared Erro (MSE): 2828279195.7831464\n",
      "- Mean Absolute Erro (MAE): 42289.4771160675\n",
      "- R² Score: 0.8561015266406732\n"
     ]
    }
   ],
   "source": [
    "print(\"Métricas do Modelo de Regressão Linear: \")\n",
    "print(f\"- Mean Squared Erro (MSE): {mean_squared_error(predict_linear, y_test)}\")\n",
    "print(f\"- Mean Absolute Erro (MAE): {mean_absolute_error(predict_linear, y_test)}\")\n",
    "print(f\"- R² Score: {r2_score(predict_linear , y_test)}\")\n",
    " "
   ]
  },
  {
   "cell_type": "code",
   "execution_count": 157,
   "id": "441fbed3",
   "metadata": {},
   "outputs": [
    {
     "data": {
      "application/vnd.plotly.v1+json": {
       "config": {
        "plotlyServerURL": "https://plot.ly"
       },
       "data": [
        {
         "hovertemplate": "x=%{x}<br>y=%{y}<extra></extra>",
         "legendgroup": "",
         "marker": {
          "color": "#636efa",
          "symbol": "circle"
         },
         "mode": "markers",
         "name": "",
         "orientation": "v",
         "showlegend": false,
         "type": "scatter",
         "x": {
          "bdata": "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",
          "dtype": "i4"
         },
         "xaxis": "x",
         "y": {
          "bdata": "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",
          "dtype": "f8"
         },
         "yaxis": "y"
        }
       ],
       "layout": {
        "legend": {
         "tracegroupgap": 0
        },
        "margin": {
         "t": 60
        },
        "template": {
         "data": {
          "bar": [
           {
            "error_x": {
             "color": "#2a3f5f"
            },
            "error_y": {
             "color": "#2a3f5f"
            },
            "marker": {
             "line": {
              "color": "#E5ECF6",
              "width": 0.5
             },
             "pattern": {
              "fillmode": "overlay",
              "size": 10,
              "solidity": 0.2
             }
            },
            "type": "bar"
           }
          ],
          "barpolar": [
           {
            "marker": {
             "line": {
              "color": "#E5ECF6",
              "width": 0.5
             },
             "pattern": {
              "fillmode": "overlay",
              "size": 10,
              "solidity": 0.2
             }
            },
            "type": "barpolar"
           }
          ],
          "carpet": [
           {
            "aaxis": {
             "endlinecolor": "#2a3f5f",
             "gridcolor": "white",
             "linecolor": "white",
             "minorgridcolor": "white",
             "startlinecolor": "#2a3f5f"
            },
            "baxis": {
             "endlinecolor": "#2a3f5f",
             "gridcolor": "white",
             "linecolor": "white",
             "minorgridcolor": "white",
             "startlinecolor": "#2a3f5f"
            },
            "type": "carpet"
           }
          ],
          "choropleth": [
           {
            "colorbar": {
             "outlinewidth": 0,
             "ticks": ""
            },
            "type": "choropleth"
           }
          ],
          "contour": [
           {
            "colorbar": {
             "outlinewidth": 0,
             "ticks": ""
            },
            "colorscale": [
             [
              0,
              "#0d0887"
             ],
             [
              0.1111111111111111,
              "#46039f"
             ],
             [
              0.2222222222222222,
              "#7201a8"
             ],
             [
              0.3333333333333333,
              "#9c179e"
             ],
             [
              0.4444444444444444,
              "#bd3786"
             ],
             [
              0.5555555555555556,
              "#d8576b"
             ],
             [
              0.6666666666666666,
              "#ed7953"
             ],
             [
              0.7777777777777778,
              "#fb9f3a"
             ],
             [
              0.8888888888888888,
              "#fdca26"
             ],
             [
              1,
              "#f0f921"
             ]
            ],
            "type": "contour"
           }
          ],
          "contourcarpet": [
           {
            "colorbar": {
             "outlinewidth": 0,
             "ticks": ""
            },
            "type": "contourcarpet"
           }
          ],
          "heatmap": [
           {
            "colorbar": {
             "outlinewidth": 0,
             "ticks": ""
            },
            "colorscale": [
             [
              0,
              "#0d0887"
             ],
             [
              0.1111111111111111,
              "#46039f"
             ],
             [
              0.2222222222222222,
              "#7201a8"
             ],
             [
              0.3333333333333333,
              "#9c179e"
             ],
             [
              0.4444444444444444,
              "#bd3786"
             ],
             [
              0.5555555555555556,
              "#d8576b"
             ],
             [
              0.6666666666666666,
              "#ed7953"
             ],
             [
              0.7777777777777778,
              "#fb9f3a"
             ],
             [
              0.8888888888888888,
              "#fdca26"
             ],
             [
              1,
              "#f0f921"
             ]
            ],
            "type": "heatmap"
           }
          ],
          "histogram": [
           {
            "marker": {
             "pattern": {
              "fillmode": "overlay",
              "size": 10,
              "solidity": 0.2
             }
            },
            "type": "histogram"
           }
          ],
          "histogram2d": [
           {
            "colorbar": {
             "outlinewidth": 0,
             "ticks": ""
            },
            "colorscale": [
             [
              0,
              "#0d0887"
             ],
             [
              0.1111111111111111,
              "#46039f"
             ],
             [
              0.2222222222222222,
              "#7201a8"
             ],
             [
              0.3333333333333333,
              "#9c179e"
             ],
             [
              0.4444444444444444,
              "#bd3786"
             ],
             [
              0.5555555555555556,
              "#d8576b"
             ],
             [
              0.6666666666666666,
              "#ed7953"
             ],
             [
              0.7777777777777778,
              "#fb9f3a"
             ],
             [
              0.8888888888888888,
              "#fdca26"
             ],
             [
              1,
              "#f0f921"
             ]
            ],
            "type": "histogram2d"
           }
          ],
          "histogram2dcontour": [
           {
            "colorbar": {
             "outlinewidth": 0,
             "ticks": ""
            },
            "colorscale": [
             [
              0,
              "#0d0887"
             ],
             [
              0.1111111111111111,
              "#46039f"
             ],
             [
              0.2222222222222222,
              "#7201a8"
             ],
             [
              0.3333333333333333,
              "#9c179e"
             ],
             [
              0.4444444444444444,
              "#bd3786"
             ],
             [
              0.5555555555555556,
              "#d8576b"
             ],
             [
              0.6666666666666666,
              "#ed7953"
             ],
             [
              0.7777777777777778,
              "#fb9f3a"
             ],
             [
              0.8888888888888888,
              "#fdca26"
             ],
             [
              1,
              "#f0f921"
             ]
            ],
            "type": "histogram2dcontour"
           }
          ],
          "mesh3d": [
           {
            "colorbar": {
             "outlinewidth": 0,
             "ticks": ""
            },
            "type": "mesh3d"
           }
          ],
          "parcoords": [
           {
            "line": {
             "colorbar": {
              "outlinewidth": 0,
              "ticks": ""
             }
            },
            "type": "parcoords"
           }
          ],
          "pie": [
           {
            "automargin": true,
            "type": "pie"
           }
          ],
          "scatter": [
           {
            "fillpattern": {
             "fillmode": "overlay",
             "size": 10,
             "solidity": 0.2
            },
            "type": "scatter"
           }
          ],
          "scatter3d": [
           {
            "line": {
             "colorbar": {
              "outlinewidth": 0,
              "ticks": ""
             }
            },
            "marker": {
             "colorbar": {
              "outlinewidth": 0,
              "ticks": ""
             }
            },
            "type": "scatter3d"
           }
          ],
          "scattercarpet": [
           {
            "marker": {
             "colorbar": {
              "outlinewidth": 0,
              "ticks": ""
             }
            },
            "type": "scattercarpet"
           }
          ],
          "scattergeo": [
           {
            "marker": {
             "colorbar": {
              "outlinewidth": 0,
              "ticks": ""
             }
            },
            "type": "scattergeo"
           }
          ],
          "scattergl": [
           {
            "marker": {
             "colorbar": {
              "outlinewidth": 0,
              "ticks": ""
             }
            },
            "type": "scattergl"
           }
          ],
          "scattermap": [
           {
            "marker": {
             "colorbar": {
              "outlinewidth": 0,
              "ticks": ""
             }
            },
            "type": "scattermap"
           }
          ],
          "scattermapbox": [
           {
            "marker": {
             "colorbar": {
              "outlinewidth": 0,
              "ticks": ""
             }
            },
            "type": "scattermapbox"
           }
          ],
          "scatterpolar": [
           {
            "marker": {
             "colorbar": {
              "outlinewidth": 0,
              "ticks": ""
             }
            },
            "type": "scatterpolar"
           }
          ],
          "scatterpolargl": [
           {
            "marker": {
             "colorbar": {
              "outlinewidth": 0,
              "ticks": ""
             }
            },
            "type": "scatterpolargl"
           }
          ],
          "scatterternary": [
           {
            "marker": {
             "colorbar": {
              "outlinewidth": 0,
              "ticks": ""
             }
            },
            "type": "scatterternary"
           }
          ],
          "surface": [
           {
            "colorbar": {
             "outlinewidth": 0,
             "ticks": ""
            },
            "colorscale": [
             [
              0,
              "#0d0887"
             ],
             [
              0.1111111111111111,
              "#46039f"
             ],
             [
              0.2222222222222222,
              "#7201a8"
             ],
             [
              0.3333333333333333,
              "#9c179e"
             ],
             [
              0.4444444444444444,
              "#bd3786"
             ],
             [
              0.5555555555555556,
              "#d8576b"
             ],
             [
              0.6666666666666666,
              "#ed7953"
             ],
             [
              0.7777777777777778,
              "#fb9f3a"
             ],
             [
              0.8888888888888888,
              "#fdca26"
             ],
             [
              1,
              "#f0f921"
             ]
            ],
            "type": "surface"
           }
          ],
          "table": [
           {
            "cells": {
             "fill": {
              "color": "#EBF0F8"
             },
             "line": {
              "color": "white"
             }
            },
            "header": {
             "fill": {
              "color": "#C8D4E3"
             },
             "line": {
              "color": "white"
             }
            },
            "type": "table"
           }
          ]
         },
         "layout": {
          "annotationdefaults": {
           "arrowcolor": "#2a3f5f",
           "arrowhead": 0,
           "arrowwidth": 1
          },
          "autotypenumbers": "strict",
          "coloraxis": {
           "colorbar": {
            "outlinewidth": 0,
            "ticks": ""
           }
          },
          "colorscale": {
           "diverging": [
            [
             0,
             "#8e0152"
            ],
            [
             0.1,
             "#c51b7d"
            ],
            [
             0.2,
             "#de77ae"
            ],
            [
             0.3,
             "#f1b6da"
            ],
            [
             0.4,
             "#fde0ef"
            ],
            [
             0.5,
             "#f7f7f7"
            ],
            [
             0.6,
             "#e6f5d0"
            ],
            [
             0.7,
             "#b8e186"
            ],
            [
             0.8,
             "#7fbc41"
            ],
            [
             0.9,
             "#4d9221"
            ],
            [
             1,
             "#276419"
            ]
           ],
           "sequential": [
            [
             0,
             "#0d0887"
            ],
            [
             0.1111111111111111,
             "#46039f"
            ],
            [
             0.2222222222222222,
             "#7201a8"
            ],
            [
             0.3333333333333333,
             "#9c179e"
            ],
            [
             0.4444444444444444,
             "#bd3786"
            ],
            [
             0.5555555555555556,
             "#d8576b"
            ],
            [
             0.6666666666666666,
             "#ed7953"
            ],
            [
             0.7777777777777778,
             "#fb9f3a"
            ],
            [
             0.8888888888888888,
             "#fdca26"
            ],
            [
             1,
             "#f0f921"
            ]
           ],
           "sequentialminus": [
            [
             0,
             "#0d0887"
            ],
            [
             0.1111111111111111,
             "#46039f"
            ],
            [
             0.2222222222222222,
             "#7201a8"
            ],
            [
             0.3333333333333333,
             "#9c179e"
            ],
            [
             0.4444444444444444,
             "#bd3786"
            ],
            [
             0.5555555555555556,
             "#d8576b"
            ],
            [
             0.6666666666666666,
             "#ed7953"
            ],
            [
             0.7777777777777778,
             "#fb9f3a"
            ],
            [
             0.8888888888888888,
             "#fdca26"
            ],
            [
             1,
             "#f0f921"
            ]
           ]
          },
          "colorway": [
           "#636efa",
           "#EF553B",
           "#00cc96",
           "#ab63fa",
           "#FFA15A",
           "#19d3f3",
           "#FF6692",
           "#B6E880",
           "#FF97FF",
           "#FECB52"
          ],
          "font": {
           "color": "#2a3f5f"
          },
          "geo": {
           "bgcolor": "white",
           "lakecolor": "white",
           "landcolor": "#E5ECF6",
           "showlakes": true,
           "showland": true,
           "subunitcolor": "white"
          },
          "hoverlabel": {
           "align": "left"
          },
          "hovermode": "closest",
          "mapbox": {
           "style": "light"
          },
          "paper_bgcolor": "white",
          "plot_bgcolor": "#E5ECF6",
          "polar": {
           "angularaxis": {
            "gridcolor": "white",
            "linecolor": "white",
            "ticks": ""
           },
           "bgcolor": "#E5ECF6",
           "radialaxis": {
            "gridcolor": "white",
            "linecolor": "white",
            "ticks": ""
           }
          },
          "scene": {
           "xaxis": {
            "backgroundcolor": "#E5ECF6",
            "gridcolor": "white",
            "gridwidth": 2,
            "linecolor": "white",
            "showbackground": true,
            "ticks": "",
            "zerolinecolor": "white"
           },
           "yaxis": {
            "backgroundcolor": "#E5ECF6",
            "gridcolor": "white",
            "gridwidth": 2,
            "linecolor": "white",
            "showbackground": true,
            "ticks": "",
            "zerolinecolor": "white"
           },
           "zaxis": {
            "backgroundcolor": "#E5ECF6",
            "gridcolor": "white",
            "gridwidth": 2,
            "linecolor": "white",
            "showbackground": true,
            "ticks": "",
            "zerolinecolor": "white"
           }
          },
          "shapedefaults": {
           "line": {
            "color": "#2a3f5f"
           }
          },
          "ternary": {
           "aaxis": {
            "gridcolor": "white",
            "linecolor": "white",
            "ticks": ""
           },
           "baxis": {
            "gridcolor": "white",
            "linecolor": "white",
            "ticks": ""
           },
           "bgcolor": "#E5ECF6",
           "caxis": {
            "gridcolor": "white",
            "linecolor": "white",
            "ticks": ""
           }
          },
          "title": {
           "x": 0.05
          },
          "xaxis": {
           "automargin": true,
           "gridcolor": "white",
           "linecolor": "white",
           "ticks": "",
           "title": {
            "standoff": 15
           },
           "zerolinecolor": "white",
           "zerolinewidth": 2
          },
          "yaxis": {
           "automargin": true,
           "gridcolor": "white",
           "linecolor": "white",
           "ticks": "",
           "title": {
            "standoff": 15
           },
           "zerolinecolor": "white",
           "zerolinewidth": 2
          }
         }
        },
        "xaxis": {
         "anchor": "y",
         "domain": [
          0,
          1
         ],
         "title": {
          "text": "x"
         }
        },
        "yaxis": {
         "anchor": "x",
         "domain": [
          0,
          1
         ],
         "title": {
          "text": "y"
         }
        }
       }
      }
     },
     "metadata": {},
     "output_type": "display_data"
    }
   ],
   "source": [
    "graph1 = px.scatter(x=y_test, y=predict_linear)\n",
    "graph1"
   ]
  },
  {
   "cell_type": "code",
   "execution_count": 158,
   "id": "834c4b3e",
   "metadata": {},
   "outputs": [
    {
     "name": "stdout",
     "output_type": "stream",
     "text": [
      "Métricas do Modelo de Regressão de Floresta Aleatória: \n",
      "- Mean Squared Erro (MSE): 3397921006.4967723\n",
      "- Mean Absolute Erro (MAE): 46683.53712\n",
      "- R² Score: 0.8066688553370851\n"
     ]
    }
   ],
   "source": [
    "print(\"Métricas do Modelo de Regressão de Floresta Aleatória: \")\n",
    "print(f\"- Mean Squared Erro (MSE): {mean_squared_error(predict_random, y_test)}\")\n",
    "print(f\"- Mean Absolute Erro (MAE): {mean_absolute_error(predict_random, y_test)}\")\n",
    "print(f\"- R² Score: {r2_score(predict_random , y_test)}\")"
   ]
  },
  {
   "cell_type": "code",
   "execution_count": 159,
   "id": "a97ceab9",
   "metadata": {},
   "outputs": [
    {
     "data": {
      "application/vnd.plotly.v1+json": {
       "config": {
        "plotlyServerURL": "https://plot.ly"
       },
       "data": [
        {
         "hovertemplate": "x=%{x}<br>y=%{y}<extra></extra>",
         "legendgroup": "",
         "marker": {
          "color": "#636efa",
          "symbol": "circle"
         },
         "mode": "markers",
         "name": "",
         "orientation": "v",
         "showlegend": false,
         "type": "scatter",
         "x": {
          "bdata": "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",
          "dtype": "i4"
         },
         "xaxis": "x",
         "y": {
          "bdata": "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",
          "dtype": "f8"
         },
         "yaxis": "y"
        }
       ],
       "layout": {
        "legend": {
         "tracegroupgap": 0
        },
        "margin": {
         "t": 60
        },
        "template": {
         "data": {
          "bar": [
           {
            "error_x": {
             "color": "#2a3f5f"
            },
            "error_y": {
             "color": "#2a3f5f"
            },
            "marker": {
             "line": {
              "color": "#E5ECF6",
              "width": 0.5
             },
             "pattern": {
              "fillmode": "overlay",
              "size": 10,
              "solidity": 0.2
             }
            },
            "type": "bar"
           }
          ],
          "barpolar": [
           {
            "marker": {
             "line": {
              "color": "#E5ECF6",
              "width": 0.5
             },
             "pattern": {
              "fillmode": "overlay",
              "size": 10,
              "solidity": 0.2
             }
            },
            "type": "barpolar"
           }
          ],
          "carpet": [
           {
            "aaxis": {
             "endlinecolor": "#2a3f5f",
             "gridcolor": "white",
             "linecolor": "white",
             "minorgridcolor": "white",
             "startlinecolor": "#2a3f5f"
            },
            "baxis": {
             "endlinecolor": "#2a3f5f",
             "gridcolor": "white",
             "linecolor": "white",
             "minorgridcolor": "white",
             "startlinecolor": "#2a3f5f"
            },
            "type": "carpet"
           }
          ],
          "choropleth": [
           {
            "colorbar": {
             "outlinewidth": 0,
             "ticks": ""
            },
            "type": "choropleth"
           }
          ],
          "contour": [
           {
            "colorbar": {
             "outlinewidth": 0,
             "ticks": ""
            },
            "colorscale": [
             [
              0,
              "#0d0887"
             ],
             [
              0.1111111111111111,
              "#46039f"
             ],
             [
              0.2222222222222222,
              "#7201a8"
             ],
             [
              0.3333333333333333,
              "#9c179e"
             ],
             [
              0.4444444444444444,
              "#bd3786"
             ],
             [
              0.5555555555555556,
              "#d8576b"
             ],
             [
              0.6666666666666666,
              "#ed7953"
             ],
             [
              0.7777777777777778,
              "#fb9f3a"
             ],
             [
              0.8888888888888888,
              "#fdca26"
             ],
             [
              1,
              "#f0f921"
             ]
            ],
            "type": "contour"
           }
          ],
          "contourcarpet": [
           {
            "colorbar": {
             "outlinewidth": 0,
             "ticks": ""
            },
            "type": "contourcarpet"
           }
          ],
          "heatmap": [
           {
            "colorbar": {
             "outlinewidth": 0,
             "ticks": ""
            },
            "colorscale": [
             [
              0,
              "#0d0887"
             ],
             [
              0.1111111111111111,
              "#46039f"
             ],
             [
              0.2222222222222222,
              "#7201a8"
             ],
             [
              0.3333333333333333,
              "#9c179e"
             ],
             [
              0.4444444444444444,
              "#bd3786"
             ],
             [
              0.5555555555555556,
              "#d8576b"
             ],
             [
              0.6666666666666666,
              "#ed7953"
             ],
             [
              0.7777777777777778,
              "#fb9f3a"
             ],
             [
              0.8888888888888888,
              "#fdca26"
             ],
             [
              1,
              "#f0f921"
             ]
            ],
            "type": "heatmap"
           }
          ],
          "histogram": [
           {
            "marker": {
             "pattern": {
              "fillmode": "overlay",
              "size": 10,
              "solidity": 0.2
             }
            },
            "type": "histogram"
           }
          ],
          "histogram2d": [
           {
            "colorbar": {
             "outlinewidth": 0,
             "ticks": ""
            },
            "colorscale": [
             [
              0,
              "#0d0887"
             ],
             [
              0.1111111111111111,
              "#46039f"
             ],
             [
              0.2222222222222222,
              "#7201a8"
             ],
             [
              0.3333333333333333,
              "#9c179e"
             ],
             [
              0.4444444444444444,
              "#bd3786"
             ],
             [
              0.5555555555555556,
              "#d8576b"
             ],
             [
              0.6666666666666666,
              "#ed7953"
             ],
             [
              0.7777777777777778,
              "#fb9f3a"
             ],
             [
              0.8888888888888888,
              "#fdca26"
             ],
             [
              1,
              "#f0f921"
             ]
            ],
            "type": "histogram2d"
           }
          ],
          "histogram2dcontour": [
           {
            "colorbar": {
             "outlinewidth": 0,
             "ticks": ""
            },
            "colorscale": [
             [
              0,
              "#0d0887"
             ],
             [
              0.1111111111111111,
              "#46039f"
             ],
             [
              0.2222222222222222,
              "#7201a8"
             ],
             [
              0.3333333333333333,
              "#9c179e"
             ],
             [
              0.4444444444444444,
              "#bd3786"
             ],
             [
              0.5555555555555556,
              "#d8576b"
             ],
             [
              0.6666666666666666,
              "#ed7953"
             ],
             [
              0.7777777777777778,
              "#fb9f3a"
             ],
             [
              0.8888888888888888,
              "#fdca26"
             ],
             [
              1,
              "#f0f921"
             ]
            ],
            "type": "histogram2dcontour"
           }
          ],
          "mesh3d": [
           {
            "colorbar": {
             "outlinewidth": 0,
             "ticks": ""
            },
            "type": "mesh3d"
           }
          ],
          "parcoords": [
           {
            "line": {
             "colorbar": {
              "outlinewidth": 0,
              "ticks": ""
             }
            },
            "type": "parcoords"
           }
          ],
          "pie": [
           {
            "automargin": true,
            "type": "pie"
           }
          ],
          "scatter": [
           {
            "fillpattern": {
             "fillmode": "overlay",
             "size": 10,
             "solidity": 0.2
            },
            "type": "scatter"
           }
          ],
          "scatter3d": [
           {
            "line": {
             "colorbar": {
              "outlinewidth": 0,
              "ticks": ""
             }
            },
            "marker": {
             "colorbar": {
              "outlinewidth": 0,
              "ticks": ""
             }
            },
            "type": "scatter3d"
           }
          ],
          "scattercarpet": [
           {
            "marker": {
             "colorbar": {
              "outlinewidth": 0,
              "ticks": ""
             }
            },
            "type": "scattercarpet"
           }
          ],
          "scattergeo": [
           {
            "marker": {
             "colorbar": {
              "outlinewidth": 0,
              "ticks": ""
             }
            },
            "type": "scattergeo"
           }
          ],
          "scattergl": [
           {
            "marker": {
             "colorbar": {
              "outlinewidth": 0,
              "ticks": ""
             }
            },
            "type": "scattergl"
           }
          ],
          "scattermap": [
           {
            "marker": {
             "colorbar": {
              "outlinewidth": 0,
              "ticks": ""
             }
            },
            "type": "scattermap"
           }
          ],
          "scattermapbox": [
           {
            "marker": {
             "colorbar": {
              "outlinewidth": 0,
              "ticks": ""
             }
            },
            "type": "scattermapbox"
           }
          ],
          "scatterpolar": [
           {
            "marker": {
             "colorbar": {
              "outlinewidth": 0,
              "ticks": ""
             }
            },
            "type": "scatterpolar"
           }
          ],
          "scatterpolargl": [
           {
            "marker": {
             "colorbar": {
              "outlinewidth": 0,
              "ticks": ""
             }
            },
            "type": "scatterpolargl"
           }
          ],
          "scatterternary": [
           {
            "marker": {
             "colorbar": {
              "outlinewidth": 0,
              "ticks": ""
             }
            },
            "type": "scatterternary"
           }
          ],
          "surface": [
           {
            "colorbar": {
             "outlinewidth": 0,
             "ticks": ""
            },
            "colorscale": [
             [
              0,
              "#0d0887"
             ],
             [
              0.1111111111111111,
              "#46039f"
             ],
             [
              0.2222222222222222,
              "#7201a8"
             ],
             [
              0.3333333333333333,
              "#9c179e"
             ],
             [
              0.4444444444444444,
              "#bd3786"
             ],
             [
              0.5555555555555556,
              "#d8576b"
             ],
             [
              0.6666666666666666,
              "#ed7953"
             ],
             [
              0.7777777777777778,
              "#fb9f3a"
             ],
             [
              0.8888888888888888,
              "#fdca26"
             ],
             [
              1,
              "#f0f921"
             ]
            ],
            "type": "surface"
           }
          ],
          "table": [
           {
            "cells": {
             "fill": {
              "color": "#EBF0F8"
             },
             "line": {
              "color": "white"
             }
            },
            "header": {
             "fill": {
              "color": "#C8D4E3"
             },
             "line": {
              "color": "white"
             }
            },
            "type": "table"
           }
          ]
         },
         "layout": {
          "annotationdefaults": {
           "arrowcolor": "#2a3f5f",
           "arrowhead": 0,
           "arrowwidth": 1
          },
          "autotypenumbers": "strict",
          "coloraxis": {
           "colorbar": {
            "outlinewidth": 0,
            "ticks": ""
           }
          },
          "colorscale": {
           "diverging": [
            [
             0,
             "#8e0152"
            ],
            [
             0.1,
             "#c51b7d"
            ],
            [
             0.2,
             "#de77ae"
            ],
            [
             0.3,
             "#f1b6da"
            ],
            [
             0.4,
             "#fde0ef"
            ],
            [
             0.5,
             "#f7f7f7"
            ],
            [
             0.6,
             "#e6f5d0"
            ],
            [
             0.7,
             "#b8e186"
            ],
            [
             0.8,
             "#7fbc41"
            ],
            [
             0.9,
             "#4d9221"
            ],
            [
             1,
             "#276419"
            ]
           ],
           "sequential": [
            [
             0,
             "#0d0887"
            ],
            [
             0.1111111111111111,
             "#46039f"
            ],
            [
             0.2222222222222222,
             "#7201a8"
            ],
            [
             0.3333333333333333,
             "#9c179e"
            ],
            [
             0.4444444444444444,
             "#bd3786"
            ],
            [
             0.5555555555555556,
             "#d8576b"
            ],
            [
             0.6666666666666666,
             "#ed7953"
            ],
            [
             0.7777777777777778,
             "#fb9f3a"
            ],
            [
             0.8888888888888888,
             "#fdca26"
            ],
            [
             1,
             "#f0f921"
            ]
           ],
           "sequentialminus": [
            [
             0,
             "#0d0887"
            ],
            [
             0.1111111111111111,
             "#46039f"
            ],
            [
             0.2222222222222222,
             "#7201a8"
            ],
            [
             0.3333333333333333,
             "#9c179e"
            ],
            [
             0.4444444444444444,
             "#bd3786"
            ],
            [
             0.5555555555555556,
             "#d8576b"
            ],
            [
             0.6666666666666666,
             "#ed7953"
            ],
            [
             0.7777777777777778,
             "#fb9f3a"
            ],
            [
             0.8888888888888888,
             "#fdca26"
            ],
            [
             1,
             "#f0f921"
            ]
           ]
          },
          "colorway": [
           "#636efa",
           "#EF553B",
           "#00cc96",
           "#ab63fa",
           "#FFA15A",
           "#19d3f3",
           "#FF6692",
           "#B6E880",
           "#FF97FF",
           "#FECB52"
          ],
          "font": {
           "color": "#2a3f5f"
          },
          "geo": {
           "bgcolor": "white",
           "lakecolor": "white",
           "landcolor": "#E5ECF6",
           "showlakes": true,
           "showland": true,
           "subunitcolor": "white"
          },
          "hoverlabel": {
           "align": "left"
          },
          "hovermode": "closest",
          "mapbox": {
           "style": "light"
          },
          "paper_bgcolor": "white",
          "plot_bgcolor": "#E5ECF6",
          "polar": {
           "angularaxis": {
            "gridcolor": "white",
            "linecolor": "white",
            "ticks": ""
           },
           "bgcolor": "#E5ECF6",
           "radialaxis": {
            "gridcolor": "white",
            "linecolor": "white",
            "ticks": ""
           }
          },
          "scene": {
           "xaxis": {
            "backgroundcolor": "#E5ECF6",
            "gridcolor": "white",
            "gridwidth": 2,
            "linecolor": "white",
            "showbackground": true,
            "ticks": "",
            "zerolinecolor": "white"
           },
           "yaxis": {
            "backgroundcolor": "#E5ECF6",
            "gridcolor": "white",
            "gridwidth": 2,
            "linecolor": "white",
            "showbackground": true,
            "ticks": "",
            "zerolinecolor": "white"
           },
           "zaxis": {
            "backgroundcolor": "#E5ECF6",
            "gridcolor": "white",
            "gridwidth": 2,
            "linecolor": "white",
            "showbackground": true,
            "ticks": "",
            "zerolinecolor": "white"
           }
          },
          "shapedefaults": {
           "line": {
            "color": "#2a3f5f"
           }
          },
          "ternary": {
           "aaxis": {
            "gridcolor": "white",
            "linecolor": "white",
            "ticks": ""
           },
           "baxis": {
            "gridcolor": "white",
            "linecolor": "white",
            "ticks": ""
           },
           "bgcolor": "#E5ECF6",
           "caxis": {
            "gridcolor": "white",
            "linecolor": "white",
            "ticks": ""
           }
          },
          "title": {
           "x": 0.05
          },
          "xaxis": {
           "automargin": true,
           "gridcolor": "white",
           "linecolor": "white",
           "ticks": "",
           "title": {
            "standoff": 15
           },
           "zerolinecolor": "white",
           "zerolinewidth": 2
          },
          "yaxis": {
           "automargin": true,
           "gridcolor": "white",
           "linecolor": "white",
           "ticks": "",
           "title": {
            "standoff": 15
           },
           "zerolinecolor": "white",
           "zerolinewidth": 2
          }
         }
        },
        "xaxis": {
         "anchor": "y",
         "domain": [
          0,
          1
         ],
         "title": {
          "text": "x"
         }
        },
        "yaxis": {
         "anchor": "x",
         "domain": [
          0,
          1
         ],
         "title": {
          "text": "y"
         }
        }
       }
      }
     },
     "metadata": {},
     "output_type": "display_data"
    }
   ],
   "source": [
    "graph1 = px.scatter(x=y_test, y=predict_random)\n",
    "graph1"
   ]
  },
  {
   "cell_type": "code",
   "execution_count": null,
   "id": "e4ee19dd",
   "metadata": {},
   "outputs": [],
   "source": [
    "wA = 0.90\n",
    "wB = 1 - wA\n",
    "ensemble_predict = (wA * predict_linear) + (wB * predict_random)\n",
    "ensemble_predict"
   ]
  },
  {
   "cell_type": "code",
   "execution_count": 185,
   "id": "8d57296b",
   "metadata": {},
   "outputs": [
    {
     "name": "stdout",
     "output_type": "stream",
     "text": [
      "Métricas do Modelo Ensemble: \n",
      "- Mean Squared Erro (MSE): 2806487714.701809\n",
      "- Mean Absolute Erro (MAE): 42182.91894625987\n",
      "- R² Score: 0.8550988980159592\n"
     ]
    }
   ],
   "source": [
    "print(\"Métricas do Modelo Ensemble: \")\n",
    "print(f\"- Mean Squared Erro (MSE): {mean_squared_error(ensemble_predict, y_test)}\")\n",
    "print(f\"- Mean Absolute Erro (MAE): {mean_absolute_error(ensemble_predict, y_test)}\")\n",
    "print(f\"- R² Score: {r2_score(ensemble_predict , y_test)}\")"
   ]
  },
  {
   "cell_type": "markdown",
   "id": "97920957",
   "metadata": {
    "vscode": {
     "languageId": "html"
    }
   },
   "source": [
    "<table style='justify-content:center'>\n",
    "    <tr>\n",
    "        <th>Model</th>\n",
    "        <th>MSE</th>\n",
    "        <th>MAE</th>\n",
    "        <th>R²</th>\n",
    "    </tr>\n",
    "    <tr>\n",
    "        <td>Random Forest</td>\n",
    "        <td>3311317142</td>\n",
    "        <td>45449</td>\n",
    "        <td>0.80</td>\n",
    "    </tr>\n",
    "    <tr>\n",
    "        <td>Regressão Linear</td>\n",
    "        <td>2653397233</td>\n",
    "        <td>41434</td>\n",
    "        <td>0.85</td>\n",
    "    </tr>\n",
    "    <tr>\n",
    "        <td>Ensemble</td>\n",
    "        <td>2806487714</td>\n",
    "        <td>42182</td>\n",
    "        <td>0.85</td>\n",
    "    </tr>\n",
    "</table>"
   ]
  },
  {
   "cell_type": "markdown",
   "id": "e74c425d",
   "metadata": {
    "vscode": {
     "languageId": "html"
    }
   },
   "source": [
    "- Qual dos dois algoritmos apresentou melhor desempenho geral?\n",
    "Resposta: A Regressão Linear apresentou um bom desempenho, tendo em vista que obteve um menor MSE e MAE em relação ao Random Forest. Já, o R² Score também obteve um melhor resultado.\n",
    "- O ensemble proposto, baseado na média ponderada, foi capaz de melhorar as métricas de predição? Se sim, em qual métrica ele se destacou?\n",
    "Resposta: Nesta primeira análise, o método ensemble não aprensentou resultados melhores do que o Linear Regression, porém em comparação com o Random Forest, pode-se dizer que ele apresentou superioridade."
   ]
  }
 ],
 "metadata": {
  "kernelspec": {
   "display_name": "venv",
   "language": "python",
   "name": "python3"
  },
  "language_info": {
   "codemirror_mode": {
    "name": "ipython",
    "version": 3
   },
   "file_extension": ".py",
   "mimetype": "text/x-python",
   "name": "python",
   "nbconvert_exporter": "python",
   "pygments_lexer": "ipython3",
   "version": "3.12.7"
  }
 },
 "nbformat": 4,
 "nbformat_minor": 5
}
