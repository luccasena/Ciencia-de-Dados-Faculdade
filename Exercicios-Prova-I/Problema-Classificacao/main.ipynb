{
 "cells": [
  {
   "cell_type": "markdown",
   "id": "b3a59f77",
   "metadata": {},
   "source": [
    "## Problema de Classificação\n",
    "\n",
    "- Utilizando a Linguagem Python + Google Colab, implementem um código em Python que simule um problema de Classificação -, gerando 03 modelos de machine learning, KNN, Randon Forest,  Nayve Bayes.\n",
    "\n",
    "\n",
    "A base de dados fica a seu critério e os códigos devem ser colocados aqui na questão abaixo:\n",
    "\n",
    "É importante colocar as informações baseadas nas etapas:\n",
    "\n",
    "\n",
    "01. - Coleta de Dados;\n",
    "02. - Pré-processamento de Dados;\n",
    "03. - Seleção dos Algoritmos e Modelos;\n",
    "04. - Treinamento do Modelo;\n",
    "05. - Avaliação e Validação do Modelo. com Matriz de confusão e Curva ROC.\n",
    "\n",
    "Desenvolvedor: Lucca de Sena Barbosa\n",
    "\n",
    "Curso: Ciências da Computação - 3º período"
   ]
  },
  {
   "cell_type": "code",
   "execution_count": 26,
   "id": "e26f1440",
   "metadata": {},
   "outputs": [],
   "source": [
    "import pandas as pd\n",
    "import seaborn as sn\n",
    "import matplotlib.pyplot as plt"
   ]
  },
  {
   "cell_type": "markdown",
   "id": "f89dc89a",
   "metadata": {},
   "source": [
    "#### 01. - Coleta de Dados:\n",
    "- Esses dados foram coletados de maneira artificial pela IA deepseak a fins acadêmicos. Portanto, os modelos não podem ser utilizados em situações normais."
   ]
  },
  {
   "cell_type": "code",
   "execution_count": 11,
   "id": "6a5c5ae3",
   "metadata": {},
   "outputs": [],
   "source": [
    "import pandas as pd\n",
    "import numpy as np\n",
    "\n",
    "np.random.seed(42)\n",
    "n = 5000\n",
    "\n",
    "# Variáveis principais\n",
    "esgotamento = np.clip(np.random.normal(6.5, 2, n), 1, 10).astype(int)\n",
    "horas_sono = np.clip(np.random.normal(6.5, 1.5, n), 2, 12)\n",
    "produtividade = np.clip(10 - esgotamento + np.random.normal(0, 1, n), 0, 10)\n",
    "\n",
    "# Gerar outras variáveis com correlações\n",
    "data = {\n",
    "    'Esgotamento constante': esgotamento,\n",
    "    'Fadiga persistente': np.where(esgotamento > 6, \n",
    "                                  np.random.choice(['SIM', 'NÃO'], p=[0.6, 0.4], size=n),\n",
    "                                  np.random.choice(['SIM', 'NÃO'], p=[0.2, 0.8], size=n)),\n",
    "    'Irritabilidade': np.clip(esgotamento + np.random.randint(-2, 2, n), 1, 10),\n",
    "    'Sobrecarga': np.clip(esgotamento + np.random.randint(-1, 2, n), 1, 10),\n",
    "    'Pessimismo': np.clip(esgotamento + np.random.randint(-1, 1, n), 1, 10),\n",
    "    'Distanciamento Emocional': np.where(esgotamento > 7, \n",
    "                                       np.random.choice(['SIM', 'NÃO'], p=[0.7, 0.3], size=n),\n",
    "                                       np.random.choice(['SIM', 'NÃO'], p=[0.3, 0.7], size=n)),\n",
    "    'Dores de cabeça': np.random.choice(['Nenhuma', 'Moderada', 'Constante'], size=n, \n",
    "                                      p=[0.3, 0.5, 0.2]),\n",
    "    'Dores musculares': np.random.choice(['Nenhuma', 'Moderada', 'Constante'], size=n,\n",
    "                                       p=[0.4, 0.4, 0.2]),\n",
    "    'Diagnóstico de Imunológico Enfraquecido': np.random.choice(['Sim', 'Não', 'Nunca Realizei'], size=n,\n",
    "                                                             p=[0.2, 0.6, 0.2]),\n",
    "    'Diagnóstico de Sintomas Cognitivos': np.random.choice(['Sim', 'Não', 'Nunca Realizei'], size=n,\n",
    "                                                         p=[0.25, 0.6, 0.15]),\n",
    "    'Diagnóstico de Sintomas Emocionais': np.random.choice(['Sim', 'Não', 'Nunca Realizei'], size=n,\n",
    "                                                         p=[0.3, 0.5, 0.2]),\n",
    "    'Horas média dormidas por noite': horas_sono,\n",
    "    'Média do Nível de Produtividade por Semana': produtividade,\n",
    "    'Evidências de Burnout': np.where(esgotamento >= 7, \n",
    "                                    np.random.choice(['Sim', 'Não'], p=[0.8, 0.2], size=n),\n",
    "                                    np.random.choice(['Sim', 'Não'], p=[0.1, 0.9], size=n))\n",
    "}\n",
    "\n",
    "df = pd.DataFrame(data)\n",
    "df.to_csv('burnout_dataset.csv', index=False)"
   ]
  },
  {
   "cell_type": "code",
   "execution_count": 27,
   "id": "0391b91a",
   "metadata": {},
   "outputs": [
    {
     "data": {
      "application/vnd.microsoft.datawrangler.viewer.v0+json": {
       "columns": [
        {
         "name": "index",
         "rawType": "int64",
         "type": "integer"
        },
        {
         "name": "Esgotamento_constante",
         "rawType": "int64",
         "type": "integer"
        },
        {
         "name": "Fadiga_persistente",
         "rawType": "object",
         "type": "string"
        },
        {
         "name": "Irritabilidade",
         "rawType": "int64",
         "type": "integer"
        },
        {
         "name": "Sobrecarga",
         "rawType": "int64",
         "type": "integer"
        },
        {
         "name": "Pessimismo",
         "rawType": "int64",
         "type": "integer"
        },
        {
         "name": "Distanciamento_Emocional",
         "rawType": "object",
         "type": "string"
        },
        {
         "name": "Dores_cabeça",
         "rawType": "object",
         "type": "string"
        },
        {
         "name": "Dores_musculares",
         "rawType": "object",
         "type": "string"
        },
        {
         "name": "Diagnostico_IE",
         "rawType": "object",
         "type": "string"
        },
        {
         "name": "Diagnostico_SC",
         "rawType": "object",
         "type": "string"
        },
        {
         "name": "Diagnostico_SEm",
         "rawType": "object",
         "type": "string"
        },
        {
         "name": "Horas_dormidas",
         "rawType": "float64",
         "type": "float"
        },
        {
         "name": "Media_PS",
         "rawType": "float64",
         "type": "float"
        },
        {
         "name": "Burnout",
         "rawType": "object",
         "type": "string"
        }
       ],
       "conversionMethod": "pd.DataFrame",
       "ref": "6b0d2628-c915-4787-b66f-c866bd01348b",
       "rows": [
        [
         "0",
         "7",
         "SIM",
         "6",
         "6",
         "7",
         "SIM",
         "Nenhuma",
         "Moderada",
         "Não",
         "Nunca Realizei",
         "Sim",
         "5.864360476965945",
         "2.3215052695127785",
         "Sim"
        ],
        [
         "1",
         "6",
         "NÃO",
         "4",
         "7",
         "5",
         "NÃO",
         "Moderada",
         "Moderada",
         "Nunca Realizei",
         "Nunca Realizei",
         "Sim",
         "5.819878837424219",
         "3.694500536946347",
         "Não"
        ],
        [
         "2",
         "7",
         "NÃO",
         "8",
         "7",
         "6",
         "NÃO",
         "Moderada",
         "Nenhuma",
         "Nunca Realizei",
         "Nunca Realizei",
         "Nunca Realizei",
         "3.8065352410549775",
         "2.4026189389548573",
         "Sim"
        ],
        [
         "3",
         "9",
         "SIM",
         "9",
         "9",
         "8",
         "NÃO",
         "Moderada",
         "Nenhuma",
         "Sim",
         "Não",
         "Não",
         "6.004864712447844",
         "1.1104180469461196",
         "Não"
        ],
        [
         "4",
         "6",
         "SIM",
         "4",
         "7",
         "6",
         "NÃO",
         "Moderada",
         "Moderada",
         "Não",
         "Não",
         "Não",
         "7.599243622732617",
         "5.197178531461913",
         "Não"
        ],
        [
         "5",
         "6",
         "NÃO",
         "7",
         "5",
         "6",
         "NÃO",
         "Moderada",
         "Moderada",
         "Não",
         "Não",
         "Nunca Realizei",
         "4.588651821384808",
         "3.2289578428587955",
         "Não"
        ],
        [
         "6",
         "9",
         "SIM",
         "9",
         "8",
         "8",
         "SIM",
         "Constante",
         "Moderada",
         "Sim",
         "Sim",
         "Não",
         "8.072723976575888",
         "2.000820497768414",
         "Não"
        ],
        [
         "7",
         "8",
         "SIM",
         "7",
         "7",
         "7",
         "SIM",
         "Moderada",
         "Nenhuma",
         "Não",
         "Não",
         "Nunca Realizei",
         "7.231662231626507",
         "1.2183279276531125",
         "Sim"
        ],
        [
         "8",
         "5",
         "NÃO",
         "4",
         "4",
         "4",
         "NÃO",
         "Nenhuma",
         "Nenhuma",
         "Não",
         "Não",
         "Sim",
         "5.398650017043443",
         "4.152372787503116",
         "Não"
        ],
        [
         "9",
         "7",
         "NÃO",
         "8",
         "8",
         "6",
         "SIM",
         "Moderada",
         "Constante",
         "Não",
         "Não",
         "Não",
         "6.287705543993229",
         "3.818594618343213",
         "Sim"
        ],
        [
         "10",
         "5",
         "NÃO",
         "3",
         "5",
         "5",
         "NÃO",
         "Nenhuma",
         "Constante",
         "Não",
         "Não",
         "Sim",
         "8.89748271146155",
         "5.921936378007617",
         "Não"
        ],
        [
         "11",
         "5",
         "NÃO",
         "5",
         "4",
         "4",
         "SIM",
         "Moderada",
         "Moderada",
         "Não",
         "Não",
         "Não",
         "7.6003217202587985",
         "5.851409936762654",
         "Não"
        ],
        [
         "12",
         "6",
         "SIM",
         "6",
         "5",
         "5",
         "NÃO",
         "Moderada",
         "Nenhuma",
         "Não",
         "Não",
         "Não",
         "6.513175482347222",
         "2.684202591781859",
         "Não"
        ],
        [
         "13",
         "2",
         "NÃO",
         "1",
         "1",
         "1",
         "NÃO",
         "Nenhuma",
         "Nenhuma",
         "Sim",
         "Nunca Realizei",
         "Não",
         "6.143475024558524",
         "7.534049021927949",
         "Não"
        ],
        [
         "14",
         "3",
         "NÃO",
         "4",
         "3",
         "2",
         "NÃO",
         "Nenhuma",
         "Moderada",
         "Não",
         "Sim",
         "Não",
         "6.614913605677489",
         "7.8229885920033215",
         "Não"
        ],
        [
         "15",
         "5",
         "NÃO",
         "3",
         "5",
         "5",
         "NÃO",
         "Moderada",
         "Moderada",
         "Não",
         "Não",
         "Nunca Realizei",
         "5.732354663086545",
         "5.041541840563895",
         "Não"
        ],
        [
         "16",
         "4",
         "NÃO",
         "3",
         "5",
         "3",
         "SIM",
         "Moderada",
         "Moderada",
         "Não",
         "Não",
         "Não",
         "3.3428757414214783",
         "4.926307153802536",
         "Não"
        ],
        [
         "17",
         "7",
         "NÃO",
         "6",
         "7",
         "6",
         "NÃO",
         "Moderada",
         "Constante",
         "Sim",
         "Nunca Realizei",
         "Sim",
         "9.563266865802095",
         "3.458317939125441",
         "Sim"
        ],
        [
         "18",
         "4",
         "NÃO",
         "2",
         "4",
         "3",
         "SIM",
         "Moderada",
         "Moderada",
         "Não",
         "Não",
         "Nunca Realizei",
         "6.732987498799102",
         "5.2851927410085295",
         "Não"
        ],
        [
         "19",
         "3",
         "SIM",
         "3",
         "2",
         "2",
         "NÃO",
         "Moderada",
         "Constante",
         "Não",
         "Não",
         "Nunca Realizei",
         "7.097220897683806",
         "8.794524848392212",
         "Não"
        ],
        [
         "20",
         "9",
         "NÃO",
         "9",
         "9",
         "8",
         "SIM",
         "Nenhuma",
         "Nenhuma",
         "Não",
         "Nunca Realizei",
         "Sim",
         "6.413138375184637",
         "2.5448414624182583",
         "Sim"
        ],
        [
         "21",
         "6",
         "NÃO",
         "7",
         "5",
         "6",
         "SIM",
         "Nenhuma",
         "Moderada",
         "Não",
         "Nunca Realizei",
         "Não",
         "5.397324798913118",
         "4.604097426355567",
         "Não"
        ],
        [
         "22",
         "6",
         "SIM",
         "5",
         "7",
         "6",
         "NÃO",
         "Moderada",
         "Constante",
         "Nunca Realizei",
         "Não",
         "Não",
         "6.221113278576844",
         "5.361006704769774",
         "Não"
        ],
        [
         "23",
         "3",
         "NÃO",
         "4",
         "2",
         "2",
         "NÃO",
         "Moderada",
         "Moderada",
         "Não",
         "Não",
         "Não",
         "4.100907856708533",
         "7.064791350123381",
         "Não"
        ],
        [
         "24",
         "5",
         "NÃO",
         "5",
         "6",
         "5",
         "NÃO",
         "Moderada",
         "Constante",
         "Não",
         "Sim",
         "Não",
         "9.915629747079958",
         "5.765437494375016",
         "Não"
        ],
        [
         "25",
         "6",
         "NÃO",
         "4",
         "6",
         "5",
         "NÃO",
         "Moderada",
         "Moderada",
         "Não",
         "Sim",
         "Sim",
         "4.648232002366406",
         "5.477720295302075",
         "Não"
        ],
        [
         "26",
         "4",
         "SIM",
         "4",
         "5",
         "3",
         "NÃO",
         "Moderada",
         "Constante",
         "Não",
         "Não",
         "Não",
         "4.952050574229231",
         "6.245498681794313",
         "Não"
        ],
        [
         "27",
         "7",
         "SIM",
         "7",
         "6",
         "6",
         "NÃO",
         "Moderada",
         "Moderada",
         "Sim",
         "Sim",
         "Nunca Realizei",
         "5.839611193420399",
         "2.7448128284857165",
         "Sim"
        ],
        [
         "28",
         "5",
         "NÃO",
         "4",
         "5",
         "4",
         "NÃO",
         "Constante",
         "Moderada",
         "Nunca Realizei",
         "Não",
         "Sim",
         "8.432113587278566",
         "3.295378041822884",
         "Não"
        ],
        [
         "29",
         "5",
         "SIM",
         "5",
         "5",
         "4",
         "NÃO",
         "Nenhuma",
         "Nenhuma",
         "Nunca Realizei",
         "Não",
         "Não",
         "6.521763498893981",
         "4.916866474278506",
         "Não"
        ],
        [
         "30",
         "5",
         "NÃO",
         "6",
         "4",
         "4",
         "NÃO",
         "Moderada",
         "Moderada",
         "Não",
         "Nunca Realizei",
         "Nunca Realizei",
         "4.645796305954306",
         "5.823423184562311",
         "Não"
        ],
        [
         "31",
         "10",
         "NÃO",
         "8",
         "10",
         "10",
         "SIM",
         "Constante",
         "Nenhuma",
         "Nunca Realizei",
         "Não",
         "Sim",
         "8.38150754113601",
         "0.9456334275676296",
         "Sim"
        ],
        [
         "32",
         "6",
         "NÃO",
         "5",
         "5",
         "5",
         "SIM",
         "Moderada",
         "Nenhuma",
         "Não",
         "Sim",
         "Nunca Realizei",
         "7.596500940178222",
         "4.50436506571841",
         "Não"
        ],
        [
         "33",
         "4",
         "NÃO",
         "2",
         "5",
         "4",
         "SIM",
         "Moderada",
         "Nenhuma",
         "Nunca Realizei",
         "Não",
         "Sim",
         "7.307652435824679",
         "5.458700905037761",
         "Não"
        ],
        [
         "34",
         "8",
         "SIM",
         "9",
         "9",
         "8",
         "SIM",
         "Moderada",
         "Moderada",
         "Nunca Realizei",
         "Não",
         "Sim",
         "7.57360136175626",
         "0.0231784310524094",
         "Não"
        ],
        [
         "35",
         "4",
         "NÃO",
         "5",
         "4",
         "4",
         "SIM",
         "Constante",
         "Nenhuma",
         "Nunca Realizei",
         "Sim",
         "Não",
         "10.091542850873676",
         "5.504784901995265",
         "Não"
        ],
        [
         "36",
         "6",
         "NÃO",
         "6",
         "5",
         "5",
         "SIM",
         "Moderada",
         "Constante",
         "Nunca Realizei",
         "Sim",
         "Não",
         "9.777642342554168",
         "3.695655128946048",
         "Não"
        ],
        [
         "37",
         "2",
         "SIM",
         "3",
         "1",
         "1",
         "SIM",
         "Nenhuma",
         "Moderada",
         "Não",
         "Nunca Realizei",
         "Sim",
         "5.469926985495057",
         "7.687071032809986",
         "Não"
        ],
        [
         "38",
         "3",
         "NÃO",
         "3",
         "4",
         "2",
         "NÃO",
         "Moderada",
         "Nenhuma",
         "Não",
         "Nunca Realizei",
         "Sim",
         "8.935827489216727",
         "7.618556356977924",
         "Sim"
        ],
        [
         "39",
         "6",
         "NÃO",
         "5",
         "5",
         "5",
         "SIM",
         "Nenhuma",
         "Nenhuma",
         "Não",
         "Não",
         "Não",
         "7.07475228463835",
         "5.98567641101484",
         "Não"
        ],
        [
         "40",
         "7",
         "NÃO",
         "5",
         "7",
         "6",
         "SIM",
         "Moderada",
         "Moderada",
         "Nunca Realizei",
         "Não",
         "Sim",
         "7.248643724206624",
         "3.123529201841093",
         "Não"
        ],
        [
         "41",
         "6",
         "SIM",
         "6",
         "6",
         "6",
         "NÃO",
         "Constante",
         "Nenhuma",
         "Nunca Realizei",
         "Não",
         "Sim",
         "3.9615937525350073",
         "3.783268210843538",
         "Não"
        ],
        [
         "42",
         "6",
         "SIM",
         "6",
         "7",
         "6",
         "NÃO",
         "Moderada",
         "Moderada",
         "Sim",
         "Nunca Realizei",
         "Não",
         "6.244421351917706",
         "3.7407781869959074",
         "Não"
        ],
        [
         "43",
         "5",
         "NÃO",
         "4",
         "4",
         "4",
         "NÃO",
         "Moderada",
         "Nenhuma",
         "Não",
         "Não",
         "Não",
         "5.280764614495153",
         "5.124384766907714",
         "Não"
        ],
        [
         "44",
         "3",
         "SIM",
         "4",
         "3",
         "3",
         "NÃO",
         "Constante",
         "Nenhuma",
         "Sim",
         "Não",
         "Nunca Realizei",
         "7.742088222339964",
         "6.171706239651601",
         "Não"
        ],
        [
         "45",
         "5",
         "NÃO",
         "5",
         "5",
         "5",
         "NÃO",
         "Moderada",
         "Nenhuma",
         "Sim",
         "Não",
         "Não",
         "8.106620750604208",
         "5.120198558746055",
         "Não"
        ],
        [
         "46",
         "5",
         "SIM",
         "6",
         "5",
         "4",
         "NÃO",
         "Nenhuma",
         "Moderada",
         "Não",
         "Não",
         "Sim",
         "3.388270473475533",
         "5.4508123363318",
         "Não"
        ],
        [
         "47",
         "8",
         "SIM",
         "8",
         "7",
         "7",
         "SIM",
         "Nenhuma",
         "Constante",
         "Não",
         "Não",
         "Não",
         "6.466947703993594",
         "2.209686063574488",
         "Sim"
        ],
        [
         "48",
         "7",
         "NÃO",
         "8",
         "8",
         "6",
         "NÃO",
         "Moderada",
         "Nenhuma",
         "Não",
         "Não",
         "Nunca Realizei",
         "8.182792257191378",
         "3.457541934004781",
         "Sim"
        ],
        [
         "49",
         "2",
         "NÃO",
         "2",
         "3",
         "2",
         "NÃO",
         "Nenhuma",
         "Moderada",
         "Não",
         "Sim",
         "Não",
         "6.219981556529833",
         "8.433747609348535",
         "Não"
        ]
       ],
       "shape": {
        "columns": 14,
        "rows": 5000
       }
      },
      "text/html": [
       "<div>\n",
       "<style scoped>\n",
       "    .dataframe tbody tr th:only-of-type {\n",
       "        vertical-align: middle;\n",
       "    }\n",
       "\n",
       "    .dataframe tbody tr th {\n",
       "        vertical-align: top;\n",
       "    }\n",
       "\n",
       "    .dataframe thead th {\n",
       "        text-align: right;\n",
       "    }\n",
       "</style>\n",
       "<table border=\"1\" class=\"dataframe\">\n",
       "  <thead>\n",
       "    <tr style=\"text-align: right;\">\n",
       "      <th></th>\n",
       "      <th>Esgotamento_constante</th>\n",
       "      <th>Fadiga_persistente</th>\n",
       "      <th>Irritabilidade</th>\n",
       "      <th>Sobrecarga</th>\n",
       "      <th>Pessimismo</th>\n",
       "      <th>Distanciamento_Emocional</th>\n",
       "      <th>Dores_cabeça</th>\n",
       "      <th>Dores_musculares</th>\n",
       "      <th>Diagnostico_IE</th>\n",
       "      <th>Diagnostico_SC</th>\n",
       "      <th>Diagnostico_SEm</th>\n",
       "      <th>Horas_dormidas</th>\n",
       "      <th>Media_PS</th>\n",
       "      <th>Burnout</th>\n",
       "    </tr>\n",
       "  </thead>\n",
       "  <tbody>\n",
       "    <tr>\n",
       "      <th>0</th>\n",
       "      <td>7</td>\n",
       "      <td>SIM</td>\n",
       "      <td>6</td>\n",
       "      <td>6</td>\n",
       "      <td>7</td>\n",
       "      <td>SIM</td>\n",
       "      <td>Nenhuma</td>\n",
       "      <td>Moderada</td>\n",
       "      <td>Não</td>\n",
       "      <td>Nunca Realizei</td>\n",
       "      <td>Sim</td>\n",
       "      <td>5.864360</td>\n",
       "      <td>2.321505</td>\n",
       "      <td>Sim</td>\n",
       "    </tr>\n",
       "    <tr>\n",
       "      <th>1</th>\n",
       "      <td>6</td>\n",
       "      <td>NÃO</td>\n",
       "      <td>4</td>\n",
       "      <td>7</td>\n",
       "      <td>5</td>\n",
       "      <td>NÃO</td>\n",
       "      <td>Moderada</td>\n",
       "      <td>Moderada</td>\n",
       "      <td>Nunca Realizei</td>\n",
       "      <td>Nunca Realizei</td>\n",
       "      <td>Sim</td>\n",
       "      <td>5.819879</td>\n",
       "      <td>3.694501</td>\n",
       "      <td>Não</td>\n",
       "    </tr>\n",
       "    <tr>\n",
       "      <th>2</th>\n",
       "      <td>7</td>\n",
       "      <td>NÃO</td>\n",
       "      <td>8</td>\n",
       "      <td>7</td>\n",
       "      <td>6</td>\n",
       "      <td>NÃO</td>\n",
       "      <td>Moderada</td>\n",
       "      <td>Nenhuma</td>\n",
       "      <td>Nunca Realizei</td>\n",
       "      <td>Nunca Realizei</td>\n",
       "      <td>Nunca Realizei</td>\n",
       "      <td>3.806535</td>\n",
       "      <td>2.402619</td>\n",
       "      <td>Sim</td>\n",
       "    </tr>\n",
       "    <tr>\n",
       "      <th>3</th>\n",
       "      <td>9</td>\n",
       "      <td>SIM</td>\n",
       "      <td>9</td>\n",
       "      <td>9</td>\n",
       "      <td>8</td>\n",
       "      <td>NÃO</td>\n",
       "      <td>Moderada</td>\n",
       "      <td>Nenhuma</td>\n",
       "      <td>Sim</td>\n",
       "      <td>Não</td>\n",
       "      <td>Não</td>\n",
       "      <td>6.004865</td>\n",
       "      <td>1.110418</td>\n",
       "      <td>Não</td>\n",
       "    </tr>\n",
       "    <tr>\n",
       "      <th>4</th>\n",
       "      <td>6</td>\n",
       "      <td>SIM</td>\n",
       "      <td>4</td>\n",
       "      <td>7</td>\n",
       "      <td>6</td>\n",
       "      <td>NÃO</td>\n",
       "      <td>Moderada</td>\n",
       "      <td>Moderada</td>\n",
       "      <td>Não</td>\n",
       "      <td>Não</td>\n",
       "      <td>Não</td>\n",
       "      <td>7.599244</td>\n",
       "      <td>5.197179</td>\n",
       "      <td>Não</td>\n",
       "    </tr>\n",
       "    <tr>\n",
       "      <th>...</th>\n",
       "      <td>...</td>\n",
       "      <td>...</td>\n",
       "      <td>...</td>\n",
       "      <td>...</td>\n",
       "      <td>...</td>\n",
       "      <td>...</td>\n",
       "      <td>...</td>\n",
       "      <td>...</td>\n",
       "      <td>...</td>\n",
       "      <td>...</td>\n",
       "      <td>...</td>\n",
       "      <td>...</td>\n",
       "      <td>...</td>\n",
       "      <td>...</td>\n",
       "    </tr>\n",
       "    <tr>\n",
       "      <th>4995</th>\n",
       "      <td>6</td>\n",
       "      <td>NÃO</td>\n",
       "      <td>4</td>\n",
       "      <td>7</td>\n",
       "      <td>6</td>\n",
       "      <td>NÃO</td>\n",
       "      <td>Nenhuma</td>\n",
       "      <td>Moderada</td>\n",
       "      <td>Sim</td>\n",
       "      <td>Não</td>\n",
       "      <td>Nunca Realizei</td>\n",
       "      <td>8.451653</td>\n",
       "      <td>3.090348</td>\n",
       "      <td>Não</td>\n",
       "    </tr>\n",
       "    <tr>\n",
       "      <th>4996</th>\n",
       "      <td>7</td>\n",
       "      <td>SIM</td>\n",
       "      <td>6</td>\n",
       "      <td>8</td>\n",
       "      <td>7</td>\n",
       "      <td>SIM</td>\n",
       "      <td>Constante</td>\n",
       "      <td>Moderada</td>\n",
       "      <td>Sim</td>\n",
       "      <td>Nunca Realizei</td>\n",
       "      <td>Nunca Realizei</td>\n",
       "      <td>3.502483</td>\n",
       "      <td>4.237151</td>\n",
       "      <td>Sim</td>\n",
       "    </tr>\n",
       "    <tr>\n",
       "      <th>4997</th>\n",
       "      <td>10</td>\n",
       "      <td>NÃO</td>\n",
       "      <td>8</td>\n",
       "      <td>10</td>\n",
       "      <td>10</td>\n",
       "      <td>SIM</td>\n",
       "      <td>Constante</td>\n",
       "      <td>Constante</td>\n",
       "      <td>Sim</td>\n",
       "      <td>Nunca Realizei</td>\n",
       "      <td>Sim</td>\n",
       "      <td>5.442025</td>\n",
       "      <td>1.312208</td>\n",
       "      <td>Sim</td>\n",
       "    </tr>\n",
       "    <tr>\n",
       "      <th>4998</th>\n",
       "      <td>8</td>\n",
       "      <td>SIM</td>\n",
       "      <td>6</td>\n",
       "      <td>7</td>\n",
       "      <td>7</td>\n",
       "      <td>NÃO</td>\n",
       "      <td>Nenhuma</td>\n",
       "      <td>Moderada</td>\n",
       "      <td>Não</td>\n",
       "      <td>Não</td>\n",
       "      <td>Sim</td>\n",
       "      <td>7.243648</td>\n",
       "      <td>1.115891</td>\n",
       "      <td>Sim</td>\n",
       "    </tr>\n",
       "    <tr>\n",
       "      <th>4999</th>\n",
       "      <td>4</td>\n",
       "      <td>NÃO</td>\n",
       "      <td>2</td>\n",
       "      <td>5</td>\n",
       "      <td>4</td>\n",
       "      <td>NÃO</td>\n",
       "      <td>Constante</td>\n",
       "      <td>Constante</td>\n",
       "      <td>Não</td>\n",
       "      <td>Não</td>\n",
       "      <td>Sim</td>\n",
       "      <td>7.466583</td>\n",
       "      <td>5.846215</td>\n",
       "      <td>Não</td>\n",
       "    </tr>\n",
       "  </tbody>\n",
       "</table>\n",
       "<p>5000 rows × 14 columns</p>\n",
       "</div>"
      ],
      "text/plain": [
       "      Esgotamento_constante Fadiga_persistente  Irritabilidade  Sobrecarga  \\\n",
       "0                         7                SIM               6           6   \n",
       "1                         6                NÃO               4           7   \n",
       "2                         7                NÃO               8           7   \n",
       "3                         9                SIM               9           9   \n",
       "4                         6                SIM               4           7   \n",
       "...                     ...                ...             ...         ...   \n",
       "4995                      6                NÃO               4           7   \n",
       "4996                      7                SIM               6           8   \n",
       "4997                     10                NÃO               8          10   \n",
       "4998                      8                SIM               6           7   \n",
       "4999                      4                NÃO               2           5   \n",
       "\n",
       "      Pessimismo Distanciamento_Emocional Dores_cabeça Dores_musculares  \\\n",
       "0              7                      SIM      Nenhuma         Moderada   \n",
       "1              5                      NÃO     Moderada         Moderada   \n",
       "2              6                      NÃO     Moderada          Nenhuma   \n",
       "3              8                      NÃO     Moderada          Nenhuma   \n",
       "4              6                      NÃO     Moderada         Moderada   \n",
       "...          ...                      ...          ...              ...   \n",
       "4995           6                      NÃO      Nenhuma         Moderada   \n",
       "4996           7                      SIM    Constante         Moderada   \n",
       "4997          10                      SIM    Constante        Constante   \n",
       "4998           7                      NÃO      Nenhuma         Moderada   \n",
       "4999           4                      NÃO    Constante        Constante   \n",
       "\n",
       "      Diagnostico_IE  Diagnostico_SC Diagnostico_SEm  Horas_dormidas  \\\n",
       "0                Não  Nunca Realizei             Sim        5.864360   \n",
       "1     Nunca Realizei  Nunca Realizei             Sim        5.819879   \n",
       "2     Nunca Realizei  Nunca Realizei  Nunca Realizei        3.806535   \n",
       "3                Sim             Não             Não        6.004865   \n",
       "4                Não             Não             Não        7.599244   \n",
       "...              ...             ...             ...             ...   \n",
       "4995             Sim             Não  Nunca Realizei        8.451653   \n",
       "4996             Sim  Nunca Realizei  Nunca Realizei        3.502483   \n",
       "4997             Sim  Nunca Realizei             Sim        5.442025   \n",
       "4998             Não             Não             Sim        7.243648   \n",
       "4999             Não             Não             Sim        7.466583   \n",
       "\n",
       "      Media_PS Burnout  \n",
       "0     2.321505     Sim  \n",
       "1     3.694501     Não  \n",
       "2     2.402619     Sim  \n",
       "3     1.110418     Não  \n",
       "4     5.197179     Não  \n",
       "...        ...     ...  \n",
       "4995  3.090348     Não  \n",
       "4996  4.237151     Sim  \n",
       "4997  1.312208     Sim  \n",
       "4998  1.115891     Sim  \n",
       "4999  5.846215     Não  \n",
       "\n",
       "[5000 rows x 14 columns]"
      ]
     },
     "execution_count": 27,
     "metadata": {},
     "output_type": "execute_result"
    }
   ],
   "source": [
    "db = pd.read_csv(\"burnout_dataset.csv\", )\n",
    "db"
   ]
  },
  {
   "cell_type": "code",
   "execution_count": 28,
   "id": "d42e564a",
   "metadata": {},
   "outputs": [
    {
     "name": "stdout",
     "output_type": "stream",
     "text": [
      "<class 'pandas.core.frame.DataFrame'>\n",
      "RangeIndex: 5000 entries, 0 to 4999\n",
      "Data columns (total 14 columns):\n",
      " #   Column                    Non-Null Count  Dtype  \n",
      "---  ------                    --------------  -----  \n",
      " 0   Esgotamento_constante     5000 non-null   int64  \n",
      " 1   Fadiga_persistente        5000 non-null   object \n",
      " 2   Irritabilidade            5000 non-null   int64  \n",
      " 3   Sobrecarga                5000 non-null   int64  \n",
      " 4   Pessimismo                5000 non-null   int64  \n",
      " 5   Distanciamento_Emocional  5000 non-null   object \n",
      " 6   Dores_cabeça              5000 non-null   object \n",
      " 7   Dores_musculares          5000 non-null   object \n",
      " 8   Diagnostico_IE            5000 non-null   object \n",
      " 9   Diagnostico_SC            5000 non-null   object \n",
      " 10  Diagnostico_SEm           5000 non-null   object \n",
      " 11  Horas_dormidas            5000 non-null   float64\n",
      " 12  Media_PS                  5000 non-null   float64\n",
      " 13  Burnout                   5000 non-null   object \n",
      "dtypes: float64(2), int64(4), object(8)\n",
      "memory usage: 547.0+ KB\n"
     ]
    }
   ],
   "source": [
    "db.info()"
   ]
  },
  {
   "cell_type": "markdown",
   "id": "5c3fe138",
   "metadata": {},
   "source": [
    "#### 02. - Pré-processamento de Dados;\n",
    "- Nesta etapa, iremos aplicar o codificador LabelEncoder para transformar as variáveis do tipo objeto na base."
   ]
  },
  {
   "cell_type": "code",
   "execution_count": 29,
   "id": "368d4633",
   "metadata": {},
   "outputs": [
    {
     "data": {
      "text/plain": [
       "(array([[7, 'SIM', 6, ..., 'Sim', 5.864360476965945, 2.3215052695127785],\n",
       "        [6, 'NÃO', 4, ..., 'Sim', 5.819878837424219, 3.694500536946347],\n",
       "        [7, 'NÃO', 8, ..., 'Nunca Realizei', 3.8065352410549775,\n",
       "         2.4026189389548573],\n",
       "        ...,\n",
       "        [10, 'NÃO', 8, ..., 'Sim', 5.442024914126227, 1.3122079936015318],\n",
       "        [8, 'SIM', 6, ..., 'Sim', 7.243648359523266, 1.115890858970079],\n",
       "        [4, 'NÃO', 2, ..., 'Sim', 7.4665826803072735, 5.846214834853808]],\n",
       "       shape=(5000, 13), dtype=object),\n",
       " array(['Sim', 'Não', 'Sim', ..., 'Sim', 'Sim', 'Não'],\n",
       "       shape=(5000,), dtype=object))"
      ]
     },
     "execution_count": 29,
     "metadata": {},
     "output_type": "execute_result"
    }
   ],
   "source": [
    "x_values = db.iloc[:, 0:13].values\n",
    "y_values = db.iloc[:, 13].values\n",
    "\n",
    "x_values, y_values"
   ]
  },
  {
   "cell_type": "code",
   "execution_count": 30,
   "id": "94a3fb2a",
   "metadata": {},
   "outputs": [],
   "source": [
    "from sklearn.preprocessing import LabelEncoder\n",
    "encoder = LabelEncoder()\n",
    "\n",
    "for i in [1, 5, 6, 7, 8, 9,10]:\n",
    "    x_values[:, i] = encoder.fit_transform(x_values[:, i])\n",
    "\n",
    "y_values = encoder.fit_transform(y_values)"
   ]
  },
  {
   "cell_type": "code",
   "execution_count": 31,
   "id": "48e2bb97",
   "metadata": {},
   "outputs": [
    {
     "data": {
      "text/plain": [
       "(array([[7, 1, 6, ..., 2, 5.864360476965945, 2.3215052695127785],\n",
       "        [6, 0, 4, ..., 2, 5.819878837424219, 3.694500536946347],\n",
       "        [7, 0, 8, ..., 0, 3.8065352410549775, 2.4026189389548573],\n",
       "        ...,\n",
       "        [10, 0, 8, ..., 2, 5.442024914126227, 1.3122079936015318],\n",
       "        [8, 1, 6, ..., 2, 7.243648359523266, 1.115890858970079],\n",
       "        [4, 0, 2, ..., 2, 7.4665826803072735, 5.846214834853808]],\n",
       "       shape=(5000, 13), dtype=object),\n",
       " array([1, 0, 1, ..., 1, 1, 0], shape=(5000,)))"
      ]
     },
     "execution_count": 31,
     "metadata": {},
     "output_type": "execute_result"
    }
   ],
   "source": [
    "x_values, y_values"
   ]
  },
  {
   "cell_type": "code",
   "execution_count": 32,
   "id": "beaae311",
   "metadata": {},
   "outputs": [
    {
     "data": {
      "text/plain": [
       "((4000, 13), (1000, 13), (4000,), (1000,))"
      ]
     },
     "execution_count": 32,
     "metadata": {},
     "output_type": "execute_result"
    }
   ],
   "source": [
    "from sklearn.model_selection import GridSearchCV, train_test_split\n",
    "\n",
    "x_train,  x_test, y_train, y_test = train_test_split(x_values, y_values, test_size=0.2)\n",
    "\n",
    "x_train.shape,  x_test.shape, y_train.shape, y_test.shape"
   ]
  },
  {
   "cell_type": "markdown",
   "id": "cecb99d1",
   "metadata": {},
   "source": [
    "#### 03. - Seleção dos Algoritmos e Modelos;\n",
    "- Para este problema de classificação Binária, iremos utilizar os seguintes modelos:\n",
    "1. Random Forest Classifier;\n",
    "2. K-Nearest Neighbour;\n",
    "3. Naive Bayes"
   ]
  },
  {
   "cell_type": "code",
   "execution_count": 45,
   "id": "f3605113",
   "metadata": {},
   "outputs": [],
   "source": [
    "from sklearn.ensemble import RandomForestClassifier\n",
    "from sklearn.neighbors import KNeighborsClassifier\n",
    "from sklearn.naive_bayes import GaussianNB\n",
    "from sklearn.metrics import classification_report, confusion_matrix, roc_curve, roc_auc_score"
   ]
  },
  {
   "cell_type": "markdown",
   "id": "a86f620f",
   "metadata": {},
   "source": [
    "### 04. - Treinamento do Modelo;"
   ]
  },
  {
   "cell_type": "code",
   "execution_count": 34,
   "id": "b765222f",
   "metadata": {},
   "outputs": [],
   "source": [
    "model_naive = GaussianNB()\n",
    "model_naive.fit(x_train, y_train)\n",
    "predict_naive = model_naive.predict(x_test)"
   ]
  },
  {
   "cell_type": "code",
   "execution_count": 35,
   "id": "a6ff40c7",
   "metadata": {},
   "outputs": [],
   "source": [
    "model_knn = KNeighborsClassifier()\n",
    "model_knn.fit(x_train, y_train)\n",
    "predict_knn = model_knn.predict(x_test)"
   ]
  },
  {
   "cell_type": "code",
   "execution_count": 36,
   "id": "b5a541dd",
   "metadata": {},
   "outputs": [],
   "source": [
    "model_random = RandomForestClassifier()\n",
    "model_random.fit(x_train, y_train)\n",
    "predict_random = model_random.predict(x_test)"
   ]
  },
  {
   "cell_type": "markdown",
   "id": "8f888a8d",
   "metadata": {},
   "source": [
    "#### 05. - Avaliação e Validação do Modelo. com Matriz de confusão e Curva ROC."
   ]
  },
  {
   "cell_type": "code",
   "execution_count": 49,
   "id": "68dd13a3",
   "metadata": {},
   "outputs": [],
   "source": [
    "def plot_curve_roc(predict, y_true):\n",
    "    fpr, tpr, thresholds = roc_curve(y_true, predict)\n",
    "    auc = roc_auc_score(y_true, predict)\n",
    "    plt.figure(figsize=(5,3))\n",
    "\n",
    "    plt.plot(fpr, tpr, label=f'AUC = {auc:.2f}', color='blue')\n",
    "    plt.plot([0, 1], [0, 1], linestyle='--', color='gray')  \n",
    "\n",
    "    plt.xlabel('Taxa de Falsos Positivos (FPR)', fontsize=12)\n",
    "    plt.ylabel('Taxa de Verdadeiros Positivos (TPR)', fontsize=12)\n",
    "    plt.title('Curva ROC', fontsize=14)\n",
    "    plt.legend(loc='lower right')\n",
    "    plt.grid()\n",
    "    plt.show()"
   ]
  },
  {
   "cell_type": "markdown",
   "id": "925a5224",
   "metadata": {},
   "source": [
    "#### Naive Bayes"
   ]
  },
  {
   "cell_type": "code",
   "execution_count": 37,
   "id": "6f9e8107",
   "metadata": {},
   "outputs": [
    {
     "name": "stdout",
     "output_type": "stream",
     "text": [
      "              precision    recall  f1-score   support\n",
      "\n",
      "           0       0.86      0.89      0.87       584\n",
      "           1       0.84      0.79      0.81       416\n",
      "\n",
      "    accuracy                           0.85      1000\n",
      "   macro avg       0.85      0.84      0.84      1000\n",
      "weighted avg       0.85      0.85      0.85      1000\n",
      "\n"
     ]
    },
    {
     "data": {
      "text/plain": [
       "<Axes: >"
      ]
     },
     "execution_count": 37,
     "metadata": {},
     "output_type": "execute_result"
    },
    {
     "data": {
      "image/png": "[encoded data removed]",
      "text/plain": [
       "<Figure size 640x480 with 2 Axes>"
      ]
     },
     "metadata": {},
     "output_type": "display_data"
    }
   ],
   "source": [
    "print(classification_report(predict_naive, y_test))\n",
    "sn.heatmap(confusion_matrix(predict_naive, y_test), annot=True, fmt='.0f')"
   ]
  },
  {
   "cell_type": "code",
   "execution_count": 50,
   "id": "ca670d10",
   "metadata": {},
   "outputs": [
    {
     "data": {
      "image/png": "[encoded data removed]",
      "text/plain": [
       "<Figure size 500x300 with 1 Axes>"
      ]
     },
     "metadata": {},
     "output_type": "display_data"
    }
   ],
   "source": [
    "plot_curve_roc(y_test, predict_naive)"
   ]
  },
  {
   "cell_type": "markdown",
   "id": "e38d73ac",
   "metadata": {},
   "source": [
    "#### K-Nearest Neighbour (KNN)"
   ]
  },
  {
   "cell_type": "code",
   "execution_count": 38,
   "id": "d10b9c20",
   "metadata": {},
   "outputs": [
    {
     "name": "stdout",
     "output_type": "stream",
     "text": [
      "              precision    recall  f1-score   support\n",
      "\n",
      "           0       0.88      0.87      0.88       618\n",
      "           1       0.80      0.81      0.81       382\n",
      "\n",
      "    accuracy                           0.85      1000\n",
      "   macro avg       0.84      0.84      0.84      1000\n",
      "weighted avg       0.85      0.85      0.85      1000\n",
      "\n"
     ]
    },
    {
     "data": {
      "text/plain": [
       "<Axes: >"
      ]
     },
     "execution_count": 38,
     "metadata": {},
     "output_type": "execute_result"
    },
    {
     "data": {
      "image/png": "[encoded data removed]",
      "text/plain": [
       "<Figure size 640x480 with 2 Axes>"
      ]
     },
     "metadata": {},
     "output_type": "display_data"
    }
   ],
   "source": [
    "print(classification_report(predict_knn, y_test))\n",
    "sn.heatmap(confusion_matrix(predict_knn, y_test), annot=True, fmt='.0f')"
   ]
  },
  {
   "cell_type": "code",
   "execution_count": 51,
   "id": "dc373a57",
   "metadata": {},
   "outputs": [
    {
     "data": {
      "image/png": "[encoded data removed]",
      "text/plain": [
       "<Figure size 500x300 with 1 Axes>"
      ]
     },
     "metadata": {},
     "output_type": "display_data"
    }
   ],
   "source": [
    "plot_curve_roc(y_test, predict_knn)"
   ]
  },
  {
   "cell_type": "markdown",
   "id": "071d49e0",
   "metadata": {},
   "source": [
    "#### Random Forest Classifier"
   ]
  },
  {
   "cell_type": "code",
   "execution_count": 39,
   "id": "95de1f0b",
   "metadata": {},
   "outputs": [
    {
     "name": "stdout",
     "output_type": "stream",
     "text": [
      "              precision    recall  f1-score   support\n",
      "\n",
      "           0       0.89      0.90      0.90       601\n",
      "           1       0.85      0.83      0.84       399\n",
      "\n",
      "    accuracy                           0.87      1000\n",
      "   macro avg       0.87      0.87      0.87      1000\n",
      "weighted avg       0.87      0.87      0.87      1000\n",
      "\n"
     ]
    },
    {
     "data": {
      "text/plain": [
       "<Axes: >"
      ]
     },
     "execution_count": 39,
     "metadata": {},
     "output_type": "execute_result"
    },
    {
     "data": {
      "image/png": "[encoded data removed]",
      "text/plain": [
       "<Figure size 640x480 with 2 Axes>"
      ]
     },
     "metadata": {},
     "output_type": "display_data"
    }
   ],
   "source": [
    "print(classification_report(predict_random, y_test))\n",
    "sn.heatmap(confusion_matrix(predict_random, y_test), annot=True, fmt='.0f')"
   ]
  },
  {
   "cell_type": "code",
   "execution_count": 52,
   "id": "c0732a3e",
   "metadata": {},
   "outputs": [
    {
     "data": {
      "image/png": "[encoded data removed]",
      "text/plain": [
       "<Figure size 500x300 with 1 Axes>"
      ]
     },
     "metadata": {},
     "output_type": "display_data"
    }
   ],
   "source": [
    "plot_curve_roc(y_test, predict_random)"
   ]
  },
  {
   "cell_type": "markdown",
   "id": "eeb270e9",
   "metadata": {},
   "source": [
    "## Conclusão:"
   ]
  },
  {
   "cell_type": "markdown",
   "id": "c8092fac",
   "metadata": {},
   "source": [
    "Entre os algoritmos que obteve o melhor desempenho, pode-se afirmar que o **Random Forest Classifier** foi o modelo que apresentou os melhores resultados entre os demais, alcançando **87%** de acurácia e equilibrando nas métricas precision e recall nas duas classes. Os demais alcançaram um bom desempenho, no entanto o random forest mesmo assim teve um desempenho superior."
   ]
  }
 ],
 "metadata": {
  "kernelspec": {
   "display_name": "venv",
   "language": "python",
   "name": "python3"
  },
  "language_info": {
   "codemirror_mode": {
    "name": "ipython",
    "version": 3
   },
   "file_extension": ".py",
   "mimetype": "text/x-python",
   "name": "python",
   "nbconvert_exporter": "python",
   "pygments_lexer": "ipython3",
   "version": "3.12.7"
  }
 },
 "nbformat": 4,
 "nbformat_minor": 5
}
