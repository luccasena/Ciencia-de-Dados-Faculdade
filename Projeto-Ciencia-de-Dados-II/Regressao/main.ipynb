{
 "cells": [
  {
   "cell_type": "markdown",
   "id": "8fefc5bb",
   "metadata": {},
   "source": [
    "## Projeto de Ciência de Dados:\n",
    "- Professor: Ricardo Roberto de Lima\n",
    "\n",
    "### 03 – Construir um outro projeto de Machine Learning (Regressão):\n",
    "- Escolher um Dataset com Base qualquer: https://www.kaggle.com/datasets/hellbuoy/car-price-prediction?select=CarPrice_Assignment.csv\n",
    "- Construir um código com python que implemente o modelo de regressão linear.\n",
    "\n",
    "### Desenvolvedores do Projeto:\n",
    "- Lucca de Sena Barbosa\n",
    "- Leonardo Lucas de Brito Silva"
   ]
  },
  {
   "cell_type": "code",
   "execution_count": 54,
   "id": "0076e545",
   "metadata": {},
   "outputs": [],
   "source": [
    "import pandas as pd\n",
    "import matplotlib.pyplot as plt\n",
    "import seaborn as sn\n",
    "import plotly.express as px\n",
    "import plotly.graph_objects as go"
   ]
  },
  {
   "cell_type": "code",
   "execution_count": 2,
   "id": "88117e6d",
   "metadata": {},
   "outputs": [
    {
     "data": {
      "application/vnd.microsoft.datawrangler.viewer.v0+json": {
       "columns": [
        {
         "name": "index",
         "rawType": "int64",
         "type": "integer"
        },
        {
         "name": "car_ID",
         "rawType": "int64",
         "type": "integer"
        },
        {
         "name": "symboling",
         "rawType": "int64",
         "type": "integer"
        },
        {
         "name": "CarName",
         "rawType": "object",
         "type": "string"
        },
        {
         "name": "fueltype",
         "rawType": "object",
         "type": "string"
        },
        {
         "name": "aspiration",
         "rawType": "object",
         "type": "string"
        },
        {
         "name": "doornumber",
         "rawType": "object",
         "type": "string"
        },
        {
         "name": "carbody",
         "rawType": "object",
         "type": "string"
        },
        {
         "name": "drivewheel",
         "rawType": "object",
         "type": "string"
        },
        {
         "name": "enginelocation",
         "rawType": "object",
         "type": "string"
        },
        {
         "name": "wheelbase",
         "rawType": "float64",
         "type": "float"
        },
        {
         "name": "carlength",
         "rawType": "float64",
         "type": "float"
        },
        {
         "name": "carwidth",
         "rawType": "float64",
         "type": "float"
        },
        {
         "name": "carheight",
         "rawType": "float64",
         "type": "float"
        },
        {
         "name": "curbweight",
         "rawType": "int64",
         "type": "integer"
        },
        {
         "name": "enginetype",
         "rawType": "object",
         "type": "string"
        },
        {
         "name": "cylindernumber",
         "rawType": "object",
         "type": "string"
        },
        {
         "name": "enginesize",
         "rawType": "int64",
         "type": "integer"
        },
        {
         "name": "fuelsystem",
         "rawType": "object",
         "type": "string"
        },
        {
         "name": "boreratio",
         "rawType": "float64",
         "type": "float"
        },
        {
         "name": "stroke",
         "rawType": "float64",
         "type": "float"
        },
        {
         "name": "compressionratio",
         "rawType": "float64",
         "type": "float"
        },
        {
         "name": "horsepower",
         "rawType": "int64",
         "type": "integer"
        },
        {
         "name": "peakrpm",
         "rawType": "int64",
         "type": "integer"
        },
        {
         "name": "citympg",
         "rawType": "int64",
         "type": "integer"
        },
        {
         "name": "highwaympg",
         "rawType": "int64",
         "type": "integer"
        },
        {
         "name": "price",
         "rawType": "float64",
         "type": "float"
        }
       ],
       "conversionMethod": "pd.DataFrame",
       "ref": "f90db745-1c8f-49cb-883d-ec94754acf67",
       "rows": [
        [
         "0",
         "1",
         "3",
         "alfa-romero giulia",
         "gas",
         "std",
         "two",
         "convertible",
         "rwd",
         "front",
         "88.6",
         "168.8",
         "64.1",
         "48.8",
         "2548",
         "dohc",
         "four",
         "130",
         "mpfi",
         "3.47",
         "2.68",
         "9.0",
         "111",
         "5000",
         "21",
         "27",
         "13495.0"
        ],
        [
         "1",
         "2",
         "3",
         "alfa-romero stelvio",
         "gas",
         "std",
         "two",
         "convertible",
         "rwd",
         "front",
         "88.6",
         "168.8",
         "64.1",
         "48.8",
         "2548",
         "dohc",
         "four",
         "130",
         "mpfi",
         "3.47",
         "2.68",
         "9.0",
         "111",
         "5000",
         "21",
         "27",
         "16500.0"
        ],
        [
         "2",
         "3",
         "1",
         "alfa-romero Quadrifoglio",
         "gas",
         "std",
         "two",
         "hatchback",
         "rwd",
         "front",
         "94.5",
         "171.2",
         "65.5",
         "52.4",
         "2823",
         "ohcv",
         "six",
         "152",
         "mpfi",
         "2.68",
         "3.47",
         "9.0",
         "154",
         "5000",
         "19",
         "26",
         "16500.0"
        ],
        [
         "3",
         "4",
         "2",
         "audi 100 ls",
         "gas",
         "std",
         "four",
         "sedan",
         "fwd",
         "front",
         "99.8",
         "176.6",
         "66.2",
         "54.3",
         "2337",
         "ohc",
         "four",
         "109",
         "mpfi",
         "3.19",
         "3.4",
         "10.0",
         "102",
         "5500",
         "24",
         "30",
         "13950.0"
        ],
        [
         "4",
         "5",
         "2",
         "audi 100ls",
         "gas",
         "std",
         "four",
         "sedan",
         "4wd",
         "front",
         "99.4",
         "176.6",
         "66.4",
         "54.3",
         "2824",
         "ohc",
         "five",
         "136",
         "mpfi",
         "3.19",
         "3.4",
         "8.0",
         "115",
         "5500",
         "18",
         "22",
         "17450.0"
        ],
        [
         "5",
         "6",
         "2",
         "audi fox",
         "gas",
         "std",
         "two",
         "sedan",
         "fwd",
         "front",
         "99.8",
         "177.3",
         "66.3",
         "53.1",
         "2507",
         "ohc",
         "five",
         "136",
         "mpfi",
         "3.19",
         "3.4",
         "8.5",
         "110",
         "5500",
         "19",
         "25",
         "15250.0"
        ],
        [
         "6",
         "7",
         "1",
         "audi 100ls",
         "gas",
         "std",
         "four",
         "sedan",
         "fwd",
         "front",
         "105.8",
         "192.7",
         "71.4",
         "55.7",
         "2844",
         "ohc",
         "five",
         "136",
         "mpfi",
         "3.19",
         "3.4",
         "8.5",
         "110",
         "5500",
         "19",
         "25",
         "17710.0"
        ],
        [
         "7",
         "8",
         "1",
         "audi 5000",
         "gas",
         "std",
         "four",
         "wagon",
         "fwd",
         "front",
         "105.8",
         "192.7",
         "71.4",
         "55.7",
         "2954",
         "ohc",
         "five",
         "136",
         "mpfi",
         "3.19",
         "3.4",
         "8.5",
         "110",
         "5500",
         "19",
         "25",
         "18920.0"
        ],
        [
         "8",
         "9",
         "1",
         "audi 4000",
         "gas",
         "turbo",
         "four",
         "sedan",
         "fwd",
         "front",
         "105.8",
         "192.7",
         "71.4",
         "55.9",
         "3086",
         "ohc",
         "five",
         "131",
         "mpfi",
         "3.13",
         "3.4",
         "8.3",
         "140",
         "5500",
         "17",
         "20",
         "23875.0"
        ],
        [
         "9",
         "10",
         "0",
         "audi 5000s (diesel)",
         "gas",
         "turbo",
         "two",
         "hatchback",
         "4wd",
         "front",
         "99.5",
         "178.2",
         "67.9",
         "52.0",
         "3053",
         "ohc",
         "five",
         "131",
         "mpfi",
         "3.13",
         "3.4",
         "7.0",
         "160",
         "5500",
         "16",
         "22",
         "17859.167"
        ],
        [
         "10",
         "11",
         "2",
         "bmw 320i",
         "gas",
         "std",
         "two",
         "sedan",
         "rwd",
         "front",
         "101.2",
         "176.8",
         "64.8",
         "54.3",
         "2395",
         "ohc",
         "four",
         "108",
         "mpfi",
         "3.5",
         "2.8",
         "8.8",
         "101",
         "5800",
         "23",
         "29",
         "16430.0"
        ],
        [
         "11",
         "12",
         "0",
         "bmw 320i",
         "gas",
         "std",
         "four",
         "sedan",
         "rwd",
         "front",
         "101.2",
         "176.8",
         "64.8",
         "54.3",
         "2395",
         "ohc",
         "four",
         "108",
         "mpfi",
         "3.5",
         "2.8",
         "8.8",
         "101",
         "5800",
         "23",
         "29",
         "16925.0"
        ],
        [
         "12",
         "13",
         "0",
         "bmw x1",
         "gas",
         "std",
         "two",
         "sedan",
         "rwd",
         "front",
         "101.2",
         "176.8",
         "64.8",
         "54.3",
         "2710",
         "ohc",
         "six",
         "164",
         "mpfi",
         "3.31",
         "3.19",
         "9.0",
         "121",
         "4250",
         "21",
         "28",
         "20970.0"
        ],
        [
         "13",
         "14",
         "0",
         "bmw x3",
         "gas",
         "std",
         "four",
         "sedan",
         "rwd",
         "front",
         "101.2",
         "176.8",
         "64.8",
         "54.3",
         "2765",
         "ohc",
         "six",
         "164",
         "mpfi",
         "3.31",
         "3.19",
         "9.0",
         "121",
         "4250",
         "21",
         "28",
         "21105.0"
        ],
        [
         "14",
         "15",
         "1",
         "bmw z4",
         "gas",
         "std",
         "four",
         "sedan",
         "rwd",
         "front",
         "103.5",
         "189.0",
         "66.9",
         "55.7",
         "3055",
         "ohc",
         "six",
         "164",
         "mpfi",
         "3.31",
         "3.19",
         "9.0",
         "121",
         "4250",
         "20",
         "25",
         "24565.0"
        ],
        [
         "15",
         "16",
         "0",
         "bmw x4",
         "gas",
         "std",
         "four",
         "sedan",
         "rwd",
         "front",
         "103.5",
         "189.0",
         "66.9",
         "55.7",
         "3230",
         "ohc",
         "six",
         "209",
         "mpfi",
         "3.62",
         "3.39",
         "8.0",
         "182",
         "5400",
         "16",
         "22",
         "30760.0"
        ],
        [
         "16",
         "17",
         "0",
         "bmw x5",
         "gas",
         "std",
         "two",
         "sedan",
         "rwd",
         "front",
         "103.5",
         "193.8",
         "67.9",
         "53.7",
         "3380",
         "ohc",
         "six",
         "209",
         "mpfi",
         "3.62",
         "3.39",
         "8.0",
         "182",
         "5400",
         "16",
         "22",
         "41315.0"
        ],
        [
         "17",
         "18",
         "0",
         "bmw x3",
         "gas",
         "std",
         "four",
         "sedan",
         "rwd",
         "front",
         "110.0",
         "197.0",
         "70.9",
         "56.3",
         "3505",
         "ohc",
         "six",
         "209",
         "mpfi",
         "3.62",
         "3.39",
         "8.0",
         "182",
         "5400",
         "15",
         "20",
         "36880.0"
        ],
        [
         "18",
         "19",
         "2",
         "chevrolet impala",
         "gas",
         "std",
         "two",
         "hatchback",
         "fwd",
         "front",
         "88.4",
         "141.1",
         "60.3",
         "53.2",
         "1488",
         "l",
         "three",
         "61",
         "2bbl",
         "2.91",
         "3.03",
         "9.5",
         "48",
         "5100",
         "47",
         "53",
         "5151.0"
        ],
        [
         "19",
         "20",
         "1",
         "chevrolet monte carlo",
         "gas",
         "std",
         "two",
         "hatchback",
         "fwd",
         "front",
         "94.5",
         "155.9",
         "63.6",
         "52.0",
         "1874",
         "ohc",
         "four",
         "90",
         "2bbl",
         "3.03",
         "3.11",
         "9.6",
         "70",
         "5400",
         "38",
         "43",
         "6295.0"
        ],
        [
         "20",
         "21",
         "0",
         "chevrolet vega 2300",
         "gas",
         "std",
         "four",
         "sedan",
         "fwd",
         "front",
         "94.5",
         "158.8",
         "63.6",
         "52.0",
         "1909",
         "ohc",
         "four",
         "90",
         "2bbl",
         "3.03",
         "3.11",
         "9.6",
         "70",
         "5400",
         "38",
         "43",
         "6575.0"
        ],
        [
         "21",
         "22",
         "1",
         "dodge rampage",
         "gas",
         "std",
         "two",
         "hatchback",
         "fwd",
         "front",
         "93.7",
         "157.3",
         "63.8",
         "50.8",
         "1876",
         "ohc",
         "four",
         "90",
         "2bbl",
         "2.97",
         "3.23",
         "9.41",
         "68",
         "5500",
         "37",
         "41",
         "5572.0"
        ],
        [
         "22",
         "23",
         "1",
         "dodge challenger se",
         "gas",
         "std",
         "two",
         "hatchback",
         "fwd",
         "front",
         "93.7",
         "157.3",
         "63.8",
         "50.8",
         "1876",
         "ohc",
         "four",
         "90",
         "2bbl",
         "2.97",
         "3.23",
         "9.4",
         "68",
         "5500",
         "31",
         "38",
         "6377.0"
        ],
        [
         "23",
         "24",
         "1",
         "dodge d200",
         "gas",
         "turbo",
         "two",
         "hatchback",
         "fwd",
         "front",
         "93.7",
         "157.3",
         "63.8",
         "50.8",
         "2128",
         "ohc",
         "four",
         "98",
         "mpfi",
         "3.03",
         "3.39",
         "7.6",
         "102",
         "5500",
         "24",
         "30",
         "7957.0"
        ],
        [
         "24",
         "25",
         "1",
         "dodge monaco (sw)",
         "gas",
         "std",
         "four",
         "hatchback",
         "fwd",
         "front",
         "93.7",
         "157.3",
         "63.8",
         "50.6",
         "1967",
         "ohc",
         "four",
         "90",
         "2bbl",
         "2.97",
         "3.23",
         "9.4",
         "68",
         "5500",
         "31",
         "38",
         "6229.0"
        ],
        [
         "25",
         "26",
         "1",
         "dodge colt hardtop",
         "gas",
         "std",
         "four",
         "sedan",
         "fwd",
         "front",
         "93.7",
         "157.3",
         "63.8",
         "50.6",
         "1989",
         "ohc",
         "four",
         "90",
         "2bbl",
         "2.97",
         "3.23",
         "9.4",
         "68",
         "5500",
         "31",
         "38",
         "6692.0"
        ],
        [
         "26",
         "27",
         "1",
         "dodge colt (sw)",
         "gas",
         "std",
         "four",
         "sedan",
         "fwd",
         "front",
         "93.7",
         "157.3",
         "63.8",
         "50.6",
         "1989",
         "ohc",
         "four",
         "90",
         "2bbl",
         "2.97",
         "3.23",
         "9.4",
         "68",
         "5500",
         "31",
         "38",
         "7609.0"
        ],
        [
         "27",
         "28",
         "1",
         "dodge coronet custom",
         "gas",
         "turbo",
         "two",
         "sedan",
         "fwd",
         "front",
         "93.7",
         "157.3",
         "63.8",
         "50.6",
         "2191",
         "ohc",
         "four",
         "98",
         "mpfi",
         "3.03",
         "3.39",
         "7.6",
         "102",
         "5500",
         "24",
         "30",
         "8558.0"
        ],
        [
         "28",
         "29",
         "-1",
         "dodge dart custom",
         "gas",
         "std",
         "four",
         "wagon",
         "fwd",
         "front",
         "103.3",
         "174.6",
         "64.6",
         "59.8",
         "2535",
         "ohc",
         "four",
         "122",
         "2bbl",
         "3.34",
         "3.46",
         "8.5",
         "88",
         "5000",
         "24",
         "30",
         "8921.0"
        ],
        [
         "29",
         "30",
         "3",
         "dodge coronet custom (sw)",
         "gas",
         "turbo",
         "two",
         "hatchback",
         "fwd",
         "front",
         "95.9",
         "173.2",
         "66.3",
         "50.2",
         "2811",
         "ohc",
         "four",
         "156",
         "mfi",
         "3.6",
         "3.9",
         "7.0",
         "145",
         "5000",
         "19",
         "24",
         "12964.0"
        ],
        [
         "30",
         "31",
         "2",
         "honda civic",
         "gas",
         "std",
         "two",
         "hatchback",
         "fwd",
         "front",
         "86.6",
         "144.6",
         "63.9",
         "50.8",
         "1713",
         "ohc",
         "four",
         "92",
         "1bbl",
         "2.91",
         "3.41",
         "9.6",
         "58",
         "4800",
         "49",
         "54",
         "6479.0"
        ],
        [
         "31",
         "32",
         "2",
         "honda civic cvcc",
         "gas",
         "std",
         "two",
         "hatchback",
         "fwd",
         "front",
         "86.6",
         "144.6",
         "63.9",
         "50.8",
         "1819",
         "ohc",
         "four",
         "92",
         "1bbl",
         "2.91",
         "3.41",
         "9.2",
         "76",
         "6000",
         "31",
         "38",
         "6855.0"
        ],
        [
         "32",
         "33",
         "1",
         "honda civic",
         "gas",
         "std",
         "two",
         "hatchback",
         "fwd",
         "front",
         "93.7",
         "150.0",
         "64.0",
         "52.6",
         "1837",
         "ohc",
         "four",
         "79",
         "1bbl",
         "2.91",
         "3.07",
         "10.1",
         "60",
         "5500",
         "38",
         "42",
         "5399.0"
        ],
        [
         "33",
         "34",
         "1",
         "honda accord cvcc",
         "gas",
         "std",
         "two",
         "hatchback",
         "fwd",
         "front",
         "93.7",
         "150.0",
         "64.0",
         "52.6",
         "1940",
         "ohc",
         "four",
         "92",
         "1bbl",
         "2.91",
         "3.41",
         "9.2",
         "76",
         "6000",
         "30",
         "34",
         "6529.0"
        ],
        [
         "34",
         "35",
         "1",
         "honda civic cvcc",
         "gas",
         "std",
         "two",
         "hatchback",
         "fwd",
         "front",
         "93.7",
         "150.0",
         "64.0",
         "52.6",
         "1956",
         "ohc",
         "four",
         "92",
         "1bbl",
         "2.91",
         "3.41",
         "9.2",
         "76",
         "6000",
         "30",
         "34",
         "7129.0"
        ],
        [
         "35",
         "36",
         "0",
         "honda accord lx",
         "gas",
         "std",
         "four",
         "sedan",
         "fwd",
         "front",
         "96.5",
         "163.4",
         "64.0",
         "54.5",
         "2010",
         "ohc",
         "four",
         "92",
         "1bbl",
         "2.91",
         "3.41",
         "9.2",
         "76",
         "6000",
         "30",
         "34",
         "7295.0"
        ],
        [
         "36",
         "37",
         "0",
         "honda civic 1500 gl",
         "gas",
         "std",
         "four",
         "wagon",
         "fwd",
         "front",
         "96.5",
         "157.1",
         "63.9",
         "58.3",
         "2024",
         "ohc",
         "four",
         "92",
         "1bbl",
         "2.92",
         "3.41",
         "9.2",
         "76",
         "6000",
         "30",
         "34",
         "7295.0"
        ],
        [
         "37",
         "38",
         "0",
         "honda accord",
         "gas",
         "std",
         "two",
         "hatchback",
         "fwd",
         "front",
         "96.5",
         "167.5",
         "65.2",
         "53.3",
         "2236",
         "ohc",
         "four",
         "110",
         "1bbl",
         "3.15",
         "3.58",
         "9.0",
         "86",
         "5800",
         "27",
         "33",
         "7895.0"
        ],
        [
         "38",
         "39",
         "0",
         "honda civic 1300",
         "gas",
         "std",
         "two",
         "hatchback",
         "fwd",
         "front",
         "96.5",
         "167.5",
         "65.2",
         "53.3",
         "2289",
         "ohc",
         "four",
         "110",
         "1bbl",
         "3.15",
         "3.58",
         "9.0",
         "86",
         "5800",
         "27",
         "33",
         "9095.0"
        ],
        [
         "39",
         "40",
         "0",
         "honda prelude",
         "gas",
         "std",
         "four",
         "sedan",
         "fwd",
         "front",
         "96.5",
         "175.4",
         "65.2",
         "54.1",
         "2304",
         "ohc",
         "four",
         "110",
         "1bbl",
         "3.15",
         "3.58",
         "9.0",
         "86",
         "5800",
         "27",
         "33",
         "8845.0"
        ],
        [
         "40",
         "41",
         "0",
         "honda accord",
         "gas",
         "std",
         "four",
         "sedan",
         "fwd",
         "front",
         "96.5",
         "175.4",
         "62.5",
         "54.1",
         "2372",
         "ohc",
         "four",
         "110",
         "1bbl",
         "3.15",
         "3.58",
         "9.0",
         "86",
         "5800",
         "27",
         "33",
         "10295.0"
        ],
        [
         "41",
         "42",
         "0",
         "honda civic",
         "gas",
         "std",
         "four",
         "sedan",
         "fwd",
         "front",
         "96.5",
         "175.4",
         "65.2",
         "54.1",
         "2465",
         "ohc",
         "four",
         "110",
         "mpfi",
         "3.15",
         "3.58",
         "9.0",
         "101",
         "5800",
         "24",
         "28",
         "12945.0"
        ],
        [
         "42",
         "43",
         "1",
         "honda civic (auto)",
         "gas",
         "std",
         "two",
         "sedan",
         "fwd",
         "front",
         "96.5",
         "169.1",
         "66.0",
         "51.0",
         "2293",
         "ohc",
         "four",
         "110",
         "2bbl",
         "3.15",
         "3.58",
         "9.1",
         "100",
         "5500",
         "25",
         "31",
         "10345.0"
        ],
        [
         "43",
         "44",
         "0",
         "isuzu MU-X",
         "gas",
         "std",
         "four",
         "sedan",
         "rwd",
         "front",
         "94.3",
         "170.7",
         "61.8",
         "53.5",
         "2337",
         "ohc",
         "four",
         "111",
         "2bbl",
         "3.31",
         "3.23",
         "8.5",
         "78",
         "4800",
         "24",
         "29",
         "6785.0"
        ],
        [
         "44",
         "45",
         "1",
         "isuzu D-Max ",
         "gas",
         "std",
         "two",
         "sedan",
         "fwd",
         "front",
         "94.5",
         "155.9",
         "63.6",
         "52.0",
         "1874",
         "ohc",
         "four",
         "90",
         "2bbl",
         "3.03",
         "3.11",
         "9.6",
         "70",
         "5400",
         "38",
         "43",
         "8916.5"
        ],
        [
         "45",
         "46",
         "0",
         "isuzu D-Max V-Cross",
         "gas",
         "std",
         "four",
         "sedan",
         "fwd",
         "front",
         "94.5",
         "155.9",
         "63.6",
         "52.0",
         "1909",
         "ohc",
         "four",
         "90",
         "2bbl",
         "3.03",
         "3.11",
         "9.6",
         "70",
         "5400",
         "38",
         "43",
         "8916.5"
        ],
        [
         "46",
         "47",
         "2",
         "isuzu D-Max ",
         "gas",
         "std",
         "two",
         "hatchback",
         "rwd",
         "front",
         "96.0",
         "172.6",
         "65.2",
         "51.4",
         "2734",
         "ohc",
         "four",
         "119",
         "spfi",
         "3.43",
         "3.23",
         "9.2",
         "90",
         "5000",
         "24",
         "29",
         "11048.0"
        ],
        [
         "47",
         "48",
         "0",
         "jaguar xj",
         "gas",
         "std",
         "four",
         "sedan",
         "rwd",
         "front",
         "113.0",
         "199.6",
         "69.6",
         "52.8",
         "4066",
         "dohc",
         "six",
         "258",
         "mpfi",
         "3.63",
         "4.17",
         "8.1",
         "176",
         "4750",
         "15",
         "19",
         "32250.0"
        ],
        [
         "48",
         "49",
         "0",
         "jaguar xf",
         "gas",
         "std",
         "four",
         "sedan",
         "rwd",
         "front",
         "113.0",
         "199.6",
         "69.6",
         "52.8",
         "4066",
         "dohc",
         "six",
         "258",
         "mpfi",
         "3.63",
         "4.17",
         "8.1",
         "176",
         "4750",
         "15",
         "19",
         "35550.0"
        ],
        [
         "49",
         "50",
         "0",
         "jaguar xk",
         "gas",
         "std",
         "two",
         "sedan",
         "rwd",
         "front",
         "102.0",
         "191.7",
         "70.6",
         "47.8",
         "3950",
         "ohcv",
         "twelve",
         "326",
         "mpfi",
         "3.54",
         "2.76",
         "11.5",
         "262",
         "5000",
         "13",
         "17",
         "36000.0"
        ]
       ],
       "shape": {
        "columns": 26,
        "rows": 205
       }
      },
      "text/html": [
       "<div>\n",
       "<style scoped>\n",
       "    .dataframe tbody tr th:only-of-type {\n",
       "        vertical-align: middle;\n",
       "    }\n",
       "\n",
       "    .dataframe tbody tr th {\n",
       "        vertical-align: top;\n",
       "    }\n",
       "\n",
       "    .dataframe thead th {\n",
       "        text-align: right;\n",
       "    }\n",
       "</style>\n",
       "<table border=\"1\" class=\"dataframe\">\n",
       "  <thead>\n",
       "    <tr style=\"text-align: right;\">\n",
       "      <th></th>\n",
       "      <th>car_ID</th>\n",
       "      <th>symboling</th>\n",
       "      <th>CarName</th>\n",
       "      <th>fueltype</th>\n",
       "      <th>aspiration</th>\n",
       "      <th>doornumber</th>\n",
       "      <th>carbody</th>\n",
       "      <th>drivewheel</th>\n",
       "      <th>enginelocation</th>\n",
       "      <th>wheelbase</th>\n",
       "      <th>...</th>\n",
       "      <th>enginesize</th>\n",
       "      <th>fuelsystem</th>\n",
       "      <th>boreratio</th>\n",
       "      <th>stroke</th>\n",
       "      <th>compressionratio</th>\n",
       "      <th>horsepower</th>\n",
       "      <th>peakrpm</th>\n",
       "      <th>citympg</th>\n",
       "      <th>highwaympg</th>\n",
       "      <th>price</th>\n",
       "    </tr>\n",
       "  </thead>\n",
       "  <tbody>\n",
       "    <tr>\n",
       "      <th>0</th>\n",
       "      <td>1</td>\n",
       "      <td>3</td>\n",
       "      <td>alfa-romero giulia</td>\n",
       "      <td>gas</td>\n",
       "      <td>std</td>\n",
       "      <td>two</td>\n",
       "      <td>convertible</td>\n",
       "      <td>rwd</td>\n",
       "      <td>front</td>\n",
       "      <td>88.6</td>\n",
       "      <td>...</td>\n",
       "      <td>130</td>\n",
       "      <td>mpfi</td>\n",
       "      <td>3.47</td>\n",
       "      <td>2.68</td>\n",
       "      <td>9.0</td>\n",
       "      <td>111</td>\n",
       "      <td>5000</td>\n",
       "      <td>21</td>\n",
       "      <td>27</td>\n",
       "      <td>13495.0</td>\n",
       "    </tr>\n",
       "    <tr>\n",
       "      <th>1</th>\n",
       "      <td>2</td>\n",
       "      <td>3</td>\n",
       "      <td>alfa-romero stelvio</td>\n",
       "      <td>gas</td>\n",
       "      <td>std</td>\n",
       "      <td>two</td>\n",
       "      <td>convertible</td>\n",
       "      <td>rwd</td>\n",
       "      <td>front</td>\n",
       "      <td>88.6</td>\n",
       "      <td>...</td>\n",
       "      <td>130</td>\n",
       "      <td>mpfi</td>\n",
       "      <td>3.47</td>\n",
       "      <td>2.68</td>\n",
       "      <td>9.0</td>\n",
       "      <td>111</td>\n",
       "      <td>5000</td>\n",
       "      <td>21</td>\n",
       "      <td>27</td>\n",
       "      <td>16500.0</td>\n",
       "    </tr>\n",
       "    <tr>\n",
       "      <th>2</th>\n",
       "      <td>3</td>\n",
       "      <td>1</td>\n",
       "      <td>alfa-romero Quadrifoglio</td>\n",
       "      <td>gas</td>\n",
       "      <td>std</td>\n",
       "      <td>two</td>\n",
       "      <td>hatchback</td>\n",
       "      <td>rwd</td>\n",
       "      <td>front</td>\n",
       "      <td>94.5</td>\n",
       "      <td>...</td>\n",
       "      <td>152</td>\n",
       "      <td>mpfi</td>\n",
       "      <td>2.68</td>\n",
       "      <td>3.47</td>\n",
       "      <td>9.0</td>\n",
       "      <td>154</td>\n",
       "      <td>5000</td>\n",
       "      <td>19</td>\n",
       "      <td>26</td>\n",
       "      <td>16500.0</td>\n",
       "    </tr>\n",
       "    <tr>\n",
       "      <th>3</th>\n",
       "      <td>4</td>\n",
       "      <td>2</td>\n",
       "      <td>audi 100 ls</td>\n",
       "      <td>gas</td>\n",
       "      <td>std</td>\n",
       "      <td>four</td>\n",
       "      <td>sedan</td>\n",
       "      <td>fwd</td>\n",
       "      <td>front</td>\n",
       "      <td>99.8</td>\n",
       "      <td>...</td>\n",
       "      <td>109</td>\n",
       "      <td>mpfi</td>\n",
       "      <td>3.19</td>\n",
       "      <td>3.40</td>\n",
       "      <td>10.0</td>\n",
       "      <td>102</td>\n",
       "      <td>5500</td>\n",
       "      <td>24</td>\n",
       "      <td>30</td>\n",
       "      <td>13950.0</td>\n",
       "    </tr>\n",
       "    <tr>\n",
       "      <th>4</th>\n",
       "      <td>5</td>\n",
       "      <td>2</td>\n",
       "      <td>audi 100ls</td>\n",
       "      <td>gas</td>\n",
       "      <td>std</td>\n",
       "      <td>four</td>\n",
       "      <td>sedan</td>\n",
       "      <td>4wd</td>\n",
       "      <td>front</td>\n",
       "      <td>99.4</td>\n",
       "      <td>...</td>\n",
       "      <td>136</td>\n",
       "      <td>mpfi</td>\n",
       "      <td>3.19</td>\n",
       "      <td>3.40</td>\n",
       "      <td>8.0</td>\n",
       "      <td>115</td>\n",
       "      <td>5500</td>\n",
       "      <td>18</td>\n",
       "      <td>22</td>\n",
       "      <td>17450.0</td>\n",
       "    </tr>\n",
       "    <tr>\n",
       "      <th>...</th>\n",
       "      <td>...</td>\n",
       "      <td>...</td>\n",
       "      <td>...</td>\n",
       "      <td>...</td>\n",
       "      <td>...</td>\n",
       "      <td>...</td>\n",
       "      <td>...</td>\n",
       "      <td>...</td>\n",
       "      <td>...</td>\n",
       "      <td>...</td>\n",
       "      <td>...</td>\n",
       "      <td>...</td>\n",
       "      <td>...</td>\n",
       "      <td>...</td>\n",
       "      <td>...</td>\n",
       "      <td>...</td>\n",
       "      <td>...</td>\n",
       "      <td>...</td>\n",
       "      <td>...</td>\n",
       "      <td>...</td>\n",
       "      <td>...</td>\n",
       "    </tr>\n",
       "    <tr>\n",
       "      <th>200</th>\n",
       "      <td>201</td>\n",
       "      <td>-1</td>\n",
       "      <td>volvo 145e (sw)</td>\n",
       "      <td>gas</td>\n",
       "      <td>std</td>\n",
       "      <td>four</td>\n",
       "      <td>sedan</td>\n",
       "      <td>rwd</td>\n",
       "      <td>front</td>\n",
       "      <td>109.1</td>\n",
       "      <td>...</td>\n",
       "      <td>141</td>\n",
       "      <td>mpfi</td>\n",
       "      <td>3.78</td>\n",
       "      <td>3.15</td>\n",
       "      <td>9.5</td>\n",
       "      <td>114</td>\n",
       "      <td>5400</td>\n",
       "      <td>23</td>\n",
       "      <td>28</td>\n",
       "      <td>16845.0</td>\n",
       "    </tr>\n",
       "    <tr>\n",
       "      <th>201</th>\n",
       "      <td>202</td>\n",
       "      <td>-1</td>\n",
       "      <td>volvo 144ea</td>\n",
       "      <td>gas</td>\n",
       "      <td>turbo</td>\n",
       "      <td>four</td>\n",
       "      <td>sedan</td>\n",
       "      <td>rwd</td>\n",
       "      <td>front</td>\n",
       "      <td>109.1</td>\n",
       "      <td>...</td>\n",
       "      <td>141</td>\n",
       "      <td>mpfi</td>\n",
       "      <td>3.78</td>\n",
       "      <td>3.15</td>\n",
       "      <td>8.7</td>\n",
       "      <td>160</td>\n",
       "      <td>5300</td>\n",
       "      <td>19</td>\n",
       "      <td>25</td>\n",
       "      <td>19045.0</td>\n",
       "    </tr>\n",
       "    <tr>\n",
       "      <th>202</th>\n",
       "      <td>203</td>\n",
       "      <td>-1</td>\n",
       "      <td>volvo 244dl</td>\n",
       "      <td>gas</td>\n",
       "      <td>std</td>\n",
       "      <td>four</td>\n",
       "      <td>sedan</td>\n",
       "      <td>rwd</td>\n",
       "      <td>front</td>\n",
       "      <td>109.1</td>\n",
       "      <td>...</td>\n",
       "      <td>173</td>\n",
       "      <td>mpfi</td>\n",
       "      <td>3.58</td>\n",
       "      <td>2.87</td>\n",
       "      <td>8.8</td>\n",
       "      <td>134</td>\n",
       "      <td>5500</td>\n",
       "      <td>18</td>\n",
       "      <td>23</td>\n",
       "      <td>21485.0</td>\n",
       "    </tr>\n",
       "    <tr>\n",
       "      <th>203</th>\n",
       "      <td>204</td>\n",
       "      <td>-1</td>\n",
       "      <td>volvo 246</td>\n",
       "      <td>diesel</td>\n",
       "      <td>turbo</td>\n",
       "      <td>four</td>\n",
       "      <td>sedan</td>\n",
       "      <td>rwd</td>\n",
       "      <td>front</td>\n",
       "      <td>109.1</td>\n",
       "      <td>...</td>\n",
       "      <td>145</td>\n",
       "      <td>idi</td>\n",
       "      <td>3.01</td>\n",
       "      <td>3.40</td>\n",
       "      <td>23.0</td>\n",
       "      <td>106</td>\n",
       "      <td>4800</td>\n",
       "      <td>26</td>\n",
       "      <td>27</td>\n",
       "      <td>22470.0</td>\n",
       "    </tr>\n",
       "    <tr>\n",
       "      <th>204</th>\n",
       "      <td>205</td>\n",
       "      <td>-1</td>\n",
       "      <td>volvo 264gl</td>\n",
       "      <td>gas</td>\n",
       "      <td>turbo</td>\n",
       "      <td>four</td>\n",
       "      <td>sedan</td>\n",
       "      <td>rwd</td>\n",
       "      <td>front</td>\n",
       "      <td>109.1</td>\n",
       "      <td>...</td>\n",
       "      <td>141</td>\n",
       "      <td>mpfi</td>\n",
       "      <td>3.78</td>\n",
       "      <td>3.15</td>\n",
       "      <td>9.5</td>\n",
       "      <td>114</td>\n",
       "      <td>5400</td>\n",
       "      <td>19</td>\n",
       "      <td>25</td>\n",
       "      <td>22625.0</td>\n",
       "    </tr>\n",
       "  </tbody>\n",
       "</table>\n",
       "<p>205 rows × 26 columns</p>\n",
       "</div>"
      ],
      "text/plain": [
       "     car_ID  symboling                   CarName fueltype aspiration  \\\n",
       "0         1          3        alfa-romero giulia      gas        std   \n",
       "1         2          3       alfa-romero stelvio      gas        std   \n",
       "2         3          1  alfa-romero Quadrifoglio      gas        std   \n",
       "3         4          2               audi 100 ls      gas        std   \n",
       "4         5          2                audi 100ls      gas        std   \n",
       "..      ...        ...                       ...      ...        ...   \n",
       "200     201         -1           volvo 145e (sw)      gas        std   \n",
       "201     202         -1               volvo 144ea      gas      turbo   \n",
       "202     203         -1               volvo 244dl      gas        std   \n",
       "203     204         -1                 volvo 246   diesel      turbo   \n",
       "204     205         -1               volvo 264gl      gas      turbo   \n",
       "\n",
       "    doornumber      carbody drivewheel enginelocation  wheelbase  ...  \\\n",
       "0          two  convertible        rwd          front       88.6  ...   \n",
       "1          two  convertible        rwd          front       88.6  ...   \n",
       "2          two    hatchback        rwd          front       94.5  ...   \n",
       "3         four        sedan        fwd          front       99.8  ...   \n",
       "4         four        sedan        4wd          front       99.4  ...   \n",
       "..         ...          ...        ...            ...        ...  ...   \n",
       "200       four        sedan        rwd          front      109.1  ...   \n",
       "201       four        sedan        rwd          front      109.1  ...   \n",
       "202       four        sedan        rwd          front      109.1  ...   \n",
       "203       four        sedan        rwd          front      109.1  ...   \n",
       "204       four        sedan        rwd          front      109.1  ...   \n",
       "\n",
       "     enginesize  fuelsystem  boreratio  stroke compressionratio horsepower  \\\n",
       "0           130        mpfi       3.47    2.68              9.0        111   \n",
       "1           130        mpfi       3.47    2.68              9.0        111   \n",
       "2           152        mpfi       2.68    3.47              9.0        154   \n",
       "3           109        mpfi       3.19    3.40             10.0        102   \n",
       "4           136        mpfi       3.19    3.40              8.0        115   \n",
       "..          ...         ...        ...     ...              ...        ...   \n",
       "200         141        mpfi       3.78    3.15              9.5        114   \n",
       "201         141        mpfi       3.78    3.15              8.7        160   \n",
       "202         173        mpfi       3.58    2.87              8.8        134   \n",
       "203         145         idi       3.01    3.40             23.0        106   \n",
       "204         141        mpfi       3.78    3.15              9.5        114   \n",
       "\n",
       "     peakrpm citympg  highwaympg    price  \n",
       "0       5000      21          27  13495.0  \n",
       "1       5000      21          27  16500.0  \n",
       "2       5000      19          26  16500.0  \n",
       "3       5500      24          30  13950.0  \n",
       "4       5500      18          22  17450.0  \n",
       "..       ...     ...         ...      ...  \n",
       "200     5400      23          28  16845.0  \n",
       "201     5300      19          25  19045.0  \n",
       "202     5500      18          23  21485.0  \n",
       "203     4800      26          27  22470.0  \n",
       "204     5400      19          25  22625.0  \n",
       "\n",
       "[205 rows x 26 columns]"
      ]
     },
     "execution_count": 2,
     "metadata": {},
     "output_type": "execute_result"
    }
   ],
   "source": [
    "database = pd.read_csv(\"database/CarPrice_Assignment.csv\")\n",
    "database"
   ]
  },
  {
   "cell_type": "code",
   "execution_count": 3,
   "id": "996ad8e4",
   "metadata": {},
   "outputs": [
    {
     "name": "stdout",
     "output_type": "stream",
     "text": [
      "<class 'pandas.core.frame.DataFrame'>\n",
      "RangeIndex: 205 entries, 0 to 204\n",
      "Data columns (total 26 columns):\n",
      " #   Column            Non-Null Count  Dtype  \n",
      "---  ------            --------------  -----  \n",
      " 0   car_ID            205 non-null    int64  \n",
      " 1   symboling         205 non-null    int64  \n",
      " 2   CarName           205 non-null    object \n",
      " 3   fueltype          205 non-null    object \n",
      " 4   aspiration        205 non-null    object \n",
      " 5   doornumber        205 non-null    object \n",
      " 6   carbody           205 non-null    object \n",
      " 7   drivewheel        205 non-null    object \n",
      " 8   enginelocation    205 non-null    object \n",
      " 9   wheelbase         205 non-null    float64\n",
      " 10  carlength         205 non-null    float64\n",
      " 11  carwidth          205 non-null    float64\n",
      " 12  carheight         205 non-null    float64\n",
      " 13  curbweight        205 non-null    int64  \n",
      " 14  enginetype        205 non-null    object \n",
      " 15  cylindernumber    205 non-null    object \n",
      " 16  enginesize        205 non-null    int64  \n",
      " 17  fuelsystem        205 non-null    object \n",
      " 18  boreratio         205 non-null    float64\n",
      " 19  stroke            205 non-null    float64\n",
      " 20  compressionratio  205 non-null    float64\n",
      " 21  horsepower        205 non-null    int64  \n",
      " 22  peakrpm           205 non-null    int64  \n",
      " 23  citympg           205 non-null    int64  \n",
      " 24  highwaympg        205 non-null    int64  \n",
      " 25  price             205 non-null    float64\n",
      "dtypes: float64(8), int64(8), object(10)\n",
      "memory usage: 41.8+ KB\n"
     ]
    }
   ],
   "source": [
    "database.info()"
   ]
  },
  {
   "cell_type": "code",
   "execution_count": null,
   "id": "e922f11c",
   "metadata": {},
   "outputs": [],
   "source": [
    "index_objects = []\n",
    "\n",
    "for i in range(database.shape[1]):\n",
    "    if database.dtypes[i] == object:\n",
    "        index_objects.append(i)"
   ]
  },
  {
   "cell_type": "markdown",
   "id": "d6f59a21",
   "metadata": {},
   "source": [
    "#### Aplicando a codificação em colunas que possui objetos com o método **LabelEncoder**:"
   ]
  },
  {
   "cell_type": "code",
   "execution_count": null,
   "id": "e008761d",
   "metadata": {},
   "outputs": [],
   "source": [
    "from sklearn.preprocessing import LabelEncoder\n",
    "import pandas as pd\n",
    "\n",
    "encoder = LabelEncoder()\n",
    "\n",
    "for i in index_objects:\n",
    "    database.iloc[:, i] = encoder.fit_transform(database.iloc[:, i]).astype(int)"
   ]
  },
  {
   "cell_type": "code",
   "execution_count": 13,
   "id": "339e2c79",
   "metadata": {},
   "outputs": [
    {
     "data": {
      "application/vnd.microsoft.datawrangler.viewer.v0+json": {
       "columns": [
        {
         "name": "index",
         "rawType": "int64",
         "type": "integer"
        },
        {
         "name": "car_ID",
         "rawType": "int64",
         "type": "integer"
        },
        {
         "name": "symboling",
         "rawType": "int64",
         "type": "integer"
        },
        {
         "name": "CarName",
         "rawType": "object",
         "type": "unknown"
        },
        {
         "name": "fueltype",
         "rawType": "object",
         "type": "unknown"
        },
        {
         "name": "aspiration",
         "rawType": "object",
         "type": "unknown"
        },
        {
         "name": "doornumber",
         "rawType": "object",
         "type": "unknown"
        },
        {
         "name": "carbody",
         "rawType": "object",
         "type": "unknown"
        },
        {
         "name": "drivewheel",
         "rawType": "object",
         "type": "unknown"
        },
        {
         "name": "enginelocation",
         "rawType": "object",
         "type": "unknown"
        },
        {
         "name": "wheelbase",
         "rawType": "float64",
         "type": "float"
        },
        {
         "name": "carlength",
         "rawType": "float64",
         "type": "float"
        },
        {
         "name": "carwidth",
         "rawType": "float64",
         "type": "float"
        },
        {
         "name": "carheight",
         "rawType": "float64",
         "type": "float"
        },
        {
         "name": "curbweight",
         "rawType": "int64",
         "type": "integer"
        },
        {
         "name": "enginetype",
         "rawType": "object",
         "type": "unknown"
        },
        {
         "name": "cylindernumber",
         "rawType": "object",
         "type": "unknown"
        },
        {
         "name": "enginesize",
         "rawType": "int64",
         "type": "integer"
        },
        {
         "name": "fuelsystem",
         "rawType": "object",
         "type": "unknown"
        },
        {
         "name": "boreratio",
         "rawType": "float64",
         "type": "float"
        },
        {
         "name": "stroke",
         "rawType": "float64",
         "type": "float"
        },
        {
         "name": "compressionratio",
         "rawType": "float64",
         "type": "float"
        },
        {
         "name": "horsepower",
         "rawType": "int64",
         "type": "integer"
        },
        {
         "name": "peakrpm",
         "rawType": "int64",
         "type": "integer"
        },
        {
         "name": "citympg",
         "rawType": "int64",
         "type": "integer"
        },
        {
         "name": "highwaympg",
         "rawType": "int64",
         "type": "integer"
        },
        {
         "name": "price",
         "rawType": "float64",
         "type": "float"
        }
       ],
       "conversionMethod": "pd.DataFrame",
       "ref": "05019603-8c20-4569-86c6-7233935db7a4",
       "rows": [
        [
         "0",
         "1",
         "3",
         "2",
         "1",
         "0",
         "1",
         "0",
         "2",
         "0",
         "88.6",
         "168.8",
         "64.1",
         "48.8",
         "2548",
         "0",
         "2",
         "130",
         "5",
         "3.47",
         "2.68",
         "9.0",
         "111",
         "5000",
         "21",
         "27",
         "13495.0"
        ],
        [
         "1",
         "2",
         "3",
         "3",
         "1",
         "0",
         "1",
         "0",
         "2",
         "0",
         "88.6",
         "168.8",
         "64.1",
         "48.8",
         "2548",
         "0",
         "2",
         "130",
         "5",
         "3.47",
         "2.68",
         "9.0",
         "111",
         "5000",
         "21",
         "27",
         "16500.0"
        ],
        [
         "2",
         "3",
         "1",
         "1",
         "1",
         "0",
         "1",
         "2",
         "2",
         "0",
         "94.5",
         "171.2",
         "65.5",
         "52.4",
         "2823",
         "5",
         "3",
         "152",
         "5",
         "2.68",
         "3.47",
         "9.0",
         "154",
         "5000",
         "19",
         "26",
         "16500.0"
        ],
        [
         "3",
         "4",
         "2",
         "4",
         "1",
         "0",
         "0",
         "3",
         "1",
         "0",
         "99.8",
         "176.6",
         "66.2",
         "54.3",
         "2337",
         "3",
         "2",
         "109",
         "5",
         "3.19",
         "3.4",
         "10.0",
         "102",
         "5500",
         "24",
         "30",
         "13950.0"
        ],
        [
         "4",
         "5",
         "2",
         "5",
         "1",
         "0",
         "0",
         "3",
         "0",
         "0",
         "99.4",
         "176.6",
         "66.4",
         "54.3",
         "2824",
         "3",
         "1",
         "136",
         "5",
         "3.19",
         "3.4",
         "8.0",
         "115",
         "5500",
         "18",
         "22",
         "17450.0"
        ],
        [
         "5",
         "6",
         "2",
         "9",
         "1",
         "0",
         "1",
         "3",
         "1",
         "0",
         "99.8",
         "177.3",
         "66.3",
         "53.1",
         "2507",
         "3",
         "1",
         "136",
         "5",
         "3.19",
         "3.4",
         "8.5",
         "110",
         "5500",
         "19",
         "25",
         "15250.0"
        ],
        [
         "6",
         "7",
         "1",
         "5",
         "1",
         "0",
         "0",
         "3",
         "1",
         "0",
         "105.8",
         "192.7",
         "71.4",
         "55.7",
         "2844",
         "3",
         "1",
         "136",
         "5",
         "3.19",
         "3.4",
         "8.5",
         "110",
         "5500",
         "19",
         "25",
         "17710.0"
        ],
        [
         "7",
         "8",
         "1",
         "7",
         "1",
         "0",
         "0",
         "4",
         "1",
         "0",
         "105.8",
         "192.7",
         "71.4",
         "55.7",
         "2954",
         "3",
         "1",
         "136",
         "5",
         "3.19",
         "3.4",
         "8.5",
         "110",
         "5500",
         "19",
         "25",
         "18920.0"
        ],
        [
         "8",
         "9",
         "1",
         "6",
         "1",
         "1",
         "0",
         "3",
         "1",
         "0",
         "105.8",
         "192.7",
         "71.4",
         "55.9",
         "3086",
         "3",
         "1",
         "131",
         "5",
         "3.13",
         "3.4",
         "8.3",
         "140",
         "5500",
         "17",
         "20",
         "23875.0"
        ],
        [
         "9",
         "10",
         "0",
         "8",
         "1",
         "1",
         "1",
         "2",
         "0",
         "0",
         "99.5",
         "178.2",
         "67.9",
         "52.0",
         "3053",
         "3",
         "1",
         "131",
         "5",
         "3.13",
         "3.4",
         "7.0",
         "160",
         "5500",
         "16",
         "22",
         "17859.167"
        ],
        [
         "10",
         "11",
         "2",
         "10",
         "1",
         "0",
         "1",
         "3",
         "2",
         "0",
         "101.2",
         "176.8",
         "64.8",
         "54.3",
         "2395",
         "3",
         "2",
         "108",
         "5",
         "3.5",
         "2.8",
         "8.8",
         "101",
         "5800",
         "23",
         "29",
         "16430.0"
        ],
        [
         "11",
         "12",
         "0",
         "10",
         "1",
         "0",
         "0",
         "3",
         "2",
         "0",
         "101.2",
         "176.8",
         "64.8",
         "54.3",
         "2395",
         "3",
         "2",
         "108",
         "5",
         "3.5",
         "2.8",
         "8.8",
         "101",
         "5800",
         "23",
         "29",
         "16925.0"
        ],
        [
         "12",
         "13",
         "0",
         "11",
         "1",
         "0",
         "1",
         "3",
         "2",
         "0",
         "101.2",
         "176.8",
         "64.8",
         "54.3",
         "2710",
         "3",
         "3",
         "164",
         "5",
         "3.31",
         "3.19",
         "9.0",
         "121",
         "4250",
         "21",
         "28",
         "20970.0"
        ],
        [
         "13",
         "14",
         "0",
         "12",
         "1",
         "0",
         "0",
         "3",
         "2",
         "0",
         "101.2",
         "176.8",
         "64.8",
         "54.3",
         "2765",
         "3",
         "3",
         "164",
         "5",
         "3.31",
         "3.19",
         "9.0",
         "121",
         "4250",
         "21",
         "28",
         "21105.0"
        ],
        [
         "14",
         "15",
         "1",
         "15",
         "1",
         "0",
         "0",
         "3",
         "2",
         "0",
         "103.5",
         "189.0",
         "66.9",
         "55.7",
         "3055",
         "3",
         "3",
         "164",
         "5",
         "3.31",
         "3.19",
         "9.0",
         "121",
         "4250",
         "20",
         "25",
         "24565.0"
        ],
        [
         "15",
         "16",
         "0",
         "13",
         "1",
         "0",
         "0",
         "3",
         "2",
         "0",
         "103.5",
         "189.0",
         "66.9",
         "55.7",
         "3230",
         "3",
         "3",
         "209",
         "5",
         "3.62",
         "3.39",
         "8.0",
         "182",
         "5400",
         "16",
         "22",
         "30760.0"
        ],
        [
         "16",
         "17",
         "0",
         "14",
         "1",
         "0",
         "1",
         "3",
         "2",
         "0",
         "103.5",
         "193.8",
         "67.9",
         "53.7",
         "3380",
         "3",
         "3",
         "209",
         "5",
         "3.62",
         "3.39",
         "8.0",
         "182",
         "5400",
         "16",
         "22",
         "41315.0"
        ],
        [
         "17",
         "18",
         "0",
         "12",
         "1",
         "0",
         "0",
         "3",
         "2",
         "0",
         "110.0",
         "197.0",
         "70.9",
         "56.3",
         "3505",
         "3",
         "3",
         "209",
         "5",
         "3.62",
         "3.39",
         "8.0",
         "182",
         "5400",
         "15",
         "20",
         "36880.0"
        ],
        [
         "18",
         "19",
         "2",
         "24",
         "1",
         "0",
         "1",
         "2",
         "1",
         "0",
         "88.4",
         "141.1",
         "60.3",
         "53.2",
         "1488",
         "2",
         "4",
         "61",
         "1",
         "2.91",
         "3.03",
         "9.5",
         "48",
         "5100",
         "47",
         "53",
         "5151.0"
        ],
        [
         "19",
         "20",
         "1",
         "25",
         "1",
         "0",
         "1",
         "2",
         "1",
         "0",
         "94.5",
         "155.9",
         "63.6",
         "52.0",
         "1874",
         "3",
         "2",
         "90",
         "1",
         "3.03",
         "3.11",
         "9.6",
         "70",
         "5400",
         "38",
         "43",
         "6295.0"
        ],
        [
         "20",
         "21",
         "0",
         "26",
         "1",
         "0",
         "0",
         "3",
         "1",
         "0",
         "94.5",
         "158.8",
         "63.6",
         "52.0",
         "1909",
         "3",
         "2",
         "90",
         "1",
         "3.03",
         "3.11",
         "9.6",
         "70",
         "5400",
         "38",
         "43",
         "6575.0"
        ],
        [
         "21",
         "22",
         "1",
         "35",
         "1",
         "0",
         "1",
         "2",
         "1",
         "0",
         "93.7",
         "157.3",
         "63.8",
         "50.8",
         "1876",
         "3",
         "2",
         "90",
         "1",
         "2.97",
         "3.23",
         "9.41",
         "68",
         "5500",
         "37",
         "41",
         "5572.0"
        ],
        [
         "22",
         "23",
         "1",
         "27",
         "1",
         "0",
         "1",
         "2",
         "1",
         "0",
         "93.7",
         "157.3",
         "63.8",
         "50.8",
         "1876",
         "3",
         "2",
         "90",
         "1",
         "2.97",
         "3.23",
         "9.4",
         "68",
         "5500",
         "31",
         "38",
         "6377.0"
        ],
        [
         "23",
         "24",
         "1",
         "32",
         "1",
         "1",
         "1",
         "2",
         "1",
         "0",
         "93.7",
         "157.3",
         "63.8",
         "50.8",
         "2128",
         "3",
         "2",
         "98",
         "5",
         "3.03",
         "3.39",
         "7.6",
         "102",
         "5500",
         "24",
         "30",
         "7957.0"
        ],
        [
         "24",
         "25",
         "1",
         "34",
         "1",
         "0",
         "0",
         "2",
         "1",
         "0",
         "93.7",
         "157.3",
         "63.8",
         "50.6",
         "1967",
         "3",
         "2",
         "90",
         "1",
         "2.97",
         "3.23",
         "9.4",
         "68",
         "5500",
         "31",
         "38",
         "6229.0"
        ],
        [
         "25",
         "26",
         "1",
         "29",
         "1",
         "0",
         "0",
         "3",
         "1",
         "0",
         "93.7",
         "157.3",
         "63.8",
         "50.6",
         "1989",
         "3",
         "2",
         "90",
         "1",
         "2.97",
         "3.23",
         "9.4",
         "68",
         "5500",
         "31",
         "38",
         "6692.0"
        ],
        [
         "26",
         "27",
         "1",
         "28",
         "1",
         "0",
         "0",
         "3",
         "1",
         "0",
         "93.7",
         "157.3",
         "63.8",
         "50.6",
         "1989",
         "3",
         "2",
         "90",
         "1",
         "2.97",
         "3.23",
         "9.4",
         "68",
         "5500",
         "31",
         "38",
         "7609.0"
        ],
        [
         "27",
         "28",
         "1",
         "30",
         "1",
         "1",
         "1",
         "3",
         "1",
         "0",
         "93.7",
         "157.3",
         "63.8",
         "50.6",
         "2191",
         "3",
         "2",
         "98",
         "5",
         "3.03",
         "3.39",
         "7.6",
         "102",
         "5500",
         "24",
         "30",
         "8558.0"
        ],
        [
         "28",
         "29",
         "-1",
         "33",
         "1",
         "0",
         "0",
         "4",
         "1",
         "0",
         "103.3",
         "174.6",
         "64.6",
         "59.8",
         "2535",
         "3",
         "2",
         "122",
         "1",
         "3.34",
         "3.46",
         "8.5",
         "88",
         "5000",
         "24",
         "30",
         "8921.0"
        ],
        [
         "29",
         "30",
         "3",
         "31",
         "1",
         "1",
         "1",
         "2",
         "1",
         "0",
         "95.9",
         "173.2",
         "66.3",
         "50.2",
         "2811",
         "3",
         "2",
         "156",
         "4",
         "3.6",
         "3.9",
         "7.0",
         "145",
         "5000",
         "19",
         "24",
         "12964.0"
        ],
        [
         "30",
         "31",
         "2",
         "39",
         "1",
         "0",
         "1",
         "2",
         "1",
         "0",
         "86.6",
         "144.6",
         "63.9",
         "50.8",
         "1713",
         "3",
         "2",
         "92",
         "0",
         "2.91",
         "3.41",
         "9.6",
         "58",
         "4800",
         "49",
         "54",
         "6479.0"
        ],
        [
         "31",
         "32",
         "2",
         "43",
         "1",
         "0",
         "1",
         "2",
         "1",
         "0",
         "86.6",
         "144.6",
         "63.9",
         "50.8",
         "1819",
         "3",
         "2",
         "92",
         "0",
         "2.91",
         "3.41",
         "9.2",
         "76",
         "6000",
         "31",
         "38",
         "6855.0"
        ],
        [
         "32",
         "33",
         "1",
         "39",
         "1",
         "0",
         "1",
         "2",
         "1",
         "0",
         "93.7",
         "150.0",
         "64.0",
         "52.6",
         "1837",
         "3",
         "2",
         "79",
         "0",
         "2.91",
         "3.07",
         "10.1",
         "60",
         "5500",
         "38",
         "42",
         "5399.0"
        ],
        [
         "33",
         "34",
         "1",
         "37",
         "1",
         "0",
         "1",
         "2",
         "1",
         "0",
         "93.7",
         "150.0",
         "64.0",
         "52.6",
         "1940",
         "3",
         "2",
         "92",
         "0",
         "2.91",
         "3.41",
         "9.2",
         "76",
         "6000",
         "30",
         "34",
         "6529.0"
        ],
        [
         "34",
         "35",
         "1",
         "43",
         "1",
         "0",
         "1",
         "2",
         "1",
         "0",
         "93.7",
         "150.0",
         "64.0",
         "52.6",
         "1956",
         "3",
         "2",
         "92",
         "0",
         "2.91",
         "3.41",
         "9.2",
         "76",
         "6000",
         "30",
         "34",
         "7129.0"
        ],
        [
         "35",
         "36",
         "0",
         "38",
         "1",
         "0",
         "0",
         "3",
         "1",
         "0",
         "96.5",
         "163.4",
         "64.0",
         "54.5",
         "2010",
         "3",
         "2",
         "92",
         "0",
         "2.91",
         "3.41",
         "9.2",
         "76",
         "6000",
         "30",
         "34",
         "7295.0"
        ],
        [
         "36",
         "37",
         "0",
         "42",
         "1",
         "0",
         "0",
         "4",
         "1",
         "0",
         "96.5",
         "157.1",
         "63.9",
         "58.3",
         "2024",
         "3",
         "2",
         "92",
         "0",
         "2.92",
         "3.41",
         "9.2",
         "76",
         "6000",
         "30",
         "34",
         "7295.0"
        ],
        [
         "37",
         "38",
         "0",
         "36",
         "1",
         "0",
         "1",
         "2",
         "1",
         "0",
         "96.5",
         "167.5",
         "65.2",
         "53.3",
         "2236",
         "3",
         "2",
         "110",
         "0",
         "3.15",
         "3.58",
         "9.0",
         "86",
         "5800",
         "27",
         "33",
         "7895.0"
        ],
        [
         "38",
         "39",
         "0",
         "41",
         "1",
         "0",
         "1",
         "2",
         "1",
         "0",
         "96.5",
         "167.5",
         "65.2",
         "53.3",
         "2289",
         "3",
         "2",
         "110",
         "0",
         "3.15",
         "3.58",
         "9.0",
         "86",
         "5800",
         "27",
         "33",
         "9095.0"
        ],
        [
         "39",
         "40",
         "0",
         "44",
         "1",
         "0",
         "0",
         "3",
         "1",
         "0",
         "96.5",
         "175.4",
         "65.2",
         "54.1",
         "2304",
         "3",
         "2",
         "110",
         "0",
         "3.15",
         "3.58",
         "9.0",
         "86",
         "5800",
         "27",
         "33",
         "8845.0"
        ],
        [
         "40",
         "41",
         "0",
         "36",
         "1",
         "0",
         "0",
         "3",
         "1",
         "0",
         "96.5",
         "175.4",
         "62.5",
         "54.1",
         "2372",
         "3",
         "2",
         "110",
         "0",
         "3.15",
         "3.58",
         "9.0",
         "86",
         "5800",
         "27",
         "33",
         "10295.0"
        ],
        [
         "41",
         "42",
         "0",
         "39",
         "1",
         "0",
         "0",
         "3",
         "1",
         "0",
         "96.5",
         "175.4",
         "65.2",
         "54.1",
         "2465",
         "3",
         "2",
         "110",
         "5",
         "3.15",
         "3.58",
         "9.0",
         "101",
         "5800",
         "24",
         "28",
         "12945.0"
        ],
        [
         "42",
         "43",
         "1",
         "40",
         "1",
         "0",
         "1",
         "3",
         "1",
         "0",
         "96.5",
         "169.1",
         "66.0",
         "51.0",
         "2293",
         "3",
         "2",
         "110",
         "1",
         "3.15",
         "3.58",
         "9.1",
         "100",
         "5500",
         "25",
         "31",
         "10345.0"
        ],
        [
         "43",
         "44",
         "0",
         "47",
         "1",
         "0",
         "0",
         "3",
         "2",
         "0",
         "94.3",
         "170.7",
         "61.8",
         "53.5",
         "2337",
         "3",
         "2",
         "111",
         "1",
         "3.31",
         "3.23",
         "8.5",
         "78",
         "4800",
         "24",
         "29",
         "6785.0"
        ],
        [
         "44",
         "45",
         "1",
         "45",
         "1",
         "0",
         "1",
         "3",
         "1",
         "0",
         "94.5",
         "155.9",
         "63.6",
         "52.0",
         "1874",
         "3",
         "2",
         "90",
         "1",
         "3.03",
         "3.11",
         "9.6",
         "70",
         "5400",
         "38",
         "43",
         "8916.5"
        ],
        [
         "45",
         "46",
         "0",
         "46",
         "1",
         "0",
         "0",
         "3",
         "1",
         "0",
         "94.5",
         "155.9",
         "63.6",
         "52.0",
         "1909",
         "3",
         "2",
         "90",
         "1",
         "3.03",
         "3.11",
         "9.6",
         "70",
         "5400",
         "38",
         "43",
         "8916.5"
        ],
        [
         "46",
         "47",
         "2",
         "45",
         "1",
         "0",
         "1",
         "2",
         "2",
         "0",
         "96.0",
         "172.6",
         "65.2",
         "51.4",
         "2734",
         "3",
         "2",
         "119",
         "7",
         "3.43",
         "3.23",
         "9.2",
         "90",
         "5000",
         "24",
         "29",
         "11048.0"
        ],
        [
         "47",
         "48",
         "0",
         "49",
         "1",
         "0",
         "0",
         "3",
         "2",
         "0",
         "113.0",
         "199.6",
         "69.6",
         "52.8",
         "4066",
         "0",
         "3",
         "258",
         "5",
         "3.63",
         "4.17",
         "8.1",
         "176",
         "4750",
         "15",
         "19",
         "32250.0"
        ],
        [
         "48",
         "49",
         "0",
         "48",
         "1",
         "0",
         "0",
         "3",
         "2",
         "0",
         "113.0",
         "199.6",
         "69.6",
         "52.8",
         "4066",
         "0",
         "3",
         "258",
         "5",
         "3.63",
         "4.17",
         "8.1",
         "176",
         "4750",
         "15",
         "19",
         "35550.0"
        ],
        [
         "49",
         "50",
         "0",
         "50",
         "1",
         "0",
         "1",
         "3",
         "2",
         "0",
         "102.0",
         "191.7",
         "70.6",
         "47.8",
         "3950",
         "5",
         "5",
         "326",
         "5",
         "3.54",
         "2.76",
         "11.5",
         "262",
         "5000",
         "13",
         "17",
         "36000.0"
        ]
       ],
       "shape": {
        "columns": 26,
        "rows": 205
       }
      },
      "text/html": [
       "<div>\n",
       "<style scoped>\n",
       "    .dataframe tbody tr th:only-of-type {\n",
       "        vertical-align: middle;\n",
       "    }\n",
       "\n",
       "    .dataframe tbody tr th {\n",
       "        vertical-align: top;\n",
       "    }\n",
       "\n",
       "    .dataframe thead th {\n",
       "        text-align: right;\n",
       "    }\n",
       "</style>\n",
       "<table border=\"1\" class=\"dataframe\">\n",
       "  <thead>\n",
       "    <tr style=\"text-align: right;\">\n",
       "      <th></th>\n",
       "      <th>car_ID</th>\n",
       "      <th>symboling</th>\n",
       "      <th>CarName</th>\n",
       "      <th>fueltype</th>\n",
       "      <th>aspiration</th>\n",
       "      <th>doornumber</th>\n",
       "      <th>carbody</th>\n",
       "      <th>drivewheel</th>\n",
       "      <th>enginelocation</th>\n",
       "      <th>wheelbase</th>\n",
       "      <th>...</th>\n",
       "      <th>enginesize</th>\n",
       "      <th>fuelsystem</th>\n",
       "      <th>boreratio</th>\n",
       "      <th>stroke</th>\n",
       "      <th>compressionratio</th>\n",
       "      <th>horsepower</th>\n",
       "      <th>peakrpm</th>\n",
       "      <th>citympg</th>\n",
       "      <th>highwaympg</th>\n",
       "      <th>price</th>\n",
       "    </tr>\n",
       "  </thead>\n",
       "  <tbody>\n",
       "    <tr>\n",
       "      <th>0</th>\n",
       "      <td>1</td>\n",
       "      <td>3</td>\n",
       "      <td>2</td>\n",
       "      <td>1</td>\n",
       "      <td>0</td>\n",
       "      <td>1</td>\n",
       "      <td>0</td>\n",
       "      <td>2</td>\n",
       "      <td>0</td>\n",
       "      <td>88.6</td>\n",
       "      <td>...</td>\n",
       "      <td>130</td>\n",
       "      <td>5</td>\n",
       "      <td>3.47</td>\n",
       "      <td>2.68</td>\n",
       "      <td>9.0</td>\n",
       "      <td>111</td>\n",
       "      <td>5000</td>\n",
       "      <td>21</td>\n",
       "      <td>27</td>\n",
       "      <td>13495.0</td>\n",
       "    </tr>\n",
       "    <tr>\n",
       "      <th>1</th>\n",
       "      <td>2</td>\n",
       "      <td>3</td>\n",
       "      <td>3</td>\n",
       "      <td>1</td>\n",
       "      <td>0</td>\n",
       "      <td>1</td>\n",
       "      <td>0</td>\n",
       "      <td>2</td>\n",
       "      <td>0</td>\n",
       "      <td>88.6</td>\n",
       "      <td>...</td>\n",
       "      <td>130</td>\n",
       "      <td>5</td>\n",
       "      <td>3.47</td>\n",
       "      <td>2.68</td>\n",
       "      <td>9.0</td>\n",
       "      <td>111</td>\n",
       "      <td>5000</td>\n",
       "      <td>21</td>\n",
       "      <td>27</td>\n",
       "      <td>16500.0</td>\n",
       "    </tr>\n",
       "    <tr>\n",
       "      <th>2</th>\n",
       "      <td>3</td>\n",
       "      <td>1</td>\n",
       "      <td>1</td>\n",
       "      <td>1</td>\n",
       "      <td>0</td>\n",
       "      <td>1</td>\n",
       "      <td>2</td>\n",
       "      <td>2</td>\n",
       "      <td>0</td>\n",
       "      <td>94.5</td>\n",
       "      <td>...</td>\n",
       "      <td>152</td>\n",
       "      <td>5</td>\n",
       "      <td>2.68</td>\n",
       "      <td>3.47</td>\n",
       "      <td>9.0</td>\n",
       "      <td>154</td>\n",
       "      <td>5000</td>\n",
       "      <td>19</td>\n",
       "      <td>26</td>\n",
       "      <td>16500.0</td>\n",
       "    </tr>\n",
       "    <tr>\n",
       "      <th>3</th>\n",
       "      <td>4</td>\n",
       "      <td>2</td>\n",
       "      <td>4</td>\n",
       "      <td>1</td>\n",
       "      <td>0</td>\n",
       "      <td>0</td>\n",
       "      <td>3</td>\n",
       "      <td>1</td>\n",
       "      <td>0</td>\n",
       "      <td>99.8</td>\n",
       "      <td>...</td>\n",
       "      <td>109</td>\n",
       "      <td>5</td>\n",
       "      <td>3.19</td>\n",
       "      <td>3.40</td>\n",
       "      <td>10.0</td>\n",
       "      <td>102</td>\n",
       "      <td>5500</td>\n",
       "      <td>24</td>\n",
       "      <td>30</td>\n",
       "      <td>13950.0</td>\n",
       "    </tr>\n",
       "    <tr>\n",
       "      <th>4</th>\n",
       "      <td>5</td>\n",
       "      <td>2</td>\n",
       "      <td>5</td>\n",
       "      <td>1</td>\n",
       "      <td>0</td>\n",
       "      <td>0</td>\n",
       "      <td>3</td>\n",
       "      <td>0</td>\n",
       "      <td>0</td>\n",
       "      <td>99.4</td>\n",
       "      <td>...</td>\n",
       "      <td>136</td>\n",
       "      <td>5</td>\n",
       "      <td>3.19</td>\n",
       "      <td>3.40</td>\n",
       "      <td>8.0</td>\n",
       "      <td>115</td>\n",
       "      <td>5500</td>\n",
       "      <td>18</td>\n",
       "      <td>22</td>\n",
       "      <td>17450.0</td>\n",
       "    </tr>\n",
       "    <tr>\n",
       "      <th>...</th>\n",
       "      <td>...</td>\n",
       "      <td>...</td>\n",
       "      <td>...</td>\n",
       "      <td>...</td>\n",
       "      <td>...</td>\n",
       "      <td>...</td>\n",
       "      <td>...</td>\n",
       "      <td>...</td>\n",
       "      <td>...</td>\n",
       "      <td>...</td>\n",
       "      <td>...</td>\n",
       "      <td>...</td>\n",
       "      <td>...</td>\n",
       "      <td>...</td>\n",
       "      <td>...</td>\n",
       "      <td>...</td>\n",
       "      <td>...</td>\n",
       "      <td>...</td>\n",
       "      <td>...</td>\n",
       "      <td>...</td>\n",
       "      <td>...</td>\n",
       "    </tr>\n",
       "    <tr>\n",
       "      <th>200</th>\n",
       "      <td>201</td>\n",
       "      <td>-1</td>\n",
       "      <td>139</td>\n",
       "      <td>1</td>\n",
       "      <td>0</td>\n",
       "      <td>0</td>\n",
       "      <td>3</td>\n",
       "      <td>2</td>\n",
       "      <td>0</td>\n",
       "      <td>109.1</td>\n",
       "      <td>...</td>\n",
       "      <td>141</td>\n",
       "      <td>5</td>\n",
       "      <td>3.78</td>\n",
       "      <td>3.15</td>\n",
       "      <td>9.5</td>\n",
       "      <td>114</td>\n",
       "      <td>5400</td>\n",
       "      <td>23</td>\n",
       "      <td>28</td>\n",
       "      <td>16845.0</td>\n",
       "    </tr>\n",
       "    <tr>\n",
       "      <th>201</th>\n",
       "      <td>202</td>\n",
       "      <td>-1</td>\n",
       "      <td>138</td>\n",
       "      <td>1</td>\n",
       "      <td>1</td>\n",
       "      <td>0</td>\n",
       "      <td>3</td>\n",
       "      <td>2</td>\n",
       "      <td>0</td>\n",
       "      <td>109.1</td>\n",
       "      <td>...</td>\n",
       "      <td>141</td>\n",
       "      <td>5</td>\n",
       "      <td>3.78</td>\n",
       "      <td>3.15</td>\n",
       "      <td>8.7</td>\n",
       "      <td>160</td>\n",
       "      <td>5300</td>\n",
       "      <td>19</td>\n",
       "      <td>25</td>\n",
       "      <td>19045.0</td>\n",
       "    </tr>\n",
       "    <tr>\n",
       "      <th>202</th>\n",
       "      <td>203</td>\n",
       "      <td>-1</td>\n",
       "      <td>140</td>\n",
       "      <td>1</td>\n",
       "      <td>0</td>\n",
       "      <td>0</td>\n",
       "      <td>3</td>\n",
       "      <td>2</td>\n",
       "      <td>0</td>\n",
       "      <td>109.1</td>\n",
       "      <td>...</td>\n",
       "      <td>173</td>\n",
       "      <td>5</td>\n",
       "      <td>3.58</td>\n",
       "      <td>2.87</td>\n",
       "      <td>8.8</td>\n",
       "      <td>134</td>\n",
       "      <td>5500</td>\n",
       "      <td>18</td>\n",
       "      <td>23</td>\n",
       "      <td>21485.0</td>\n",
       "    </tr>\n",
       "    <tr>\n",
       "      <th>203</th>\n",
       "      <td>204</td>\n",
       "      <td>-1</td>\n",
       "      <td>142</td>\n",
       "      <td>0</td>\n",
       "      <td>1</td>\n",
       "      <td>0</td>\n",
       "      <td>3</td>\n",
       "      <td>2</td>\n",
       "      <td>0</td>\n",
       "      <td>109.1</td>\n",
       "      <td>...</td>\n",
       "      <td>145</td>\n",
       "      <td>3</td>\n",
       "      <td>3.01</td>\n",
       "      <td>3.40</td>\n",
       "      <td>23.0</td>\n",
       "      <td>106</td>\n",
       "      <td>4800</td>\n",
       "      <td>26</td>\n",
       "      <td>27</td>\n",
       "      <td>22470.0</td>\n",
       "    </tr>\n",
       "    <tr>\n",
       "      <th>204</th>\n",
       "      <td>205</td>\n",
       "      <td>-1</td>\n",
       "      <td>143</td>\n",
       "      <td>1</td>\n",
       "      <td>1</td>\n",
       "      <td>0</td>\n",
       "      <td>3</td>\n",
       "      <td>2</td>\n",
       "      <td>0</td>\n",
       "      <td>109.1</td>\n",
       "      <td>...</td>\n",
       "      <td>141</td>\n",
       "      <td>5</td>\n",
       "      <td>3.78</td>\n",
       "      <td>3.15</td>\n",
       "      <td>9.5</td>\n",
       "      <td>114</td>\n",
       "      <td>5400</td>\n",
       "      <td>19</td>\n",
       "      <td>25</td>\n",
       "      <td>22625.0</td>\n",
       "    </tr>\n",
       "  </tbody>\n",
       "</table>\n",
       "<p>205 rows × 26 columns</p>\n",
       "</div>"
      ],
      "text/plain": [
       "     car_ID  symboling CarName fueltype aspiration doornumber carbody  \\\n",
       "0         1          3       2        1          0          1       0   \n",
       "1         2          3       3        1          0          1       0   \n",
       "2         3          1       1        1          0          1       2   \n",
       "3         4          2       4        1          0          0       3   \n",
       "4         5          2       5        1          0          0       3   \n",
       "..      ...        ...     ...      ...        ...        ...     ...   \n",
       "200     201         -1     139        1          0          0       3   \n",
       "201     202         -1     138        1          1          0       3   \n",
       "202     203         -1     140        1          0          0       3   \n",
       "203     204         -1     142        0          1          0       3   \n",
       "204     205         -1     143        1          1          0       3   \n",
       "\n",
       "    drivewheel enginelocation  wheelbase  ...  enginesize  fuelsystem  \\\n",
       "0            2              0       88.6  ...         130           5   \n",
       "1            2              0       88.6  ...         130           5   \n",
       "2            2              0       94.5  ...         152           5   \n",
       "3            1              0       99.8  ...         109           5   \n",
       "4            0              0       99.4  ...         136           5   \n",
       "..         ...            ...        ...  ...         ...         ...   \n",
       "200          2              0      109.1  ...         141           5   \n",
       "201          2              0      109.1  ...         141           5   \n",
       "202          2              0      109.1  ...         173           5   \n",
       "203          2              0      109.1  ...         145           3   \n",
       "204          2              0      109.1  ...         141           5   \n",
       "\n",
       "     boreratio  stroke compressionratio horsepower  peakrpm citympg  \\\n",
       "0         3.47    2.68              9.0        111     5000      21   \n",
       "1         3.47    2.68              9.0        111     5000      21   \n",
       "2         2.68    3.47              9.0        154     5000      19   \n",
       "3         3.19    3.40             10.0        102     5500      24   \n",
       "4         3.19    3.40              8.0        115     5500      18   \n",
       "..         ...     ...              ...        ...      ...     ...   \n",
       "200       3.78    3.15              9.5        114     5400      23   \n",
       "201       3.78    3.15              8.7        160     5300      19   \n",
       "202       3.58    2.87              8.8        134     5500      18   \n",
       "203       3.01    3.40             23.0        106     4800      26   \n",
       "204       3.78    3.15              9.5        114     5400      19   \n",
       "\n",
       "     highwaympg    price  \n",
       "0            27  13495.0  \n",
       "1            27  16500.0  \n",
       "2            26  16500.0  \n",
       "3            30  13950.0  \n",
       "4            22  17450.0  \n",
       "..          ...      ...  \n",
       "200          28  16845.0  \n",
       "201          25  19045.0  \n",
       "202          23  21485.0  \n",
       "203          27  22470.0  \n",
       "204          25  22625.0  \n",
       "\n",
       "[205 rows x 26 columns]"
      ]
     },
     "execution_count": 13,
     "metadata": {},
     "output_type": "execute_result"
    }
   ],
   "source": [
    "database"
   ]
  },
  {
   "cell_type": "code",
   "execution_count": 14,
   "id": "cc4f1e18",
   "metadata": {},
   "outputs": [
    {
     "name": "stdout",
     "output_type": "stream",
     "text": [
      "<class 'pandas.core.frame.DataFrame'>\n",
      "RangeIndex: 205 entries, 0 to 204\n",
      "Data columns (total 26 columns):\n",
      " #   Column            Non-Null Count  Dtype  \n",
      "---  ------            --------------  -----  \n",
      " 0   car_ID            205 non-null    int64  \n",
      " 1   symboling         205 non-null    int64  \n",
      " 2   CarName           205 non-null    object \n",
      " 3   fueltype          205 non-null    object \n",
      " 4   aspiration        205 non-null    object \n",
      " 5   doornumber        205 non-null    object \n",
      " 6   carbody           205 non-null    object \n",
      " 7   drivewheel        205 non-null    object \n",
      " 8   enginelocation    205 non-null    object \n",
      " 9   wheelbase         205 non-null    float64\n",
      " 10  carlength         205 non-null    float64\n",
      " 11  carwidth          205 non-null    float64\n",
      " 12  carheight         205 non-null    float64\n",
      " 13  curbweight        205 non-null    int64  \n",
      " 14  enginetype        205 non-null    object \n",
      " 15  cylindernumber    205 non-null    object \n",
      " 16  enginesize        205 non-null    int64  \n",
      " 17  fuelsystem        205 non-null    object \n",
      " 18  boreratio         205 non-null    float64\n",
      " 19  stroke            205 non-null    float64\n",
      " 20  compressionratio  205 non-null    float64\n",
      " 21  horsepower        205 non-null    int64  \n",
      " 22  peakrpm           205 non-null    int64  \n",
      " 23  citympg           205 non-null    int64  \n",
      " 24  highwaympg        205 non-null    int64  \n",
      " 25  price             205 non-null    float64\n",
      "dtypes: float64(8), int64(8), object(10)\n",
      "memory usage: 41.8+ KB\n"
     ]
    }
   ],
   "source": [
    "database.info()"
   ]
  },
  {
   "cell_type": "markdown",
   "id": "50cc685f",
   "metadata": {},
   "source": [
    "### Encontrando a coluna na base de dados que possua a maior correlação com a classe"
   ]
  },
  {
   "cell_type": "code",
   "execution_count": 57,
   "id": "34e464c7",
   "metadata": {},
   "outputs": [
    {
     "data": {
      "text/plain": [
       "<Axes: >"
      ]
     },
     "execution_count": 57,
     "metadata": {},
     "output_type": "execute_result"
    },
    {
     "data": {
      "image/png": "[encoded data removed]",
      "text/plain": [
       "<Figure size 2000x1000 with 2 Axes>"
      ]
     },
     "metadata": {},
     "output_type": "display_data"
    }
   ],
   "source": [
    "figura = plt.figure(figsize=(20, 10))\n",
    "sn.heatmap(database.corr(), annot=True)"
   ]
  },
  {
   "cell_type": "markdown",
   "id": "238fce69",
   "metadata": {},
   "source": [
    "- Variável de maior correlação com o target (price): enginesize - 0.87 - Forte"
   ]
  },
  {
   "cell_type": "markdown",
   "id": "72bc3eed",
   "metadata": {},
   "source": [
    "### Criando variáveis que indicam classe e a coluna de maior correlação:"
   ]
  },
  {
   "cell_type": "code",
   "execution_count": null,
   "id": "69f4de0b",
   "metadata": {},
   "outputs": [
    {
     "data": {
      "text/plain": [
       "(array([130, 130, 152, 109, 136, 136, 136, 136, 131, 131, 108, 108, 164,\n",
       "        164, 164, 209, 209, 209,  61,  90,  90,  90,  90,  98,  90,  90,\n",
       "         90,  98, 122, 156,  92,  92,  79,  92,  92,  92,  92, 110, 110,\n",
       "        110, 110, 110, 110, 111,  90,  90, 119, 258, 258, 326,  91,  91,\n",
       "         91,  91,  91,  70,  70,  70,  80, 122, 122, 122, 122, 122, 122,\n",
       "        140, 134, 183, 183, 183, 183, 234, 234, 308, 304, 140,  92,  92,\n",
       "         92,  98, 110, 122, 156, 156, 156, 122, 122, 110, 110,  97, 103,\n",
       "         97,  97,  97,  97,  97,  97,  97,  97, 120, 120, 181, 181, 181,\n",
       "        181, 181, 181, 120, 152, 120, 152, 120, 152, 120, 152, 120, 152,\n",
       "        134,  90,  98,  90,  90,  98, 122, 156, 151, 194, 194, 194, 203,\n",
       "        132, 132, 121, 121, 121, 121, 121, 121,  97, 108, 108, 108, 108,\n",
       "        108, 108, 108, 108, 108, 108, 108,  92,  92,  92,  92,  92,  92,\n",
       "         98,  98, 110, 110,  98,  98,  98,  98,  98,  98,  98, 146, 146,\n",
       "        146, 146, 146, 146, 122, 110, 122, 122, 122, 171, 171, 171, 161,\n",
       "         97, 109,  97, 109, 109,  97, 109, 109, 109, 136,  97, 109, 141,\n",
       "        141, 141, 141, 130, 130, 141, 141, 173, 145, 141]),\n",
       " array([13495.   , 16500.   , 16500.   , 13950.   , 17450.   , 15250.   ,\n",
       "        17710.   , 18920.   , 23875.   , 17859.167, 16430.   , 16925.   ,\n",
       "        20970.   , 21105.   , 24565.   , 30760.   , 41315.   , 36880.   ,\n",
       "         5151.   ,  6295.   ,  6575.   ,  5572.   ,  6377.   ,  7957.   ,\n",
       "         6229.   ,  6692.   ,  7609.   ,  8558.   ,  8921.   , 12964.   ,\n",
       "         6479.   ,  6855.   ,  5399.   ,  6529.   ,  7129.   ,  7295.   ,\n",
       "         7295.   ,  7895.   ,  9095.   ,  8845.   , 10295.   , 12945.   ,\n",
       "        10345.   ,  6785.   ,  8916.5  ,  8916.5  , 11048.   , 32250.   ,\n",
       "        35550.   , 36000.   ,  5195.   ,  6095.   ,  6795.   ,  6695.   ,\n",
       "         7395.   , 10945.   , 11845.   , 13645.   , 15645.   ,  8845.   ,\n",
       "         8495.   , 10595.   , 10245.   , 10795.   , 11245.   , 18280.   ,\n",
       "        18344.   , 25552.   , 28248.   , 28176.   , 31600.   , 34184.   ,\n",
       "        35056.   , 40960.   , 45400.   , 16503.   ,  5389.   ,  6189.   ,\n",
       "         6669.   ,  7689.   ,  9959.   ,  8499.   , 12629.   , 14869.   ,\n",
       "        14489.   ,  6989.   ,  8189.   ,  9279.   ,  9279.   ,  5499.   ,\n",
       "         7099.   ,  6649.   ,  6849.   ,  7349.   ,  7299.   ,  7799.   ,\n",
       "         7499.   ,  7999.   ,  8249.   ,  8949.   ,  9549.   , 13499.   ,\n",
       "        14399.   , 13499.   , 17199.   , 19699.   , 18399.   , 11900.   ,\n",
       "        13200.   , 12440.   , 13860.   , 15580.   , 16900.   , 16695.   ,\n",
       "        17075.   , 16630.   , 17950.   , 18150.   ,  5572.   ,  7957.   ,\n",
       "         6229.   ,  6692.   ,  7609.   ,  8921.   , 12764.   , 22018.   ,\n",
       "        32528.   , 34028.   , 37028.   , 31400.5  ,  9295.   ,  9895.   ,\n",
       "        11850.   , 12170.   , 15040.   , 15510.   , 18150.   , 18620.   ,\n",
       "         5118.   ,  7053.   ,  7603.   ,  7126.   ,  7775.   ,  9960.   ,\n",
       "         9233.   , 11259.   ,  7463.   , 10198.   ,  8013.   , 11694.   ,\n",
       "         5348.   ,  6338.   ,  6488.   ,  6918.   ,  7898.   ,  8778.   ,\n",
       "         6938.   ,  7198.   ,  7898.   ,  7788.   ,  7738.   ,  8358.   ,\n",
       "         9258.   ,  8058.   ,  8238.   ,  9298.   ,  9538.   ,  8449.   ,\n",
       "         9639.   ,  9989.   , 11199.   , 11549.   , 17669.   ,  8948.   ,\n",
       "        10698.   ,  9988.   , 10898.   , 11248.   , 16558.   , 15998.   ,\n",
       "        15690.   , 15750.   ,  7775.   ,  7975.   ,  7995.   ,  8195.   ,\n",
       "         8495.   ,  9495.   ,  9995.   , 11595.   ,  9980.   , 13295.   ,\n",
       "        13845.   , 12290.   , 12940.   , 13415.   , 15985.   , 16515.   ,\n",
       "        18420.   , 18950.   , 16845.   , 19045.   , 21485.   , 22470.   ,\n",
       "        22625.   ]))"
      ]
     },
     "execution_count": 67,
     "metadata": {},
     "output_type": "execute_result"
    }
   ],
   "source": [
    "x_values = database.iloc[:, 16].values # Coluna de maior correlação\n",
    "y_values = database.iloc[:, 25].values # Classe\n",
    "\n",
    "x_values, y_values"
   ]
  },
  {
   "cell_type": "markdown",
   "id": "7666032c",
   "metadata": {},
   "source": [
    "### Dividindo as variáveis entre teste e treino:"
   ]
  },
  {
   "cell_type": "code",
   "execution_count": 71,
   "id": "9ba1e12b",
   "metadata": {},
   "outputs": [
    {
     "data": {
      "text/plain": [
       "((164, 1), (41, 1), (164,), (41,))"
      ]
     },
     "execution_count": 71,
     "metadata": {},
     "output_type": "execute_result"
    }
   ],
   "source": [
    "from sklearn.model_selection import train_test_split\n",
    "\n",
    "x_train, x_test, y_train, y_test = train_test_split(x_values, y_values, test_size=0.2)\n",
    "\n",
    "x_train = x_train.reshape(-1, 1)\n",
    "x_test = x_test.reshape(-1, 1)\n",
    "\n",
    "x_train.shape, x_test.shape, y_train.shape, y_test.shape"
   ]
  },
  {
   "cell_type": "markdown",
   "id": "7580430f",
   "metadata": {},
   "source": [
    "### Treinando o modelo **LinearRegression**:"
   ]
  },
  {
   "cell_type": "code",
   "execution_count": 72,
   "id": "e668e88b",
   "metadata": {},
   "outputs": [
    {
     "data": {
      "text/html": [
       "<style>#sk-container-id-3 {\n",
       "  /* Definition of color scheme common for light and dark mode */\n",
       "  --sklearn-color-text: #000;\n",
       "  --sklearn-color-text-muted: #666;\n",
       "  --sklearn-color-line: gray;\n",
       "  /* Definition of color scheme for unfitted estimators */\n",
       "  --sklearn-color-unfitted-level-0: #fff5e6;\n",
       "  --sklearn-color-unfitted-level-1: #f6e4d2;\n",
       "  --sklearn-color-unfitted-level-2: #ffe0b3;\n",
       "  --sklearn-color-unfitted-level-3: chocolate;\n",
       "  /* Definition of color scheme for fitted estimators */\n",
       "  --sklearn-color-fitted-level-0: #f0f8ff;\n",
       "  --sklearn-color-fitted-level-1: #d4ebff;\n",
       "  --sklearn-color-fitted-level-2: #b3dbfd;\n",
       "  --sklearn-color-fitted-level-3: cornflowerblue;\n",
       "\n",
       "  /* Specific color for light theme */\n",
       "  --sklearn-color-text-on-default-background: var(--sg-text-color, var(--theme-code-foreground, var(--jp-content-font-color1, black)));\n",
       "  --sklearn-color-background: var(--sg-background-color, var(--theme-background, var(--jp-layout-color0, white)));\n",
       "  --sklearn-color-border-box: var(--sg-text-color, var(--theme-code-foreground, var(--jp-content-font-color1, black)));\n",
       "  --sklearn-color-icon: #696969;\n",
       "\n",
       "  @media (prefers-color-scheme: dark) {\n",
       "    /* Redefinition of color scheme for dark theme */\n",
       "    --sklearn-color-text-on-default-background: var(--sg-text-color, var(--theme-code-foreground, var(--jp-content-font-color1, white)));\n",
       "    --sklearn-color-background: var(--sg-background-color, var(--theme-background, var(--jp-layout-color0, #111)));\n",
       "    --sklearn-color-border-box: var(--sg-text-color, var(--theme-code-foreground, var(--jp-content-font-color1, white)));\n",
       "    --sklearn-color-icon: #878787;\n",
       "  }\n",
       "}\n",
       "\n",
       "#sk-container-id-3 {\n",
       "  color: var(--sklearn-color-text);\n",
       "}\n",
       "\n",
       "#sk-container-id-3 pre {\n",
       "  padding: 0;\n",
       "}\n",
       "\n",
       "#sk-container-id-3 input.sk-hidden--visually {\n",
       "  border: 0;\n",
       "  clip: rect(1px 1px 1px 1px);\n",
       "  clip: rect(1px, 1px, 1px, 1px);\n",
       "  height: 1px;\n",
       "  margin: -1px;\n",
       "  overflow: hidden;\n",
       "  padding: 0;\n",
       "  position: absolute;\n",
       "  width: 1px;\n",
       "}\n",
       "\n",
       "#sk-container-id-3 div.sk-dashed-wrapped {\n",
       "  border: 1px dashed var(--sklearn-color-line);\n",
       "  margin: 0 0.4em 0.5em 0.4em;\n",
       "  box-sizing: border-box;\n",
       "  padding-bottom: 0.4em;\n",
       "  background-color: var(--sklearn-color-background);\n",
       "}\n",
       "\n",
       "#sk-container-id-3 div.sk-container {\n",
       "  /* jupyter's `normalize.less` sets `[hidden] { display: none; }`\n",
       "     but bootstrap.min.css set `[hidden] { display: none !important; }`\n",
       "     so we also need the `!important` here to be able to override the\n",
       "     default hidden behavior on the sphinx rendered scikit-learn.org.\n",
       "     See: https://github.com/scikit-learn/scikit-learn/issues/21755 */\n",
       "  display: inline-block !important;\n",
       "  position: relative;\n",
       "}\n",
       "\n",
       "#sk-container-id-3 div.sk-text-repr-fallback {\n",
       "  display: none;\n",
       "}\n",
       "\n",
       "div.sk-parallel-item,\n",
       "div.sk-serial,\n",
       "div.sk-item {\n",
       "  /* draw centered vertical line to link estimators */\n",
       "  background-image: linear-gradient(var(--sklearn-color-text-on-default-background), var(--sklearn-color-text-on-default-background));\n",
       "  background-size: 2px 100%;\n",
       "  background-repeat: no-repeat;\n",
       "  background-position: center center;\n",
       "}\n",
       "\n",
       "/* Parallel-specific style estimator block */\n",
       "\n",
       "#sk-container-id-3 div.sk-parallel-item::after {\n",
       "  content: \"\";\n",
       "  width: 100%;\n",
       "  border-bottom: 2px solid var(--sklearn-color-text-on-default-background);\n",
       "  flex-grow: 1;\n",
       "}\n",
       "\n",
       "#sk-container-id-3 div.sk-parallel {\n",
       "  display: flex;\n",
       "  align-items: stretch;\n",
       "  justify-content: center;\n",
       "  background-color: var(--sklearn-color-background);\n",
       "  position: relative;\n",
       "}\n",
       "\n",
       "#sk-container-id-3 div.sk-parallel-item {\n",
       "  display: flex;\n",
       "  flex-direction: column;\n",
       "}\n",
       "\n",
       "#sk-container-id-3 div.sk-parallel-item:first-child::after {\n",
       "  align-self: flex-end;\n",
       "  width: 50%;\n",
       "}\n",
       "\n",
       "#sk-container-id-3 div.sk-parallel-item:last-child::after {\n",
       "  align-self: flex-start;\n",
       "  width: 50%;\n",
       "}\n",
       "\n",
       "#sk-container-id-3 div.sk-parallel-item:only-child::after {\n",
       "  width: 0;\n",
       "}\n",
       "\n",
       "/* Serial-specific style estimator block */\n",
       "\n",
       "#sk-container-id-3 div.sk-serial {\n",
       "  display: flex;\n",
       "  flex-direction: column;\n",
       "  align-items: center;\n",
       "  background-color: var(--sklearn-color-background);\n",
       "  padding-right: 1em;\n",
       "  padding-left: 1em;\n",
       "}\n",
       "\n",
       "\n",
       "/* Toggleable style: style used for estimator/Pipeline/ColumnTransformer box that is\n",
       "clickable and can be expanded/collapsed.\n",
       "- Pipeline and ColumnTransformer use this feature and define the default style\n",
       "- Estimators will overwrite some part of the style using the `sk-estimator` class\n",
       "*/\n",
       "\n",
       "/* Pipeline and ColumnTransformer style (default) */\n",
       "\n",
       "#sk-container-id-3 div.sk-toggleable {\n",
       "  /* Default theme specific background. It is overwritten whether we have a\n",
       "  specific estimator or a Pipeline/ColumnTransformer */\n",
       "  background-color: var(--sklearn-color-background);\n",
       "}\n",
       "\n",
       "/* Toggleable label */\n",
       "#sk-container-id-3 label.sk-toggleable__label {\n",
       "  cursor: pointer;\n",
       "  display: flex;\n",
       "  width: 100%;\n",
       "  margin-bottom: 0;\n",
       "  padding: 0.5em;\n",
       "  box-sizing: border-box;\n",
       "  text-align: center;\n",
       "  align-items: start;\n",
       "  justify-content: space-between;\n",
       "  gap: 0.5em;\n",
       "}\n",
       "\n",
       "#sk-container-id-3 label.sk-toggleable__label .caption {\n",
       "  font-size: 0.6rem;\n",
       "  font-weight: lighter;\n",
       "  color: var(--sklearn-color-text-muted);\n",
       "}\n",
       "\n",
       "#sk-container-id-3 label.sk-toggleable__label-arrow:before {\n",
       "  /* Arrow on the left of the label */\n",
       "  content: \"▸\";\n",
       "  float: left;\n",
       "  margin-right: 0.25em;\n",
       "  color: var(--sklearn-color-icon);\n",
       "}\n",
       "\n",
       "#sk-container-id-3 label.sk-toggleable__label-arrow:hover:before {\n",
       "  color: var(--sklearn-color-text);\n",
       "}\n",
       "\n",
       "/* Toggleable content - dropdown */\n",
       "\n",
       "#sk-container-id-3 div.sk-toggleable__content {\n",
       "  max-height: 0;\n",
       "  max-width: 0;\n",
       "  overflow: hidden;\n",
       "  text-align: left;\n",
       "  /* unfitted */\n",
       "  background-color: var(--sklearn-color-unfitted-level-0);\n",
       "}\n",
       "\n",
       "#sk-container-id-3 div.sk-toggleable__content.fitted {\n",
       "  /* fitted */\n",
       "  background-color: var(--sklearn-color-fitted-level-0);\n",
       "}\n",
       "\n",
       "#sk-container-id-3 div.sk-toggleable__content pre {\n",
       "  margin: 0.2em;\n",
       "  border-radius: 0.25em;\n",
       "  color: var(--sklearn-color-text);\n",
       "  /* unfitted */\n",
       "  background-color: var(--sklearn-color-unfitted-level-0);\n",
       "}\n",
       "\n",
       "#sk-container-id-3 div.sk-toggleable__content.fitted pre {\n",
       "  /* unfitted */\n",
       "  background-color: var(--sklearn-color-fitted-level-0);\n",
       "}\n",
       "\n",
       "#sk-container-id-3 input.sk-toggleable__control:checked~div.sk-toggleable__content {\n",
       "  /* Expand drop-down */\n",
       "  max-height: 200px;\n",
       "  max-width: 100%;\n",
       "  overflow: auto;\n",
       "}\n",
       "\n",
       "#sk-container-id-3 input.sk-toggleable__control:checked~label.sk-toggleable__label-arrow:before {\n",
       "  content: \"▾\";\n",
       "}\n",
       "\n",
       "/* Pipeline/ColumnTransformer-specific style */\n",
       "\n",
       "#sk-container-id-3 div.sk-label input.sk-toggleable__control:checked~label.sk-toggleable__label {\n",
       "  color: var(--sklearn-color-text);\n",
       "  background-color: var(--sklearn-color-unfitted-level-2);\n",
       "}\n",
       "\n",
       "#sk-container-id-3 div.sk-label.fitted input.sk-toggleable__control:checked~label.sk-toggleable__label {\n",
       "  background-color: var(--sklearn-color-fitted-level-2);\n",
       "}\n",
       "\n",
       "/* Estimator-specific style */\n",
       "\n",
       "/* Colorize estimator box */\n",
       "#sk-container-id-3 div.sk-estimator input.sk-toggleable__control:checked~label.sk-toggleable__label {\n",
       "  /* unfitted */\n",
       "  background-color: var(--sklearn-color-unfitted-level-2);\n",
       "}\n",
       "\n",
       "#sk-container-id-3 div.sk-estimator.fitted input.sk-toggleable__control:checked~label.sk-toggleable__label {\n",
       "  /* fitted */\n",
       "  background-color: var(--sklearn-color-fitted-level-2);\n",
       "}\n",
       "\n",
       "#sk-container-id-3 div.sk-label label.sk-toggleable__label,\n",
       "#sk-container-id-3 div.sk-label label {\n",
       "  /* The background is the default theme color */\n",
       "  color: var(--sklearn-color-text-on-default-background);\n",
       "}\n",
       "\n",
       "/* On hover, darken the color of the background */\n",
       "#sk-container-id-3 div.sk-label:hover label.sk-toggleable__label {\n",
       "  color: var(--sklearn-color-text);\n",
       "  background-color: var(--sklearn-color-unfitted-level-2);\n",
       "}\n",
       "\n",
       "/* Label box, darken color on hover, fitted */\n",
       "#sk-container-id-3 div.sk-label.fitted:hover label.sk-toggleable__label.fitted {\n",
       "  color: var(--sklearn-color-text);\n",
       "  background-color: var(--sklearn-color-fitted-level-2);\n",
       "}\n",
       "\n",
       "/* Estimator label */\n",
       "\n",
       "#sk-container-id-3 div.sk-label label {\n",
       "  font-family: monospace;\n",
       "  font-weight: bold;\n",
       "  display: inline-block;\n",
       "  line-height: 1.2em;\n",
       "}\n",
       "\n",
       "#sk-container-id-3 div.sk-label-container {\n",
       "  text-align: center;\n",
       "}\n",
       "\n",
       "/* Estimator-specific */\n",
       "#sk-container-id-3 div.sk-estimator {\n",
       "  font-family: monospace;\n",
       "  border: 1px dotted var(--sklearn-color-border-box);\n",
       "  border-radius: 0.25em;\n",
       "  box-sizing: border-box;\n",
       "  margin-bottom: 0.5em;\n",
       "  /* unfitted */\n",
       "  background-color: var(--sklearn-color-unfitted-level-0);\n",
       "}\n",
       "\n",
       "#sk-container-id-3 div.sk-estimator.fitted {\n",
       "  /* fitted */\n",
       "  background-color: var(--sklearn-color-fitted-level-0);\n",
       "}\n",
       "\n",
       "/* on hover */\n",
       "#sk-container-id-3 div.sk-estimator:hover {\n",
       "  /* unfitted */\n",
       "  background-color: var(--sklearn-color-unfitted-level-2);\n",
       "}\n",
       "\n",
       "#sk-container-id-3 div.sk-estimator.fitted:hover {\n",
       "  /* fitted */\n",
       "  background-color: var(--sklearn-color-fitted-level-2);\n",
       "}\n",
       "\n",
       "/* Specification for estimator info (e.g. \"i\" and \"?\") */\n",
       "\n",
       "/* Common style for \"i\" and \"?\" */\n",
       "\n",
       ".sk-estimator-doc-link,\n",
       "a:link.sk-estimator-doc-link,\n",
       "a:visited.sk-estimator-doc-link {\n",
       "  float: right;\n",
       "  font-size: smaller;\n",
       "  line-height: 1em;\n",
       "  font-family: monospace;\n",
       "  background-color: var(--sklearn-color-background);\n",
       "  border-radius: 1em;\n",
       "  height: 1em;\n",
       "  width: 1em;\n",
       "  text-decoration: none !important;\n",
       "  margin-left: 0.5em;\n",
       "  text-align: center;\n",
       "  /* unfitted */\n",
       "  border: var(--sklearn-color-unfitted-level-1) 1pt solid;\n",
       "  color: var(--sklearn-color-unfitted-level-1);\n",
       "}\n",
       "\n",
       ".sk-estimator-doc-link.fitted,\n",
       "a:link.sk-estimator-doc-link.fitted,\n",
       "a:visited.sk-estimator-doc-link.fitted {\n",
       "  /* fitted */\n",
       "  border: var(--sklearn-color-fitted-level-1) 1pt solid;\n",
       "  color: var(--sklearn-color-fitted-level-1);\n",
       "}\n",
       "\n",
       "/* On hover */\n",
       "div.sk-estimator:hover .sk-estimator-doc-link:hover,\n",
       ".sk-estimator-doc-link:hover,\n",
       "div.sk-label-container:hover .sk-estimator-doc-link:hover,\n",
       ".sk-estimator-doc-link:hover {\n",
       "  /* unfitted */\n",
       "  background-color: var(--sklearn-color-unfitted-level-3);\n",
       "  color: var(--sklearn-color-background);\n",
       "  text-decoration: none;\n",
       "}\n",
       "\n",
       "div.sk-estimator.fitted:hover .sk-estimator-doc-link.fitted:hover,\n",
       ".sk-estimator-doc-link.fitted:hover,\n",
       "div.sk-label-container:hover .sk-estimator-doc-link.fitted:hover,\n",
       ".sk-estimator-doc-link.fitted:hover {\n",
       "  /* fitted */\n",
       "  background-color: var(--sklearn-color-fitted-level-3);\n",
       "  color: var(--sklearn-color-background);\n",
       "  text-decoration: none;\n",
       "}\n",
       "\n",
       "/* Span, style for the box shown on hovering the info icon */\n",
       ".sk-estimator-doc-link span {\n",
       "  display: none;\n",
       "  z-index: 9999;\n",
       "  position: relative;\n",
       "  font-weight: normal;\n",
       "  right: .2ex;\n",
       "  padding: .5ex;\n",
       "  margin: .5ex;\n",
       "  width: min-content;\n",
       "  min-width: 20ex;\n",
       "  max-width: 50ex;\n",
       "  color: var(--sklearn-color-text);\n",
       "  box-shadow: 2pt 2pt 4pt #999;\n",
       "  /* unfitted */\n",
       "  background: var(--sklearn-color-unfitted-level-0);\n",
       "  border: .5pt solid var(--sklearn-color-unfitted-level-3);\n",
       "}\n",
       "\n",
       ".sk-estimator-doc-link.fitted span {\n",
       "  /* fitted */\n",
       "  background: var(--sklearn-color-fitted-level-0);\n",
       "  border: var(--sklearn-color-fitted-level-3);\n",
       "}\n",
       "\n",
       ".sk-estimator-doc-link:hover span {\n",
       "  display: block;\n",
       "}\n",
       "\n",
       "/* \"?\"-specific style due to the `<a>` HTML tag */\n",
       "\n",
       "#sk-container-id-3 a.estimator_doc_link {\n",
       "  float: right;\n",
       "  font-size: 1rem;\n",
       "  line-height: 1em;\n",
       "  font-family: monospace;\n",
       "  background-color: var(--sklearn-color-background);\n",
       "  border-radius: 1rem;\n",
       "  height: 1rem;\n",
       "  width: 1rem;\n",
       "  text-decoration: none;\n",
       "  /* unfitted */\n",
       "  color: var(--sklearn-color-unfitted-level-1);\n",
       "  border: var(--sklearn-color-unfitted-level-1) 1pt solid;\n",
       "}\n",
       "\n",
       "#sk-container-id-3 a.estimator_doc_link.fitted {\n",
       "  /* fitted */\n",
       "  border: var(--sklearn-color-fitted-level-1) 1pt solid;\n",
       "  color: var(--sklearn-color-fitted-level-1);\n",
       "}\n",
       "\n",
       "/* On hover */\n",
       "#sk-container-id-3 a.estimator_doc_link:hover {\n",
       "  /* unfitted */\n",
       "  background-color: var(--sklearn-color-unfitted-level-3);\n",
       "  color: var(--sklearn-color-background);\n",
       "  text-decoration: none;\n",
       "}\n",
       "\n",
       "#sk-container-id-3 a.estimator_doc_link.fitted:hover {\n",
       "  /* fitted */\n",
       "  background-color: var(--sklearn-color-fitted-level-3);\n",
       "}\n",
       "</style><div id=\"sk-container-id-3\" class=\"sk-top-container\"><div class=\"sk-text-repr-fallback\"><pre>LinearRegression()</pre><b>In a Jupyter environment, please rerun this cell to show the HTML representation or trust the notebook. <br />On GitHub, the HTML representation is unable to render, please try loading this page with nbviewer.org.</b></div><div class=\"sk-container\" hidden><div class=\"sk-item\"><div class=\"sk-estimator fitted sk-toggleable\"><input class=\"sk-toggleable__control sk-hidden--visually\" id=\"sk-estimator-id-3\" type=\"checkbox\" checked><label for=\"sk-estimator-id-3\" class=\"sk-toggleable__label fitted sk-toggleable__label-arrow\"><div><div>LinearRegression</div></div><div><a class=\"sk-estimator-doc-link fitted\" rel=\"noreferrer\" target=\"_blank\" href=\"https://scikit-learn.org/1.6/modules/generated/sklearn.linear_model.LinearRegression.html\">?<span>Documentation for LinearRegression</span></a><span class=\"sk-estimator-doc-link fitted\">i<span>Fitted</span></span></div></label><div class=\"sk-toggleable__content fitted\"><pre>LinearRegression()</pre></div> </div></div></div></div>"
      ],
      "text/plain": [
       "LinearRegression()"
      ]
     },
     "execution_count": 72,
     "metadata": {},
     "output_type": "execute_result"
    }
   ],
   "source": [
    "from sklearn.linear_model import LinearRegression\n",
    "from sklearn.metrics import mean_absolute_error\n",
    "\n",
    "model = LinearRegression()\n",
    "model.fit(x_train, y_train)"
   ]
  },
  {
   "cell_type": "code",
   "execution_count": 73,
   "id": "418e83e7",
   "metadata": {},
   "outputs": [
    {
     "data": {
      "text/plain": [
       "(array([160.14046611]), np.float64(-7125.720842429395))"
      ]
     },
     "execution_count": 73,
     "metadata": {},
     "output_type": "execute_result"
    }
   ],
   "source": [
    "model.coef_, model.intercept_"
   ]
  },
  {
   "cell_type": "markdown",
   "id": "c60eda1d",
   "metadata": {},
   "source": [
    "### Dados de Treino:"
   ]
  },
  {
   "cell_type": "code",
   "execution_count": 74,
   "id": "b2a3df0c",
   "metadata": {},
   "outputs": [
    {
     "data": {
      "text/plain": [
       "0.7553563585112926"
      ]
     },
     "execution_count": 74,
     "metadata": {},
     "output_type": "execute_result"
    }
   ],
   "source": [
    "model.score(x_train, y_train)"
   ]
  },
  {
   "cell_type": "code",
   "execution_count": 82,
   "id": "d26a227d",
   "metadata": {},
   "outputs": [
    {
     "data": {
      "text/plain": [
       "array([22179.98445592, 16254.78720981, 12411.41602314, 12411.41602314,\n",
       "       20578.57979481, 12251.27555703,  7286.92110758, 10489.7304298 ,\n",
       "       41556.98085538, 34190.51941427,  8568.04483647,  7447.06157369,\n",
       "       14333.10161647, 10329.58996369,  8407.90437036, 10329.58996369,\n",
       "        8568.04483647, 13692.53975203,  7607.2020398 ,  5685.51644647,\n",
       "        8568.04483647, 45080.07110983,  7607.2020398 , 10169.44949758,\n",
       "        7607.2020398 ,  8407.90437036, 10169.44949758,  9368.74716703,\n",
       "       13692.53975203, 20258.29886259, 12411.41602314, 22179.98445592,\n",
       "       10489.7304298 , 10489.7304298 ,  4084.11178536, 12411.41602314,\n",
       "       15454.08487925, 10169.44949758, 19137.31559981,  7607.2020398 ,\n",
       "        8568.04483647, 15454.08487925, 10169.44949758, 10169.44949758,\n",
       "        8568.04483647,  7286.92110758, 12411.41602314, 21859.7035237 ,\n",
       "        8407.90437036, 10169.44949758, 13692.53975203,  4084.11178536,\n",
       "       14653.3825487 ,  8407.90437036, 16254.78720981,  8407.90437036,\n",
       "        8568.04483647, 42197.54271983,  8407.90437036, 10489.7304298 ,\n",
       "       10329.58996369,  7447.06157369, 16254.78720981,  7286.92110758,\n",
       "       14012.82068425, 12091.13509092,  8407.90437036, 17215.63000648,\n",
       "       10489.7304298 , 10329.58996369, 23941.52958315,  7607.2020398 ,\n",
       "       12411.41602314, 10489.7304298 , 12411.41602314, 13692.53975203,\n",
       "       12091.13509092, 17215.63000648,  7286.92110758, 10169.44949758,\n",
       "       10329.58996369, 12411.41602314, 20258.29886259, 17215.63000648,\n",
       "       26343.63657482, 12091.13509092, 20258.29886259, 10489.7304298 ,\n",
       "       16254.78720981, 13852.68021814,  7607.2020398 ,  8568.04483647,\n",
       "       12411.41602314, 22179.98445592,  7607.2020398 , 12091.13509092,\n",
       "       10329.58996369, 10649.87089592, 17215.63000648,  7607.2020398 ,\n",
       "       15293.94441314, 21859.7035237 ,  4084.11178536,  8407.90437036,\n",
       "        7286.92110758, 16254.78720981, 10489.7304298 , 13852.68021814,\n",
       "       10169.44949758,  8407.90437036, 23941.52958315, 21859.7035237 ,\n",
       "       19137.31559981, 12251.27555703, 17856.19187092, 26343.63657482,\n",
       "        7286.92110758, 15454.08487925, 12251.27555703,  8407.90437036,\n",
       "       14653.3825487 , 10489.7304298 , 21859.7035237 ,  8407.90437036,\n",
       "       17856.19187092, 16254.78720981, 16094.6467437 ,  7607.2020398 ,\n",
       "       12411.41602314, 12411.41602314, 23941.52958315, 12091.13509092,\n",
       "       10169.44949758, 15454.08487925, 18656.89420148, 12091.13509092,\n",
       "        8568.04483647, 10169.44949758,  7607.2020398 , 22179.98445592,\n",
       "       21859.7035237 ,  8568.04483647,  7447.06157369, 30347.1482276 ,\n",
       "       25382.79377815, 14653.3825487 , 12251.27555703, 21859.7035237 ,\n",
       "        7286.92110758,  7607.2020398 ,  8407.90437036,  7607.2020398 ,\n",
       "       12091.13509092, 10169.44949758,  7286.92110758,  2642.84759036,\n",
       "       14653.3825487 , 15454.08487925,  7607.2020398 , 10329.58996369,\n",
       "       17856.19187092,  8568.04483647, 34190.51941427, 17856.19187092])"
      ]
     },
     "execution_count": 82,
     "metadata": {},
     "output_type": "execute_result"
    }
   ],
   "source": [
    "predicts_train = model.predict(x_train)\n",
    "predicts_train"
   ]
  },
  {
   "cell_type": "code",
   "execution_count": 78,
   "id": "195298bc",
   "metadata": {},
   "outputs": [
    {
     "data": {
      "text/plain": [
       "2961.9188157504104"
      ]
     },
     "execution_count": 78,
     "metadata": {},
     "output_type": "execute_result"
    }
   ],
   "source": [
    "mean_absolute_error(y_train, predicts_train)"
   ]
  },
  {
   "cell_type": "code",
   "execution_count": 91,
   "id": "c38b6bc7",
   "metadata": {},
   "outputs": [
    {
     "data": {
      "application/vnd.plotly.v1+json": {
       "config": {
        "plotlyServerURL": "https://plot.ly"
       },
       "data": [
        {
         "hovertemplate": "x=%{x}<br>y=%{y}<extra></extra>",
         "legendgroup": "",
         "marker": {
          "color": "#636efa",
          "symbol": "circle"
         },
         "mode": "markers",
         "name": "",
         "orientation": "v",
         "showlegend": false,
         "type": "scatter",
         "x": {
          "bdata": "twCSAHoAegCtAHkAWgBuADABAgFiAFsAhgBtAGEAbQBiAIIAXABQAGIARgFcAGwAXABhAGwAZwCCAKsAegC3AG4AbgBGAHoAjQBsAKQAXABiAI0AbABsAGIAWgB6ALUAYQBsAIIARgCIAGEAkgBhAGIANAFhAG4AbQBbAJIAWgCEAHgAYQCYAG4AbQDCAFwAegBuAHoAggB4AJgAWgBsAG0AegCrAJgA0QB4AKsAbgCSAIMAXABiAHoAtwBcAHgAbQBvAJgAXACMALUARgBhAFoAkgBuAIMAbABhAMIAtQCkAHkAnADRAFoAjQB5AGEAiABuALUAYQCcAJIAkQBcAHoAegDCAHgAbACNAKEAeABiAGwAXAC3ALUAYgBbAOoAywCIAHkAtQBaAFwAYQBcAHgAbABaAD0AiACNAFwAbQCcAGIAAgGcAA==",
          "dtype": "i2"
         },
         "xaxis": "x",
         "y": {
          "bdata": "AAAAAADc3kAAAAAAgN/FQAAAAACAbMFAAAAAAAD4xUAAAAAAQPvUQAAAAACAudFAAAAAAAAkukAAAAAAgEjJQAAAAAAAK+ZAAAAAAMBb4UAAAAAAAHq/QAAAAAAAS7RAAAAAAADq0UAAAAAAgIXDQAAAAAAA+blAAAAAAIABwEAAAAAAABXCQAAAAAAA/dFAAAAAAAB/vEAAAAAAgI7OQAAAAAAAocJAAAAAAACU4UAAAAAAANq+QAAAAAAA18ZAAAAAAAB/vEAAAAAAAIO8QAAAAABAh9BAAAAAAAC7u0AAAAAAgFvKQAAAAAAAP89AAAAAAIAVxUAAAAAAAJbbQAAAAACAc8NAAAAAAIAfwkAAAAAAgKbKQAAAAAAA/b9AAAAAAIAzykAAAAAAAE2/QAAAAABAnNRAAAAAAACBuUAAAAAAADq+QAAAAADAINBAAAAAAADrw0AAAAAAAHTDQAAAAAAAHrxAAAAAAABVuEAAAAAAgJfAQAAAAADA99FAAAAAAAA/v0AAAAAAACe9QAAAAAAAHdBAAAAAAIBgxUAAAAAAgEvRQAAAAAAAX75AAAAAAICCw0AAAAAAgBzAQAAAAAAAt8BAAAAAAAAA5EAAAAAAgIvCQAAAAAAA2r5AAAAAAAAByEAAAAAAAM+3QAAAAABAQdFAAAAAAACvuUAAAAAAgCfCQAAAAACAesFAAAAAAIAKy0AAAAAAABLLQAAAAACAH8JAAAAAAICXwEAAAAAAgBTiQAAAAAAAx7pAAAAAAICZwEAAAAAAgMPBQAAAAACARsFAAAAAAICB0kAAAAAAgKbCQAAAAAAAHdBAAAAAAACXuEAAAAAAgAvQQAAAAAAAP8tAAAAAAID2xUAAAAAAAKXOQAAAAAAAyMlAAAAAAAAK3kAAAAAAAD7HQAAAAACAK9BAAAAAAADlxEAAAAAAgNPCQAAAAADAUNdAAAAAAAAlwUAAAAAAABq7QAAAAAAAgsNAAAAAAACE20AAAAAAAE+5QAAAAADATdBAAAAAAAB+w0AAAAAAAIG6QAAAAADArNBAAAAAAADktEAAAAAAwB3QQAAAAACAXcpAAAAAAIAix0AAAAAAAMG6QAAAAAAAJLpAAAAAAICOxkAAAAAAgDTEQJzEILDKcNFAAAAAAABfvkAAAAAAALW8QAAAAAAAxN9AAAAAAMA800AAAAAAgHrUQAAAAAAAS85AAAAAAADuyEAAAAAAAALiQAAAAAAAxLVAAAAAAEAY1kAAAAAAACXHQAAAAAAA/rNAAAAAAID3yUAAAAAAANe+QAAAAADAy9BAAAAAAABLvUAAAAAAgEzMQAAAAACAgMBAAAAAAIDx1UAAAAAAAFi5QAAAAACAbMFAAAAAAIACxEAAAAAAgJ3gQAAAAACAPdBAAAAAAACzvUAAAAAAAEbJQAAAAAAAw85AAAAAAABuzkAAAAAAALm9QAAAAAAA1rtAAAAAAADZu0AAAAAAAPTYQAAAAACAXcpAAAAAAAApwkAAAAAAAOO8QAAAAAAAseBAAAAAACCq3kAAAAAAgArRQAAAAAAAxcdAAAAAAIAfzEAAAAAAQGrBQAAAAAAALbhAAAAAAAA7v0AAAAAAAMK4QAAAAAAATMhAAAAAAACNu0AAAAAAQGrBQAAAAAAAH7RAAAAAAADJzUAAAAAAgDjPQAAAAAAADbVAAAAAAIClxkAAAAAAAFLJQAAAAAAAU8BAAAAAAIB+30AAAAAAgKrIQA==",
          "dtype": "f8"
         },
         "yaxis": "y"
        },
        {
         "hovertemplate": "x=%{x}<br>y=%{y}<extra></extra>",
         "legendgroup": "",
         "line": {
          "color": "red",
          "dash": "solid"
         },
         "marker": {
          "symbol": "circle"
         },
         "mode": "lines",
         "name": "",
         "orientation": "v",
         "showlegend": false,
         "type": "scatter",
         "x": {
          "bdata": "twCSAHoAegCtAHkAWgBuADABAgFiAFsAhgBtAGEAbQBiAIIAXABQAGIARgFcAGwAXABhAGwAZwCCAKsAegC3AG4AbgBGAHoAjQBsAKQAXABiAI0AbABsAGIAWgB6ALUAYQBsAIIARgCIAGEAkgBhAGIANAFhAG4AbQBbAJIAWgCEAHgAYQCYAG4AbQDCAFwAegBuAHoAggB4AJgAWgBsAG0AegCrAJgA0QB4AKsAbgCSAIMAXABiAHoAtwBcAHgAbQBvAJgAXACMALUARgBhAFoAkgBuAIMAbABhAMIAtQCkAHkAnADRAFoAjQB5AGEAiABuALUAYQCcAJIAkQBcAHoAegDCAHgAbACNAKEAeABiAGwAXAC3ALUAYgBbAOoAywCIAHkAtQBaAFwAYQBcAHgAbABaAD0AiACNAFwAbQCcAGIAAgGcAA==",
          "dtype": "i2"
         },
         "xaxis": "x",
         "y": {
          "bdata": "emtTAf+o1UD/f0rDZL/PQFUJP0C1PchAVQk/QLU9yEDAslsbpRjUQGPkc0Wj7cdANNa0zet2vED/Tbl+3XzEQFDTKmOfSuRAc6oKn9Cx4ECpkjO9BbzAQBggS8MPF71AqcTEAY3+y0ANKe6DyyzEQLdtaMLza8BADSnug8ssxECpkjO9BbzAQOMwmBZFvspA/GnhuDO3vUBQ89U1hDW2QKmSM70FvMBAgh6IRgID5kD8aeG4M7e9QBsEI4m53MNA/GnhuDO3vUC3bWjC82vAQBsEI4m53MNAYUsro19MwkDjMJgWRb7KQM6NkCCTyNNAVQk/QLU9yEB6a1MB/6jVQP9NuX7dfMRA/025ft18xEDYIO47OeivQFUJP0C1PchAR8dS3QovzkAbBCOJudzDQICMyTJUsNJA/GnhuDO3vUCpkjO9BbzAQEfHUt0KL85AGwQjibncw0AbBCOJudzDQKmSM70FvMBANNa0zet2vEBVCT9AtT3IQIhGiAbtWNVAt21owvNrwEAbBCOJudzDQOMwmBZFvspA2CDuOznor0CNDlv3sJ7MQLdtaMLza8BA/39Kw2S/z0C3bWjC82vAQKmSM70FvMBAQvj1XbGa5EC3bWjC82vAQP9NuX7dfMRADSnug8ssxEAYIEvDDxe9QP9/SsNkv89ANNa0zet2vEDHei4MaV7LQHG/qEqRncdAt21owvNrwEDWrgZS6M/QQP9NuX7dfMRADSnug8ssxECstrDkYWHXQPxp4bgzt71AVQk/QLU9yED/Tbl+3XzEQFUJP0C1PchA4zCYFkW+ykBxv6hKkZ3HQNauBlLoz9BANNa0zet2vEAbBCOJudzDQA0p7oPLLMRAVQk/QLU9yEDOjZAgk8jTQNauBlLoz9BAwkukvei52UBxv6hKkZ3HQM6NkCCTyNNA/025ft18xED/f0rDZL/PQNVVYxFXDstA/GnhuDO3vUCpkjO9BbzAQFUJP0C1PchAemtTAf+o1UD8aeG4M7e9QHG/qEqRncdADSnug8ssxEDxcoR578zEQNauBlLoz9BA/GnhuDO3vUBVoofi+N7NQIhGiAbtWNVA2CDuOznor0C3bWjC82vAQDTWtM3rdrxA/39Kw2S/z0D/Tbl+3XzEQNVVYxFXDstAGwQjibncw0C3bWjC82vAQKy2sORhYddAiEaIBu1Y1UCAjMkyVLDSQGPkc0Wj7cdAuPicRwxw0UDCS6S96LnZQDTWtM3rdrxAR8dS3QovzkBj5HNFo+3HQLdtaMLza8BAjQ5b97CezED/Tbl+3XzEQIhGiAbtWNVAt21owvNrwEC4+JxHDHDRQP9/SsNkv89ADVt/yFJvz0D8aeG4M7e9QFUJP0C1PchAVQk/QLU9yECstrDkYWHXQHG/qEqRncdAGwQjibncw0BHx1LdCi/OQBbVmDo5ONJAcb+oSpGdx0CpkjO9BbzAQBsEI4m53MNA/GnhuDO3vUB6a1MB/6jVQIhGiAbtWNVAqZIzvQW8wEAYIEvDDxe9QJCZj3zJot1A7NxCzbLJ2ECNDlv3sJ7MQGPkc0Wj7cdAiEaIBu1Y1UA01rTN63a8QPxp4bgzt71At21owvNrwED8aeG4M7e9QHG/qEqRncdAGwQjibncw0A01rTN63a8QNjuXPexpaRAjQ5b97CezEBHx1LdCi/OQPxp4bgzt71ADSnug8ssxEC4+JxHDHDRQKmSM70FvMBAc6oKn9Cx4EC4+JxHDHDRQA==",
          "dtype": "f8"
         },
         "yaxis": "y"
        }
       ],
       "layout": {
        "template": {
         "data": {
          "bar": [
           {
            "error_x": {
             "color": "#2a3f5f"
            },
            "error_y": {
             "color": "#2a3f5f"
            },
            "marker": {
             "line": {
              "color": "#E5ECF6",
              "width": 0.5
             },
             "pattern": {
              "fillmode": "overlay",
              "size": 10,
              "solidity": 0.2
             }
            },
            "type": "bar"
           }
          ],
          "barpolar": [
           {
            "marker": {
             "line": {
              "color": "#E5ECF6",
              "width": 0.5
             },
             "pattern": {
              "fillmode": "overlay",
              "size": 10,
              "solidity": 0.2
             }
            },
            "type": "barpolar"
           }
          ],
          "carpet": [
           {
            "aaxis": {
             "endlinecolor": "#2a3f5f",
             "gridcolor": "white",
             "linecolor": "white",
             "minorgridcolor": "white",
             "startlinecolor": "#2a3f5f"
            },
            "baxis": {
             "endlinecolor": "#2a3f5f",
             "gridcolor": "white",
             "linecolor": "white",
             "minorgridcolor": "white",
             "startlinecolor": "#2a3f5f"
            },
            "type": "carpet"
           }
          ],
          "choropleth": [
           {
            "colorbar": {
             "outlinewidth": 0,
             "ticks": ""
            },
            "type": "choropleth"
           }
          ],
          "contour": [
           {
            "colorbar": {
             "outlinewidth": 0,
             "ticks": ""
            },
            "colorscale": [
             [
              0,
              "#0d0887"
             ],
             [
              0.1111111111111111,
              "#46039f"
             ],
             [
              0.2222222222222222,
              "#7201a8"
             ],
             [
              0.3333333333333333,
              "#9c179e"
             ],
             [
              0.4444444444444444,
              "#bd3786"
             ],
             [
              0.5555555555555556,
              "#d8576b"
             ],
             [
              0.6666666666666666,
              "#ed7953"
             ],
             [
              0.7777777777777778,
              "#fb9f3a"
             ],
             [
              0.8888888888888888,
              "#fdca26"
             ],
             [
              1,
              "#f0f921"
             ]
            ],
            "type": "contour"
           }
          ],
          "contourcarpet": [
           {
            "colorbar": {
             "outlinewidth": 0,
             "ticks": ""
            },
            "type": "contourcarpet"
           }
          ],
          "heatmap": [
           {
            "colorbar": {
             "outlinewidth": 0,
             "ticks": ""
            },
            "colorscale": [
             [
              0,
              "#0d0887"
             ],
             [
              0.1111111111111111,
              "#46039f"
             ],
             [
              0.2222222222222222,
              "#7201a8"
             ],
             [
              0.3333333333333333,
              "#9c179e"
             ],
             [
              0.4444444444444444,
              "#bd3786"
             ],
             [
              0.5555555555555556,
              "#d8576b"
             ],
             [
              0.6666666666666666,
              "#ed7953"
             ],
             [
              0.7777777777777778,
              "#fb9f3a"
             ],
             [
              0.8888888888888888,
              "#fdca26"
             ],
             [
              1,
              "#f0f921"
             ]
            ],
            "type": "heatmap"
           }
          ],
          "histogram": [
           {
            "marker": {
             "pattern": {
              "fillmode": "overlay",
              "size": 10,
              "solidity": 0.2
             }
            },
            "type": "histogram"
           }
          ],
          "histogram2d": [
           {
            "colorbar": {
             "outlinewidth": 0,
             "ticks": ""
            },
            "colorscale": [
             [
              0,
              "#0d0887"
             ],
             [
              0.1111111111111111,
              "#46039f"
             ],
             [
              0.2222222222222222,
              "#7201a8"
             ],
             [
              0.3333333333333333,
              "#9c179e"
             ],
             [
              0.4444444444444444,
              "#bd3786"
             ],
             [
              0.5555555555555556,
              "#d8576b"
             ],
             [
              0.6666666666666666,
              "#ed7953"
             ],
             [
              0.7777777777777778,
              "#fb9f3a"
             ],
             [
              0.8888888888888888,
              "#fdca26"
             ],
             [
              1,
              "#f0f921"
             ]
            ],
            "type": "histogram2d"
           }
          ],
          "histogram2dcontour": [
           {
            "colorbar": {
             "outlinewidth": 0,
             "ticks": ""
            },
            "colorscale": [
             [
              0,
              "#0d0887"
             ],
             [
              0.1111111111111111,
              "#46039f"
             ],
             [
              0.2222222222222222,
              "#7201a8"
             ],
             [
              0.3333333333333333,
              "#9c179e"
             ],
             [
              0.4444444444444444,
              "#bd3786"
             ],
             [
              0.5555555555555556,
              "#d8576b"
             ],
             [
              0.6666666666666666,
              "#ed7953"
             ],
             [
              0.7777777777777778,
              "#fb9f3a"
             ],
             [
              0.8888888888888888,
              "#fdca26"
             ],
             [
              1,
              "#f0f921"
             ]
            ],
            "type": "histogram2dcontour"
           }
          ],
          "mesh3d": [
           {
            "colorbar": {
             "outlinewidth": 0,
             "ticks": ""
            },
            "type": "mesh3d"
           }
          ],
          "parcoords": [
           {
            "line": {
             "colorbar": {
              "outlinewidth": 0,
              "ticks": ""
             }
            },
            "type": "parcoords"
           }
          ],
          "pie": [
           {
            "automargin": true,
            "type": "pie"
           }
          ],
          "scatter": [
           {
            "fillpattern": {
             "fillmode": "overlay",
             "size": 10,
             "solidity": 0.2
            },
            "type": "scatter"
           }
          ],
          "scatter3d": [
           {
            "line": {
             "colorbar": {
              "outlinewidth": 0,
              "ticks": ""
             }
            },
            "marker": {
             "colorbar": {
              "outlinewidth": 0,
              "ticks": ""
             }
            },
            "type": "scatter3d"
           }
          ],
          "scattercarpet": [
           {
            "marker": {
             "colorbar": {
              "outlinewidth": 0,
              "ticks": ""
             }
            },
            "type": "scattercarpet"
           }
          ],
          "scattergeo": [
           {
            "marker": {
             "colorbar": {
              "outlinewidth": 0,
              "ticks": ""
             }
            },
            "type": "scattergeo"
           }
          ],
          "scattergl": [
           {
            "marker": {
             "colorbar": {
              "outlinewidth": 0,
              "ticks": ""
             }
            },
            "type": "scattergl"
           }
          ],
          "scattermap": [
           {
            "marker": {
             "colorbar": {
              "outlinewidth": 0,
              "ticks": ""
             }
            },
            "type": "scattermap"
           }
          ],
          "scattermapbox": [
           {
            "marker": {
             "colorbar": {
              "outlinewidth": 0,
              "ticks": ""
             }
            },
            "type": "scattermapbox"
           }
          ],
          "scatterpolar": [
           {
            "marker": {
             "colorbar": {
              "outlinewidth": 0,
              "ticks": ""
             }
            },
            "type": "scatterpolar"
           }
          ],
          "scatterpolargl": [
           {
            "marker": {
             "colorbar": {
              "outlinewidth": 0,
              "ticks": ""
             }
            },
            "type": "scatterpolargl"
           }
          ],
          "scatterternary": [
           {
            "marker": {
             "colorbar": {
              "outlinewidth": 0,
              "ticks": ""
             }
            },
            "type": "scatterternary"
           }
          ],
          "surface": [
           {
            "colorbar": {
             "outlinewidth": 0,
             "ticks": ""
            },
            "colorscale": [
             [
              0,
              "#0d0887"
             ],
             [
              0.1111111111111111,
              "#46039f"
             ],
             [
              0.2222222222222222,
              "#7201a8"
             ],
             [
              0.3333333333333333,
              "#9c179e"
             ],
             [
              0.4444444444444444,
              "#bd3786"
             ],
             [
              0.5555555555555556,
              "#d8576b"
             ],
             [
              0.6666666666666666,
              "#ed7953"
             ],
             [
              0.7777777777777778,
              "#fb9f3a"
             ],
             [
              0.8888888888888888,
              "#fdca26"
             ],
             [
              1,
              "#f0f921"
             ]
            ],
            "type": "surface"
           }
          ],
          "table": [
           {
            "cells": {
             "fill": {
              "color": "#EBF0F8"
             },
             "line": {
              "color": "white"
             }
            },
            "header": {
             "fill": {
              "color": "#C8D4E3"
             },
             "line": {
              "color": "white"
             }
            },
            "type": "table"
           }
          ]
         },
         "layout": {
          "annotationdefaults": {
           "arrowcolor": "#2a3f5f",
           "arrowhead": 0,
           "arrowwidth": 1
          },
          "autotypenumbers": "strict",
          "coloraxis": {
           "colorbar": {
            "outlinewidth": 0,
            "ticks": ""
           }
          },
          "colorscale": {
           "diverging": [
            [
             0,
             "#8e0152"
            ],
            [
             0.1,
             "#c51b7d"
            ],
            [
             0.2,
             "#de77ae"
            ],
            [
             0.3,
             "#f1b6da"
            ],
            [
             0.4,
             "#fde0ef"
            ],
            [
             0.5,
             "#f7f7f7"
            ],
            [
             0.6,
             "#e6f5d0"
            ],
            [
             0.7,
             "#b8e186"
            ],
            [
             0.8,
             "#7fbc41"
            ],
            [
             0.9,
             "#4d9221"
            ],
            [
             1,
             "#276419"
            ]
           ],
           "sequential": [
            [
             0,
             "#0d0887"
            ],
            [
             0.1111111111111111,
             "#46039f"
            ],
            [
             0.2222222222222222,
             "#7201a8"
            ],
            [
             0.3333333333333333,
             "#9c179e"
            ],
            [
             0.4444444444444444,
             "#bd3786"
            ],
            [
             0.5555555555555556,
             "#d8576b"
            ],
            [
             0.6666666666666666,
             "#ed7953"
            ],
            [
             0.7777777777777778,
             "#fb9f3a"
            ],
            [
             0.8888888888888888,
             "#fdca26"
            ],
            [
             1,
             "#f0f921"
            ]
           ],
           "sequentialminus": [
            [
             0,
             "#0d0887"
            ],
            [
             0.1111111111111111,
             "#46039f"
            ],
            [
             0.2222222222222222,
             "#7201a8"
            ],
            [
             0.3333333333333333,
             "#9c179e"
            ],
            [
             0.4444444444444444,
             "#bd3786"
            ],
            [
             0.5555555555555556,
             "#d8576b"
            ],
            [
             0.6666666666666666,
             "#ed7953"
            ],
            [
             0.7777777777777778,
             "#fb9f3a"
            ],
            [
             0.8888888888888888,
             "#fdca26"
            ],
            [
             1,
             "#f0f921"
            ]
           ]
          },
          "colorway": [
           "#636efa",
           "#EF553B",
           "#00cc96",
           "#ab63fa",
           "#FFA15A",
           "#19d3f3",
           "#FF6692",
           "#B6E880",
           "#FF97FF",
           "#FECB52"
          ],
          "font": {
           "color": "#2a3f5f"
          },
          "geo": {
           "bgcolor": "white",
           "lakecolor": "white",
           "landcolor": "#E5ECF6",
           "showlakes": true,
           "showland": true,
           "subunitcolor": "white"
          },
          "hoverlabel": {
           "align": "left"
          },
          "hovermode": "closest",
          "mapbox": {
           "style": "light"
          },
          "paper_bgcolor": "white",
          "plot_bgcolor": "#E5ECF6",
          "polar": {
           "angularaxis": {
            "gridcolor": "white",
            "linecolor": "white",
            "ticks": ""
           },
           "bgcolor": "#E5ECF6",
           "radialaxis": {
            "gridcolor": "white",
            "linecolor": "white",
            "ticks": ""
           }
          },
          "scene": {
           "xaxis": {
            "backgroundcolor": "#E5ECF6",
            "gridcolor": "white",
            "gridwidth": 2,
            "linecolor": "white",
            "showbackground": true,
            "ticks": "",
            "zerolinecolor": "white"
           },
           "yaxis": {
            "backgroundcolor": "#E5ECF6",
            "gridcolor": "white",
            "gridwidth": 2,
            "linecolor": "white",
            "showbackground": true,
            "ticks": "",
            "zerolinecolor": "white"
           },
           "zaxis": {
            "backgroundcolor": "#E5ECF6",
            "gridcolor": "white",
            "gridwidth": 2,
            "linecolor": "white",
            "showbackground": true,
            "ticks": "",
            "zerolinecolor": "white"
           }
          },
          "shapedefaults": {
           "line": {
            "color": "#2a3f5f"
           }
          },
          "ternary": {
           "aaxis": {
            "gridcolor": "white",
            "linecolor": "white",
            "ticks": ""
           },
           "baxis": {
            "gridcolor": "white",
            "linecolor": "white",
            "ticks": ""
           },
           "bgcolor": "#E5ECF6",
           "caxis": {
            "gridcolor": "white",
            "linecolor": "white",
            "ticks": ""
           }
          },
          "title": {
           "x": 0.05
          },
          "xaxis": {
           "automargin": true,
           "gridcolor": "white",
           "linecolor": "white",
           "ticks": "",
           "title": {
            "standoff": 15
           },
           "zerolinecolor": "white",
           "zerolinewidth": 2
          },
          "yaxis": {
           "automargin": true,
           "gridcolor": "white",
           "linecolor": "white",
           "ticks": "",
           "title": {
            "standoff": 15
           },
           "zerolinecolor": "white",
           "zerolinewidth": 2
          }
         }
        }
       }
      }
     },
     "metadata": {},
     "output_type": "display_data"
    }
   ],
   "source": [
    "graph1 = px.scatter(x=x_train.ravel(), y=y_train)\n",
    "graph2 = px.line(x=x_train.ravel(), y=predicts_train)\n",
    "graph2.data[0].line.color = 'red'\n",
    "graph3 = go.Figure(data=graph1.data + graph2.data)\n",
    "graph3.show()"
   ]
  },
  {
   "cell_type": "markdown",
   "id": "2ca54984",
   "metadata": {},
   "source": [
    "### Dados de Teste:"
   ]
  },
  {
   "cell_type": "code",
   "execution_count": 75,
   "id": "1d193668",
   "metadata": {},
   "outputs": [
    {
     "data": {
      "text/plain": [
       "0.7904263169216924"
      ]
     },
     "execution_count": 75,
     "metadata": {},
     "output_type": "execute_result"
    }
   ],
   "source": [
    "model.score(x_test, y_test)"
   ]
  },
  {
   "cell_type": "code",
   "execution_count": 79,
   "id": "e7258f48",
   "metadata": {},
   "outputs": [
    {
     "data": {
      "text/plain": [
       "2404.0596741777836"
      ]
     },
     "execution_count": 79,
     "metadata": {},
     "output_type": "execute_result"
    }
   ],
   "source": [
    "mean_absolute_error(y_test, predicts_test)"
   ]
  },
  {
   "cell_type": "code",
   "execution_count": 76,
   "id": "bfeee54e",
   "metadata": {},
   "outputs": [
    {
     "data": {
      "text/plain": [
       "array([ 5525.37598036, 30347.1482276 , 14653.3825487 ,  8568.04483647,\n",
       "        7447.06157369, 12251.27555703,  7286.92110758, 12411.41602314,\n",
       "        7447.06157369,  8568.04483647,  7607.2020398 , 17215.63000648,\n",
       "        7286.92110758, 12251.27555703, 12411.41602314,  8407.90437036,\n",
       "       15293.94441314, 10489.7304298 , 14333.10161647, 10489.7304298 ,\n",
       "       12411.41602314,  8407.90437036, 10489.7304298 , 10329.58996369,\n",
       "       19137.31559981,  7286.92110758, 15454.08487925, 10169.44949758,\n",
       "       15454.08487925,  8568.04483647, 12411.41602314, 10169.44949758,\n",
       "        7607.2020398 , 17055.48954036, 14012.82068425, 17856.19187092,\n",
       "       17215.63000648,  8568.04483647,  7286.92110758, 11930.99462481,\n",
       "       26343.63657482])"
      ]
     },
     "execution_count": 76,
     "metadata": {},
     "output_type": "execute_result"
    }
   ],
   "source": [
    "predicts_test = model.predict(x_test)\n",
    "predicts_test"
   ]
  },
  {
   "cell_type": "code",
   "execution_count": 90,
   "id": "057670dc",
   "metadata": {},
   "outputs": [
    {
     "data": {
      "application/vnd.plotly.v1+json": {
       "config": {
        "plotlyServerURL": "https://plot.ly"
       },
       "data": [
        {
         "hovertemplate": "x=%{x}<br>y=%{y}<extra></extra>",
         "legendgroup": "",
         "marker": {
          "color": "#636efa",
          "symbol": "circle"
         },
         "mode": "markers",
         "name": "",
         "orientation": "v",
         "showlegend": false,
         "type": "scatter",
         "x": {
          "bdata": "TwDqAIgAYgBbAHkAWgB6AFsAYgBcAJgAWgB5AHoAYQCMAG4AhgBuAHoAYQBuAG0ApABaAI0AbACNAGIAegBsAFwAlwCEAJwAmABiAFoAdwDRAA==",
          "dtype": "i2"
         },
         "xaxis": "x",
         "y": {
          "bdata": "AAAAAAAXtUAAAAAAAB7hQAAAAAAAetJAAAAAAAAVv0AAAAAAAIu6QAAAAAAAL9JAAAAAAADEtUAAAAAAAEnFQAAAAAAAJ7pAAAAAAAAXwEAAAAAAAAa7QAAAAACAh9FAAAAAAABVuEAAAAAAAGDNQAAAAAAAesFAAAAAAAB3vkAAAAAAANrRQAAAAAAAbL5AAAAAAIC50UAAAAAAgBvEQAAAAACAscRAAAAAAAB7tUAAAAAAgEbBQAAAAAAAJ79AAAAAAED910AAAAAAAOm4QAAAAABAmdJAAAAAAIAIwkAAAAAAQHPQQAAAAAAACb5AAAAAAABNu0AAAAAAgP3FQAAAAAAADbpAAAAAAICA1UAAAAAAgFPDQAAAAACACs1AAAAAAACB0EAAAAAAABW/QAAAAAAAub1AAAAAAACUxUAAAAAAYCzkQA==",
          "dtype": "f8"
         },
         "yaxis": "y"
        },
        {
         "hovertemplate": "x=%{x}<br>y=%{y}<extra></extra>",
         "legendgroup": "",
         "line": {
          "color": "red",
          "dash": "solid"
         },
         "marker": {
          "symbol": "circle"
         },
         "mode": "lines",
         "name": "",
         "orientation": "v",
         "showlegend": false,
         "type": "scatter",
         "x": {
          "bdata": "TwDqAIgAYgBbAHkAWgB6AFsAYgBcAJgAWgB5AHoAYQCMAG4AhgBuAHoAYQBuAG0ApABaAI0AbACNAGIAegBsAFwAlwCEAJwAmABiAFoAdwDRAA==",
          "dtype": "i2"
         },
         "xaxis": "x",
         "y": {
          "bdata": "bKk/QGCVtUCQmY98yaLdQI0OW/ewnsxAqZIzvQW8wEAYIEvDDxe9QGPkc0Wj7cdANNa0zet2vEBVCT9AtT3IQBggS8MPF71AqZIzvQW8wED8aeG4M7e9QNauBlLoz9BANNa0zet2vEBj5HNFo+3HQFUJP0C1PchAt21owvNrwEBVoofi+N7NQP9NuX7dfMRAqcTEAY3+y0D/Tbl+3XzEQFUJP0C1PchAt21owvNrwED/Tbl+3XzEQA0p7oPLLMRAgIzJMlSw0kA01rTN63a8QEfHUt0KL85AGwQjibncw0BHx1LdCi/OQKmSM70FvMBAVQk/QLU9yEAbBCOJudzDQPxp4bgzt71AXByhVN+n0EDHei4MaV7LQLj4nEcMcNFA1q4GUujP0ECpkjO9BbzAQDTWtM3rdrxAf5rdT39Nx0DCS6S96LnZQA==",
          "dtype": "f8"
         },
         "yaxis": "y"
        }
       ],
       "layout": {
        "template": {
         "data": {
          "bar": [
           {
            "error_x": {
             "color": "#2a3f5f"
            },
            "error_y": {
             "color": "#2a3f5f"
            },
            "marker": {
             "line": {
              "color": "#E5ECF6",
              "width": 0.5
             },
             "pattern": {
              "fillmode": "overlay",
              "size": 10,
              "solidity": 0.2
             }
            },
            "type": "bar"
           }
          ],
          "barpolar": [
           {
            "marker": {
             "line": {
              "color": "#E5ECF6",
              "width": 0.5
             },
             "pattern": {
              "fillmode": "overlay",
              "size": 10,
              "solidity": 0.2
             }
            },
            "type": "barpolar"
           }
          ],
          "carpet": [
           {
            "aaxis": {
             "endlinecolor": "#2a3f5f",
             "gridcolor": "white",
             "linecolor": "white",
             "minorgridcolor": "white",
             "startlinecolor": "#2a3f5f"
            },
            "baxis": {
             "endlinecolor": "#2a3f5f",
             "gridcolor": "white",
             "linecolor": "white",
             "minorgridcolor": "white",
             "startlinecolor": "#2a3f5f"
            },
            "type": "carpet"
           }
          ],
          "choropleth": [
           {
            "colorbar": {
             "outlinewidth": 0,
             "ticks": ""
            },
            "type": "choropleth"
           }
          ],
          "contour": [
           {
            "colorbar": {
             "outlinewidth": 0,
             "ticks": ""
            },
            "colorscale": [
             [
              0,
              "#0d0887"
             ],
             [
              0.1111111111111111,
              "#46039f"
             ],
             [
              0.2222222222222222,
              "#7201a8"
             ],
             [
              0.3333333333333333,
              "#9c179e"
             ],
             [
              0.4444444444444444,
              "#bd3786"
             ],
             [
              0.5555555555555556,
              "#d8576b"
             ],
             [
              0.6666666666666666,
              "#ed7953"
             ],
             [
              0.7777777777777778,
              "#fb9f3a"
             ],
             [
              0.8888888888888888,
              "#fdca26"
             ],
             [
              1,
              "#f0f921"
             ]
            ],
            "type": "contour"
           }
          ],
          "contourcarpet": [
           {
            "colorbar": {
             "outlinewidth": 0,
             "ticks": ""
            },
            "type": "contourcarpet"
           }
          ],
          "heatmap": [
           {
            "colorbar": {
             "outlinewidth": 0,
             "ticks": ""
            },
            "colorscale": [
             [
              0,
              "#0d0887"
             ],
             [
              0.1111111111111111,
              "#46039f"
             ],
             [
              0.2222222222222222,
              "#7201a8"
             ],
             [
              0.3333333333333333,
              "#9c179e"
             ],
             [
              0.4444444444444444,
              "#bd3786"
             ],
             [
              0.5555555555555556,
              "#d8576b"
             ],
             [
              0.6666666666666666,
              "#ed7953"
             ],
             [
              0.7777777777777778,
              "#fb9f3a"
             ],
             [
              0.8888888888888888,
              "#fdca26"
             ],
             [
              1,
              "#f0f921"
             ]
            ],
            "type": "heatmap"
           }
          ],
          "histogram": [
           {
            "marker": {
             "pattern": {
              "fillmode": "overlay",
              "size": 10,
              "solidity": 0.2
             }
            },
            "type": "histogram"
           }
          ],
          "histogram2d": [
           {
            "colorbar": {
             "outlinewidth": 0,
             "ticks": ""
            },
            "colorscale": [
             [
              0,
              "#0d0887"
             ],
             [
              0.1111111111111111,
              "#46039f"
             ],
             [
              0.2222222222222222,
              "#7201a8"
             ],
             [
              0.3333333333333333,
              "#9c179e"
             ],
             [
              0.4444444444444444,
              "#bd3786"
             ],
             [
              0.5555555555555556,
              "#d8576b"
             ],
             [
              0.6666666666666666,
              "#ed7953"
             ],
             [
              0.7777777777777778,
              "#fb9f3a"
             ],
             [
              0.8888888888888888,
              "#fdca26"
             ],
             [
              1,
              "#f0f921"
             ]
            ],
            "type": "histogram2d"
           }
          ],
          "histogram2dcontour": [
           {
            "colorbar": {
             "outlinewidth": 0,
             "ticks": ""
            },
            "colorscale": [
             [
              0,
              "#0d0887"
             ],
             [
              0.1111111111111111,
              "#46039f"
             ],
             [
              0.2222222222222222,
              "#7201a8"
             ],
             [
              0.3333333333333333,
              "#9c179e"
             ],
             [
              0.4444444444444444,
              "#bd3786"
             ],
             [
              0.5555555555555556,
              "#d8576b"
             ],
             [
              0.6666666666666666,
              "#ed7953"
             ],
             [
              0.7777777777777778,
              "#fb9f3a"
             ],
             [
              0.8888888888888888,
              "#fdca26"
             ],
             [
              1,
              "#f0f921"
             ]
            ],
            "type": "histogram2dcontour"
           }
          ],
          "mesh3d": [
           {
            "colorbar": {
             "outlinewidth": 0,
             "ticks": ""
            },
            "type": "mesh3d"
           }
          ],
          "parcoords": [
           {
            "line": {
             "colorbar": {
              "outlinewidth": 0,
              "ticks": ""
             }
            },
            "type": "parcoords"
           }
          ],
          "pie": [
           {
            "automargin": true,
            "type": "pie"
           }
          ],
          "scatter": [
           {
            "fillpattern": {
             "fillmode": "overlay",
             "size": 10,
             "solidity": 0.2
            },
            "type": "scatter"
           }
          ],
          "scatter3d": [
           {
            "line": {
             "colorbar": {
              "outlinewidth": 0,
              "ticks": ""
             }
            },
            "marker": {
             "colorbar": {
              "outlinewidth": 0,
              "ticks": ""
             }
            },
            "type": "scatter3d"
           }
          ],
          "scattercarpet": [
           {
            "marker": {
             "colorbar": {
              "outlinewidth": 0,
              "ticks": ""
             }
            },
            "type": "scattercarpet"
           }
          ],
          "scattergeo": [
           {
            "marker": {
             "colorbar": {
              "outlinewidth": 0,
              "ticks": ""
             }
            },
            "type": "scattergeo"
           }
          ],
          "scattergl": [
           {
            "marker": {
             "colorbar": {
              "outlinewidth": 0,
              "ticks": ""
             }
            },
            "type": "scattergl"
           }
          ],
          "scattermap": [
           {
            "marker": {
             "colorbar": {
              "outlinewidth": 0,
              "ticks": ""
             }
            },
            "type": "scattermap"
           }
          ],
          "scattermapbox": [
           {
            "marker": {
             "colorbar": {
              "outlinewidth": 0,
              "ticks": ""
             }
            },
            "type": "scattermapbox"
           }
          ],
          "scatterpolar": [
           {
            "marker": {
             "colorbar": {
              "outlinewidth": 0,
              "ticks": ""
             }
            },
            "type": "scatterpolar"
           }
          ],
          "scatterpolargl": [
           {
            "marker": {
             "colorbar": {
              "outlinewidth": 0,
              "ticks": ""
             }
            },
            "type": "scatterpolargl"
           }
          ],
          "scatterternary": [
           {
            "marker": {
             "colorbar": {
              "outlinewidth": 0,
              "ticks": ""
             }
            },
            "type": "scatterternary"
           }
          ],
          "surface": [
           {
            "colorbar": {
             "outlinewidth": 0,
             "ticks": ""
            },
            "colorscale": [
             [
              0,
              "#0d0887"
             ],
             [
              0.1111111111111111,
              "#46039f"
             ],
             [
              0.2222222222222222,
              "#7201a8"
             ],
             [
              0.3333333333333333,
              "#9c179e"
             ],
             [
              0.4444444444444444,
              "#bd3786"
             ],
             [
              0.5555555555555556,
              "#d8576b"
             ],
             [
              0.6666666666666666,
              "#ed7953"
             ],
             [
              0.7777777777777778,
              "#fb9f3a"
             ],
             [
              0.8888888888888888,
              "#fdca26"
             ],
             [
              1,
              "#f0f921"
             ]
            ],
            "type": "surface"
           }
          ],
          "table": [
           {
            "cells": {
             "fill": {
              "color": "#EBF0F8"
             },
             "line": {
              "color": "white"
             }
            },
            "header": {
             "fill": {
              "color": "#C8D4E3"
             },
             "line": {
              "color": "white"
             }
            },
            "type": "table"
           }
          ]
         },
         "layout": {
          "annotationdefaults": {
           "arrowcolor": "#2a3f5f",
           "arrowhead": 0,
           "arrowwidth": 1
          },
          "autotypenumbers": "strict",
          "coloraxis": {
           "colorbar": {
            "outlinewidth": 0,
            "ticks": ""
           }
          },
          "colorscale": {
           "diverging": [
            [
             0,
             "#8e0152"
            ],
            [
             0.1,
             "#c51b7d"
            ],
            [
             0.2,
             "#de77ae"
            ],
            [
             0.3,
             "#f1b6da"
            ],
            [
             0.4,
             "#fde0ef"
            ],
            [
             0.5,
             "#f7f7f7"
            ],
            [
             0.6,
             "#e6f5d0"
            ],
            [
             0.7,
             "#b8e186"
            ],
            [
             0.8,
             "#7fbc41"
            ],
            [
             0.9,
             "#4d9221"
            ],
            [
             1,
             "#276419"
            ]
           ],
           "sequential": [
            [
             0,
             "#0d0887"
            ],
            [
             0.1111111111111111,
             "#46039f"
            ],
            [
             0.2222222222222222,
             "#7201a8"
            ],
            [
             0.3333333333333333,
             "#9c179e"
            ],
            [
             0.4444444444444444,
             "#bd3786"
            ],
            [
             0.5555555555555556,
             "#d8576b"
            ],
            [
             0.6666666666666666,
             "#ed7953"
            ],
            [
             0.7777777777777778,
             "#fb9f3a"
            ],
            [
             0.8888888888888888,
             "#fdca26"
            ],
            [
             1,
             "#f0f921"
            ]
           ],
           "sequentialminus": [
            [
             0,
             "#0d0887"
            ],
            [
             0.1111111111111111,
             "#46039f"
            ],
            [
             0.2222222222222222,
             "#7201a8"
            ],
            [
             0.3333333333333333,
             "#9c179e"
            ],
            [
             0.4444444444444444,
             "#bd3786"
            ],
            [
             0.5555555555555556,
             "#d8576b"
            ],
            [
             0.6666666666666666,
             "#ed7953"
            ],
            [
             0.7777777777777778,
             "#fb9f3a"
            ],
            [
             0.8888888888888888,
             "#fdca26"
            ],
            [
             1,
             "#f0f921"
            ]
           ]
          },
          "colorway": [
           "#636efa",
           "#EF553B",
           "#00cc96",
           "#ab63fa",
           "#FFA15A",
           "#19d3f3",
           "#FF6692",
           "#B6E880",
           "#FF97FF",
           "#FECB52"
          ],
          "font": {
           "color": "#2a3f5f"
          },
          "geo": {
           "bgcolor": "white",
           "lakecolor": "white",
           "landcolor": "#E5ECF6",
           "showlakes": true,
           "showland": true,
           "subunitcolor": "white"
          },
          "hoverlabel": {
           "align": "left"
          },
          "hovermode": "closest",
          "mapbox": {
           "style": "light"
          },
          "paper_bgcolor": "white",
          "plot_bgcolor": "#E5ECF6",
          "polar": {
           "angularaxis": {
            "gridcolor": "white",
            "linecolor": "white",
            "ticks": ""
           },
           "bgcolor": "#E5ECF6",
           "radialaxis": {
            "gridcolor": "white",
            "linecolor": "white",
            "ticks": ""
           }
          },
          "scene": {
           "xaxis": {
            "backgroundcolor": "#E5ECF6",
            "gridcolor": "white",
            "gridwidth": 2,
            "linecolor": "white",
            "showbackground": true,
            "ticks": "",
            "zerolinecolor": "white"
           },
           "yaxis": {
            "backgroundcolor": "#E5ECF6",
            "gridcolor": "white",
            "gridwidth": 2,
            "linecolor": "white",
            "showbackground": true,
            "ticks": "",
            "zerolinecolor": "white"
           },
           "zaxis": {
            "backgroundcolor": "#E5ECF6",
            "gridcolor": "white",
            "gridwidth": 2,
            "linecolor": "white",
            "showbackground": true,
            "ticks": "",
            "zerolinecolor": "white"
           }
          },
          "shapedefaults": {
           "line": {
            "color": "#2a3f5f"
           }
          },
          "ternary": {
           "aaxis": {
            "gridcolor": "white",
            "linecolor": "white",
            "ticks": ""
           },
           "baxis": {
            "gridcolor": "white",
            "linecolor": "white",
            "ticks": ""
           },
           "bgcolor": "#E5ECF6",
           "caxis": {
            "gridcolor": "white",
            "linecolor": "white",
            "ticks": ""
           }
          },
          "title": {
           "x": 0.05
          },
          "xaxis": {
           "automargin": true,
           "gridcolor": "white",
           "linecolor": "white",
           "ticks": "",
           "title": {
            "standoff": 15
           },
           "zerolinecolor": "white",
           "zerolinewidth": 2
          },
          "yaxis": {
           "automargin": true,
           "gridcolor": "white",
           "linecolor": "white",
           "ticks": "",
           "title": {
            "standoff": 15
           },
           "zerolinecolor": "white",
           "zerolinewidth": 2
          }
         }
        }
       }
      }
     },
     "metadata": {},
     "output_type": "display_data"
    }
   ],
   "source": [
    "graph1 = px.scatter(x=x_test.ravel(), y=y_test)\n",
    "graph2 = px.line(x=x_test.ravel(), y=predicts_test)\n",
    "graph2.data[0].line.color = 'red'\n",
    "graph3 = go.Figure(data=graph1.data + graph2.data)\n",
    "graph3.show()"
   ]
  }
 ],
 "metadata": {
  "kernelspec": {
   "display_name": "venv",
   "language": "python",
   "name": "python3"
  },
  "language_info": {
   "codemirror_mode": {
    "name": "ipython",
    "version": 3
   },
   "file_extension": ".py",
   "mimetype": "text/x-python",
   "name": "python",
   "nbconvert_exporter": "python",
   "pygments_lexer": "ipython3",
   "version": "3.12.7"
  }
 },
 "nbformat": 4,
 "nbformat_minor": 5
}
